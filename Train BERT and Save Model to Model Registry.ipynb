{
 "cells": [
  {
   "cell_type": "markdown",
   "metadata": {},
   "source": [
    "Use ml.m5.4xlarge and DataScience 2.0 Python 3"
   ]
  },
  {
   "cell_type": "code",
   "execution_count": 2,
   "metadata": {
    "tags": []
   },
   "outputs": [],
   "source": [
    "# !pip install -q transformers>=4.25.1\n",
    "# !pip install -q accelerate>=0.20.3\n",
    "# !pip install -q datasets>=2.11\n",
    "# !pip install -q evaluate>=0.3.0\n",
    "# !pip install -q peft >=0.4.0\n",
    "# !pip install torch==1.13.1\n",
    "# !pip install wordcloud==1.9.3\n",
    "# !pip install contractions\n"
   ]
  },
  {
   "cell_type": "code",
   "execution_count": 3,
   "metadata": {
    "tags": []
   },
   "outputs": [],
   "source": [
    "import pandas as pd\n",
    "import numpy as np\n",
    "import requests\n",
    "import re\n",
    "import os\n",
    "import sys\n",
    "import gzip\n",
    "import json\n",
    "import random\n",
    "from tqdm import trange\n",
    "import torch # PyTorch is a powerful deep learning library.\n",
    "from matplotlib import pyplot as plt\n",
    "from wordcloud import WordCloud\n",
    "from torch.utils.data import Dataset, TensorDataset, DataLoader\n",
    "from torch.utils.data import RandomSampler, SequentialSampler\n",
    "from tabulate import tabulate\n",
    "from sklearn.model_selection import train_test_split # for splitting data into train and test sets.\n",
    "from sklearn.feature_extraction.text import TfidfVectorizer # for converting text data into vectors.\n",
    "from sklearn.svm import SVC # Support Vector Machine Classifier model.\n",
    "from sklearn.metrics import accuracy_score, precision_score, recall_score, f1_score, confusion_matrix, roc_auc_score \n",
    "# above line imports different metrics to evaluate the model performance.\n",
    "from sklearn.naive_bayes import MultinomialNB # Multinomial Naive Bayes model.\n",
    "from sklearn.ensemble import RandomForestClassifier # Random Forest Classifier model.\n",
    "from sklearn.metrics import classification_report # for generating a comprehensive report of model performance.\n",
    "from datasets import load_dataset \n",
    "# This function allows loading dataset from Huggingface's datasets library. \n",
    "from transformers import AutoModelForSeq2SeqLM, AutoTokenizer, TrainingArguments, Trainer, BertForSequenceClassification"
   ]
  },
  {
   "cell_type": "markdown",
   "metadata": {
    "tags": []
   },
   "source": [
    "# [Load the dataset](#Methodology)\n",
    "\n",
    "In this step we will load the dataset into a pandas DataFrame, and explore it to understand its structure, format, and attributes in order to identify the specific column(s) or attribute(s) that contain the textual data that we will be will be working with. This dataset will be loaded from huggingface"
   ]
  },
  {
   "cell_type": "code",
   "execution_count": 4,
   "metadata": {
    "tags": []
   },
   "outputs": [
    {
     "name": "stdout",
     "output_type": "stream",
     "text": [
      "                                               title  \\\n",
      "0   Donald Trump Sends Out Embarrassing New Year’...   \n",
      "1   Drunk Bragging Trump Staffer Started Russian ...   \n",
      "2   Sheriff David Clarke Becomes An Internet Joke...   \n",
      "3   Trump Is So Obsessed He Even Has Obama’s Name...   \n",
      "4   Pope Francis Just Called Out Donald Trump Dur...   \n",
      "\n",
      "                                                text subject  \\\n",
      "0  Donald Trump just couldn t wish all Americans ...    News   \n",
      "1  House Intelligence Committee Chairman Devin Nu...    News   \n",
      "2  On Friday, it was revealed that former Milwauk...    News   \n",
      "3  On Christmas day, Donald Trump announced that ...    News   \n",
      "4  Pope Francis used his annual Christmas Day mes...    News   \n",
      "\n",
      "                date  label  \n",
      "0  December 31, 2017      0  \n",
      "1  December 31, 2017      0  \n",
      "2  December 30, 2017      0  \n",
      "3  December 29, 2017      0  \n",
      "4  December 25, 2017      0  \n"
     ]
    }
   ],
   "source": [
    "import pandas as pd\n",
    "\n",
    "# Read the CSV files\n",
    "fake_news_articles = pd.read_csv('data/Fake.csv')\n",
    "true_news_articles = pd.read_csv('data/True.csv')\n",
    "\n",
    "# Assign labels: 0 for fake, 1 for true\n",
    "fake_news_articles['label'] = 0\n",
    "true_news_articles['label'] = 1\n",
    "\n",
    "# Combine the two DataFrames into one\n",
    "frames = [fake_news_articles, true_news_articles]\n",
    "news_df = pd.concat(frames)\n",
    "\n",
    "# Display the first few rows of the combined DataFrame\n",
    "print(news_df.head())"
   ]
  },
  {
   "cell_type": "markdown",
   "metadata": {},
   "source": [
    "### News dataset"
   ]
  },
  {
   "cell_type": "code",
   "execution_count": 5,
   "metadata": {
    "tags": []
   },
   "outputs": [
    {
     "name": "stdout",
     "output_type": "stream",
     "text": [
      "                                               title  \\\n",
      "0   Donald Trump Sends Out Embarrassing New Year’...   \n",
      "1   Drunk Bragging Trump Staffer Started Russian ...   \n",
      "2   Sheriff David Clarke Becomes An Internet Joke...   \n",
      "3   Trump Is So Obsessed He Even Has Obama’s Name...   \n",
      "4   Pope Francis Just Called Out Donald Trump Dur...   \n",
      "\n",
      "                                                text subject  \\\n",
      "0  Donald Trump just couldn t wish all Americans ...    News   \n",
      "1  House Intelligence Committee Chairman Devin Nu...    News   \n",
      "2  On Friday, it was revealed that former Milwauk...    News   \n",
      "3  On Christmas day, Donald Trump announced that ...    News   \n",
      "4  Pope Francis used his annual Christmas Day mes...    News   \n",
      "\n",
      "                date  label  \n",
      "0  December 31, 2017      0  \n",
      "1  December 31, 2017      0  \n",
      "2  December 30, 2017      0  \n",
      "3  December 29, 2017      0  \n",
      "4  December 25, 2017      0   \n",
      "\n",
      "\n",
      "Unique labels [0 1]\n"
     ]
    }
   ],
   "source": [
    "print(news_df.head(),\"\\n\\n\")\n",
    "print(\"Unique labels\",news_df.label.unique())"
   ]
  },
  {
   "cell_type": "markdown",
   "metadata": {},
   "source": [
    "**Result** \n",
    "\n",
    "- The train and test datasets target `labels` correspond to `0 - Negative` and `1 - Positive` and a `text` field."
   ]
  },
  {
   "cell_type": "code",
   "execution_count": 6,
   "metadata": {
    "tags": []
   },
   "outputs": [
    {
     "data": {
      "image/png": "[encoded data removed]",
      "text/plain": [
       "<Figure size 640x480 with 1 Axes>"
      ]
     },
     "metadata": {},
     "output_type": "display_data"
    }
   ],
   "source": [
    "news_df['label'].value_counts().plot(kind='bar')\n",
    "plt.title('Train - Distribution of Sentiment label')\n",
    "plt.ylabel('Frequency')\n",
    "plt.show()"
   ]
  },
  {
   "cell_type": "markdown",
   "metadata": {},
   "source": [
    "**Result**\n",
    "\n",
    "- The IMDB dataset has a even distribution of positive and negative reviews"
   ]
  },
  {
   "cell_type": "markdown",
   "metadata": {},
   "source": [
    "### Print a random row above 95% percentile"
   ]
  },
  {
   "cell_type": "code",
   "execution_count": 7,
   "metadata": {
    "tags": []
   },
   "outputs": [
    {
     "name": "stdout",
     "output_type": "stream",
     "text": [
      "{\n",
      "    \"title\": \"HOW THE CLINTON\\u2019S GOT RICH Off Donations From People Who Thought They Were Helping Poverty-Stricken Haiti Earthquake Victims [VIDE0]\",\n",
      "    \"text\": \"In January 2015 a group of Haitians surrounded the New York offices of the Clinton Foundation. They chanted slogans, accusing Bill and Hillary Clinton of having robbed them of  billions of dollars.  Two months later, the Haitians were at it again, accusing the Clintons of duplicity, malfeasance, and theft. And in May 2015, they were back, this time outside New York s Cipriani, where Bill Clinton received an award and collected a $500,000 check for his foundation.  Clinton, where s the money?  the Haitian signs read.  In whose pockets?  Said Dhoud Andre of the Commission Against Dictatorship,  We are telling the world of the crimes that Bill and Hillary Clinton are responsible for in Haiti. Haitians like Andre may sound a bit strident, but he and the protesters had good reason to be disgruntled. They had suffered a heavy blow from Mother Nature, and now it appeared that they were being battered again   this time by the Clintons. Their story goes back to 2010, when a massive 7.0 earthquake devastated the island, killing more than 200,000 people, leveling 100,000 homes, and leaving 1.5 million people destitute.The devastating effect of the earthquake on a very poor nation provoked worldwide concern and inspired an outpouring of aid money intended to rebuild Haiti. Countries around the world, as well as private and philanthropic groups such as the Red Cross and the Salvation Army, provided some $10.5 billion in aid, with $3.9 billion of it coming from the United States.Haitians such as Andre, however, noticed that very little of this aid money actually got to poor people in Haiti. Some projects championed by the Clintons, such as the building of industrial parks and posh hotels, cost a great deal of money and offered scarce benefits to the truly needy. Port-au-Prince was supposed to be rebuilt; it was never rebuilt. Projects aimed at creating jobs proved to be bitter disappointments. Haitian unemployment remained high, largely undented by the funds that were supposed to pour into the country. Famine and illness continued to devastate the island nation.The Haitians were initially sympathetic to the Clintons. One may say they believed in the message of  hope and change.  With his customary overstatement, Bill told the media,  Wouldn t it be great if they become the first wireless nation in the world? They could, I m telling you, they really could. I don t blame the Haitians for falling for it; Bill is one of the world s greatest story-tellers. He has fooled people far more sophisticated than the poor Haitians. Over time, however, the Haitians wised up. Whatever their initial expectations, many saw that much of the aid money seems never to have reached its destination; rather, it disappeared along the way.Where did it go? It did not escape the attention of the Haitians that Bill Clinton was the designated UN representative for aid to Haiti. Following the earthquake, Bill Clinton had with media fanfare established the Haiti Reconstruction Fund. Meanwhile, his wife Hillary was the United States secretary of state. She was in charge of U.S. aid allocated to Haiti. Together the Clintons were the two most powerful people who controlled the flow of funds to Haiti from around the world.Bill and Hillary weren t the only ones profiting off the devastation of poor Haitians. This video shows how Hillary s brother cashed in on a lucrative gold-mining permit in Haiti:An unusual nexus of mining interests, relief work in Haiti, and a former U.S. first family is raising new ethics questions that could affect Hillary Clinton s presidential ambitions.Clinton s brother, Tony Rodham, was a board member of a North Carolina mining company that enjoyed prime access to Haitian gold deposits in the wake of post-earthquake relief work organized in part by former president Bill Clinton through the Clinton Foundation.Another board member of the firm, VCS Mining, was former Haitian Prime Minister Jean-Max Bellerive, who co-chaired the charitable Interim Haiti Recovery Commission with Mr. Clinton.https://youtu.be/nlS4SimQfv8The Haitian protesters noticed an interesting pattern involving the Clintons and the designation of how aid funds were used. They observed that a number of companies that received contracts in Haiti happened to be entities that made large donations to the Clinton Foundation. The Haitian contracts appeared less tailored to the needs of Haiti than to the needs of the companies that were performing the services. In sum, Haitian deals appeared to be a quid pro quo for filling the coffers of the Clintons. For example, the Clinton Foundation selected Clayton Homes, a construction company owned by Warren Buffett s Berkshire Hathaway, to build temporary shelters in Haiti. Buffett is an active member of the Clinton Global Initiative who has donated generously to the Clintons as well as the Clinton Foundation. The contract was supposed to be given through the normal United Nations bidding process, with the deal going to the lowest bidder who met the project s standards. UN officials said, however, that the contract was never competitively bid for.Clayton offered to build  hurricane-proof trailers  but what they actually delivered turned out to be a disaster. The trailers were structurally unsafe, with high levels of formaldehyde and insulation coming out of the walls. There were problems with mold and fumes. The stifling heat inside made Haitians sick and many of them abandoned the trailers because they were ill-constructed and unusable.The Clintons also funneled $10 million in federal loans to a firm called InnoVida, headed by Clinton donor Claudio Osorio. Osorio had loaded its board with Clinton cronies, including longtime Clinton ally General Wesley Clark; Hillary s 2008 finance director Jonathan Mantz; and Democratic fundraiser Chris Korge who has helped raise millions for the Clintons. Normally the loan approval process takes months or even years. But in this case, a government official wrote,  Former President Bill Clinton is personally in contact with the company to organize its logistical and support needs. And as Secretary of State, Hillary Clinton has made available State Department resources to assist with logistical arrangements.  InnoVida had not even provided an independently audited financial report that is normally a requirement for such applications. This requirement, however, was waived. On the basis of the Clinton connection, InnoVida s application was fast-tracked and approved in two weeks. The company, however, defaulted on the loan and never built any houses.An investigation revealed that Osorio had diverted company funds to pay for his Miami Beach mansion, his Maserati, and his Colorado ski chalet. He pleaded guilty to wire fraud and money laundering in 2013, and is currently serving a twelve-year prison term on fraud charges related to the loan. Several Clinton cronies showed up with Bill to a 2011 Housing Expo that cost more than $2 million to stage. Bill Clinton said it would be a model for the construction of thousands of homes in Haiti. In reality, no homes have been built. A few dozen model units were constructed but even they have not been sold. Rather, they are now abandoned and have been taken over by squatters.THE SCHOOLS THEY NEVER BUILT USAID contracts to remove debris in Port-au-Prince went to a Washington-based company named CHF International. The company s CEO David Weiss, a campaign contributor to Hillary in 2008, was deputy U.S. trade representative for North American Affairs during the Clinton administration. The corporate secretary of the board, Lauri Fitz-Pegado, served in a number of posts in the Clinton administration, including assistant secretary of commerce.The Clintons claim to have built schools in Haiti. But the New York Times discovered that when it comes to the Clintons,  built  is a term with a very loose interpretation. For example, the newspaper located a school featured in the Clinton Founation annual report as  built through a Clinton Global Initiative Commitment to Action.  In reality,  The Clinton Foundation s sole direct contribution to the school was a grant for an Earth Day celebration and tree-building activity. Via: National Review\",\n",
      "    \"subject\": \"politics\",\n",
      "    \"date\": \"Aug 31, 2016\",\n",
      "    \"label\": 0\n",
      "}\n"
     ]
    }
   ],
   "source": [
    "# Get a random row from the dataframe\n",
    "# Get the row above 95% percentile of the column news_df[\"Phrase\"]\n",
    "long_row = news_df[news_df[\"text\"].str.len() > news_df[\"text\"].str.len().quantile(0.98)]\n",
    "\n",
    "random_row = long_row.sample(n=1)\n",
    "\n",
    "# Convert the row to JSON format\n",
    "long_row_json = random_row.to_json(orient='records')\n",
    "\n",
    "# Parse the JSON string to a python dict\n",
    "random_row_dict = json.loads(long_row_json)\n",
    "\n",
    "# Print the dict in pretty format\n",
    "print(json.dumps(random_row_dict[0], indent=4))\n",
    "Random_ID_value = random_row.index[0]"
   ]
  },
  {
   "cell_type": "code",
   "execution_count": 8,
   "metadata": {
    "tags": []
   },
   "outputs": [
    {
     "name": "stdout",
     "output_type": "stream",
     "text": [
      "13120\n"
     ]
    }
   ],
   "source": [
    "print(Random_ID_value)"
   ]
  },
  {
   "cell_type": "markdown",
   "metadata": {},
   "source": [
    "**result**\n",
    "- On printing random row we see that the text fields are not clean, we will perform data to clean up punctuations, stop words, ASCII characters, dates etc. "
   ]
  },
  {
   "cell_type": "markdown",
   "metadata": {},
   "source": [
    "### Text Length Analysis\n",
    "\n",
    "Calculate the length of each review and analyze the distribution of lengths to garner insights into the average length of reviews, the trange of lengths, etc."
   ]
  },
  {
   "cell_type": "code",
   "execution_count": 9,
   "metadata": {
    "tags": []
   },
   "outputs": [
    {
     "name": "stdout",
     "output_type": "stream",
     "text": [
      "count    44898.000000\n",
      "mean       405.282284\n",
      "std        351.265595\n",
      "min          0.000000\n",
      "25%        203.000000\n",
      "50%        362.000000\n",
      "75%        513.000000\n",
      "max       8135.000000\n",
      "Name: text, dtype: float64\n"
     ]
    },
    {
     "data": {
      "image/png": "[encoded data removed]",
      "text/plain": [
       "<Figure size 640x480 with 1 Axes>"
      ]
     },
     "metadata": {},
     "output_type": "display_data"
    }
   ],
   "source": [
    "# Import necessary libraries\n",
    "import matplotlib.pyplot as plt\n",
    "\n",
    "# Define a function to calculate word count\n",
    "def word_count(text):\n",
    "    return len(text.split())\n",
    "\n",
    "# Print out a summary of the word count statistics\n",
    "print(news_df['text'].apply(word_count).describe())\n",
    "\n",
    "# Plot a histogram of the word counts\n",
    "plt.hist(news_df['text'].apply(word_count), bins=50)\n",
    "plt.title('Distribution of Word Counts')\n",
    "plt.xlabel('Word Count')\n",
    "plt.ylabel('Frequency')\n",
    "plt.show()"
   ]
  },
  {
   "cell_type": "markdown",
   "metadata": {},
   "source": [
    "**Result**\n",
    "- The distribution shows the word count tranges from 4 words to 2,278 with an average of 228 words and a standard deviation of 168."
   ]
  },
  {
   "cell_type": "markdown",
   "metadata": {},
   "source": [
    "# [Apply Word2vec for Semantec Analsyis, Key Word and Topic analsysis](#Methodology)\n",
    "\n",
    "We will use word2vec for semantic analysis to perform keyword extraction and gain insights into the main topics and themes discussed in the reviews.\n",
    "\n",
    "Word2vec represents words as vectors in a high-dimensional space, capturing their semantic relationships. This allows us to identify key words that are closely related to the main topics and themes in the reviews. This will help us extract more meaningful insights from the text data and overcome the limitations of using simple frequency-based methods like TF-IDF.\n"
   ]
  },
  {
   "cell_type": "code",
   "execution_count": 10,
   "metadata": {
    "tags": []
   },
   "outputs": [],
   "source": [
    "# Visualizing the Word cloud using Word2vec\n",
    "from gensim.models import Word2Vec\n",
    "\n",
    "# Fit and transform the reviews\n",
    "reviews = news_df['text'].tolist()\n",
    "reviews_tokenized = [review.split() for review in reviews]\n",
    "\n",
    "# Train word2vec model\n",
    "model = Word2Vec(sentences=reviews_tokenized, vector_size=100, window=5, min_count=1)\n",
    "\n",
    "# Get word frequencies from the trained model\n",
    "word_freq = {word: model.wv.get_vecattr(word, \"count\") for word in model.wv.index_to_key}\n",
    "\n",
    "# Create a DataFrame for easy sorting and indexing\n",
    "word_freq_df = pd.DataFrame.from_dict(word_freq, orient='index', columns=['frequency'])\n",
    "\n",
    "# Sort by frequency\n",
    "word_freq_df_sorted = word_freq_df.sort_values(by='frequency', ascending=False)\n",
    "\n",
    "# Generate word cloud\n",
    "wordcloud = WordCloud(width=800, height=400).generate_from_frequencies(word_freq_df_sorted['frequency'])"
   ]
  },
  {
   "cell_type": "markdown",
   "metadata": {},
   "source": [
    "**result**\n",
    "\n",
    "- In our first pass at keyword analsisys, we find that the most common word were stop words, specifically `the` is the most common word followed by `and` and `of`. We will review this results after cleaning up the datasets"
   ]
  },
  {
   "cell_type": "markdown",
   "metadata": {
    "tags": []
   },
   "source": [
    "# [Cleaning the Dataset]((#Methodology))\n",
    "\n",
    "In this section, we will perform text cleaning that will involve several processes. The first process is fixing contractions. Contractions are words or combinations of words that are shortened by dropping letters and replacing them with an apostrophe. For example, \"don't\" is a contraction of \"do not\". Fixing these contractions will ensure that our text data is consistent and easier to analyze. \n",
    "\n",
    "The next process is removing non-ASCII characters. ASCII characters are the standard characters in the English language, including all letters, numbers, and common symbols. Non-ASCII characters include special symbols and characters from other languages. Removing these will ensure that our text data only contains standard English characters.\n",
    "\n",
    "The third process is converting all text to lowercase. This is important because in text analysis, 'Word' and 'word' are considered as two different words due to the difference in case. By converting everything to lowercase, we can avoid this issue and make our analysis more accurate.\n",
    "\n",
    "The final process is removing punctuations. Punctuations can cause issues in text analysis as they can create different tokens or words. For example, 'word,' and 'word' would be considered as two different words due to the comma. By removing punctuations, we can avoid this issue and make our text data cleaner and easier to analyze."
   ]
  },
  {
   "cell_type": "markdown",
   "metadata": {
    "tags": []
   },
   "source": [
    "### Contractions\n",
    "\n",
    "We used the [contractions](https://github.com/kootenpv/contractions) package to resolve contractions and  (and slang), `examples:you're -> you are`\n",
    "\n"
   ]
  },
  {
   "cell_type": "code",
   "execution_count": 11,
   "metadata": {},
   "outputs": [
    {
     "data": {
      "text/plain": [
       "'In January 2015 a group of Haitians surrounded the New York offices of the Clinton Foundation. They chanted slogans, accusing Bill and Hillary Clinton of having robbed them of  billions of dollars.  T'"
      ]
     },
     "execution_count": 11,
     "metadata": {},
     "output_type": "execute_result"
    }
   ],
   "source": [
    "import contractions\n",
    "news_df[\"text_clean\"] = news_df['text'].apply(lambda x: contractions.fix(x))\n",
    "news_df.iloc[Random_ID_value]['text_clean'][:200]"
   ]
  },
  {
   "cell_type": "markdown",
   "metadata": {},
   "source": [
    "### Remove URLs\n",
    "Remove URL from text"
   ]
  },
  {
   "cell_type": "code",
   "execution_count": 12,
   "metadata": {},
   "outputs": [
    {
     "data": {
      "text/plain": [
       "'In January 2015 a group of Haitians surrounded the New York offices of the Clinton Foundation. They chanted slogans, accusing Bill and Hillary Clinton of having robbed them of  billions of dollars.  T'"
      ]
     },
     "execution_count": 12,
     "metadata": {},
     "output_type": "execute_result"
    }
   ],
   "source": [
    "def remove_URL(text):\n",
    "    \"\"\"\n",
    "        Remove URLs from a sample string\n",
    "    \"\"\"\n",
    "    return re.sub(r\"https?://\\S+|www\\.\\S+\", \"\", text)\n",
    "news_df[\"text_clean\"] = news_df[\"text_clean\"].apply(lambda x: remove_URL(x))\n",
    "news_df.iloc[Random_ID_value]['text_clean'][:200]"
   ]
  },
  {
   "cell_type": "markdown",
   "metadata": {},
   "source": [
    "### Remove Non-ASCI Characters"
   ]
  },
  {
   "cell_type": "code",
   "execution_count": 13,
   "metadata": {},
   "outputs": [
    {
     "data": {
      "text/plain": [
       "'In January 2015 a group of Haitians surrounded the New York offices of the Clinton Foundation. They chanted slogans, accusing Bill and Hillary Clinton of having robbed them of  billions of dollars.  T'"
      ]
     },
     "execution_count": 13,
     "metadata": {},
     "output_type": "execute_result"
    }
   ],
   "source": [
    "def remove_non_ascii(text):\n",
    "    \"\"\"\n",
    "        Remove non-ASCII characters \n",
    "    \"\"\"\n",
    "    return re.sub(r'[^\\x00-\\x7f]',r'', text) # or ''.join([x for x in text if x in string.printable]) \n",
    "\n",
    "news_df[\"text_clean\"] = news_df[\"text_clean\"].apply(lambda x: remove_non_ascii(x))\n",
    "news_df.iloc[Random_ID_value]['text_clean'][:200]"
   ]
  },
  {
   "cell_type": "markdown",
   "metadata": {},
   "source": [
    "### Make characters lowercase"
   ]
  },
  {
   "cell_type": "code",
   "execution_count": 14,
   "metadata": {},
   "outputs": [
    {
     "data": {
      "text/plain": [
       "'in january 2015 a group of haitians surrounded the new york offices of the clinton foundation. they chanted slogans, accusing bill and hillary clinton of having robbed them of  billions of dollars.  t'"
      ]
     },
     "execution_count": 14,
     "metadata": {},
     "output_type": "execute_result"
    }
   ],
   "source": [
    "news_df[\"text_clean\"] = news_df[\"text_clean\"].apply(lambda x: x.lower())\n",
    "news_df.iloc[Random_ID_value]['text_clean'][:200]"
   ]
  },
  {
   "cell_type": "markdown",
   "metadata": {},
   "source": [
    "### Remove html"
   ]
  },
  {
   "cell_type": "code",
   "execution_count": 15,
   "metadata": {},
   "outputs": [
    {
     "data": {
      "text/plain": [
       "'in january 2015 a group of haitians surrounded the new york offices of the clinton foundation. they chanted slogans, accusing bill and hillary clinton of having robbed them of  billions of dollars.  t'"
      ]
     },
     "execution_count": 15,
     "metadata": {},
     "output_type": "execute_result"
    }
   ],
   "source": [
    "def remove_html(text):\n",
    "    \"\"\"\n",
    "        Remove the html in sample text\n",
    "    \"\"\"\n",
    "    html = re.compile(r\"<.*?>|&([a-z0-9]+|#[0-9]{1,6}|#x[0-9a-f]{1,6});\")\n",
    "    return re.sub(html, \"\", text)\n",
    "news_df[\"text_clean\"] = news_df[\"text_clean\"].apply(lambda x: remove_html(x))\n",
    "news_df.iloc[Random_ID_value]['text_clean'][:200]"
   ]
  },
  {
   "cell_type": "markdown",
   "metadata": {},
   "source": [
    "### Remove symbols"
   ]
  },
  {
   "cell_type": "code",
   "execution_count": 16,
   "metadata": {},
   "outputs": [
    {
     "data": {
      "text/plain": [
       "'in january 2015 a group of haitians surrounded the new york offices of the clinton foundation. they chanted slogans, accusing bill and hillary clinton of having robbed them of  billions of dollars.  t'"
      ]
     },
     "execution_count": 16,
     "metadata": {},
     "output_type": "execute_result"
    }
   ],
   "source": [
    "def remove_symbols(text):\n",
    "    \"\"\"\n",
    "        Remove special special characters, including symbols, emojis, and other graphic characters\n",
    "    \"\"\"\n",
    "    emoji_pattern = re.compile(\n",
    "        '['\n",
    "        u'\\U0001F600-\\U0001F64F'  # emoticons\n",
    "        u'\\U0001F300-\\U0001F5FF'  # symbols & pictographs\n",
    "        u'\\U0001F680-\\U0001F6FF'  # transport & map symbols\n",
    "        u'\\U0001F1E0-\\U0001F1FF'  # flags (iOS)\n",
    "        u'\\U00002702-\\U000027B0'\n",
    "        u'\\U000024C2-\\U0001F251'\n",
    "        ']+',\n",
    "        flags=re.UNICODE)\n",
    "    return emoji_pattern.sub(r'', text)\n",
    "\n",
    "news_df[\"text_clean\"] = news_df[\"text_clean\"].apply(lambda x: remove_symbols(x))\n",
    "news_df.iloc[Random_ID_value]['text_clean'][:200]"
   ]
  },
  {
   "cell_type": "markdown",
   "metadata": {},
   "source": [
    "### Remove Special characters"
   ]
  },
  {
   "cell_type": "code",
   "execution_count": 17,
   "metadata": {},
   "outputs": [
    {
     "data": {
      "text/plain": [
       "'in january 2015 a group of haitians surrounded the new york offices of the clinton foundation. they chanted slogans, accusing bill and hillary clinton of having robbed them of  billions of dollars.  t'"
      ]
     },
     "execution_count": 17,
     "metadata": {},
     "output_type": "execute_result"
    }
   ],
   "source": [
    "def remove_special_chars(text):\n",
    "    \"\"\"\n",
    "        Remove special characters (\\n, \\, ', \"\",) in sample text\n",
    "    \"\"\"\n",
    "    # Replace \\n, \\ and ' with empty string\n",
    "    text = text.replace('\\n', ' ').replace('\\\\', ' ').replace('\\'', ' ').replace('\\\"', ' ').replace('-', ' ').replace('(', ' ').replace(')', ' ')\n",
    "    return text\n",
    "\n",
    "# Assuming news_df is a DataFrame with a column \"text_clean\" containing text data\n",
    "news_df[\"text_clean\"] = news_df[\"text_clean\"].apply(lambda x: remove_special_chars(x))\n",
    "news_df.iloc[Random_ID_value]['text_clean'][:200]"
   ]
  },
  {
   "cell_type": "markdown",
   "metadata": {},
   "source": [
    "### Remove punctuations"
   ]
  },
  {
   "cell_type": "code",
   "execution_count": 18,
   "metadata": {},
   "outputs": [
    {
     "data": {
      "text/plain": [
       "'in january 2015 a group of haitians surrounded the new york offices of the clinton foundation they chanted slogans accusing bill and hillary clinton of having robbed them of  billions of dollars  two '"
      ]
     },
     "execution_count": 18,
     "metadata": {},
     "output_type": "execute_result"
    }
   ],
   "source": [
    "import re\n",
    "def remove_punct(text):\n",
    "\n",
    "    # Replace punctuation with space, except for decimal points in numerical values\n",
    "    return re.sub(r'(?:(?<!\\d)[.,;()]|[.,;()](?!\\d))', '', text)\n",
    "\n",
    "# Apply the function to the dataframe\n",
    "news_df[\"text_clean\"] = news_df[\"text_clean\"].apply(lambda x: remove_punct(x))\n",
    "news_df.iloc[Random_ID_value]['text_clean'][:200]"
   ]
  },
  {
   "cell_type": "markdown",
   "metadata": {},
   "source": [
    "**result**\n",
    "- In removing punctuations, we needed to be carefull not to remove punctuations in between numbers in order to preseve the information in text, doing so would have caused values such as `12.4 million` -> `124 million` which would have changed the meaning of the text"
   ]
  },
  {
   "cell_type": "markdown",
   "metadata": {
    "tags": []
   },
   "source": [
    "# [Text Preprocessing](#Methodology)\n",
    "\n",
    "In this section, we will perform text preprocessing that will involve several steps. First, we will carry out tokenization on the textual data. This process involves splitting the text into individual tokens, which could be words, punctuation, or other meaningful units. We will use an appropriate tokenization technique or library to achieve this. \n",
    "\n",
    "Next, we will remove stop words from the tokenized text. Stop words are common words such as \"the,\" \"is,\" \"and\" that do not carry significant meaning. We will use a standard stop word list or library to identify and remove these words from our text. \n",
    "\n",
    "Following this, we will apply stemming to the tokens. Stemming is a process that reduces each word to its base or root form. We will use a suitable stemming algorithm or library to perform this task. \n",
    "\n",
    "Finally, we will implement lemmatization on the tokens. Lemmatization is a process that transforms each word into its canonical or dictionary form. We will use a reliable lemmatization technique or library for this purpose. "
   ]
  },
  {
   "cell_type": "markdown",
   "metadata": {
    "tags": []
   },
   "source": [
    "### Tokenization\n",
    "\n",
    "Tokenization is the process of breaking down text into smaller parts called tokens which help in understanding the context or developing the model for NLP (Natural Language Processing). The tokenization helps in interpreting the meaning of the text by analyzing the sequence of the words. \n",
    "\n",
    "For instance, consider the text \"The quick brown fox jumps over the lazy dog\". In tokenization, this sentence is broken down into individual words: 'The', 'quick', 'brown', 'fox', 'jumps', 'over', 'the', 'lazy', 'dog'."
   ]
  },
  {
   "cell_type": "code",
   "execution_count": 19,
   "metadata": {},
   "outputs": [
    {
     "name": "stderr",
     "output_type": "stream",
     "text": [
      "[nltk_data] Downloading package punkt to /root/nltk_data...\n",
      "[nltk_data]   Package punkt is already up-to-date!\n"
     ]
    },
    {
     "data": {
      "text/plain": [
       "True"
      ]
     },
     "execution_count": 19,
     "metadata": {},
     "output_type": "execute_result"
    }
   ],
   "source": [
    "import nltk\n",
    "nltk.download('punkt')"
   ]
  },
  {
   "cell_type": "code",
   "execution_count": 20,
   "metadata": {},
   "outputs": [
    {
     "data": {
      "text/plain": [
       "['in',\n",
       " 'january',\n",
       " '2015',\n",
       " 'a',\n",
       " 'group',\n",
       " 'of',\n",
       " 'haitians',\n",
       " 'surrounded',\n",
       " 'the',\n",
       " 'new',\n",
       " 'york',\n",
       " 'offices',\n",
       " 'of',\n",
       " 'the',\n",
       " 'clinton',\n",
       " 'foundation',\n",
       " 'they',\n",
       " 'chanted',\n",
       " 'slogans',\n",
       " 'accusing',\n",
       " 'bill',\n",
       " 'and',\n",
       " 'hillary',\n",
       " 'clinton',\n",
       " 'of',\n",
       " 'having',\n",
       " 'robbed',\n",
       " 'them',\n",
       " 'of',\n",
       " 'billions',\n",
       " 'of',\n",
       " 'dollars',\n",
       " 'two',\n",
       " 'months',\n",
       " 'later',\n",
       " 'the',\n",
       " 'haitians',\n",
       " 'were',\n",
       " 'at',\n",
       " 'it',\n",
       " 'again',\n",
       " 'accusing',\n",
       " 'the',\n",
       " 'clintons',\n",
       " 'of',\n",
       " 'duplicity',\n",
       " 'malfeasance',\n",
       " 'and',\n",
       " 'theft',\n",
       " 'and',\n",
       " 'in',\n",
       " 'may',\n",
       " '2015',\n",
       " 'they',\n",
       " 'were',\n",
       " 'back',\n",
       " 'this',\n",
       " 'time',\n",
       " 'outside',\n",
       " 'new',\n",
       " 'york',\n",
       " 's',\n",
       " 'cipriani',\n",
       " 'where',\n",
       " 'bill',\n",
       " 'clinton',\n",
       " 'received',\n",
       " 'an',\n",
       " 'award',\n",
       " 'and',\n",
       " 'collected',\n",
       " 'a',\n",
       " '$',\n",
       " '500,000',\n",
       " 'check',\n",
       " 'for',\n",
       " 'his',\n",
       " 'foundation',\n",
       " 'clinton',\n",
       " 'where',\n",
       " 's',\n",
       " 'the',\n",
       " 'money',\n",
       " '?',\n",
       " 'the',\n",
       " 'haitian',\n",
       " 'signs',\n",
       " 'read',\n",
       " 'in',\n",
       " 'whose',\n",
       " 'pockets',\n",
       " '?',\n",
       " 'said',\n",
       " 'dhoud',\n",
       " 'andre',\n",
       " 'of',\n",
       " 'the',\n",
       " 'commission',\n",
       " 'against',\n",
       " 'dictatorship',\n",
       " 'we',\n",
       " 'are',\n",
       " 'telling',\n",
       " 'the',\n",
       " 'world',\n",
       " 'of',\n",
       " 'the',\n",
       " 'crimes',\n",
       " 'that',\n",
       " 'bill',\n",
       " 'and',\n",
       " 'hillary',\n",
       " 'clinton',\n",
       " 'are',\n",
       " 'responsible',\n",
       " 'for',\n",
       " 'in',\n",
       " 'haiti',\n",
       " 'haitians',\n",
       " 'like',\n",
       " 'andre',\n",
       " 'may',\n",
       " 'sound',\n",
       " 'a',\n",
       " 'bit',\n",
       " 'strident',\n",
       " 'but',\n",
       " 'he',\n",
       " 'and',\n",
       " 'the',\n",
       " 'protesters',\n",
       " 'had',\n",
       " 'good',\n",
       " 'reason',\n",
       " 'to',\n",
       " 'be',\n",
       " 'disgruntled',\n",
       " 'they',\n",
       " 'had',\n",
       " 'suffered',\n",
       " 'a',\n",
       " 'heavy',\n",
       " 'blow',\n",
       " 'from',\n",
       " 'mother',\n",
       " 'nature',\n",
       " 'and',\n",
       " 'now',\n",
       " 'it',\n",
       " 'appeared',\n",
       " 'that',\n",
       " 'they',\n",
       " 'were',\n",
       " 'being',\n",
       " 'battered',\n",
       " 'again',\n",
       " 'this',\n",
       " 'time',\n",
       " 'by',\n",
       " 'the',\n",
       " 'clintons',\n",
       " 'their',\n",
       " 'story',\n",
       " 'goes',\n",
       " 'back',\n",
       " 'to',\n",
       " '2010',\n",
       " 'when',\n",
       " 'a',\n",
       " 'massive',\n",
       " '7.0',\n",
       " 'earthquake',\n",
       " 'devastated',\n",
       " 'the',\n",
       " 'island',\n",
       " 'killing',\n",
       " 'more',\n",
       " 'than',\n",
       " '200,000',\n",
       " 'people',\n",
       " 'leveling',\n",
       " '100,000',\n",
       " 'homes',\n",
       " 'and',\n",
       " 'leaving',\n",
       " '1.5',\n",
       " 'million',\n",
       " 'people',\n",
       " 'destitutethe',\n",
       " 'devastating',\n",
       " 'effect',\n",
       " 'of',\n",
       " 'the',\n",
       " 'earthquake',\n",
       " 'on',\n",
       " 'a',\n",
       " 'very',\n",
       " 'poor',\n",
       " 'nation',\n",
       " 'provoked']"
      ]
     },
     "execution_count": 20,
     "metadata": {},
     "output_type": "execute_result"
    }
   ],
   "source": [
    "import nltk\n",
    "from nltk.tokenize import word_tokenize\n",
    "\n",
    "news_df['tokenized'] = news_df['text_clean'].apply(word_tokenize)\n",
    "news_df.iloc[Random_ID_value]['tokenized'][:200]"
   ]
  },
  {
   "cell_type": "markdown",
   "metadata": {},
   "source": [
    "**result**\n",
    "- On tokenization, we find that `word_tokenize` does not catch numbers such as `175m` which represents 175 million. Since the NLP downstream task is sentiment, analysis these definitions of tokens are fine and can be left as is"
   ]
  },
  {
   "cell_type": "markdown",
   "metadata": {},
   "source": [
    "### Remove stop words"
   ]
  },
  {
   "cell_type": "code",
   "execution_count": 21,
   "metadata": {},
   "outputs": [
    {
     "name": "stderr",
     "output_type": "stream",
     "text": [
      "[nltk_data] Downloading package stopwords to /root/nltk_data...\n",
      "[nltk_data]   Package stopwords is already up-to-date!\n"
     ]
    },
    {
     "data": {
      "text/plain": [
       "True"
      ]
     },
     "execution_count": 21,
     "metadata": {},
     "output_type": "execute_result"
    }
   ],
   "source": [
    "import nltk\n",
    "nltk.download('stopwords')"
   ]
  },
  {
   "cell_type": "code",
   "execution_count": 22,
   "metadata": {},
   "outputs": [
    {
     "data": {
      "text/plain": [
       "['january',\n",
       " '2015',\n",
       " 'group',\n",
       " 'haitians',\n",
       " 'surrounded',\n",
       " 'new',\n",
       " 'york',\n",
       " 'offices',\n",
       " 'clinton',\n",
       " 'foundation',\n",
       " 'chanted',\n",
       " 'slogans',\n",
       " 'accusing',\n",
       " 'bill',\n",
       " 'hillary',\n",
       " 'clinton',\n",
       " 'robbed',\n",
       " 'billions',\n",
       " 'dollars',\n",
       " 'two',\n",
       " 'months',\n",
       " 'later',\n",
       " 'haitians',\n",
       " 'accusing',\n",
       " 'clintons',\n",
       " 'duplicity',\n",
       " 'malfeasance',\n",
       " 'theft',\n",
       " 'may',\n",
       " '2015',\n",
       " 'back',\n",
       " 'time',\n",
       " 'outside',\n",
       " 'new',\n",
       " 'york',\n",
       " 'cipriani',\n",
       " 'bill',\n",
       " 'clinton',\n",
       " 'received',\n",
       " 'award',\n",
       " 'collected',\n",
       " '$',\n",
       " '500,000',\n",
       " 'check',\n",
       " 'foundation',\n",
       " 'clinton',\n",
       " 'money',\n",
       " '?',\n",
       " 'haitian',\n",
       " 'signs',\n",
       " 'read',\n",
       " 'whose',\n",
       " 'pockets',\n",
       " '?',\n",
       " 'said',\n",
       " 'dhoud',\n",
       " 'andre',\n",
       " 'commission',\n",
       " 'dictatorship',\n",
       " 'telling',\n",
       " 'world',\n",
       " 'crimes',\n",
       " 'bill',\n",
       " 'hillary',\n",
       " 'clinton',\n",
       " 'responsible',\n",
       " 'haiti',\n",
       " 'haitians',\n",
       " 'like',\n",
       " 'andre',\n",
       " 'may',\n",
       " 'sound',\n",
       " 'bit',\n",
       " 'strident',\n",
       " 'protesters',\n",
       " 'good',\n",
       " 'reason',\n",
       " 'disgruntled',\n",
       " 'suffered',\n",
       " 'heavy',\n",
       " 'blow',\n",
       " 'mother',\n",
       " 'nature',\n",
       " 'appeared',\n",
       " 'battered',\n",
       " 'time',\n",
       " 'clintons',\n",
       " 'story',\n",
       " 'goes',\n",
       " 'back',\n",
       " '2010',\n",
       " 'massive',\n",
       " '7.0',\n",
       " 'earthquake',\n",
       " 'devastated',\n",
       " 'island',\n",
       " 'killing',\n",
       " '200,000',\n",
       " 'people',\n",
       " 'leveling',\n",
       " '100,000',\n",
       " 'homes',\n",
       " 'leaving',\n",
       " '1.5',\n",
       " 'million',\n",
       " 'people',\n",
       " 'destitutethe',\n",
       " 'devastating',\n",
       " 'effect',\n",
       " 'earthquake',\n",
       " 'poor',\n",
       " 'nation',\n",
       " 'provoked',\n",
       " 'worldwide',\n",
       " 'concern',\n",
       " 'inspired',\n",
       " 'outpouring',\n",
       " 'aid',\n",
       " 'money',\n",
       " 'intended',\n",
       " 'rebuild',\n",
       " 'haiti',\n",
       " 'countries',\n",
       " 'around',\n",
       " 'world',\n",
       " 'well',\n",
       " 'private',\n",
       " 'philanthropic',\n",
       " 'groups',\n",
       " 'red',\n",
       " 'cross',\n",
       " 'salvation',\n",
       " 'army',\n",
       " 'provided',\n",
       " '$',\n",
       " '10.5',\n",
       " 'billion',\n",
       " 'aid',\n",
       " '$',\n",
       " '3.9',\n",
       " 'billion',\n",
       " 'coming',\n",
       " 'united',\n",
       " 'stateshaitians',\n",
       " 'andre',\n",
       " 'however',\n",
       " 'noticed',\n",
       " 'little',\n",
       " 'aid',\n",
       " 'money',\n",
       " 'actually',\n",
       " 'got',\n",
       " 'poor',\n",
       " 'people',\n",
       " 'haiti',\n",
       " 'projects',\n",
       " 'championed',\n",
       " 'clintons',\n",
       " 'building',\n",
       " 'industrial',\n",
       " 'parks',\n",
       " 'posh',\n",
       " 'hotels',\n",
       " 'cost',\n",
       " 'great',\n",
       " 'deal',\n",
       " 'money',\n",
       " 'offered',\n",
       " 'scarce',\n",
       " 'benefits',\n",
       " 'truly',\n",
       " 'needy',\n",
       " 'port',\n",
       " 'au',\n",
       " 'prince',\n",
       " 'supposed',\n",
       " 'rebuilt',\n",
       " 'never',\n",
       " 'rebuilt',\n",
       " 'projects',\n",
       " 'aimed',\n",
       " 'creating',\n",
       " 'jobs',\n",
       " 'proved',\n",
       " 'bitter',\n",
       " 'disappointments',\n",
       " 'haitian',\n",
       " 'unemployment',\n",
       " 'remained',\n",
       " 'high',\n",
       " 'largely',\n",
       " 'undented',\n",
       " 'funds',\n",
       " 'supposed',\n",
       " 'pour',\n",
       " 'country',\n",
       " 'famine',\n",
       " 'illness',\n",
       " 'continued',\n",
       " 'devastate']"
      ]
     },
     "execution_count": 22,
     "metadata": {},
     "output_type": "execute_result"
    }
   ],
   "source": [
    "# Removing stopwords.\n",
    "from nltk.corpus import stopwords\n",
    "\n",
    "stop = set(stopwords.words('english'))\n",
    "news_df['stopwords_removed'] = news_df['tokenized'].apply(lambda x: [word for word in x if word not in stop])\n",
    "news_df.iloc[Random_ID_value]['stopwords_removed'][:200]"
   ]
  },
  {
   "cell_type": "code",
   "execution_count": 23,
   "metadata": {},
   "outputs": [
    {
     "name": "stdout",
     "output_type": "stream",
     "text": [
      "count    44898.000000\n",
      "mean       240.672836\n",
      "std        210.325345\n",
      "min          0.000000\n",
      "25%        123.000000\n",
      "50%        212.000000\n",
      "75%        302.000000\n",
      "max       5107.000000\n",
      "Name: word_count, dtype: float64\n"
     ]
    },
    {
     "data": {
      "image/png": "[encoded data removed]",
      "text/plain": [
       "<Figure size 640x480 with 1 Axes>"
      ]
     },
     "metadata": {},
     "output_type": "display_data"
    }
   ],
   "source": [
    "# Apply the join function to the 'stopwords_removed' column\n",
    "news_df['word_count'] = news_df['stopwords_removed'].apply(' '.join).apply(word_count)\n",
    "\n",
    "# Print out a summary of the word count statistics\n",
    "print(news_df['word_count'].describe())\n",
    "\n",
    "# Plot a histogram of the word counts\n",
    "plt.hist(news_df['word_count'], bins=50)\n",
    "plt.title('Distribution of Word Counts')\n",
    "plt.xlabel('Word Count')\n",
    "plt.ylabel('Frequency')\n",
    "plt.show()"
   ]
  },
  {
   "cell_type": "markdown",
   "metadata": {},
   "source": [
    "**result**\n",
    "- After removing the stop words, maximum length of `text` goes from 4 to 1178 words. "
   ]
  },
  {
   "cell_type": "code",
   "execution_count": 24,
   "metadata": {},
   "outputs": [
    {
     "data": {
      "text/plain": [
       "['january',\n",
       " '2015',\n",
       " 'group',\n",
       " 'haitians',\n",
       " 'surrounded',\n",
       " 'new',\n",
       " 'york',\n",
       " 'offices',\n",
       " 'clinton',\n",
       " 'foundation',\n",
       " 'chanted',\n",
       " 'slogans',\n",
       " 'accusing',\n",
       " 'bill',\n",
       " 'hillary',\n",
       " 'clinton',\n",
       " 'robbed',\n",
       " 'billions',\n",
       " 'dollars',\n",
       " 'two',\n",
       " 'months',\n",
       " 'later',\n",
       " 'haitians',\n",
       " 'accusing',\n",
       " 'clintons',\n",
       " 'duplicity',\n",
       " 'malfeasance',\n",
       " 'theft',\n",
       " 'may',\n",
       " '2015',\n",
       " 'back',\n",
       " 'time',\n",
       " 'outside',\n",
       " 'new',\n",
       " 'york',\n",
       " 'cipriani',\n",
       " 'bill',\n",
       " 'clinton',\n",
       " 'received',\n",
       " 'award',\n",
       " 'collected',\n",
       " '$',\n",
       " '500,000',\n",
       " 'check',\n",
       " 'foundation',\n",
       " 'clinton',\n",
       " 'money',\n",
       " '?',\n",
       " 'haitian',\n",
       " 'signs',\n",
       " 'read',\n",
       " 'whose',\n",
       " 'pockets',\n",
       " '?',\n",
       " 'said',\n",
       " 'dhoud',\n",
       " 'andre',\n",
       " 'commission',\n",
       " 'dictatorship',\n",
       " 'telling',\n",
       " 'world',\n",
       " 'crimes',\n",
       " 'bill',\n",
       " 'hillary',\n",
       " 'clinton',\n",
       " 'responsible',\n",
       " 'haiti',\n",
       " 'haitians',\n",
       " 'like',\n",
       " 'andre',\n",
       " 'may',\n",
       " 'sound',\n",
       " 'bit',\n",
       " 'strident',\n",
       " 'protesters',\n",
       " 'good',\n",
       " 'reason',\n",
       " 'disgruntled',\n",
       " 'suffered',\n",
       " 'heavy',\n",
       " 'blow',\n",
       " 'mother',\n",
       " 'nature',\n",
       " 'appeared',\n",
       " 'battered',\n",
       " 'time',\n",
       " 'clintons',\n",
       " 'story',\n",
       " 'goes',\n",
       " 'back',\n",
       " '2010',\n",
       " 'massive',\n",
       " '7.0',\n",
       " 'earthquake',\n",
       " 'devastated',\n",
       " 'island',\n",
       " 'killing',\n",
       " '200,000',\n",
       " 'people',\n",
       " 'leveling',\n",
       " '100,000',\n",
       " 'homes',\n",
       " 'leaving',\n",
       " '1.5',\n",
       " 'million',\n",
       " 'people',\n",
       " 'destitutethe',\n",
       " 'devastating',\n",
       " 'effect',\n",
       " 'earthquake',\n",
       " 'poor',\n",
       " 'nation',\n",
       " 'provoked',\n",
       " 'worldwide',\n",
       " 'concern',\n",
       " 'inspired',\n",
       " 'outpouring',\n",
       " 'aid',\n",
       " 'money',\n",
       " 'intended',\n",
       " 'rebuild',\n",
       " 'haiti',\n",
       " 'countries',\n",
       " 'around',\n",
       " 'world',\n",
       " 'well',\n",
       " 'private',\n",
       " 'philanthropic',\n",
       " 'groups',\n",
       " 'red',\n",
       " 'cross',\n",
       " 'salvation',\n",
       " 'army',\n",
       " 'provided',\n",
       " '$',\n",
       " '10.5',\n",
       " 'billion',\n",
       " 'aid',\n",
       " '$',\n",
       " '3.9',\n",
       " 'billion',\n",
       " 'coming',\n",
       " 'united',\n",
       " 'stateshaitians',\n",
       " 'andre',\n",
       " 'however',\n",
       " 'noticed',\n",
       " 'little',\n",
       " 'aid',\n",
       " 'money',\n",
       " 'actually',\n",
       " 'got',\n",
       " 'poor',\n",
       " 'people',\n",
       " 'haiti',\n",
       " 'projects',\n",
       " 'championed',\n",
       " 'clintons',\n",
       " 'building',\n",
       " 'industrial',\n",
       " 'parks',\n",
       " 'posh',\n",
       " 'hotels',\n",
       " 'cost',\n",
       " 'great',\n",
       " 'deal',\n",
       " 'money',\n",
       " 'offered',\n",
       " 'scarce',\n",
       " 'benefits',\n",
       " 'truly',\n",
       " 'needy',\n",
       " 'port',\n",
       " 'au',\n",
       " 'prince',\n",
       " 'supposed',\n",
       " 'rebuilt',\n",
       " 'never',\n",
       " 'rebuilt',\n",
       " 'projects',\n",
       " 'aimed',\n",
       " 'creating',\n",
       " 'jobs',\n",
       " 'proved',\n",
       " 'bitter',\n",
       " 'disappointments',\n",
       " 'haitian',\n",
       " 'unemployment',\n",
       " 'remained',\n",
       " 'high',\n",
       " 'largely',\n",
       " 'undented',\n",
       " 'funds',\n",
       " 'supposed',\n",
       " 'pour',\n",
       " 'country',\n",
       " 'famine',\n",
       " 'illness',\n",
       " 'continued',\n",
       " 'devastate']"
      ]
     },
     "execution_count": 24,
     "metadata": {},
     "output_type": "execute_result"
    }
   ],
   "source": [
    "news_df.iloc[Random_ID_value]['stopwords_removed'][:200]"
   ]
  },
  {
   "cell_type": "code",
   "execution_count": 25,
   "metadata": {},
   "outputs": [
    {
     "data": {
      "image/png": "[encoded data removed]",
      "text/plain": [
       "<Figure size 1000x500 with 1 Axes>"
      ]
     },
     "metadata": {},
     "output_type": "display_data"
    }
   ],
   "source": [
    "# Visualizing the Word cloud using Word2vec\n",
    "from gensim.models import Word2Vec\n",
    "\n",
    "# Fit and transform the reviews\n",
    "reviews = news_df['stopwords_removed'].apply(' '.join).tolist()\n",
    "reviews_tokenized = [review.split() for review in reviews]\n",
    "\n",
    "# Train word2vec model\n",
    "model = Word2Vec(sentences=reviews_tokenized, vector_size=100, window=5, min_count=1)\n",
    "\n",
    "# Get word frequencies from the trained model\n",
    "word_freq = {word: model.wv.get_vecattr(word, \"count\") for word in model.wv.index_to_key}\n",
    "\n",
    "# Create a DataFrame for easy sorting and indexing\n",
    "word_freq_df = pd.DataFrame.from_dict(word_freq, orient='index', columns=['frequency'])\n",
    "\n",
    "# Sort by frequency\n",
    "word_freq_df_sorted = word_freq_df.sort_values(by='frequency', ascending=False)\n",
    "\n",
    "# Generate word cloud\n",
    "wordcloud = WordCloud(width=800, height=400).generate_from_frequencies(word_freq_df_sorted['frequency'])\n",
    "\n",
    "# Display the generated image:\n",
    "plt.figure(figsize=(10, 5))\n",
    "plt.imshow(wordcloud, interpolation='bilinear')\n",
    "plt.axis(\"off\")\n",
    "plt.show()\n"
   ]
  },
  {
   "cell_type": "markdown",
   "metadata": {},
   "source": [
    "**result**\n",
    "- After incoperating the stop word removal, we noticed that have a key words now related to `movie`, `film` , `one` and `good`. "
   ]
  },
  {
   "cell_type": "markdown",
   "metadata": {
    "tags": []
   },
   "source": [
    "# [Train and test datasets](#Methodology)"
   ]
  },
  {
   "cell_type": "code",
   "execution_count": 26,
   "metadata": {},
   "outputs": [],
   "source": [
    "### Import Models"
   ]
  },
  {
   "cell_type": "code",
   "execution_count": 27,
   "metadata": {
    "tags": []
   },
   "outputs": [
    {
     "name": "stderr",
     "output_type": "stream",
     "text": [
      "/opt/conda/lib/python3.8/site-packages/huggingface_hub/file_download.py:1132: FutureWarning: `resume_download` is deprecated and will be removed in version 1.0.0. Downloads always resume when possible. If you want to force a new download, use `force_download=True`.\n",
      "  warnings.warn(\n"
     ]
    }
   ],
   "source": [
    "# Tokenize\n",
    "model_name='prajjwal1/bert-tiny'\n",
    "\n",
    "tokenizer = AutoTokenizer.from_pretrained(model_name, model_max_length=512)"
   ]
  },
  {
   "cell_type": "code",
   "execution_count": 28,
   "metadata": {},
   "outputs": [],
   "source": [
    "news_df[\"stopwords_removed\"] = news_df[\"stopwords_removed\"].apply(' '.join)"
   ]
  },
  {
   "cell_type": "code",
   "execution_count": 29,
   "metadata": {},
   "outputs": [],
   "source": [
    "text = news_df['stopwords_removed']\n",
    "labels = torch.from_numpy(np.array(news_df.label))"
   ]
  },
  {
   "cell_type": "markdown",
   "metadata": {},
   "source": [
    "**BERT requires the following preprocessing steps**\n",
    "\n",
    "\n",
    "Incorporate special tokens:\n",
    "- Commence each sentence with a [CLS] token (identified as 101)\n",
    "- Conclude each sentence with a [SEP] token (identified as 102)\n",
    "\n",
    "Achieve uniform sentence lengths:\n",
    "- Padding is employed to equalize shorter sequences to the required length by adding convenience values. Longer sequences are shortened.\n",
    "- Padding tokens, known as [PAD], are recognized as ID 0.\n",
    "- The permissible maximum sequence length is 512 tokens.\n",
    "\n",
    "Develop an attention mask:\n",
    "- A list of binary values (0s and 1s) indicating whether the model should take into account certain tokens while learning their contextual representation. Padding ([PAD]) tokens are expected to have a value of 0.\n",
    "This process can be visualized as follows:  \n",
    "\n",
    "\n",
    "<img src=\"https://miro.medium.com/v2/resize:fit:4800/format:webp/1*vaw98m1VVncgKxNFWI0d2Q.png\" alt=\"drawing\" width=\"800\"/>\n",
    "\n",
    "We will use a very helpfull function [encode_plus](https://huggingface.co/docs/transformers/main_classes/tokenizer?highlight=encode_plus#transformers.PreTrainedTokenizer.encode_plus) provided in the Tokenizer class to procepcessing.\n",
    "\n",
    "\n",
    "--- "
   ]
  },
  {
   "cell_type": "markdown",
   "metadata": {},
   "source": [
    "### Tokenization"
   ]
  },
  {
   "cell_type": "code",
   "execution_count": 30,
   "metadata": {},
   "outputs": [
    {
     "name": "stderr",
     "output_type": "stream",
     "text": [
      "/opt/conda/lib/python3.8/site-packages/transformers/tokenization_utils_base.py:2699: FutureWarning: The `pad_to_max_length` argument is deprecated and will be removed in a future version, use `padding=True` or `padding='longest'` to pad to the longest sequence in the batch, or use `padding='max_length'` to pad to a max length. In this case, you can give a specific length with `max_length` (e.g. `max_length=45`) or leave max_length to None to pad to the maximal input size of the model (e.g. 512 for Bert).\n",
      "  warnings.warn(\n",
      "/tmp/ipykernel_17456/1155887400.py:30: UserWarning: To copy construct from a tensor, it is recommended to use sourceTensor.clone().detach() or sourceTensor.clone().detach().requires_grad_(True), rather than torch.tensor(sourceTensor).\n",
      "  labels = torch.tensor(labels)\n"
     ]
    }
   ],
   "source": [
    "token_id = []\n",
    "attention_masks = []\n",
    "\n",
    "def preprocessing(input_text, tokenizer):\n",
    "  '''\n",
    "  Returns <class transformers.tokenization_utils_base.BatchEncoding> with the following fields:\n",
    "    - input_ids: list of token ids\n",
    "    - token_type_ids: list of token type ids\n",
    "    - attention_mask: list of indices (0,1) specifying which tokens should considered by the model (return_attention_mask = True).\n",
    "  '''\n",
    "  return tokenizer.encode_plus(\n",
    "                        input_text,\n",
    "                        add_special_tokens = True,\n",
    "                        max_length = 512,\n",
    "                        pad_to_max_length = True,\n",
    "                        truncation=True,\n",
    "                        return_attention_mask = True,\n",
    "                        return_tensors = 'pt'\n",
    "                   )\n",
    "\n",
    "\n",
    "for sample in text:\n",
    "  encoding_dict = preprocessing(sample, tokenizer)\n",
    "  token_id.append(encoding_dict['input_ids']) \n",
    "  attention_masks.append(encoding_dict['attention_mask'])\n",
    "\n",
    "\n",
    "token_id = torch.cat(token_id, dim = 0)\n",
    "attention_masks = torch.cat(attention_masks, dim = 0)\n",
    "labels = torch.tensor(labels)"
   ]
  },
  {
   "cell_type": "code",
   "execution_count": 31,
   "metadata": {},
   "outputs": [
    {
     "name": "stdout",
     "output_type": "stream",
     "text": [
      "╒════════════╤═════════════╤══════════════════╕\n",
      "│ Tokens     │   Token IDs │   Attention Mask │\n",
      "╞════════════╪═════════════╪══════════════════╡\n",
      "│ [CLS]      │         101 │                1 │\n",
      "├────────────┼─────────────┼──────────────────┤\n",
      "│ donald     │        6221 │                1 │\n",
      "├────────────┼─────────────┼──────────────────┤\n",
      "│ trump      │        8398 │                1 │\n",
      "├────────────┼─────────────┼──────────────────┤\n",
      "│ wish       │        4299 │                1 │\n",
      "├────────────┼─────────────┼──────────────────┤\n",
      "│ americans  │        4841 │                1 │\n",
      "├────────────┼─────────────┼──────────────────┤\n",
      "│ happy      │        3407 │                1 │\n",
      "├────────────┼─────────────┼──────────────────┤\n",
      "│ new        │        2047 │                1 │\n",
      "├────────────┼─────────────┼──────────────────┤\n",
      "│ year       │        2095 │                1 │\n",
      "├────────────┼─────────────┼──────────────────┤\n",
      "│ leave      │        2681 │                1 │\n",
      "├────────────┼─────────────┼──────────────────┤\n",
      "│ instead    │        2612 │                1 │\n",
      "├────────────┼─────────────┼──────────────────┤\n",
      "│ give       │        2507 │                1 │\n",
      "├────────────┼─────────────┼──────────────────┤\n",
      "│ shout      │       11245 │                1 │\n",
      "├────────────┼─────────────┼──────────────────┤\n",
      "│ enemies    │        6716 │                1 │\n",
      "├────────────┼─────────────┼──────────────────┤\n",
      "│ hate       │        5223 │                1 │\n",
      "├────────────┼─────────────┼──────────────────┤\n",
      "│ ##rs       │        2869 │                1 │\n",
      "├────────────┼─────────────┼──────────────────┤\n",
      "│ dish       │        9841 │                1 │\n",
      "├────────────┼─────────────┼──────────────────┤\n",
      "│ ##ones     │       21821 │                1 │\n",
      "├────────────┼─────────────┼──────────────────┤\n",
      "│ ##t        │        2102 │                1 │\n",
      "├────────────┼─────────────┼──────────────────┤\n",
      "│ fake       │        8275 │                1 │\n",
      "├────────────┼─────────────┼──────────────────┤\n",
      "│ news       │        2739 │                1 │\n",
      "├────────────┼─────────────┼──────────────────┤\n",
      "│ media      │        2865 │                1 │\n",
      "├────────────┼─────────────┼──────────────────┤\n",
      "│ former     │        2280 │                1 │\n",
      "├────────────┼─────────────┼──────────────────┤\n",
      "│ reality    │        4507 │                1 │\n",
      "├────────────┼─────────────┼──────────────────┤\n",
      "│ show       │        2265 │                1 │\n",
      "├────────────┼─────────────┼──────────────────┤\n",
      "│ star       │        2732 │                1 │\n",
      "├────────────┼─────────────┼──────────────────┤\n",
      "│ one        │        2028 │                1 │\n",
      "├────────────┼─────────────┼──────────────────┤\n",
      "│ job        │        3105 │                1 │\n",
      "├────────────┼─────────────┼──────────────────┤\n",
      "│ country    │        2406 │                1 │\n",
      "├────────────┼─────────────┼──────────────────┤\n",
      "│ rapidly    │        5901 │                1 │\n",
      "├────────────┼─────────────┼──────────────────┤\n",
      "│ grows      │        7502 │                1 │\n",
      "├────────────┼─────────────┼──────────────────┤\n",
      "│ stronger   │        6428 │                1 │\n",
      "├────────────┼─────────────┼──────────────────┤\n",
      "│ smarter    │       25670 │                1 │\n",
      "├────────────┼─────────────┼──────────────────┤\n",
      "│ want       │        2215 │                1 │\n",
      "├────────────┼─────────────┼──────────────────┤\n",
      "│ wish       │        4299 │                1 │\n",
      "├────────────┼─────────────┼──────────────────┤\n",
      "│ friends    │        2814 │                1 │\n",
      "├────────────┼─────────────┼──────────────────┤\n",
      "│ supporters │        6793 │                1 │\n",
      "├────────────┼─────────────┼──────────────────┤\n",
      "│ enemies    │        6716 │                1 │\n",
      "├────────────┼─────────────┼──────────────────┤\n",
      "│ hate       │        5223 │                1 │\n",
      "├────────────┼─────────────┼──────────────────┤\n",
      "│ ##rs       │        2869 │                1 │\n",
      "├────────────┼─────────────┼──────────────────┤\n",
      "│ even       │        2130 │                1 │\n",
      "├────────────┼─────────────┼──────────────────┤\n",
      "│ dish       │        9841 │                1 │\n",
      "├────────────┼─────────────┼──────────────────┤\n",
      "│ ##ones     │       21821 │                1 │\n",
      "├────────────┼─────────────┼──────────────────┤\n",
      "│ ##t        │        2102 │                1 │\n",
      "├────────────┼─────────────┼──────────────────┤\n",
      "│ fake       │        8275 │                1 │\n",
      "├────────────┼─────────────┼──────────────────┤\n",
      "│ news       │        2739 │                1 │\n",
      "├────────────┼─────────────┼──────────────────┤\n",
      "│ media      │        2865 │                1 │\n",
      "├────────────┼─────────────┼──────────────────┤\n",
      "│ happy      │        3407 │                1 │\n",
      "├────────────┼─────────────┼──────────────────┤\n",
      "│ healthy    │        7965 │                1 │\n",
      "├────────────┼─────────────┼──────────────────┤\n",
      "│ new        │        2047 │                1 │\n",
      "├────────────┼─────────────┼──────────────────┤\n",
      "│ year       │        2095 │                1 │\n",
      "├────────────┼─────────────┼──────────────────┤\n",
      "│ president  │        2343 │                1 │\n",
      "├────────────┼─────────────┼──────────────────┤\n",
      "│ angry      │        4854 │                1 │\n",
      "├────────────┼─────────────┼──────────────────┤\n",
      "│ pants      │        6471 │                1 │\n",
      "├────────────┼─────────────┼──────────────────┤\n",
      "│ t          │        1056 │                1 │\n",
      "├────────────┼─────────────┼──────────────────┤\n",
      "│ ##wee      │       28394 │                1 │\n",
      "├────────────┼─────────────┼──────────────────┤\n",
      "│ ##ted      │        3064 │                1 │\n",
      "├────────────┼─────────────┼──────────────────┤\n",
      "│ 2018       │        2760 │                1 │\n",
      "├────────────┼─────────────┼──────────────────┤\n",
      "│ great      │        2307 │                1 │\n",
      "├────────────┼─────────────┼──────────────────┤\n",
      "│ year       │        2095 │                1 │\n",
      "├────────────┼─────────────┼──────────────────┤\n",
      "│ america    │        2637 │                1 │\n",
      "├────────────┼─────────────┼──────────────────┤\n",
      "│ !          │         999 │                1 │\n",
      "├────────────┼─────────────┼──────────────────┤\n",
      "│ country    │        2406 │                1 │\n",
      "├────────────┼─────────────┼──────────────────┤\n",
      "│ rapidly    │        5901 │                1 │\n",
      "├────────────┼─────────────┼──────────────────┤\n",
      "│ grows      │        7502 │                1 │\n",
      "├────────────┼─────────────┼──────────────────┤\n",
      "│ stronger   │        6428 │                1 │\n",
      "├────────────┼─────────────┼──────────────────┤\n",
      "│ smarter    │       25670 │                1 │\n",
      "├────────────┼─────────────┼──────────────────┤\n",
      "│ want       │        2215 │                1 │\n",
      "├────────────┼─────────────┼──────────────────┤\n",
      "│ wish       │        4299 │                1 │\n",
      "├────────────┼─────────────┼──────────────────┤\n",
      "│ friends    │        2814 │                1 │\n",
      "├────────────┼─────────────┼──────────────────┤\n",
      "│ supporters │        6793 │                1 │\n",
      "├────────────┼─────────────┼──────────────────┤\n",
      "│ enemies    │        6716 │                1 │\n",
      "├────────────┼─────────────┼──────────────────┤\n",
      "│ hate       │        5223 │                1 │\n",
      "├────────────┼─────────────┼──────────────────┤\n",
      "│ ##rs       │        2869 │                1 │\n",
      "├────────────┼─────────────┼──────────────────┤\n",
      "│ even       │        2130 │                1 │\n",
      "├────────────┼─────────────┼──────────────────┤\n",
      "│ dish       │        9841 │                1 │\n",
      "├────────────┼─────────────┼──────────────────┤\n",
      "│ ##ones     │       21821 │                1 │\n",
      "├────────────┼─────────────┼──────────────────┤\n",
      "│ ##t        │        2102 │                1 │\n",
      "├────────────┼─────────────┼──────────────────┤\n",
      "│ fake       │        8275 │                1 │\n",
      "├────────────┼─────────────┼──────────────────┤\n",
      "│ news       │        2739 │                1 │\n",
      "├────────────┼─────────────┼──────────────────┤\n",
      "│ media      │        2865 │                1 │\n",
      "├────────────┼─────────────┼──────────────────┤\n",
      "│ happy      │        3407 │                1 │\n",
      "├────────────┼─────────────┼──────────────────┤\n",
      "│ healthy    │        7965 │                1 │\n",
      "├────────────┼─────────────┼──────────────────┤\n",
      "│ new        │        2047 │                1 │\n",
      "├────────────┼─────────────┼──────────────────┤\n",
      "│ year       │        2095 │                1 │\n",
      "├────────────┼─────────────┼──────────────────┤\n",
      "│ 2018       │        2760 │                1 │\n",
      "├────────────┼─────────────┼──────────────────┤\n",
      "│ great      │        2307 │                1 │\n",
      "├────────────┼─────────────┼──────────────────┤\n",
      "│ year       │        2095 │                1 │\n",
      "├────────────┼─────────────┼──────────────────┤\n",
      "│ america    │        2637 │                1 │\n",
      "├────────────┼─────────────┼──────────────────┤\n",
      "│ !          │         999 │                1 │\n",
      "├────────────┼─────────────┼──────────────────┤\n",
      "│ donald     │        6221 │                1 │\n",
      "├────────────┼─────────────┼──────────────────┤\n",
      "│ j          │        1046 │                1 │\n",
      "├────────────┼─────────────┼──────────────────┤\n",
      "│ trump      │        8398 │                1 │\n",
      "├────────────┼─────────────┼──────────────────┤\n",
      "│ @          │        1030 │                1 │\n",
      "├────────────┼─────────────┼──────────────────┤\n",
      "│ real       │        2613 │                1 │\n",
      "├────────────┼─────────────┼──────────────────┤\n",
      "│ ##don      │        5280 │                1 │\n",
      "├────────────┼─────────────┼──────────────────┤\n",
      "│ ##ald      │       19058 │                1 │\n",
      "├────────────┼─────────────┼──────────────────┤\n",
      "│ ##trum     │       24456 │                1 │\n",
      "├────────────┼─────────────┼──────────────────┤\n",
      "│ ##p        │        2361 │                1 │\n",
      "├────────────┼─────────────┼──────────────────┤\n",
      "│ december   │        2285 │                1 │\n",
      "├────────────┼─────────────┼──────────────────┤\n",
      "│ 31         │        2861 │                1 │\n",
      "├────────────┼─────────────┼──────────────────┤\n",
      "│ 2017       │        2418 │                1 │\n",
      "├────────────┼─────────────┼──────────────────┤\n",
      "│ ##trum     │       24456 │                1 │\n",
      "├────────────┼─────────────┼──────────────────┤\n",
      "│ ##p        │        2361 │                1 │\n",
      "├────────────┼─────────────┼──────────────────┤\n",
      "│ t          │        1056 │                1 │\n",
      "├────────────┼─────────────┼──────────────────┤\n",
      "│ ##wee      │       28394 │                1 │\n",
      "├────────────┼─────────────┼──────────────────┤\n",
      "│ ##t        │        2102 │                1 │\n",
      "├────────────┼─────────────┼──────────────────┤\n",
      "│ went       │        2253 │                1 │\n",
      "├────────────┼─────────────┼──────────────────┤\n",
      "│ well       │        2092 │                1 │\n",
      "├────────────┼─────────────┼──────────────────┤\n",
      "│ ##l        │        2140 │                1 │\n",
      "├────────────┼─────────────┼──────────────────┤\n",
      "│ expect     │        5987 │                1 │\n",
      "├────────────┼─────────────┼──────────────────┤\n",
      "│ ##w        │        2860 │                1 │\n",
      "├────────────┼─────────────┼──────────────────┤\n",
      "│ ##hat      │       12707 │                1 │\n",
      "├────────────┼─────────────┼──────────────────┤\n",
      "│ kind       │        2785 │                1 │\n",
      "├────────────┼─────────────┼──────────────────┤\n",
      "│ president  │        2343 │                1 │\n",
      "├────────────┼─────────────┼──────────────────┤\n",
      "│ sends      │       10255 │                1 │\n",
      "├────────────┼─────────────┼──────────────────┤\n",
      "│ new        │        2047 │                1 │\n",
      "├────────────┼─────────────┼──────────────────┤\n",
      "│ year       │        2095 │                1 │\n",
      "├────────────┼─────────────┼──────────────────┤\n",
      "│ greeting   │       14806 │                1 │\n",
      "├────────────┼─────────────┼──────────────────┤\n",
      "│ like       │        2066 │                1 │\n",
      "├────────────┼─────────────┼──────────────────┤\n",
      "│ des        │        4078 │                1 │\n",
      "├────────────┼─────────────┼──────────────────┤\n",
      "│ ##pic      │       24330 │                1 │\n",
      "├────────────┼─────────────┼──────────────────┤\n",
      "│ ##able     │        3085 │                1 │\n",
      "├────────────┼─────────────┼──────────────────┤\n",
      "│ petty      │       11612 │                1 │\n",
      "├────────────┼─────────────┼──────────────────┤\n",
      "│ infant     │       10527 │                1 │\n",
      "├────────────┼─────────────┼──────────────────┤\n",
      "│ ##ile      │        9463 │                1 │\n",
      "├────────────┼─────────────┼──────────────────┤\n",
      "│ gi         │       21025 │                1 │\n",
      "├────────────┼─────────────┼──────────────────┤\n",
      "│ ##bber     │       29325 │                1 │\n",
      "├────────────┼─────────────┼──────────────────┤\n",
      "│ ##ish      │        4509 │                1 │\n",
      "├────────────┼─────────────┼──────────────────┤\n",
      "│ ?          │        1029 │                1 │\n",
      "├────────────┼─────────────┼──────────────────┤\n",
      "│ trump      │        8398 │                1 │\n",
      "├────────────┼─────────────┼──────────────────┤\n",
      "│ !          │         999 │                1 │\n",
      "├────────────┼─────────────┼──────────────────┤\n",
      "│ lack       │        3768 │                1 │\n",
      "├────────────┼─────────────┼──────────────────┤\n",
      "│ dec        │       11703 │                1 │\n",
      "├────────────┼─────────────┼──────────────────┤\n",
      "│ ##ency     │       11916 │                1 │\n",
      "├────────────┼─────────────┼──────────────────┤\n",
      "│ even       │        2130 │                1 │\n",
      "├────────────┼─────────────┼──────────────────┤\n",
      "│ allow      │        3499 │                1 │\n",
      "├────────────┼─────────────┼──────────────────┤\n",
      "│ rise       │        4125 │                1 │\n",
      "├────────────┼─────────────┼──────────────────┤\n",
      "│ gut        │        9535 │                1 │\n",
      "├────────────┼─────────────┼──────────────────┤\n",
      "│ ##ter      │        3334 │                1 │\n",
      "├────────────┼─────────────┼──────────────────┤\n",
      "│ long       │        2146 │                1 │\n",
      "├────────────┼─────────────┼──────────────────┤\n",
      "│ enough     │        2438 │                1 │\n",
      "├────────────┼─────────────┼──────────────────┤\n",
      "│ wish       │        4299 │                1 │\n",
      "├────────────┼─────────────┼──────────────────┤\n",
      "│ american   │        2137 │                1 │\n",
      "├────────────┼─────────────┼──────────────────┤\n",
      "│ citizens   │        4480 │                1 │\n",
      "├────────────┼─────────────┼──────────────────┤\n",
      "│ happy      │        3407 │                1 │\n",
      "├────────────┼─────────────┼──────────────────┤\n",
      "│ new        │        2047 │                1 │\n",
      "├────────────┼─────────────┼──────────────────┤\n",
      "│ year       │        2095 │                1 │\n",
      "├────────────┼─────────────┼──────────────────┤\n",
      "│ !          │         999 │                1 │\n",
      "├────────────┼─────────────┼──────────────────┤\n",
      "│ bishop     │        3387 │                1 │\n",
      "├────────────┼─────────────┼──────────────────┤\n",
      "│ tal        │       21368 │                1 │\n",
      "├────────────┼─────────────┼──────────────────┤\n",
      "│ ##bert     │        8296 │                1 │\n",
      "├────────────┼─────────────┼──────────────────┤\n",
      "│ swan       │       10677 │                1 │\n",
      "├────────────┼─────────────┼──────────────────┤\n",
      "│ @          │        1030 │                1 │\n",
      "├────────────┼─────────────┼──────────────────┤\n",
      "│ tal        │       21368 │                1 │\n",
      "├────────────┼─────────────┼──────────────────┤\n",
      "│ ##bert     │        8296 │                1 │\n",
      "├────────────┼─────────────┼──────────────────┤\n",
      "│ ##sw       │       26760 │                1 │\n",
      "├────────────┼─────────────┼──────────────────┤\n",
      "│ ##an       │        2319 │                1 │\n",
      "├────────────┼─────────────┼──────────────────┤\n",
      "│ december   │        2285 │                1 │\n",
      "├────────────┼─────────────┼──────────────────┤\n",
      "│ 31         │        2861 │                1 │\n",
      "├────────────┼─────────────┼──────────────────┤\n",
      "│ 2017       │        2418 │                1 │\n",
      "├────────────┼─────────────┼──────────────────┤\n",
      "│ ##no       │        3630 │                1 │\n",
      "├────────────┼─────────────┼──────────────────┤\n",
      "│ one        │        2028 │                1 │\n",
      "├────────────┼─────────────┼──────────────────┤\n",
      "│ likes      │        7777 │                1 │\n",
      "├────────────┼─────────────┼──────────────────┤\n",
      "│ calvin     │       11130 │                1 │\n",
      "├────────────┼─────────────┼──────────────────┤\n",
      "│ @          │        1030 │                1 │\n",
      "├────────────┼─────────────┼──────────────────┤\n",
      "│ calvin     │       11130 │                1 │\n",
      "├────────────┼─────────────┼──────────────────┤\n",
      "│ ##sto      │       16033 │                1 │\n",
      "├────────────┼─────────────┼──────────────────┤\n",
      "│ ##well     │        4381 │                1 │\n",
      "├────────────┼─────────────┼──────────────────┤\n",
      "│ december   │        2285 │                1 │\n",
      "├────────────┼─────────────┼──────────────────┤\n",
      "│ 31         │        2861 │                1 │\n",
      "├────────────┼─────────────┼──────────────────┤\n",
      "│ 2017       │        2418 │                1 │\n",
      "├────────────┼─────────────┼──────────────────┤\n",
      "│ ##you      │       29337 │                1 │\n",
      "├────────────┼─────────────┼──────────────────┤\n",
      "│ ##r        │        2099 │                1 │\n",
      "├────────────┼─────────────┼──────────────────┤\n",
      "│ imp        │       17727 │                1 │\n",
      "├────────────┼─────────────┼──────────────────┤\n",
      "│ ##ea       │        5243 │                1 │\n",
      "├────────────┼─────────────┼──────────────────┤\n",
      "│ ##chment   │       22729 │                1 │\n",
      "├────────────┼─────────────┼──────────────────┤\n",
      "│ would      │        2052 │                1 │\n",
      "├────────────┼─────────────┼──────────────────┤\n",
      "│ make       │        2191 │                1 │\n",
      "├────────────┼─────────────┼──────────────────┤\n",
      "│ 2018       │        2760 │                1 │\n",
      "├────────────┼─────────────┼──────────────────┤\n",
      "│ great      │        2307 │                1 │\n",
      "╘════════════╧═════════════╧══════════════════╛\n"
     ]
    }
   ],
   "source": [
    "def print_shortest_sentence_encoding():\n",
    "  '''Displays tokens, token IDs and attention mask of the shortest text sample'''\n",
    "  \n",
    "  # Get the length of each sentence in the dataset\n",
    "  sentence_lengths = [len(s) for s in token_id]\n",
    "  \n",
    "  # Find the index of the shortest sentence\n",
    "  shortest_index = np.argmin(sentence_lengths)\n",
    "  \n",
    "  tokens = tokenizer.tokenize(tokenizer.decode(token_id[shortest_index]))\n",
    "  token_ids = [i.item() for i in token_id[shortest_index]]\n",
    "  attention = [i.item() for i in attention_masks[shortest_index]]\n",
    "\n",
    "  table = np.array([tokens, token_ids, attention]).T[:180]\n",
    "  print(tabulate(table, \n",
    "                 headers = ['Tokens', 'Token IDs', 'Attention Mask'],\n",
    "                 tablefmt = 'fancy_grid'))\n",
    "\n",
    "print_shortest_sentence_encoding()"
   ]
  },
  {
   "cell_type": "markdown",
   "metadata": {
    "tags": []
   },
   "source": [
    "# [Train and test datasets](#Methodology)"
   ]
  },
  {
   "cell_type": "markdown",
   "metadata": {},
   "source": [
    "**I split the dataset into train (80%) and validation (20%) sets, and wrap them around a torch.utils.data.DataLoader object. DataLoader provides an object that we can use to iterateover the given dataset.**"
   ]
  },
  {
   "cell_type": "code",
   "execution_count": 32,
   "metadata": {},
   "outputs": [],
   "source": [
    "import torch\n",
    "from sklearn.model_selection import train_test_split\n",
    "from torch.utils.data import TensorDataset, DataLoader, RandomSampler, SequentialSampler\n",
    "\n",
    "# Set up some constants\n",
    "VAL_RATIO = 0.2\n",
    "BATCH_SIZE = 4\n",
    "\n",
    "def split_dataset(token_id, attention_masks, labels):\n",
    "    train_index, temp_index = train_test_split(\n",
    "        np.arange(len(labels)), \n",
    "        test_size = 0.6,\n",
    "        shuffle = True,\n",
    "        stratify = labels\n",
    "    )\n",
    "\n",
    "    validate_index, production_index = train_test_split(\n",
    "        temp_index,\n",
    "        test_size = 2/3,\n",
    "        shuffle = True,\n",
    "        stratify = labels[temp_index]\n",
    "    )\n",
    "\n",
    "    return train_index, validate_index, production_index"
   ]
  },
  {
   "cell_type": "markdown",
   "metadata": {},
   "source": [
    "**Loaded the data into Dataloader objects. We are using the PyTorch `DataLoader` method and using randomSampler to draw random samples from the dataset**"
   ]
  },
  {
   "cell_type": "code",
   "execution_count": 33,
   "metadata": {},
   "outputs": [],
   "source": [
    "def load_data(train_index, validation_index):\n",
    "    \"\"\"\n",
    "    Load the data into DataLoader objects.\n",
    "    Returns DataLoaders for training and validation sets.\n",
    "    \"\"\"\n",
    "    \n",
    "    # Create TensorDatasets for training and validation sets\n",
    "    train_set = TensorDataset(token_id[train_index], \n",
    "                              attention_masks[train_index], \n",
    "                              labels[train_index])\n",
    "    \n",
    "    val_set = TensorDataset(token_id[validation_index], \n",
    "                            attention_masks[validation_index], \n",
    "                            labels[validation_index])\n",
    "\n",
    "    # Create DataLoaders for training and validation sets \n",
    "    # Training DataLoader uses RandomSampler to draw random samples from the dataset\n",
    "    train_dataloader = DataLoader(\n",
    "                train_set,\n",
    "                sampler=RandomSampler(train_set),\n",
    "                batch_size=BATCH_SIZE)\n",
    "\n",
    "    \n",
    "     # Validation DataLoader uses SequentialSampler to draw sequential samples from the dataset\n",
    "    validate_dataloader = DataLoader(\n",
    "                val_set,\n",
    "                sampler=SequentialSampler(val_set),\n",
    "                batch_size=BATCH_SIZE)\n",
    "    \n",
    "    return train_dataloader, validate_dataloader"
   ]
  },
  {
   "cell_type": "markdown",
   "metadata": {},
   "source": [
    "**I calculate the mertrics that include accuracy, precision, recall and specificity**"
   ]
  },
  {
   "cell_type": "code",
   "execution_count": 34,
   "metadata": {},
   "outputs": [],
   "source": [
    "def calculate_metrics(preds, labels):\n",
    "    '''\n",
    "    Function to calculate accuracy, precision and recall.\n",
    "    Args:\n",
    "        preds (torch.Tensor): Predicted values from the model.\n",
    "        labels (torch.Tensor): Actual target values.\n",
    "\n",
    "    Returns:\n",
    "        accuracy (float): Accuracy score.\n",
    "        precision (float): Precision score.\n",
    "        recall (float): Recall score.\n",
    "    '''\n",
    "    \n",
    "    # Converting the tensors to numpy arrays for sklearn metrics\n",
    "    preds_np = preds.detach().cpu().numpy()\n",
    "    labels_np = labels.detach().cpu().numpy()\n",
    "\n",
    "    # Calculate accuracy: sum of correct predictions / total number of predictions\n",
    "    correct_preds = torch.eq(preds, labels) # Returns a tensor with boolean values representing correct predictions \n",
    "    accuracy = torch.sum(correct_preds).item() / correct_preds.nelement() \n",
    "\n",
    "    # Calculate precision and recall using sklearn's methods\n",
    "    precision = precision_score(labels_np, preds_np)\n",
    "    recall = recall_score(labels_np, preds_np)\n",
    "\n",
    "    return accuracy, precision, recall"
   ]
  },
  {
   "cell_type": "code",
   "execution_count": 35,
   "metadata": {},
   "outputs": [],
   "source": [
    "def load_and_train_model():\n",
    "     \"\"\"\n",
    "     Load the model for training and kick off training.\n",
    "     \"\"\"\n",
    "\n",
    "     # Load the BertForSequenceClassification model\n",
    "     model = BertForSequenceClassification.from_pretrained(\n",
    "         model_name,\n",
    "         num_labels=2,\n",
    "         output_attentions=False,\n",
    "         output_hidden_states=False)\n",
    "\n",
    "     # Set up optimizer\n",
    "     optimizer = torch.optim.AdamW(model.parameters(), \n",
    "                                   lr=5e-5,\n",
    "                                   eps=1e-08)\n",
    "\n",
    "     # Move model to GPU if available\n",
    "     device = torch.device('cuda' if torch.cuda.is_available() else 'cpu')\n",
    "     model.to(device)\n",
    "\n",
    "     return model, optimizer"
   ]
  },
  {
   "cell_type": "code",
   "execution_count": 37,
   "metadata": {},
   "outputs": [],
   "source": [
    "# Use the functions to split dataset, load data, calculate performance metrics, \n",
    "# load and train model and visualize performance on Weights & Biases.\n",
    "\n",
    "# Split dataset\n",
    "train_index, validation_index, production_index = split_dataset(token_id, attention_masks, labels)"
   ]
  },
  {
   "cell_type": "code",
   "execution_count": 38,
   "metadata": {},
   "outputs": [],
   "source": [
    "# Load data\n",
    "train_dataloader, validation_dataloader = load_data(train_index, validation_index)"
   ]
  },
  {
   "cell_type": "code",
   "execution_count": 39,
   "metadata": {},
   "outputs": [
    {
     "name": "stderr",
     "output_type": "stream",
     "text": [
      "Some weights of BertForSequenceClassification were not initialized from the model checkpoint at prajjwal1/bert-tiny and are newly initialized: ['classifier.bias', 'classifier.weight']\n",
      "You should probably TRAIN this model on a down-stream task to be able to use it for predictions and inference.\n"
     ]
    }
   ],
   "source": [
    "# Load and train model\n",
    "model, optimizer = load_and_train_model()"
   ]
  },
  {
   "cell_type": "markdown",
   "metadata": {},
   "source": [
    "**I also pushed this metrics into  Weights & Biases so pushed the logs into Weights and Biases to track all my experiments**"
   ]
  },
  {
   "cell_type": "code",
   "execution_count": 40,
   "metadata": {},
   "outputs": [],
   "source": [
    "def train_model(model, optimizer, train_dataloader, validation_dataloader, device, epochs=2):\n",
    "    \"\"\"\n",
    "    Train and evaluate the model.\n",
    "    \"\"\"\n",
    "    from tqdm import trange\n",
    "    \n",
    "    for epoch in trange(epochs, desc = 'Epoch'):\n",
    "        \n",
    "        # Set model to training mode\n",
    "        model.train()\n",
    "        \n",
    "        # Tracking variables\n",
    "        train_loss = 0\n",
    "        train_examples, train_steps = 0, 0\n",
    "\n",
    "        for step, batch in enumerate(train_dataloader):\n",
    "            batch = tuple(t.to(device) for t in batch)\n",
    "            input_ids, attention_mask, labels = batch\n",
    "            optimizer.zero_grad()\n",
    "            \n",
    "            # Forward pass\n",
    "            train_output = model(input_ids, \n",
    "                                 token_type_ids = None,\n",
    "                                 attention_mask = attention_mask,\n",
    "                                 labels = labels)\n",
    "            \n",
    "            # Backward pass\n",
    "            train_output.loss.backward()\n",
    "            optimizer.step()\n",
    "            \n",
    "            # Update tracking variables\n",
    "            train_loss += train_output.loss.item()\n",
    "            train_examples += input_ids.size(0)\n",
    "            train_steps += 1\n",
    "            \n",
    "        print('\\n\\t - Train loss: {:.4f}'.format(train_loss / train_steps))\n",
    "        \n",
    "        # Evaluate the model on validation data after each epoch \n",
    "        model.eval()\n",
    "\n",
    "        with torch.no_grad():\n",
    "            \n",
    "             val_preds_list,val_labels_list=[],[]\n",
    "\n",
    "             for step,batch in enumerate(validation_dataloader):\n",
    "                batch=tuple(t.to(device) for t in batch)\n",
    "                b_input_ids,b_input_masks,b_labels=batch\n",
    "                \n",
    "                outputs=model(b_input_ids,\n",
    "                              token_type_ids=None,\n",
    "                              attention_mask=b_input_masks)\n",
    "                \n",
    "                logits=outputs[0]\n",
    "                \n",
    "                val_preds=np.argmax(logits.detach().cpu().numpy(),axis=1).flatten()\n",
    "                val_preds_list.append(val_preds)\n",
    "                \n",
    "                val_labels=b_labels.to('cpu').numpy()\n",
    "                val_labels_list.append(val_labels)\n",
    "\n",
    "             val_preds=np.concatenate(val_preds_list)\n",
    "             val_labels=np.concatenate(val_labels_list)\n",
    "             \n",
    "             # Calculate accuracy, precision and recall\n",
    "             accuracy, precision, recall = calculate_metrics(torch.from_numpy(val_preds), torch.from_numpy(val_labels))\n",
    "             \n",
    "             print(\"Validation Accuracy: {:.4f}, Precision: {:.4f}, Recall: {:.4f}\".format(accuracy, precision, recall))\n",
    "\n",
    "    return model\n",
    "\n",
    "# Use the functions to split dataset, load data, calculate performance metrics,\n",
    "# load and train model and visualize performance on Weights & Biases."
   ]
  },
  {
   "cell_type": "code",
   "execution_count": 41,
   "metadata": {},
   "outputs": [
    {
     "name": "stderr",
     "output_type": "stream",
     "text": [
      "Some weights of BertForSequenceClassification were not initialized from the model checkpoint at prajjwal1/bert-tiny and are newly initialized: ['classifier.bias', 'classifier.weight']\n",
      "You should probably TRAIN this model on a down-stream task to be able to use it for predictions and inference.\n"
     ]
    }
   ],
   "source": [
    "# Load and train model\n",
    "model, optimizer = load_and_train_model()"
   ]
  },
  {
   "cell_type": "code",
   "execution_count": 42,
   "metadata": {},
   "outputs": [],
   "source": [
    "device = torch.device('cuda' if torch.cuda.is_available() else 'cpu')"
   ]
  },
  {
   "cell_type": "code",
   "execution_count": 43,
   "metadata": {},
   "outputs": [
    {
     "name": "stderr",
     "output_type": "stream",
     "text": [
      "Epoch:   0%|          | 0/2 [00:00<?, ?it/s]"
     ]
    },
    {
     "name": "stdout",
     "output_type": "stream",
     "text": [
      "\n",
      "\t - Train loss: 0.0439\n"
     ]
    },
    {
     "name": "stderr",
     "output_type": "stream",
     "text": [
      "Epoch:  50%|█████     | 1/2 [03:32<03:32, 212.62s/it]"
     ]
    },
    {
     "name": "stdout",
     "output_type": "stream",
     "text": [
      "Validation Accuracy: 0.9980, Precision: 0.9979, Recall: 0.9979\n",
      "\n",
      "\t - Train loss: 0.0069\n"
     ]
    },
    {
     "name": "stderr",
     "output_type": "stream",
     "text": [
      "Epoch: 100%|██████████| 2/2 [07:06<00:00, 213.02s/it]"
     ]
    },
    {
     "name": "stdout",
     "output_type": "stream",
     "text": [
      "Validation Accuracy: 0.9984, Precision: 0.9993, Recall: 0.9974\n"
     ]
    },
    {
     "name": "stderr",
     "output_type": "stream",
     "text": [
      "\n"
     ]
    }
   ],
   "source": [
    "# Train and evaluate model\n",
    "model = train_model(model, optimizer, train_dataloader, validation_dataloader, device)"
   ]
  },
  {
   "cell_type": "markdown",
   "metadata": {},
   "source": [
    "# Save the model to disk "
   ]
  },
  {
   "cell_type": "code",
   "execution_count": 80,
   "metadata": {
    "tags": []
   },
   "outputs": [
    {
     "name": "stdout",
     "output_type": "stream",
     "text": [
      "Model saved to model.pth\n",
      "Tokenizer saved to tokenizer\n"
     ]
    }
   ],
   "source": [
    "# Save the model and tokenizer to disk\n",
    "model_save_path = 'model.pth'\n",
    "tokenizer_save_path = 'tokenizer'\n",
    "\n",
    "torch.save(model.state_dict(), model_save_path)\n",
    "tokenizer.save_pretrained(tokenizer_save_path)\n",
    "\n",
    "print(f\"Model saved to {model_save_path}\")\n",
    "print(f\"Tokenizer saved to {tokenizer_save_path}\")"
   ]
  },
  {
   "cell_type": "markdown",
   "metadata": {
    "tags": []
   },
   "source": [
    "# [Evaluate Model](#Methodology)\n",
    "\n",
    "In this section, we will evaluate the model's performance using classification metrics such as accuracy, precision, specificty train and validation losses"
   ]
  },
  {
   "cell_type": "markdown",
   "metadata": {},
   "source": [
    "## Test the output "
   ]
  },
  {
   "cell_type": "code",
   "execution_count": 45,
   "metadata": {},
   "outputs": [],
   "source": [
    "def evaluate_on_production(model, production_dataloader, device):\n",
    "    model.eval()\n",
    "    prod_preds_list, prod_labels_list = [], []\n",
    "\n",
    "    with torch.no_grad():\n",
    "        for step, batch in enumerate(production_dataloader):\n",
    "            batch = tuple(t.to(device) for t in batch)\n",
    "            b_input_ids, b_input_masks, b_labels = batch\n",
    "            outputs = model(b_input_ids, token_type_ids=None, attention_mask=b_input_masks)\n",
    "            logits = outputs[0]\n",
    "            prod_preds = np.argmax(logits.detach().cpu().numpy(), axis=1).flatten()\n",
    "            prod_preds_list.append(prod_preds)\n",
    "            prod_labels = b_labels.to('cpu').numpy()\n",
    "            prod_labels_list.append(prod_labels)\n",
    "\n",
    "    prod_preds = np.concatenate(prod_preds_list)\n",
    "    prod_labels = np.concatenate(prod_labels_list)\n",
    "    accuracy, precision, recall = calculate_metrics(torch.from_numpy(prod_preds), torch.from_numpy(prod_labels))\n",
    "    print(\"Production Data - Accuracy: {:.4f}, Precision: {:.4f}, Recall: {:.4f}\".format(accuracy, precision, recall))"
   ]
  },
  {
   "cell_type": "code",
   "execution_count": 46,
   "metadata": {},
   "outputs": [],
   "source": [
    "production_dataloader = DataLoader(TensorDataset(token_id[production_index], attention_masks[production_index], labels[production_index]), sampler=SequentialSampler(TensorDataset(token_id[production_index], attention_masks[production_index], labels[production_index])), batch_size=BATCH_SIZE)"
   ]
  },
  {
   "cell_type": "code",
   "execution_count": 47,
   "metadata": {},
   "outputs": [
    {
     "name": "stdout",
     "output_type": "stream",
     "text": [
      "Production Data - Accuracy: 0.9987, Precision: 0.9996, Recall: 0.9977\n"
     ]
    }
   ],
   "source": [
    "evaluate_on_production(model, production_dataloader, device)"
   ]
  },
  {
   "cell_type": "code",
   "execution_count": 79,
   "metadata": {
    "tags": []
   },
   "outputs": [
    {
     "name": "stdout",
     "output_type": "stream",
     "text": [
      "Input Sentence:  beta testing set begin transportation hubs los angeles denver washington total recall style high speed body scanners image : mashable mark harris guardian startup bankrolled bill gates conduct first public trials high speed body scanners powered artificial intelligence ai guardian revealaccording documents filed us federal communications commission fcc boston based evolv technology planning test system union station washington dc los angeles union station metro denver international airportbill gates : turning society technocracyevolv uses millimetre wave radio frequencies controversial painfully slow body scanners found many airport security checkpoints however new device complete scan fraction second using computer vision machine learning spot guns bombsthis means individuals simply walk scanning gate without stopping even slowing like hi tech scanners seen 1990 sci fi film total recall nearby security guard tablet shown either clear sign photo person suspicious areas highlighted evolv says system scan 800 people hour without anyone remove keys coins cellphones importance fast overstated said aaron elkins ai professor san diego state university developing ai security technology place currently see metal detector would probably consider upgrade millimetre wave scanners useful identify metallic non metallic items 3d printed guns explosives also attracted criticism scanners able capture realistic images people bodies beneath clothes never build image would enable anyone see anatomical details naked peepshow first place says michael ellenbogen evolv ceo none raw data stored none data keep traceable individual evolv claims human sees scanner looking system uses solid state micro antennas steer radar beams anyone walking gate pick reflections data fed ai system trained spot distinctive scattering patterns kinds objects including firearms suicide bomber vests even knives scanner also camera takes photo person passing enabling facial recognitionbecause promises faster cheaper existing millimetre wave scanners new device could bring airport level screening venues previously difficult secure continue story guardianread ai news : 21st century wire ai files\n",
      "Single Production Point - Predicted: 0, True: 0\n"
     ]
    }
   ],
   "source": [
    "import random\n",
    "\n",
    "def evaluate_single_production_point(production_dataloader, device, tokenizer):\n",
    "    model.eval()\n",
    "    with torch.no_grad():\n",
    "        # Get a random batch from the production dataloader\n",
    "        random_batch_index = random.randint(0, len(production_dataloader) - 1)\n",
    "        batch = list(production_dataloader)[random_batch_index]\n",
    "        batch = tuple(t.to(device) for t in batch)\n",
    "        \n",
    "        # Get a random index from the batch\n",
    "        random_index = random.randint(0, batch[0].size(0) - 1)\n",
    "        b_input_ids, b_input_masks, b_labels = batch\n",
    "        \n",
    "        # Get the specific input_ids, attention_mask, and label for the random index\n",
    "        input_ids = b_input_ids[random_index].unsqueeze(0)\n",
    "        attention_mask = b_input_masks[random_index].unsqueeze(0)\n",
    "        label = b_labels[random_index].cpu().item()\n",
    "        \n",
    "        # Model prediction\n",
    "        outputs = model(input_ids, token_type_ids=None, attention_mask=attention_mask)\n",
    "        logits = outputs[0]\n",
    "        pred = np.argmax(logits.detach().cpu().numpy(), axis=1).flatten().item()\n",
    "        \n",
    "        # Decode the input_ids to get the input sentence\n",
    "        sentence = tokenizer.decode(input_ids.cpu().numpy().flatten(), skip_special_tokens=True)\n",
    "        \n",
    "        print(\"Input Sentence: \", sentence)\n",
    "        print(\"Single Production Point - Predicted: {}, True: {}\".format(pred, label))\n",
    "\n",
    "# Assuming `tokenizer` is already defined and available\n",
    "evaluate_single_production_point(production_dataloader, device, tokenizer)\n"
   ]
  },
  {
   "cell_type": "markdown",
   "metadata": {},
   "source": [
    "# Upload the Model and Tokenizer into the Registry"
   ]
  },
  {
   "cell_type": "code",
   "execution_count": 93,
   "metadata": {
    "tags": []
   },
   "outputs": [
    {
     "name": "stdout",
     "output_type": "stream",
     "text": [
      "ModelPackageGroup Arn : arn:aws:sagemaker:us-east-1:845459317710:model-package-group/fake-news-detection-1717557482\n"
     ]
    }
   ],
   "source": [
    "import boto3\n",
    "import sagemaker\n",
    "import time\n",
    "from time import strftime, gmtime\n",
    "from sagemaker import get_execution_role\n",
    "\n",
    "# Initialize boto3 client and SageMaker session\n",
    "s3_client = boto3.client('s3')\n",
    "sagemaker_client = boto3.client('sagemaker')\n",
    "sess = sagemaker.Session()\n",
    "role = get_execution_role()\n",
    "region = sess.boto_region_name\n",
    "\n",
    "# Define S3 bucket and model paths\n",
    "bucket_name = sess.default_bucket()\n",
    "model_path = 'model.pth'\n",
    "tokenizer_path = './tokenizer'\n",
    "\n",
    "# Save the model and tokenizer locally\n",
    "torch.save(model.state_dict(), 'model.pth')\n",
    "tokenizer.save_pretrained('tokenizer')\n",
    "\n",
    "# Upload model and tokenizer to S3\n",
    "s3_client.upload_file('model.pth', bucket_name, model_path)\n",
    "s3_client.upload_file('tokenizer/tokenizer_config.json', bucket_name, f'{tokenizer_path}/tokenizer_config.json')\n",
    "s3_client.upload_file('tokenizer/vocab.txt', bucket_name, f'{tokenizer_path}/vocab.txt')\n",
    "\n",
    "# Get the primary container image URI\n",
    "image_uri = sagemaker.image_uris.retrieve(\n",
    "    framework='pytorch',\n",
    "    region=region,\n",
    "    version='1.9.0',\n",
    "    py_version='py38',\n",
    "    instance_type='ml.m5.large',\n",
    "    image_scope='inference'\n",
    ")\n",
    "\n",
    "# Create a model package group\n",
    "model_package_group_name = f\"fake-news-detection-{int(time.time())}\"\n",
    "model_package_group_input_dict = {\n",
    "    \"ModelPackageGroupName\": model_package_group_name,\n",
    "    \"ModelPackageGroupDescription\": \"Fake news detection model group\"\n",
    "}\n",
    "create_model_package_group_response = sagemaker_client.create_model_package_group(**model_package_group_input_dict)\n",
    "print('ModelPackageGroup Arn : {}'.format(create_model_package_group_response['ModelPackageGroupArn']))"
   ]
  },
  {
   "cell_type": "code",
   "execution_count": 94,
   "metadata": {
    "tags": []
   },
   "outputs": [
    {
     "name": "stdout",
     "output_type": "stream",
     "text": [
      "Model Arn: arn:aws:sagemaker:us-east-1:845459317710:model/fake-news-detection-model-1717557487\n"
     ]
    }
   ],
   "source": [
    "# Register the model\n",
    "model_name = f\"fake-news-detection-model-{int(time.time())}\"\n",
    "model_data_url = f's3://{bucket_name}/{model_path}'\n",
    "primary_container = {\n",
    "    'Image': image_uri,\n",
    "    'ModelDataUrl': model_data_url\n",
    "}\n",
    "create_model_response = sagemaker_client.create_model(\n",
    "    ModelName=model_name,\n",
    "    ExecutionRoleArn=role,\n",
    "    PrimaryContainer=primary_container\n",
    ")\n",
    "print('Model Arn: {}'.format(create_model_response['ModelArn']))"
   ]
  },
  {
   "cell_type": "markdown",
   "metadata": {},
   "source": [
    "# Releasing Resources"
   ]
  },
  {
   "cell_type": "code",
   "execution_count": 110,
   "metadata": {
    "tags": []
   },
   "outputs": [
    {
     "data": {
      "text/html": [
       "\n",
       "<p><b>Shutting down your kernel for this notebook to release resources.</b></p>\n",
       "<button class=\"sm-command-button\" data-commandlinker-command=\"kernelmenu:shutdown\" style=\"display:none;\">Shutdown Kernel</button>\n",
       "        \n",
       "<script>\n",
       "try {\n",
       "    els = document.getElementsByClassName(\"sm-command-button\");\n",
       "    els[0].click();\n",
       "}\n",
       "catch(err) {\n",
       "    // NoOp\n",
       "}    \n",
       "</script>\n"
      ],
      "text/plain": [
       "<IPython.core.display.HTML object>"
      ]
     },
     "metadata": {},
     "output_type": "display_data"
    }
   ],
   "source": [
    "%%html\n",
    "\n",
    "<p><b>Shutting down your kernel for this notebook to release resources.</b></p>\n",
    "<button class=\"sm-command-button\" data-commandlinker-command=\"kernelmenu:shutdown\" style=\"display:none;\">Shutdown Kernel</button>\n",
    "        \n",
    "<script>\n",
    "try {\n",
    "    els = document.getElementsByClassName(\"sm-command-button\");\n",
    "    els[0].click();\n",
    "}\n",
    "catch(err) {\n",
    "    // NoOp\n",
    "}    \n",
    "</script>"
   ]
  },
  {
   "cell_type": "code",
   "execution_count": null,
   "metadata": {
    "tags": []
   },
   "outputs": [],
   "source": [
    "%%javascript\n",
    "\n",
    "try {\n",
    "    Jupyter.notebook.save_checkpoint();\n",
    "    Jupyter.notebook.session.delete();\n",
    "}\n",
    "catch(err) {\n",
    "    // NoOp\n",
    "}"
   ]
  }
 ],
 "metadata": {
  "availableInstances": [
   {
    "_defaultOrder": 0,
    "_isFastLaunch": true,
    "category": "General purpose",
    "gpuNum": 0,
    "hideHardwareSpecs": false,
    "memoryGiB": 4,
    "name": "ml.t3.medium",
    "vcpuNum": 2
   },
   {
    "_defaultOrder": 1,
    "_isFastLaunch": false,
    "category": "General purpose",
    "gpuNum": 0,
    "hideHardwareSpecs": false,
    "memoryGiB": 8,
    "name": "ml.t3.large",
    "vcpuNum": 2
   },
   {
    "_defaultOrder": 2,
    "_isFastLaunch": false,
    "category": "General purpose",
    "gpuNum": 0,
    "hideHardwareSpecs": false,
    "memoryGiB": 16,
    "name": "ml.t3.xlarge",
    "vcpuNum": 4
   },
   {
    "_defaultOrder": 3,
    "_isFastLaunch": false,
    "category": "General purpose",
    "gpuNum": 0,
    "hideHardwareSpecs": false,
    "memoryGiB": 32,
    "name": "ml.t3.2xlarge",
    "vcpuNum": 8
   },
   {
    "_defaultOrder": 4,
    "_isFastLaunch": true,
    "category": "General purpose",
    "gpuNum": 0,
    "hideHardwareSpecs": false,
    "memoryGiB": 8,
    "name": "ml.m5.large",
    "vcpuNum": 2
   },
   {
    "_defaultOrder": 5,
    "_isFastLaunch": false,
    "category": "General purpose",
    "gpuNum": 0,
    "hideHardwareSpecs": false,
    "memoryGiB": 16,
    "name": "ml.m5.xlarge",
    "vcpuNum": 4
   },
   {
    "_defaultOrder": 6,
    "_isFastLaunch": false,
    "category": "General purpose",
    "gpuNum": 0,
    "hideHardwareSpecs": false,
    "memoryGiB": 32,
    "name": "ml.m5.2xlarge",
    "vcpuNum": 8
   },
   {
    "_defaultOrder": 7,
    "_isFastLaunch": false,
    "category": "General purpose",
    "gpuNum": 0,
    "hideHardwareSpecs": false,
    "memoryGiB": 64,
    "name": "ml.m5.4xlarge",
    "vcpuNum": 16
   },
   {
    "_defaultOrder": 8,
    "_isFastLaunch": false,
    "category": "General purpose",
    "gpuNum": 0,
    "hideHardwareSpecs": false,
    "memoryGiB": 128,
    "name": "ml.m5.8xlarge",
    "vcpuNum": 32
   },
   {
    "_defaultOrder": 9,
    "_isFastLaunch": false,
    "category": "General purpose",
    "gpuNum": 0,
    "hideHardwareSpecs": false,
    "memoryGiB": 192,
    "name": "ml.m5.12xlarge",
    "vcpuNum": 48
   },
   {
    "_defaultOrder": 10,
    "_isFastLaunch": false,
    "category": "General purpose",
    "gpuNum": 0,
    "hideHardwareSpecs": false,
    "memoryGiB": 256,
    "name": "ml.m5.16xlarge",
    "vcpuNum": 64
   },
   {
    "_defaultOrder": 11,
    "_isFastLaunch": false,
    "category": "General purpose",
    "gpuNum": 0,
    "hideHardwareSpecs": false,
    "memoryGiB": 384,
    "name": "ml.m5.24xlarge",
    "vcpuNum": 96
   },
   {
    "_defaultOrder": 12,
    "_isFastLaunch": false,
    "category": "General purpose",
    "gpuNum": 0,
    "hideHardwareSpecs": false,
    "memoryGiB": 8,
    "name": "ml.m5d.large",
    "vcpuNum": 2
   },
   {
    "_defaultOrder": 13,
    "_isFastLaunch": false,
    "category": "General purpose",
    "gpuNum": 0,
    "hideHardwareSpecs": false,
    "memoryGiB": 16,
    "name": "ml.m5d.xlarge",
    "vcpuNum": 4
   },
   {
    "_defaultOrder": 14,
    "_isFastLaunch": false,
    "category": "General purpose",
    "gpuNum": 0,
    "hideHardwareSpecs": false,
    "memoryGiB": 32,
    "name": "ml.m5d.2xlarge",
    "vcpuNum": 8
   },
   {
    "_defaultOrder": 15,
    "_isFastLaunch": false,
    "category": "General purpose",
    "gpuNum": 0,
    "hideHardwareSpecs": false,
    "memoryGiB": 64,
    "name": "ml.m5d.4xlarge",
    "vcpuNum": 16
   },
   {
    "_defaultOrder": 16,
    "_isFastLaunch": false,
    "category": "General purpose",
    "gpuNum": 0,
    "hideHardwareSpecs": false,
    "memoryGiB": 128,
    "name": "ml.m5d.8xlarge",
    "vcpuNum": 32
   },
   {
    "_defaultOrder": 17,
    "_isFastLaunch": false,
    "category": "General purpose",
    "gpuNum": 0,
    "hideHardwareSpecs": false,
    "memoryGiB": 192,
    "name": "ml.m5d.12xlarge",
    "vcpuNum": 48
   },
   {
    "_defaultOrder": 18,
    "_isFastLaunch": false,
    "category": "General purpose",
    "gpuNum": 0,
    "hideHardwareSpecs": false,
    "memoryGiB": 256,
    "name": "ml.m5d.16xlarge",
    "vcpuNum": 64
   },
   {
    "_defaultOrder": 19,
    "_isFastLaunch": false,
    "category": "General purpose",
    "gpuNum": 0,
    "hideHardwareSpecs": false,
    "memoryGiB": 384,
    "name": "ml.m5d.24xlarge",
    "vcpuNum": 96
   },
   {
    "_defaultOrder": 20,
    "_isFastLaunch": false,
    "category": "General purpose",
    "gpuNum": 0,
    "hideHardwareSpecs": true,
    "memoryGiB": 0,
    "name": "ml.geospatial.interactive",
    "supportedImageNames": [
     "sagemaker-geospatial-v1-0"
    ],
    "vcpuNum": 0
   },
   {
    "_defaultOrder": 21,
    "_isFastLaunch": true,
    "category": "Compute optimized",
    "gpuNum": 0,
    "hideHardwareSpecs": false,
    "memoryGiB": 4,
    "name": "ml.c5.large",
    "vcpuNum": 2
   },
   {
    "_defaultOrder": 22,
    "_isFastLaunch": false,
    "category": "Compute optimized",
    "gpuNum": 0,
    "hideHardwareSpecs": false,
    "memoryGiB": 8,
    "name": "ml.c5.xlarge",
    "vcpuNum": 4
   },
   {
    "_defaultOrder": 23,
    "_isFastLaunch": false,
    "category": "Compute optimized",
    "gpuNum": 0,
    "hideHardwareSpecs": false,
    "memoryGiB": 16,
    "name": "ml.c5.2xlarge",
    "vcpuNum": 8
   },
   {
    "_defaultOrder": 24,
    "_isFastLaunch": false,
    "category": "Compute optimized",
    "gpuNum": 0,
    "hideHardwareSpecs": false,
    "memoryGiB": 32,
    "name": "ml.c5.4xlarge",
    "vcpuNum": 16
   },
   {
    "_defaultOrder": 25,
    "_isFastLaunch": false,
    "category": "Compute optimized",
    "gpuNum": 0,
    "hideHardwareSpecs": false,
    "memoryGiB": 72,
    "name": "ml.c5.9xlarge",
    "vcpuNum": 36
   },
   {
    "_defaultOrder": 26,
    "_isFastLaunch": false,
    "category": "Compute optimized",
    "gpuNum": 0,
    "hideHardwareSpecs": false,
    "memoryGiB": 96,
    "name": "ml.c5.12xlarge",
    "vcpuNum": 48
   },
   {
    "_defaultOrder": 27,
    "_isFastLaunch": false,
    "category": "Compute optimized",
    "gpuNum": 0,
    "hideHardwareSpecs": false,
    "memoryGiB": 144,
    "name": "ml.c5.18xlarge",
    "vcpuNum": 72
   },
   {
    "_defaultOrder": 28,
    "_isFastLaunch": false,
    "category": "Compute optimized",
    "gpuNum": 0,
    "hideHardwareSpecs": false,
    "memoryGiB": 192,
    "name": "ml.c5.24xlarge",
    "vcpuNum": 96
   },
   {
    "_defaultOrder": 29,
    "_isFastLaunch": true,
    "category": "Accelerated computing",
    "gpuNum": 1,
    "hideHardwareSpecs": false,
    "memoryGiB": 16,
    "name": "ml.g4dn.xlarge",
    "vcpuNum": 4
   },
   {
    "_defaultOrder": 30,
    "_isFastLaunch": false,
    "category": "Accelerated computing",
    "gpuNum": 1,
    "hideHardwareSpecs": false,
    "memoryGiB": 32,
    "name": "ml.g4dn.2xlarge",
    "vcpuNum": 8
   },
   {
    "_defaultOrder": 31,
    "_isFastLaunch": false,
    "category": "Accelerated computing",
    "gpuNum": 1,
    "hideHardwareSpecs": false,
    "memoryGiB": 64,
    "name": "ml.g4dn.4xlarge",
    "vcpuNum": 16
   },
   {
    "_defaultOrder": 32,
    "_isFastLaunch": false,
    "category": "Accelerated computing",
    "gpuNum": 1,
    "hideHardwareSpecs": false,
    "memoryGiB": 128,
    "name": "ml.g4dn.8xlarge",
    "vcpuNum": 32
   },
   {
    "_defaultOrder": 33,
    "_isFastLaunch": false,
    "category": "Accelerated computing",
    "gpuNum": 4,
    "hideHardwareSpecs": false,
    "memoryGiB": 192,
    "name": "ml.g4dn.12xlarge",
    "vcpuNum": 48
   },
   {
    "_defaultOrder": 34,
    "_isFastLaunch": false,
    "category": "Accelerated computing",
    "gpuNum": 1,
    "hideHardwareSpecs": false,
    "memoryGiB": 256,
    "name": "ml.g4dn.16xlarge",
    "vcpuNum": 64
   },
   {
    "_defaultOrder": 35,
    "_isFastLaunch": false,
    "category": "Accelerated computing",
    "gpuNum": 1,
    "hideHardwareSpecs": false,
    "memoryGiB": 61,
    "name": "ml.p3.2xlarge",
    "vcpuNum": 8
   },
   {
    "_defaultOrder": 36,
    "_isFastLaunch": false,
    "category": "Accelerated computing",
    "gpuNum": 4,
    "hideHardwareSpecs": false,
    "memoryGiB": 244,
    "name": "ml.p3.8xlarge",
    "vcpuNum": 32
   },
   {
    "_defaultOrder": 37,
    "_isFastLaunch": false,
    "category": "Accelerated computing",
    "gpuNum": 8,
    "hideHardwareSpecs": false,
    "memoryGiB": 488,
    "name": "ml.p3.16xlarge",
    "vcpuNum": 64
   },
   {
    "_defaultOrder": 38,
    "_isFastLaunch": false,
    "category": "Accelerated computing",
    "gpuNum": 8,
    "hideHardwareSpecs": false,
    "memoryGiB": 768,
    "name": "ml.p3dn.24xlarge",
    "vcpuNum": 96
   },
   {
    "_defaultOrder": 39,
    "_isFastLaunch": false,
    "category": "Memory Optimized",
    "gpuNum": 0,
    "hideHardwareSpecs": false,
    "memoryGiB": 16,
    "name": "ml.r5.large",
    "vcpuNum": 2
   },
   {
    "_defaultOrder": 40,
    "_isFastLaunch": false,
    "category": "Memory Optimized",
    "gpuNum": 0,
    "hideHardwareSpecs": false,
    "memoryGiB": 32,
    "name": "ml.r5.xlarge",
    "vcpuNum": 4
   },
   {
    "_defaultOrder": 41,
    "_isFastLaunch": false,
    "category": "Memory Optimized",
    "gpuNum": 0,
    "hideHardwareSpecs": false,
    "memoryGiB": 64,
    "name": "ml.r5.2xlarge",
    "vcpuNum": 8
   },
   {
    "_defaultOrder": 42,
    "_isFastLaunch": false,
    "category": "Memory Optimized",
    "gpuNum": 0,
    "hideHardwareSpecs": false,
    "memoryGiB": 128,
    "name": "ml.r5.4xlarge",
    "vcpuNum": 16
   },
   {
    "_defaultOrder": 43,
    "_isFastLaunch": false,
    "category": "Memory Optimized",
    "gpuNum": 0,
    "hideHardwareSpecs": false,
    "memoryGiB": 256,
    "name": "ml.r5.8xlarge",
    "vcpuNum": 32
   },
   {
    "_defaultOrder": 44,
    "_isFastLaunch": false,
    "category": "Memory Optimized",
    "gpuNum": 0,
    "hideHardwareSpecs": false,
    "memoryGiB": 384,
    "name": "ml.r5.12xlarge",
    "vcpuNum": 48
   },
   {
    "_defaultOrder": 45,
    "_isFastLaunch": false,
    "category": "Memory Optimized",
    "gpuNum": 0,
    "hideHardwareSpecs": false,
    "memoryGiB": 512,
    "name": "ml.r5.16xlarge",
    "vcpuNum": 64
   },
   {
    "_defaultOrder": 46,
    "_isFastLaunch": false,
    "category": "Memory Optimized",
    "gpuNum": 0,
    "hideHardwareSpecs": false,
    "memoryGiB": 768,
    "name": "ml.r5.24xlarge",
    "vcpuNum": 96
   },
   {
    "_defaultOrder": 47,
    "_isFastLaunch": false,
    "category": "Accelerated computing",
    "gpuNum": 1,
    "hideHardwareSpecs": false,
    "memoryGiB": 16,
    "name": "ml.g5.xlarge",
    "vcpuNum": 4
   },
   {
    "_defaultOrder": 48,
    "_isFastLaunch": false,
    "category": "Accelerated computing",
    "gpuNum": 1,
    "hideHardwareSpecs": false,
    "memoryGiB": 32,
    "name": "ml.g5.2xlarge",
    "vcpuNum": 8
   },
   {
    "_defaultOrder": 49,
    "_isFastLaunch": false,
    "category": "Accelerated computing",
    "gpuNum": 1,
    "hideHardwareSpecs": false,
    "memoryGiB": 64,
    "name": "ml.g5.4xlarge",
    "vcpuNum": 16
   },
   {
    "_defaultOrder": 50,
    "_isFastLaunch": false,
    "category": "Accelerated computing",
    "gpuNum": 1,
    "hideHardwareSpecs": false,
    "memoryGiB": 128,
    "name": "ml.g5.8xlarge",
    "vcpuNum": 32
   },
   {
    "_defaultOrder": 51,
    "_isFastLaunch": false,
    "category": "Accelerated computing",
    "gpuNum": 1,
    "hideHardwareSpecs": false,
    "memoryGiB": 256,
    "name": "ml.g5.16xlarge",
    "vcpuNum": 64
   },
   {
    "_defaultOrder": 52,
    "_isFastLaunch": false,
    "category": "Accelerated computing",
    "gpuNum": 4,
    "hideHardwareSpecs": false,
    "memoryGiB": 192,
    "name": "ml.g5.12xlarge",
    "vcpuNum": 48
   },
   {
    "_defaultOrder": 53,
    "_isFastLaunch": false,
    "category": "Accelerated computing",
    "gpuNum": 4,
    "hideHardwareSpecs": false,
    "memoryGiB": 384,
    "name": "ml.g5.24xlarge",
    "vcpuNum": 96
   },
   {
    "_defaultOrder": 54,
    "_isFastLaunch": false,
    "category": "Accelerated computing",
    "gpuNum": 8,
    "hideHardwareSpecs": false,
    "memoryGiB": 768,
    "name": "ml.g5.48xlarge",
    "vcpuNum": 192
   },
   {
    "_defaultOrder": 55,
    "_isFastLaunch": false,
    "category": "Accelerated computing",
    "gpuNum": 8,
    "hideHardwareSpecs": false,
    "memoryGiB": 1152,
    "name": "ml.p4d.24xlarge",
    "vcpuNum": 96
   },
   {
    "_defaultOrder": 56,
    "_isFastLaunch": false,
    "category": "Accelerated computing",
    "gpuNum": 8,
    "hideHardwareSpecs": false,
    "memoryGiB": 1152,
    "name": "ml.p4de.24xlarge",
    "vcpuNum": 96
   },
   {
    "_defaultOrder": 57,
    "_isFastLaunch": false,
    "category": "Accelerated computing",
    "gpuNum": 0,
    "hideHardwareSpecs": false,
    "memoryGiB": 32,
    "name": "ml.trn1.2xlarge",
    "vcpuNum": 8
   },
   {
    "_defaultOrder": 58,
    "_isFastLaunch": false,
    "category": "Accelerated computing",
    "gpuNum": 0,
    "hideHardwareSpecs": false,
    "memoryGiB": 512,
    "name": "ml.trn1.32xlarge",
    "vcpuNum": 128
   },
   {
    "_defaultOrder": 59,
    "_isFastLaunch": false,
    "category": "Accelerated computing",
    "gpuNum": 0,
    "hideHardwareSpecs": false,
    "memoryGiB": 512,
    "name": "ml.trn1n.32xlarge",
    "vcpuNum": 128
   }
  ],
  "environment": {
   "kernel": "conda-root-py",
   "name": "workbench-notebooks.m111",
   "type": "gcloud",
   "uri": "gcr.io/deeplearning-platform-release/workbench-notebooks:m111"
  },
  "kernelspec": {
   "display_name": "Python 3 (Data Science 2.0)",
   "language": "python",
   "name": "python3__SAGEMAKER_INTERNAL__arn:aws:sagemaker:us-east-1:081325390199:image/sagemaker-data-science-38"
  },
  "language_info": {
   "codemirror_mode": {
    "name": "ipython",
    "version": 3
   },
   "file_extension": ".py",
   "mimetype": "text/x-python",
   "name": "python",
   "nbconvert_exporter": "python",
   "pygments_lexer": "ipython3",
   "version": "3.8.18"
  }
 },
 "nbformat": 4,
 "nbformat_minor": 4
}
