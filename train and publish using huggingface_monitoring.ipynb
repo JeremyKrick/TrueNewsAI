{
 "cells": [
  {
   "cell_type": "markdown",
   "metadata": {},
   "source": [
    "Use ml.m5.4xlarge and DataScience 2.0 Python 3"
   ]
  },
  {
   "cell_type": "code",
   "execution_count": 1,
   "metadata": {
    "tags": []
   },
   "outputs": [],
   "source": [
    "# !pip install -q transformers>=4.25.1\n",
    "# !pip install -q accelerate>=0.20.3\n",
    "# !pip install -q datasets>=2.11\n",
    "# !pip install -q evaluate>=0.3.0\n",
    "# !pip install -q peft >=0.4.0\n",
    "# !pip install torch==1.13.1\n",
    "# !pip install wordcloud==1.9.3\n",
    "# !pip install contractions"
   ]
  },
  {
   "cell_type": "code",
   "execution_count": 2,
   "metadata": {
    "tags": []
   },
   "outputs": [
    {
     "name": "stderr",
     "output_type": "stream",
     "text": [
      "2024-06-22 22:17:27.542961: I tensorflow/core/platform/cpu_feature_guard.cc:182] This TensorFlow binary is optimized to use available CPU instructions in performance-critical operations.\n",
      "To enable the following instructions: SSE4.1 SSE4.2 AVX AVX2 AVX512F FMA, in other operations, rebuild TensorFlow with the appropriate compiler flags.\n"
     ]
    },
    {
     "name": "stdout",
     "output_type": "stream",
     "text": [
      "sagemaker.config INFO - Not applying SDK defaults from location: /etc/xdg/sagemaker/config.yaml\n",
      "sagemaker.config INFO - Not applying SDK defaults from location: /home/sagemaker-user/.config/sagemaker/config.yaml\n"
     ]
    }
   ],
   "source": [
    "import pandas as pd\n",
    "import numpy as np\n",
    "import requests\n",
    "import re\n",
    "import os\n",
    "import sys\n",
    "import gzip\n",
    "import json\n",
    "import random\n",
    "from tqdm import trange\n",
    "import torch # PyTorch is a powerful deep learning library.\n",
    "from matplotlib import pyplot as plt\n",
    "from wordcloud import WordCloud\n",
    "from torch.utils.data import Dataset, TensorDataset, DataLoader\n",
    "from torch.utils.data import RandomSampler, SequentialSampler\n",
    "from tabulate import tabulate\n",
    "from sklearn.model_selection import train_test_split # for splitting data into train and test sets.\n",
    "from sklearn.feature_extraction.text import TfidfVectorizer # for converting text data into vectors.\n",
    "from sklearn.svm import SVC # Support Vector Machine Classifier model.\n",
    "from sklearn.metrics import accuracy_score, precision_score, recall_score, f1_score, confusion_matrix, roc_auc_score \n",
    "# above line imports different metrics to evaluate the model performance.\n",
    "from sklearn.naive_bayes import MultinomialNB # Multinomial Naive Bayes model.\n",
    "from sklearn.ensemble import RandomForestClassifier # Random Forest Classifier model.\n",
    "from sklearn.metrics import classification_report # for generating a comprehensive report of model performance.\n",
    "from datasets import load_dataset \n",
    "# This function allows loading dataset from Huggingface's datasets library. \n",
    "from transformers import AutoModelForSeq2SeqLM, AutoTokenizer, TrainingArguments, Trainer, BertForSequenceClassification\n",
    "\n",
    "import pandas as pd\n",
    "import numpy as np\n",
    "import re\n",
    "import json\n",
    "import torch\n",
    "from matplotlib import pyplot as plt\n",
    "from wordcloud import WordCloud\n",
    "from torch.utils.data import DataLoader, RandomSampler, SequentialSampler\n",
    "from sklearn.model_selection import train_test_split\n",
    "from datasets import load_dataset, Dataset\n",
    "from transformers import AutoTokenizer, TrainingArguments, Trainer, AutoModelForSequenceClassification\n",
    "import sagemaker\n",
    "from sagemaker.huggingface import HuggingFace\n",
    "import boto3"
   ]
  },
  {
   "cell_type": "markdown",
   "metadata": {
    "tags": []
   },
   "source": [
    "# [Load the dataset](#Methodology)\n",
    "\n",
    "In this step we will load the dataset into a pandas DataFrame, and explore it to understand its structure, format, and attributes in order to identify the specific column(s) or attribute(s) that contain the textual data that we will be will be working with. This dataset will be loaded from huggingface"
   ]
  },
  {
   "cell_type": "code",
   "execution_count": 3,
   "metadata": {
    "tags": []
   },
   "outputs": [
    {
     "name": "stdout",
     "output_type": "stream",
     "text": [
      "                                               title  \\\n",
      "0   Donald Trump Sends Out Embarrassing New Year’...   \n",
      "1   Drunk Bragging Trump Staffer Started Russian ...   \n",
      "2   Sheriff David Clarke Becomes An Internet Joke...   \n",
      "3   Trump Is So Obsessed He Even Has Obama’s Name...   \n",
      "4   Pope Francis Just Called Out Donald Trump Dur...   \n",
      "\n",
      "                                                text subject  \\\n",
      "0  Donald Trump just couldn t wish all Americans ...    News   \n",
      "1  House Intelligence Committee Chairman Devin Nu...    News   \n",
      "2  On Friday, it was revealed that former Milwauk...    News   \n",
      "3  On Christmas day, Donald Trump announced that ...    News   \n",
      "4  Pope Francis used his annual Christmas Day mes...    News   \n",
      "\n",
      "                date  label  \n",
      "0  December 31, 2017      0  \n",
      "1  December 31, 2017      0  \n",
      "2  December 30, 2017      0  \n",
      "3  December 29, 2017      0  \n",
      "4  December 25, 2017      0  \n"
     ]
    }
   ],
   "source": [
    "import pandas as pd\n",
    "\n",
    "# Read the CSV files\n",
    "fake_news_articles = pd.read_csv('data/Fake.csv')\n",
    "true_news_articles = pd.read_csv('data/True.csv')\n",
    "\n",
    "# Assign labels: 0 for fake, 1 for true\n",
    "fake_news_articles['label'] = 0\n",
    "true_news_articles['label'] = 1\n",
    "\n",
    "# Combine the two DataFrames into one\n",
    "frames = [fake_news_articles, true_news_articles]\n",
    "news_df = pd.concat(frames)\n",
    "\n",
    "# Display the first few rows of the combined DataFrame\n",
    "print(news_df.head())"
   ]
  },
  {
   "cell_type": "markdown",
   "metadata": {},
   "source": [
    "### News dataset"
   ]
  },
  {
   "cell_type": "code",
   "execution_count": 4,
   "metadata": {
    "tags": []
   },
   "outputs": [
    {
     "name": "stdout",
     "output_type": "stream",
     "text": [
      "                                               title  \\\n",
      "0   Donald Trump Sends Out Embarrassing New Year’...   \n",
      "1   Drunk Bragging Trump Staffer Started Russian ...   \n",
      "2   Sheriff David Clarke Becomes An Internet Joke...   \n",
      "3   Trump Is So Obsessed He Even Has Obama’s Name...   \n",
      "4   Pope Francis Just Called Out Donald Trump Dur...   \n",
      "\n",
      "                                                text subject  \\\n",
      "0  Donald Trump just couldn t wish all Americans ...    News   \n",
      "1  House Intelligence Committee Chairman Devin Nu...    News   \n",
      "2  On Friday, it was revealed that former Milwauk...    News   \n",
      "3  On Christmas day, Donald Trump announced that ...    News   \n",
      "4  Pope Francis used his annual Christmas Day mes...    News   \n",
      "\n",
      "                date  label  \n",
      "0  December 31, 2017      0  \n",
      "1  December 31, 2017      0  \n",
      "2  December 30, 2017      0  \n",
      "3  December 29, 2017      0  \n",
      "4  December 25, 2017      0   \n",
      "\n",
      "\n",
      "Unique labels [0 1]\n"
     ]
    }
   ],
   "source": [
    "print(news_df.head(),\"\\n\\n\")\n",
    "print(\"Unique labels\",news_df.label.unique())"
   ]
  },
  {
   "cell_type": "markdown",
   "metadata": {},
   "source": [
    "**Result** \n",
    "\n",
    "- The train and test datasets target `labels` correspond to `0 - Negative` and `1 - Positive` and a `text` field."
   ]
  },
  {
   "cell_type": "code",
   "execution_count": 5,
   "metadata": {
    "tags": []
   },
   "outputs": [
    {
     "data": {
      "image/png": "[encoded data removed]",
      "text/plain": [
       "<Figure size 640x480 with 1 Axes>"
      ]
     },
     "metadata": {},
     "output_type": "display_data"
    }
   ],
   "source": [
    "news_df['label'].value_counts().plot(kind='bar')\n",
    "plt.title('Train - Distribution of Sentiment label')\n",
    "plt.ylabel('Frequency')\n",
    "plt.show()"
   ]
  },
  {
   "cell_type": "markdown",
   "metadata": {},
   "source": [
    "**Result**\n",
    "\n",
    "- The IMDB dataset has a even distribution of positive and negative reviews"
   ]
  },
  {
   "cell_type": "markdown",
   "metadata": {},
   "source": [
    "### Print a random row above 95% percentile"
   ]
  },
  {
   "cell_type": "code",
   "execution_count": 6,
   "metadata": {
    "tags": []
   },
   "outputs": [
    {
     "name": "stdout",
     "output_type": "stream",
     "text": [
      "{\n",
      "    \"title\": \"VALERIE JARRETT CLAIMS OBAMA\\u2019S Presidency Was \\u201cScandal-Free\\u201d\\u2026Here\\u2019s A LIST Of Obama\\u2019s Top Scandals That Prove She\\u2019s Lying [VIDEO]\",\n",
      "    \"text\": \" The president prides himself on the fact that his administration hasn t had a scandal and he hasn t done something to embarrass himself,  Jarrett said in an interview broadcast on CNN Sunday.The aide, also a close friend of Obama and his wife, Michelle, credited the first couple with being good people and getting good results. That s because that s who he is   that s who they are   and I think that s what really resonates with the American people,  Jarrett said.Critics of the Obama administration said Jarrett was trying to rewrite history.  NYPThe great  stimulus  heist: Obama seems to think nobody will remember he grabbed almost a trillion dollars for  stimulus  spending, created virtually zero private-sector jobs with it, allowed a great deal of the money to vanish into thin air, and spent the rest of his presidency complaining that he needed hundreds of billions more to repair roads and bridges.Vast sums of taxpayer money were wasted on foolish projects that came close to the Keynesian economic satire of hiring some people to dig holes, and others to fill them in. Obama added insult to injury by appointing Vice President Joe Biden as the  sheriff  who would supposedly find all that missing stimulus loot.Operation Fast and Furious: Obama partisans seem to think any given example of abuse or ineptitude by their man stopped being a  scandal  the moment it seemed clear he wouldn t be impeached over it. Operation Fast and Furious, the Obama administration s insane program to use American gun dealers and straw purchasers to arm Mexican drug lords, is a scandal with a huge body count, prominently including Border Patrol Agent Brian Terry and Immigration and Customs Enforcement Agent Jamie Zapata, plus hundreds of Mexican citizens. Agent Terry s family certainly thinks it qualifies as a scandal.Sheriff Paul Babeu implicates Eric Holder and the Obama Justice Department as accomplices in the crimes involving weapons used in the  Fast and Furious  scandal:It is difficult to imagine any Republican administration surviving anything remotely close to Fast and Furious. The media would have dogged a Republican president without respite, especially when it became clear his Attorney General was putting political spin ahead of accountability and the safety of the American people.Remember, AG Eric Holder escaped perjury charges by claiming he didn t know what his own subordinates were doing   a pioneering, but sadly not unique, example of an Obama official using his or her incompetence as a defense.Eric Holder held in contempt of Congress: This was a result of Operation Fast and Furious, but it merits distinction as a separate scandal in its own right. Holder was the first sitting member of a president s cabinet in the history of the United States to be held in contempt of Congress.ObamaCare: Everything about ObamaCare is a scandal, from the President s incessant lies about keeping your old plan if you liked it, to Rep. Nancy Pelosi s  we need to pass it to find out what s in it  dereliction of Congressional duty.ObamaCare is a scam, pure and simple   sold on false pretenses by people who knew it wasn t going to work the way they promised. It doesn t feel right to dismiss it as a  failed  scheme when so much of the failure was intentional. The bill was so sloppily crafted that Democrats were basically signing blank sheets of paper when they rushed it through Congress in a foul-smelling cloud of back-room deals. ObamaCare s designers precipitated a constitutional crisis by forgetting they left in a provision to cut subsidies for states that didn t set up health-care exchanges   a provision that would have killed the entire program stone-dead two years ago, if it had been enforced as written.The Supreme Court rewrote ObamaCare on the fly twice to keep it alive, which is a scandal in and of itself. President Obama delayed and rewrote the law so often it was impossible to keep track of the changes, cutting Congress out of the loop completely. (Actually, someone did keep careful track of them, and the tally was up to 70 distinct changes by January 2016.)That made some of Obama s rewritten mandates and deadlines blatantly illegal   but then, the Affordable Care Act isn t really a  law  in the sense American government understood the term. In practice it became something entirely new, an enabling act that gave the executive unlimited power to do whatever it thought necessary to keep the system running. If subverting the American system of government isn t a scandal, what is?Spying on journalists: Establishment media came about as close to falling out of love with Barack Obama as ever when his administration was caught spying on journalists.The IRS scandal: The selective targeting of conservative groups by a politicized Internal Revenue Service was a scandal grenade Democrats and their media pals somehow managed to smother, even though the story began with the IRS admitting wrongdoing.Founder of non-partisan True The Vote group Catherine Engelbrecht gives gut-wrenching testimony to Congress about being being preyed upon by the IRS and other government agencies.https://youtu.be/db21AQu30XwDemocrats suffocated the scandal by acting like circus clowns during congressional hearings, but at no point were the actual facts of the case truly obscured: yes, pro-life and Tea Party groups were deliberately targeted for extra scrutiny, their tax exemption applications outrageously delayed until after the 2012 election without actually being refused. If anything remotely comparable had been done to, say, environmentalist and minority activist groups by the IRS under a Republican administration, the results would have been apocalyptic.The House voted to hold former IRS official Lois Lerner in contempt of Congress and to instruct the Justice Department to probe her for criminal charges.Benghazi: This is the clearest example of Obama and his supporters thinking all of his pre-2012 scandals ceased to exist the moment he won re-election. Benghazi has been investigated extensively, and argued about passionately, since the night of September 11, 2012. Nothing can change the absolute fact that the Obama administration s story for the first few weeks after the attack was false, and they knew it was false. They spun a phony story to buy themselves a little time during a presidential election campaign, and it worked.Watch Hillary lie and blame the cause of the Benghazi attack on our US Consulate on  an awful youtube video : Iran nuclear deal and ransom payment: Everything about Obama s dealings with Iran has been scandalous, beginning with his silence while the Green Revolution was brutally put down by the mullahs in 2009. The Iran nuclear deal was pushed with lies and media manipulation. The infamous pallet of cash that wasn t a ransom has become symbolic of Obama s mendacity and penchant for breaking the rules, when he thinks following them is too much trouble.Watch Obama try to explain his way out of makingBowe Bergdahl: Bergdahl s ultimate fate rests in the hands of a military court (unless Obama pardons him) but no verdict can erase the scandalous way this administration conducted the prisoner swap that freed him from the Taliban and its allies. Many lies were told, the law was flouted, a deal of questionable wisdom was struck with his captors, and outraged Americans demanded recognition for the soldiers who died searching for Bergdahl after he abandoned his post.Polluting the Colorado river: The Environmental Protection Agency managed to turn the Colorado River orange under this greenest of green Presidents. Of course there was a cover-up. Would you expect anything less from this  transparent  administration?\",\n",
      "    \"subject\": \"left-news\",\n",
      "    \"date\": \"Jan 3, 2017\",\n",
      "    \"label\": 0\n",
      "}\n"
     ]
    }
   ],
   "source": [
    "# Get a random row from the dataframe\n",
    "# Get the row above 95% percentile of the column news_df[\"Phrase\"]\n",
    "long_row = news_df[news_df[\"text\"].str.len() > news_df[\"text\"].str.len().quantile(0.98)]\n",
    "\n",
    "random_row = long_row.sample(n=1)\n",
    "\n",
    "# Convert the row to JSON format\n",
    "long_row_json = random_row.to_json(orient='records')\n",
    "\n",
    "# Parse the JSON string to a python dict\n",
    "random_row_dict = json.loads(long_row_json)\n",
    "\n",
    "# Print the dict in pretty format\n",
    "print(json.dumps(random_row_dict[0], indent=4))\n",
    "Random_ID_value = random_row.index[0]"
   ]
  },
  {
   "cell_type": "code",
   "execution_count": 7,
   "metadata": {
    "tags": []
   },
   "outputs": [
    {
     "name": "stdout",
     "output_type": "stream",
     "text": [
      "19365\n"
     ]
    }
   ],
   "source": [
    "print(Random_ID_value)"
   ]
  },
  {
   "cell_type": "markdown",
   "metadata": {},
   "source": [
    "**result**\n",
    "- On printing random row we see that the text fields are not clean, we will perform data to clean up punctuations, stop words, ASCII characters, dates etc. "
   ]
  },
  {
   "cell_type": "markdown",
   "metadata": {},
   "source": [
    "### Text Length Analysis\n",
    "\n",
    "Calculate the length of each review and analyze the distribution of lengths to garner insights into the average length of reviews, the trange of lengths, etc."
   ]
  },
  {
   "cell_type": "code",
   "execution_count": 8,
   "metadata": {
    "tags": []
   },
   "outputs": [
    {
     "name": "stdout",
     "output_type": "stream",
     "text": [
      "count    44898.000000\n",
      "mean       405.282284\n",
      "std        351.265595\n",
      "min          0.000000\n",
      "25%        203.000000\n",
      "50%        362.000000\n",
      "75%        513.000000\n",
      "max       8135.000000\n",
      "Name: text, dtype: float64\n"
     ]
    },
    {
     "data": {
      "image/png": "[encoded data removed]",
      "text/plain": [
       "<Figure size 640x480 with 1 Axes>"
      ]
     },
     "metadata": {},
     "output_type": "display_data"
    }
   ],
   "source": [
    "# Import necessary libraries\n",
    "import matplotlib.pyplot as plt\n",
    "\n",
    "# Define a function to calculate word count\n",
    "def word_count(text):\n",
    "    return len(text.split())\n",
    "\n",
    "# Print out a summary of the word count statistics\n",
    "print(news_df['text'].apply(word_count).describe())\n",
    "\n",
    "# Plot a histogram of the word counts\n",
    "plt.hist(news_df['text'].apply(word_count), bins=50)\n",
    "plt.title('Distribution of Word Counts')\n",
    "plt.xlabel('Word Count')\n",
    "plt.ylabel('Frequency')\n",
    "plt.show()"
   ]
  },
  {
   "cell_type": "markdown",
   "metadata": {},
   "source": [
    "**Result**\n",
    "- The distribution shows the word count tranges from 4 words to 2,278 with an average of 228 words and a standard deviation of 168."
   ]
  },
  {
   "cell_type": "markdown",
   "metadata": {},
   "source": [
    "# [Apply Word2vec for Semantec Analsyis, Key Word and Topic analsysis](#Methodology)\n",
    "\n",
    "We will use word2vec for semantic analysis to perform keyword extraction and gain insights into the main topics and themes discussed in the reviews.\n",
    "\n",
    "Word2vec represents words as vectors in a high-dimensional space, capturing their semantic relationships. This allows us to identify key words that are closely related to the main topics and themes in the reviews. This will help us extract more meaningful insights from the text data and overcome the limitations of using simple frequency-based methods like TF-IDF.\n"
   ]
  },
  {
   "cell_type": "code",
   "execution_count": 9,
   "metadata": {},
   "outputs": [
    {
     "name": "stdout",
     "output_type": "stream",
     "text": [
      "Requirement already satisfied: gensim in /opt/conda/lib/python3.10/site-packages (4.3.2)\n",
      "Requirement already satisfied: numpy>=1.18.5 in /opt/conda/lib/python3.10/site-packages (from gensim) (1.26.4)\n",
      "Requirement already satisfied: scipy>=1.7.0 in /opt/conda/lib/python3.10/site-packages (from gensim) (1.11.4)\n",
      "Requirement already satisfied: smart-open>=1.8.1 in /opt/conda/lib/python3.10/site-packages (from gensim) (5.2.1)\n"
     ]
    }
   ],
   "source": [
    "!pip install gensim"
   ]
  },
  {
   "cell_type": "code",
   "execution_count": 10,
   "metadata": {
    "tags": []
   },
   "outputs": [],
   "source": [
    "# Visualizing the Word cloud using Word2vec\n",
    "from gensim.models import Word2Vec\n",
    "\n",
    "# Fit and transform the reviews\n",
    "reviews = news_df['text'].tolist()\n",
    "reviews_tokenized = [review.split() for review in reviews]\n",
    "\n",
    "# Train word2vec model\n",
    "model = Word2Vec(sentences=reviews_tokenized, vector_size=100, window=5, min_count=1)\n",
    "\n",
    "# Get word frequencies from the trained model\n",
    "word_freq = {word: model.wv.get_vecattr(word, \"count\") for word in model.wv.index_to_key}\n",
    "\n",
    "# Create a DataFrame for easy sorting and indexing\n",
    "word_freq_df = pd.DataFrame.from_dict(word_freq, orient='index', columns=['frequency'])\n",
    "\n",
    "# Sort by frequency\n",
    "word_freq_df_sorted = word_freq_df.sort_values(by='frequency', ascending=False)\n",
    "\n",
    "# Generate word cloud\n",
    "wordcloud = WordCloud(width=800, height=400).generate_from_frequencies(word_freq_df_sorted['frequency'])"
   ]
  },
  {
   "cell_type": "markdown",
   "metadata": {},
   "source": [
    "**result**\n",
    "\n",
    "- In our first pass at keyword analsisys, we find that the most common word were stop words, specifically `the` is the most common word followed by `and` and `of`. We will review this results after cleaning up the datasets"
   ]
  },
  {
   "cell_type": "markdown",
   "metadata": {
    "tags": []
   },
   "source": [
    "# [Cleaning the Dataset]((#Methodology))\n",
    "\n",
    "In this section, we will perform text cleaning that will involve several processes. The first process is fixing contractions. Contractions are words or combinations of words that are shortened by dropping letters and replacing them with an apostrophe. For example, \"don't\" is a contraction of \"do not\". Fixing these contractions will ensure that our text data is consistent and easier to analyze. \n",
    "\n",
    "The next process is removing non-ASCII characters. ASCII characters are the standard characters in the English language, including all letters, numbers, and common symbols. Non-ASCII characters include special symbols and characters from other languages. Removing these will ensure that our text data only contains standard English characters.\n",
    "\n",
    "The third process is converting all text to lowercase. This is important because in text analysis, 'Word' and 'word' are considered as two different words due to the difference in case. By converting everything to lowercase, we can avoid this issue and make our analysis more accurate.\n",
    "\n",
    "The final process is removing punctuations. Punctuations can cause issues in text analysis as they can create different tokens or words. For example, 'word,' and 'word' would be considered as two different words due to the comma. By removing punctuations, we can avoid this issue and make our text data cleaner and easier to analyze."
   ]
  },
  {
   "cell_type": "markdown",
   "metadata": {
    "tags": []
   },
   "source": [
    "### Contractions\n",
    "\n",
    "We used the [contractions](https://github.com/kootenpv/contractions) package to resolve contractions and  (and slang), `examples:you're -> you are`\n",
    "\n"
   ]
  },
  {
   "cell_type": "code",
   "execution_count": 11,
   "metadata": {},
   "outputs": [
    {
     "data": {
      "text/plain": [
       "' The president prides himself on the fact that his administration hasn t had a scandal and he hasn t done something to embarrass himself,  Jarrett said in an interview broadcast on CNN Sunday.The aide'"
      ]
     },
     "execution_count": 11,
     "metadata": {},
     "output_type": "execute_result"
    }
   ],
   "source": [
    "import contractions\n",
    "news_df[\"text_clean\"] = news_df['text'].apply(lambda x: contractions.fix(x))\n",
    "news_df.iloc[Random_ID_value]['text_clean'][:200]"
   ]
  },
  {
   "cell_type": "markdown",
   "metadata": {},
   "source": [
    "### Remove URLs\n",
    "Remove URL from text"
   ]
  },
  {
   "cell_type": "code",
   "execution_count": 12,
   "metadata": {},
   "outputs": [
    {
     "data": {
      "text/plain": [
       "' The president prides himself on the fact that his administration hasn t had a scandal and he hasn t done something to embarrass himself,  Jarrett said in an interview broadcast on CNN Sunday.The aide'"
      ]
     },
     "execution_count": 12,
     "metadata": {},
     "output_type": "execute_result"
    }
   ],
   "source": [
    "def remove_URL(text):\n",
    "    \"\"\"\n",
    "        Remove URLs from a sample string\n",
    "    \"\"\"\n",
    "    return re.sub(r\"https?://\\S+|www\\.\\S+\", \"\", text)\n",
    "news_df[\"text_clean\"] = news_df[\"text_clean\"].apply(lambda x: remove_URL(x))\n",
    "news_df.iloc[Random_ID_value]['text_clean'][:200]"
   ]
  },
  {
   "cell_type": "markdown",
   "metadata": {},
   "source": [
    "### Remove Non-ASCI Characters"
   ]
  },
  {
   "cell_type": "code",
   "execution_count": 13,
   "metadata": {},
   "outputs": [
    {
     "data": {
      "text/plain": [
       "' The president prides himself on the fact that his administration hasn t had a scandal and he hasn t done something to embarrass himself,  Jarrett said in an interview broadcast on CNN Sunday.The aide'"
      ]
     },
     "execution_count": 13,
     "metadata": {},
     "output_type": "execute_result"
    }
   ],
   "source": [
    "def remove_non_ascii(text):\n",
    "    \"\"\"\n",
    "        Remove non-ASCII characters \n",
    "    \"\"\"\n",
    "    return re.sub(r'[^\\x00-\\x7f]',r'', text) # or ''.join([x for x in text if x in string.printable]) \n",
    "\n",
    "news_df[\"text_clean\"] = news_df[\"text_clean\"].apply(lambda x: remove_non_ascii(x))\n",
    "news_df.iloc[Random_ID_value]['text_clean'][:200]"
   ]
  },
  {
   "cell_type": "markdown",
   "metadata": {},
   "source": [
    "### Make characters lowercase"
   ]
  },
  {
   "cell_type": "code",
   "execution_count": 14,
   "metadata": {},
   "outputs": [
    {
     "data": {
      "text/plain": [
       "' the president prides himself on the fact that his administration hasn t had a scandal and he hasn t done something to embarrass himself,  jarrett said in an interview broadcast on cnn sunday.the aide'"
      ]
     },
     "execution_count": 14,
     "metadata": {},
     "output_type": "execute_result"
    }
   ],
   "source": [
    "news_df[\"text_clean\"] = news_df[\"text_clean\"].apply(lambda x: x.lower())\n",
    "news_df.iloc[Random_ID_value]['text_clean'][:200]"
   ]
  },
  {
   "cell_type": "markdown",
   "metadata": {},
   "source": [
    "### Remove html"
   ]
  },
  {
   "cell_type": "code",
   "execution_count": 15,
   "metadata": {},
   "outputs": [
    {
     "data": {
      "text/plain": [
       "' the president prides himself on the fact that his administration hasn t had a scandal and he hasn t done something to embarrass himself,  jarrett said in an interview broadcast on cnn sunday.the aide'"
      ]
     },
     "execution_count": 15,
     "metadata": {},
     "output_type": "execute_result"
    }
   ],
   "source": [
    "def remove_html(text):\n",
    "    \"\"\"\n",
    "        Remove the html in sample text\n",
    "    \"\"\"\n",
    "    html = re.compile(r\"<.*?>|&([a-z0-9]+|#[0-9]{1,6}|#x[0-9a-f]{1,6});\")\n",
    "    return re.sub(html, \"\", text)\n",
    "news_df[\"text_clean\"] = news_df[\"text_clean\"].apply(lambda x: remove_html(x))\n",
    "news_df.iloc[Random_ID_value]['text_clean'][:200]"
   ]
  },
  {
   "cell_type": "markdown",
   "metadata": {},
   "source": [
    "### Remove symbols"
   ]
  },
  {
   "cell_type": "code",
   "execution_count": 16,
   "metadata": {},
   "outputs": [
    {
     "data": {
      "text/plain": [
       "' the president prides himself on the fact that his administration hasn t had a scandal and he hasn t done something to embarrass himself,  jarrett said in an interview broadcast on cnn sunday.the aide'"
      ]
     },
     "execution_count": 16,
     "metadata": {},
     "output_type": "execute_result"
    }
   ],
   "source": [
    "def remove_symbols(text):\n",
    "    \"\"\"\n",
    "        Remove special special characters, including symbols, emojis, and other graphic characters\n",
    "    \"\"\"\n",
    "    emoji_pattern = re.compile(\n",
    "        '['\n",
    "        u'\\U0001F600-\\U0001F64F'  # emoticons\n",
    "        u'\\U0001F300-\\U0001F5FF'  # symbols & pictographs\n",
    "        u'\\U0001F680-\\U0001F6FF'  # transport & map symbols\n",
    "        u'\\U0001F1E0-\\U0001F1FF'  # flags (iOS)\n",
    "        u'\\U00002702-\\U000027B0'\n",
    "        u'\\U000024C2-\\U0001F251'\n",
    "        ']+',\n",
    "        flags=re.UNICODE)\n",
    "    return emoji_pattern.sub(r'', text)\n",
    "\n",
    "news_df[\"text_clean\"] = news_df[\"text_clean\"].apply(lambda x: remove_symbols(x))\n",
    "news_df.iloc[Random_ID_value]['text_clean'][:200]"
   ]
  },
  {
   "cell_type": "markdown",
   "metadata": {},
   "source": [
    "### Remove Special characters"
   ]
  },
  {
   "cell_type": "code",
   "execution_count": 17,
   "metadata": {},
   "outputs": [
    {
     "data": {
      "text/plain": [
       "' the president prides himself on the fact that his administration hasn t had a scandal and he hasn t done something to embarrass himself,  jarrett said in an interview broadcast on cnn sunday.the aide'"
      ]
     },
     "execution_count": 17,
     "metadata": {},
     "output_type": "execute_result"
    }
   ],
   "source": [
    "def remove_special_chars(text):\n",
    "    \"\"\"\n",
    "        Remove special characters (\\n, \\, ', \"\",) in sample text\n",
    "    \"\"\"\n",
    "    # Replace \\n, \\ and ' with empty string\n",
    "    text = text.replace('\\n', ' ').replace('\\\\', ' ').replace('\\'', ' ').replace('\\\"', ' ').replace('-', ' ').replace('(', ' ').replace(')', ' ')\n",
    "    return text\n",
    "\n",
    "# Assuming news_df is a DataFrame with a column \"text_clean\" containing text data\n",
    "news_df[\"text_clean\"] = news_df[\"text_clean\"].apply(lambda x: remove_special_chars(x))\n",
    "news_df.iloc[Random_ID_value]['text_clean'][:200]"
   ]
  },
  {
   "cell_type": "markdown",
   "metadata": {},
   "source": [
    "### Remove punctuations"
   ]
  },
  {
   "cell_type": "code",
   "execution_count": 18,
   "metadata": {},
   "outputs": [
    {
     "data": {
      "text/plain": [
       "' the president prides himself on the fact that his administration hasn t had a scandal and he hasn t done something to embarrass himself  jarrett said in an interview broadcast on cnn sundaythe aide a'"
      ]
     },
     "execution_count": 18,
     "metadata": {},
     "output_type": "execute_result"
    }
   ],
   "source": [
    "import re\n",
    "def remove_punct(text):\n",
    "\n",
    "    # Replace punctuation with space, except for decimal points in numerical values\n",
    "    return re.sub(r'(?:(?<!\\d)[.,;()]|[.,;()](?!\\d))', '', text)\n",
    "\n",
    "# Apply the function to the dataframe\n",
    "news_df[\"text_clean\"] = news_df[\"text_clean\"].apply(lambda x: remove_punct(x))\n",
    "news_df.iloc[Random_ID_value]['text_clean'][:200]"
   ]
  },
  {
   "cell_type": "markdown",
   "metadata": {},
   "source": [
    "**result**\n",
    "- In removing punctuations, we needed to be carefull not to remove punctuations in between numbers in order to preseve the information in text, doing so would have caused values such as `12.4 million` -> `124 million` which would have changed the meaning of the text"
   ]
  },
  {
   "cell_type": "markdown",
   "metadata": {
    "tags": []
   },
   "source": [
    "# [Text Preprocessing](#Methodology)\n",
    "\n",
    "In this section, we will perform text preprocessing that will involve several steps. First, we will carry out tokenization on the textual data. This process involves splitting the text into individual tokens, which could be words, punctuation, or other meaningful units. We will use an appropriate tokenization technique or library to achieve this. \n",
    "\n",
    "Next, we will remove stop words from the tokenized text. Stop words are common words such as \"the,\" \"is,\" \"and\" that do not carry significant meaning. We will use a standard stop word list or library to identify and remove these words from our text. \n",
    "\n",
    "Following this, we will apply stemming to the tokens. Stemming is a process that reduces each word to its base or root form. We will use a suitable stemming algorithm or library to perform this task. \n",
    "\n",
    "Finally, we will implement lemmatization on the tokens. Lemmatization is a process that transforms each word into its canonical or dictionary form. We will use a reliable lemmatization technique or library for this purpose. "
   ]
  },
  {
   "cell_type": "markdown",
   "metadata": {
    "tags": []
   },
   "source": [
    "### Tokenization\n",
    "\n",
    "Tokenization is the process of breaking down text into smaller parts called tokens which help in understanding the context or developing the model for NLP (Natural Language Processing). The tokenization helps in interpreting the meaning of the text by analyzing the sequence of the words. \n",
    "\n",
    "For instance, consider the text \"The quick brown fox jumps over the lazy dog\". In tokenization, this sentence is broken down into individual words: 'The', 'quick', 'brown', 'fox', 'jumps', 'over', 'the', 'lazy', 'dog'."
   ]
  },
  {
   "cell_type": "code",
   "execution_count": 19,
   "metadata": {},
   "outputs": [
    {
     "name": "stderr",
     "output_type": "stream",
     "text": [
      "[nltk_data] Downloading package punkt to /home/sagemaker-\n",
      "[nltk_data]     user/nltk_data...\n",
      "[nltk_data]   Package punkt is already up-to-date!\n"
     ]
    },
    {
     "data": {
      "text/plain": [
       "True"
      ]
     },
     "execution_count": 19,
     "metadata": {},
     "output_type": "execute_result"
    }
   ],
   "source": [
    "import nltk\n",
    "nltk.download('punkt')"
   ]
  },
  {
   "cell_type": "code",
   "execution_count": 20,
   "metadata": {},
   "outputs": [
    {
     "data": {
      "text/plain": [
       "['the',\n",
       " 'president',\n",
       " 'prides',\n",
       " 'himself',\n",
       " 'on',\n",
       " 'the',\n",
       " 'fact',\n",
       " 'that',\n",
       " 'his',\n",
       " 'administration',\n",
       " 'hasn',\n",
       " 't',\n",
       " 'had',\n",
       " 'a',\n",
       " 'scandal',\n",
       " 'and',\n",
       " 'he',\n",
       " 'hasn',\n",
       " 't',\n",
       " 'done',\n",
       " 'something',\n",
       " 'to',\n",
       " 'embarrass',\n",
       " 'himself',\n",
       " 'jarrett',\n",
       " 'said',\n",
       " 'in',\n",
       " 'an',\n",
       " 'interview',\n",
       " 'broadcast',\n",
       " 'on',\n",
       " 'cnn',\n",
       " 'sundaythe',\n",
       " 'aide',\n",
       " 'also',\n",
       " 'a',\n",
       " 'close',\n",
       " 'friend',\n",
       " 'of',\n",
       " 'obama',\n",
       " 'and',\n",
       " 'his',\n",
       " 'wife',\n",
       " 'michelle',\n",
       " 'credited',\n",
       " 'the',\n",
       " 'first',\n",
       " 'couple',\n",
       " 'with',\n",
       " 'being',\n",
       " 'good',\n",
       " 'people',\n",
       " 'and',\n",
       " 'getting',\n",
       " 'good',\n",
       " 'results',\n",
       " 'that',\n",
       " 's',\n",
       " 'because',\n",
       " 'that',\n",
       " 's',\n",
       " 'who',\n",
       " 'he',\n",
       " 'is',\n",
       " 'that',\n",
       " 's',\n",
       " 'who',\n",
       " 'they',\n",
       " 'are',\n",
       " 'and',\n",
       " 'i',\n",
       " 'think',\n",
       " 'that',\n",
       " 's',\n",
       " 'what',\n",
       " 'really',\n",
       " 'resonates',\n",
       " 'with',\n",
       " 'the',\n",
       " 'american',\n",
       " 'people',\n",
       " 'jarrett',\n",
       " 'saidcritics',\n",
       " 'of',\n",
       " 'the',\n",
       " 'obama',\n",
       " 'administration',\n",
       " 'said',\n",
       " 'jarrett',\n",
       " 'was',\n",
       " 'trying',\n",
       " 'to',\n",
       " 'rewrite',\n",
       " 'history',\n",
       " 'nypthe',\n",
       " 'great',\n",
       " 'stimulus',\n",
       " 'heist',\n",
       " ':',\n",
       " 'obama',\n",
       " 'seems',\n",
       " 'to',\n",
       " 'think',\n",
       " 'nobody',\n",
       " 'will',\n",
       " 'remember',\n",
       " 'he',\n",
       " 'grabbed',\n",
       " 'almost',\n",
       " 'a',\n",
       " 'trillion',\n",
       " 'dollars',\n",
       " 'for',\n",
       " 'stimulus',\n",
       " 'spending',\n",
       " 'created',\n",
       " 'virtually',\n",
       " 'zero',\n",
       " 'private',\n",
       " 'sector',\n",
       " 'jobs',\n",
       " 'with',\n",
       " 'it',\n",
       " 'allowed',\n",
       " 'a',\n",
       " 'great',\n",
       " 'deal',\n",
       " 'of',\n",
       " 'the',\n",
       " 'money',\n",
       " 'to',\n",
       " 'vanish',\n",
       " 'into',\n",
       " 'thin',\n",
       " 'air',\n",
       " 'and',\n",
       " 'spent',\n",
       " 'the',\n",
       " 'rest',\n",
       " 'of',\n",
       " 'his',\n",
       " 'presidency',\n",
       " 'complaining',\n",
       " 'that',\n",
       " 'he',\n",
       " 'needed',\n",
       " 'hundreds',\n",
       " 'of',\n",
       " 'billions',\n",
       " 'more',\n",
       " 'to',\n",
       " 'repair',\n",
       " 'roads',\n",
       " 'and',\n",
       " 'bridgesvast',\n",
       " 'sums',\n",
       " 'of',\n",
       " 'taxpayer',\n",
       " 'money',\n",
       " 'were',\n",
       " 'wasted',\n",
       " 'on',\n",
       " 'foolish',\n",
       " 'projects',\n",
       " 'that',\n",
       " 'came',\n",
       " 'close',\n",
       " 'to',\n",
       " 'the',\n",
       " 'keynesian',\n",
       " 'economic',\n",
       " 'satire',\n",
       " 'of',\n",
       " 'hiring',\n",
       " 'some',\n",
       " 'people',\n",
       " 'to',\n",
       " 'dig',\n",
       " 'holes',\n",
       " 'and',\n",
       " 'others',\n",
       " 'to',\n",
       " 'fill',\n",
       " 'them',\n",
       " 'in',\n",
       " 'obama',\n",
       " 'added',\n",
       " 'insult',\n",
       " 'to',\n",
       " 'injury',\n",
       " 'by',\n",
       " 'appointing',\n",
       " 'vice',\n",
       " 'president',\n",
       " 'joe',\n",
       " 'biden',\n",
       " 'as',\n",
       " 'the',\n",
       " 'sheriff',\n",
       " 'who']"
      ]
     },
     "execution_count": 20,
     "metadata": {},
     "output_type": "execute_result"
    }
   ],
   "source": [
    "import nltk\n",
    "from nltk.tokenize import word_tokenize\n",
    "\n",
    "news_df['tokenized'] = news_df['text_clean'].apply(word_tokenize)\n",
    "news_df.iloc[Random_ID_value]['tokenized'][:200]"
   ]
  },
  {
   "cell_type": "markdown",
   "metadata": {},
   "source": [
    "**result**\n",
    "- On tokenization, we find that `word_tokenize` does not catch numbers such as `175m` which represents 175 million. Since the NLP downstream task is sentiment, analysis these definitions of tokens are fine and can be left as is"
   ]
  },
  {
   "cell_type": "markdown",
   "metadata": {},
   "source": [
    "### Remove stop words"
   ]
  },
  {
   "cell_type": "code",
   "execution_count": 21,
   "metadata": {},
   "outputs": [
    {
     "name": "stderr",
     "output_type": "stream",
     "text": [
      "[nltk_data] Downloading package stopwords to /home/sagemaker-\n",
      "[nltk_data]     user/nltk_data...\n",
      "[nltk_data]   Package stopwords is already up-to-date!\n"
     ]
    },
    {
     "data": {
      "text/plain": [
       "True"
      ]
     },
     "execution_count": 21,
     "metadata": {},
     "output_type": "execute_result"
    }
   ],
   "source": [
    "import nltk\n",
    "nltk.download('stopwords')"
   ]
  },
  {
   "cell_type": "code",
   "execution_count": 22,
   "metadata": {},
   "outputs": [
    {
     "data": {
      "text/plain": [
       "['president',\n",
       " 'prides',\n",
       " 'fact',\n",
       " 'administration',\n",
       " 'scandal',\n",
       " 'done',\n",
       " 'something',\n",
       " 'embarrass',\n",
       " 'jarrett',\n",
       " 'said',\n",
       " 'interview',\n",
       " 'broadcast',\n",
       " 'cnn',\n",
       " 'sundaythe',\n",
       " 'aide',\n",
       " 'also',\n",
       " 'close',\n",
       " 'friend',\n",
       " 'obama',\n",
       " 'wife',\n",
       " 'michelle',\n",
       " 'credited',\n",
       " 'first',\n",
       " 'couple',\n",
       " 'good',\n",
       " 'people',\n",
       " 'getting',\n",
       " 'good',\n",
       " 'results',\n",
       " 'think',\n",
       " 'really',\n",
       " 'resonates',\n",
       " 'american',\n",
       " 'people',\n",
       " 'jarrett',\n",
       " 'saidcritics',\n",
       " 'obama',\n",
       " 'administration',\n",
       " 'said',\n",
       " 'jarrett',\n",
       " 'trying',\n",
       " 'rewrite',\n",
       " 'history',\n",
       " 'nypthe',\n",
       " 'great',\n",
       " 'stimulus',\n",
       " 'heist',\n",
       " ':',\n",
       " 'obama',\n",
       " 'seems',\n",
       " 'think',\n",
       " 'nobody',\n",
       " 'remember',\n",
       " 'grabbed',\n",
       " 'almost',\n",
       " 'trillion',\n",
       " 'dollars',\n",
       " 'stimulus',\n",
       " 'spending',\n",
       " 'created',\n",
       " 'virtually',\n",
       " 'zero',\n",
       " 'private',\n",
       " 'sector',\n",
       " 'jobs',\n",
       " 'allowed',\n",
       " 'great',\n",
       " 'deal',\n",
       " 'money',\n",
       " 'vanish',\n",
       " 'thin',\n",
       " 'air',\n",
       " 'spent',\n",
       " 'rest',\n",
       " 'presidency',\n",
       " 'complaining',\n",
       " 'needed',\n",
       " 'hundreds',\n",
       " 'billions',\n",
       " 'repair',\n",
       " 'roads',\n",
       " 'bridgesvast',\n",
       " 'sums',\n",
       " 'taxpayer',\n",
       " 'money',\n",
       " 'wasted',\n",
       " 'foolish',\n",
       " 'projects',\n",
       " 'came',\n",
       " 'close',\n",
       " 'keynesian',\n",
       " 'economic',\n",
       " 'satire',\n",
       " 'hiring',\n",
       " 'people',\n",
       " 'dig',\n",
       " 'holes',\n",
       " 'others',\n",
       " 'fill',\n",
       " 'obama',\n",
       " 'added',\n",
       " 'insult',\n",
       " 'injury',\n",
       " 'appointing',\n",
       " 'vice',\n",
       " 'president',\n",
       " 'joe',\n",
       " 'biden',\n",
       " 'sheriff',\n",
       " 'would',\n",
       " 'supposedly',\n",
       " 'find',\n",
       " 'missing',\n",
       " 'stimulus',\n",
       " 'lootoperation',\n",
       " 'fast',\n",
       " 'furious',\n",
       " ':',\n",
       " 'obama',\n",
       " 'partisans',\n",
       " 'seem',\n",
       " 'think',\n",
       " 'given',\n",
       " 'example',\n",
       " 'abuse',\n",
       " 'ineptitude',\n",
       " 'man',\n",
       " 'stopped',\n",
       " 'scandal',\n",
       " 'moment',\n",
       " 'seemed',\n",
       " 'clear',\n",
       " 'impeached',\n",
       " 'operation',\n",
       " 'fast',\n",
       " 'furious',\n",
       " 'obama',\n",
       " 'administration',\n",
       " 'insane',\n",
       " 'program',\n",
       " 'use',\n",
       " 'american',\n",
       " 'gun',\n",
       " 'dealers',\n",
       " 'straw',\n",
       " 'purchasers',\n",
       " 'arm',\n",
       " 'mexican',\n",
       " 'drug',\n",
       " 'lords',\n",
       " 'scandal',\n",
       " 'huge',\n",
       " 'body',\n",
       " 'count',\n",
       " 'prominently',\n",
       " 'including',\n",
       " 'border',\n",
       " 'patrol',\n",
       " 'agent',\n",
       " 'brian',\n",
       " 'terry',\n",
       " 'immigration',\n",
       " 'customs',\n",
       " 'enforcement',\n",
       " 'agent',\n",
       " 'jamie',\n",
       " 'zapata',\n",
       " 'plus',\n",
       " 'hundreds',\n",
       " 'mexican',\n",
       " 'citizens',\n",
       " 'agent',\n",
       " 'terry',\n",
       " 'family',\n",
       " 'certainly',\n",
       " 'thinks',\n",
       " 'qualifies',\n",
       " 'scandalsheriff',\n",
       " 'paul',\n",
       " 'babeu',\n",
       " 'implicates',\n",
       " 'eric',\n",
       " 'holder',\n",
       " 'obama',\n",
       " 'justice',\n",
       " 'department',\n",
       " 'accomplices',\n",
       " 'crimes',\n",
       " 'involving',\n",
       " 'weapons',\n",
       " 'used',\n",
       " 'fast',\n",
       " 'furious',\n",
       " 'scandal',\n",
       " ':',\n",
       " 'difficult',\n",
       " 'imagine',\n",
       " 'republican',\n",
       " 'administration',\n",
       " 'surviving']"
      ]
     },
     "execution_count": 22,
     "metadata": {},
     "output_type": "execute_result"
    }
   ],
   "source": [
    "# Removing stopwords.\n",
    "from nltk.corpus import stopwords\n",
    "\n",
    "stop = set(stopwords.words('english'))\n",
    "news_df['stopwords_removed'] = news_df['tokenized'].apply(lambda x: [word for word in x if word not in stop])\n",
    "news_df.iloc[Random_ID_value]['stopwords_removed'][:200]"
   ]
  },
  {
   "cell_type": "code",
   "execution_count": 23,
   "metadata": {},
   "outputs": [
    {
     "name": "stdout",
     "output_type": "stream",
     "text": [
      "count    44898.000000\n",
      "mean       240.672836\n",
      "std        210.325345\n",
      "min          0.000000\n",
      "25%        123.000000\n",
      "50%        212.000000\n",
      "75%        302.000000\n",
      "max       5107.000000\n",
      "Name: word_count, dtype: float64\n"
     ]
    },
    {
     "data": {
      "image/png": "[encoded data removed]",
      "text/plain": [
       "<Figure size 640x480 with 1 Axes>"
      ]
     },
     "metadata": {},
     "output_type": "display_data"
    }
   ],
   "source": [
    "# Apply the join function to the 'stopwords_removed' column\n",
    "news_df['word_count'] = news_df['stopwords_removed'].apply(' '.join).apply(word_count)\n",
    "\n",
    "# Print out a summary of the word count statistics\n",
    "print(news_df['word_count'].describe())\n",
    "\n",
    "# Plot a histogram of the word counts\n",
    "plt.hist(news_df['word_count'], bins=50)\n",
    "plt.title('Distribution of Word Counts')\n",
    "plt.xlabel('Word Count')\n",
    "plt.ylabel('Frequency')\n",
    "plt.show()"
   ]
  },
  {
   "cell_type": "markdown",
   "metadata": {},
   "source": [
    "**result**\n",
    "- After removing the stop words, maximum length of `text` goes from 4 to 1178 words. "
   ]
  },
  {
   "cell_type": "code",
   "execution_count": 24,
   "metadata": {},
   "outputs": [
    {
     "data": {
      "text/plain": [
       "['president',\n",
       " 'prides',\n",
       " 'fact',\n",
       " 'administration',\n",
       " 'scandal',\n",
       " 'done',\n",
       " 'something',\n",
       " 'embarrass',\n",
       " 'jarrett',\n",
       " 'said',\n",
       " 'interview',\n",
       " 'broadcast',\n",
       " 'cnn',\n",
       " 'sundaythe',\n",
       " 'aide',\n",
       " 'also',\n",
       " 'close',\n",
       " 'friend',\n",
       " 'obama',\n",
       " 'wife',\n",
       " 'michelle',\n",
       " 'credited',\n",
       " 'first',\n",
       " 'couple',\n",
       " 'good',\n",
       " 'people',\n",
       " 'getting',\n",
       " 'good',\n",
       " 'results',\n",
       " 'think',\n",
       " 'really',\n",
       " 'resonates',\n",
       " 'american',\n",
       " 'people',\n",
       " 'jarrett',\n",
       " 'saidcritics',\n",
       " 'obama',\n",
       " 'administration',\n",
       " 'said',\n",
       " 'jarrett',\n",
       " 'trying',\n",
       " 'rewrite',\n",
       " 'history',\n",
       " 'nypthe',\n",
       " 'great',\n",
       " 'stimulus',\n",
       " 'heist',\n",
       " ':',\n",
       " 'obama',\n",
       " 'seems',\n",
       " 'think',\n",
       " 'nobody',\n",
       " 'remember',\n",
       " 'grabbed',\n",
       " 'almost',\n",
       " 'trillion',\n",
       " 'dollars',\n",
       " 'stimulus',\n",
       " 'spending',\n",
       " 'created',\n",
       " 'virtually',\n",
       " 'zero',\n",
       " 'private',\n",
       " 'sector',\n",
       " 'jobs',\n",
       " 'allowed',\n",
       " 'great',\n",
       " 'deal',\n",
       " 'money',\n",
       " 'vanish',\n",
       " 'thin',\n",
       " 'air',\n",
       " 'spent',\n",
       " 'rest',\n",
       " 'presidency',\n",
       " 'complaining',\n",
       " 'needed',\n",
       " 'hundreds',\n",
       " 'billions',\n",
       " 'repair',\n",
       " 'roads',\n",
       " 'bridgesvast',\n",
       " 'sums',\n",
       " 'taxpayer',\n",
       " 'money',\n",
       " 'wasted',\n",
       " 'foolish',\n",
       " 'projects',\n",
       " 'came',\n",
       " 'close',\n",
       " 'keynesian',\n",
       " 'economic',\n",
       " 'satire',\n",
       " 'hiring',\n",
       " 'people',\n",
       " 'dig',\n",
       " 'holes',\n",
       " 'others',\n",
       " 'fill',\n",
       " 'obama',\n",
       " 'added',\n",
       " 'insult',\n",
       " 'injury',\n",
       " 'appointing',\n",
       " 'vice',\n",
       " 'president',\n",
       " 'joe',\n",
       " 'biden',\n",
       " 'sheriff',\n",
       " 'would',\n",
       " 'supposedly',\n",
       " 'find',\n",
       " 'missing',\n",
       " 'stimulus',\n",
       " 'lootoperation',\n",
       " 'fast',\n",
       " 'furious',\n",
       " ':',\n",
       " 'obama',\n",
       " 'partisans',\n",
       " 'seem',\n",
       " 'think',\n",
       " 'given',\n",
       " 'example',\n",
       " 'abuse',\n",
       " 'ineptitude',\n",
       " 'man',\n",
       " 'stopped',\n",
       " 'scandal',\n",
       " 'moment',\n",
       " 'seemed',\n",
       " 'clear',\n",
       " 'impeached',\n",
       " 'operation',\n",
       " 'fast',\n",
       " 'furious',\n",
       " 'obama',\n",
       " 'administration',\n",
       " 'insane',\n",
       " 'program',\n",
       " 'use',\n",
       " 'american',\n",
       " 'gun',\n",
       " 'dealers',\n",
       " 'straw',\n",
       " 'purchasers',\n",
       " 'arm',\n",
       " 'mexican',\n",
       " 'drug',\n",
       " 'lords',\n",
       " 'scandal',\n",
       " 'huge',\n",
       " 'body',\n",
       " 'count',\n",
       " 'prominently',\n",
       " 'including',\n",
       " 'border',\n",
       " 'patrol',\n",
       " 'agent',\n",
       " 'brian',\n",
       " 'terry',\n",
       " 'immigration',\n",
       " 'customs',\n",
       " 'enforcement',\n",
       " 'agent',\n",
       " 'jamie',\n",
       " 'zapata',\n",
       " 'plus',\n",
       " 'hundreds',\n",
       " 'mexican',\n",
       " 'citizens',\n",
       " 'agent',\n",
       " 'terry',\n",
       " 'family',\n",
       " 'certainly',\n",
       " 'thinks',\n",
       " 'qualifies',\n",
       " 'scandalsheriff',\n",
       " 'paul',\n",
       " 'babeu',\n",
       " 'implicates',\n",
       " 'eric',\n",
       " 'holder',\n",
       " 'obama',\n",
       " 'justice',\n",
       " 'department',\n",
       " 'accomplices',\n",
       " 'crimes',\n",
       " 'involving',\n",
       " 'weapons',\n",
       " 'used',\n",
       " 'fast',\n",
       " 'furious',\n",
       " 'scandal',\n",
       " ':',\n",
       " 'difficult',\n",
       " 'imagine',\n",
       " 'republican',\n",
       " 'administration',\n",
       " 'surviving']"
      ]
     },
     "execution_count": 24,
     "metadata": {},
     "output_type": "execute_result"
    }
   ],
   "source": [
    "news_df.iloc[Random_ID_value]['stopwords_removed'][:200]"
   ]
  },
  {
   "cell_type": "code",
   "execution_count": 25,
   "metadata": {},
   "outputs": [
    {
     "data": {
      "image/png": "[encoded data removed]",
      "text/plain": [
       "<Figure size 1000x500 with 1 Axes>"
      ]
     },
     "metadata": {},
     "output_type": "display_data"
    }
   ],
   "source": [
    "# Visualizing the Word cloud using Word2vec\n",
    "from gensim.models import Word2Vec\n",
    "\n",
    "# Fit and transform the reviews\n",
    "reviews = news_df['stopwords_removed'].apply(' '.join).tolist()\n",
    "reviews_tokenized = [review.split() for review in reviews]\n",
    "\n",
    "# Train word2vec model\n",
    "model = Word2Vec(sentences=reviews_tokenized, vector_size=100, window=5, min_count=1)\n",
    "\n",
    "# Get word frequencies from the trained model\n",
    "word_freq = {word: model.wv.get_vecattr(word, \"count\") for word in model.wv.index_to_key}\n",
    "\n",
    "# Create a DataFrame for easy sorting and indexing\n",
    "word_freq_df = pd.DataFrame.from_dict(word_freq, orient='index', columns=['frequency'])\n",
    "\n",
    "# Sort by frequency\n",
    "word_freq_df_sorted = word_freq_df.sort_values(by='frequency', ascending=False)\n",
    "\n",
    "# Generate word cloud\n",
    "wordcloud = WordCloud(width=800, height=400).generate_from_frequencies(word_freq_df_sorted['frequency'])\n",
    "\n",
    "# Display the generated image:\n",
    "plt.figure(figsize=(10, 5))\n",
    "plt.imshow(wordcloud, interpolation='bilinear')\n",
    "plt.axis(\"off\")\n",
    "plt.show()\n"
   ]
  },
  {
   "cell_type": "markdown",
   "metadata": {},
   "source": [
    "**result**\n",
    "- After incoperating the stop word removal, we noticed that have a key words now related to `movie`, `film` , `one` and `good`. "
   ]
  },
  {
   "cell_type": "markdown",
   "metadata": {
    "tags": []
   },
   "source": [
    "# [Train and test datasets](#Methodology)"
   ]
  },
  {
   "cell_type": "code",
   "execution_count": 26,
   "metadata": {},
   "outputs": [],
   "source": [
    "### Import Models"
   ]
  },
  {
   "cell_type": "code",
   "execution_count": 27,
   "metadata": {
    "tags": []
   },
   "outputs": [
    {
     "name": "stderr",
     "output_type": "stream",
     "text": [
      "/opt/conda/lib/python3.10/site-packages/huggingface_hub/file_download.py:1132: FutureWarning: `resume_download` is deprecated and will be removed in version 1.0.0. Downloads always resume when possible. If you want to force a new download, use `force_download=True`.\n",
      "  warnings.warn(\n"
     ]
    },
    {
     "data": {
      "application/vnd.jupyter.widget-view+json": {
       "model_id": "30384aafb46948838945caebcabbae43",
       "version_major": 2,
       "version_minor": 0
      },
      "text/plain": [
       "config.json:   0%|          | 0.00/285 [00:00<?, ?B/s]"
      ]
     },
     "metadata": {},
     "output_type": "display_data"
    },
    {
     "data": {
      "application/vnd.jupyter.widget-view+json": {
       "model_id": "86f3418373674a7685943fba1af235ba",
       "version_major": 2,
       "version_minor": 0
      },
      "text/plain": [
       "vocab.txt:   0%|          | 0.00/232k [00:00<?, ?B/s]"
      ]
     },
     "metadata": {},
     "output_type": "display_data"
    }
   ],
   "source": [
    "# Tokenize\n",
    "model_name = 'prajjwal1/bert-tiny'\n",
    "tokenizer = AutoTokenizer.from_pretrained(model_name, model_max_length=512, force_download=True)"
   ]
  },
  {
   "cell_type": "code",
   "execution_count": 28,
   "metadata": {},
   "outputs": [],
   "source": [
    "news_df[\"stopwords_removed\"] = news_df[\"stopwords_removed\"].apply(' '.join)"
   ]
  },
  {
   "cell_type": "code",
   "execution_count": 29,
   "metadata": {},
   "outputs": [],
   "source": [
    "text = news_df['stopwords_removed']\n",
    "labels = torch.from_numpy(np.array(news_df.label))"
   ]
  },
  {
   "cell_type": "markdown",
   "metadata": {},
   "source": [
    "**BERT requires the following preprocessing steps**\n",
    "\n",
    "\n",
    "Incorporate special tokens:\n",
    "- Commence each sentence with a [CLS] token (identified as 101)\n",
    "- Conclude each sentence with a [SEP] token (identified as 102)\n",
    "\n",
    "Achieve uniform sentence lengths:\n",
    "- Padding is employed to equalize shorter sequences to the required length by adding convenience values. Longer sequences are shortened.\n",
    "- Padding tokens, known as [PAD], are recognized as ID 0.\n",
    "- The permissible maximum sequence length is 512 tokens.\n",
    "\n",
    "Develop an attention mask:\n",
    "- A list of binary values (0s and 1s) indicating whether the model should take into account certain tokens while learning their contextual representation. Padding ([PAD]) tokens are expected to have a value of 0.\n",
    "This process can be visualized as follows:  \n",
    "\n",
    "\n",
    "<img src=\"https://miro.medium.com/v2/resize:fit:4800/format:webp/1*vaw98m1VVncgKxNFWI0d2Q.png\" alt=\"drawing\" width=\"800\"/>\n",
    "\n",
    "We will use a very helpfull function [encode_plus](https://huggingface.co/docs/transformers/main_classes/tokenizer?highlight=encode_plus#transformers.PreTrainedTokenizer.encode_plus) provided in the Tokenizer class to procepcessing.\n",
    "\n",
    "\n",
    "--- "
   ]
  },
  {
   "cell_type": "markdown",
   "metadata": {},
   "source": [
    "### Tokenization"
   ]
  },
  {
   "cell_type": "code",
   "execution_count": 30,
   "metadata": {},
   "outputs": [
    {
     "name": "stderr",
     "output_type": "stream",
     "text": [
      "/opt/conda/lib/python3.10/site-packages/transformers/tokenization_utils_base.py:2393: FutureWarning: The `pad_to_max_length` argument is deprecated and will be removed in a future version, use `padding=True` or `padding='longest'` to pad to the longest sequence in the batch, or use `padding='max_length'` to pad to a max length. In this case, you can give a specific length with `max_length` (e.g. `max_length=45`) or leave max_length to None to pad to the maximal input size of the model (e.g. 512 for Bert).\n",
      "  warnings.warn(\n",
      "/tmp/ipykernel_24078/1155887400.py:30: UserWarning: To copy construct from a tensor, it is recommended to use sourceTensor.clone().detach() or sourceTensor.clone().detach().requires_grad_(True), rather than torch.tensor(sourceTensor).\n",
      "  labels = torch.tensor(labels)\n"
     ]
    }
   ],
   "source": [
    "token_id = []\n",
    "attention_masks = []\n",
    "\n",
    "def preprocessing(input_text, tokenizer):\n",
    "  '''\n",
    "  Returns <class transformers.tokenization_utils_base.BatchEncoding> with the following fields:\n",
    "    - input_ids: list of token ids\n",
    "    - token_type_ids: list of token type ids\n",
    "    - attention_mask: list of indices (0,1) specifying which tokens should considered by the model (return_attention_mask = True).\n",
    "  '''\n",
    "  return tokenizer.encode_plus(\n",
    "                        input_text,\n",
    "                        add_special_tokens = True,\n",
    "                        max_length = 512,\n",
    "                        pad_to_max_length = True,\n",
    "                        truncation=True,\n",
    "                        return_attention_mask = True,\n",
    "                        return_tensors = 'pt'\n",
    "                   )\n",
    "\n",
    "\n",
    "for sample in text:\n",
    "  encoding_dict = preprocessing(sample, tokenizer)\n",
    "  token_id.append(encoding_dict['input_ids']) \n",
    "  attention_masks.append(encoding_dict['attention_mask'])\n",
    "\n",
    "\n",
    "token_id = torch.cat(token_id, dim = 0)\n",
    "attention_masks = torch.cat(attention_masks, dim = 0)\n",
    "labels = torch.tensor(labels)"
   ]
  },
  {
   "cell_type": "code",
   "execution_count": 31,
   "metadata": {},
   "outputs": [
    {
     "name": "stdout",
     "output_type": "stream",
     "text": [
      "╒════════════╤═════════════╤══════════════════╕\n",
      "│ Tokens     │   Token IDs │   Attention Mask │\n",
      "╞════════════╪═════════════╪══════════════════╡\n",
      "│ [CLS]      │         101 │                1 │\n",
      "├────────────┼─────────────┼──────────────────┤\n",
      "│ donald     │        6221 │                1 │\n",
      "├────────────┼─────────────┼──────────────────┤\n",
      "│ trump      │        8398 │                1 │\n",
      "├────────────┼─────────────┼──────────────────┤\n",
      "│ wish       │        4299 │                1 │\n",
      "├────────────┼─────────────┼──────────────────┤\n",
      "│ americans  │        4841 │                1 │\n",
      "├────────────┼─────────────┼──────────────────┤\n",
      "│ happy      │        3407 │                1 │\n",
      "├────────────┼─────────────┼──────────────────┤\n",
      "│ new        │        2047 │                1 │\n",
      "├────────────┼─────────────┼──────────────────┤\n",
      "│ year       │        2095 │                1 │\n",
      "├────────────┼─────────────┼──────────────────┤\n",
      "│ leave      │        2681 │                1 │\n",
      "├────────────┼─────────────┼──────────────────┤\n",
      "│ instead    │        2612 │                1 │\n",
      "├────────────┼─────────────┼──────────────────┤\n",
      "│ give       │        2507 │                1 │\n",
      "├────────────┼─────────────┼──────────────────┤\n",
      "│ shout      │       11245 │                1 │\n",
      "├────────────┼─────────────┼──────────────────┤\n",
      "│ enemies    │        6716 │                1 │\n",
      "├────────────┼─────────────┼──────────────────┤\n",
      "│ hate       │        5223 │                1 │\n",
      "├────────────┼─────────────┼──────────────────┤\n",
      "│ ##rs       │        2869 │                1 │\n",
      "├────────────┼─────────────┼──────────────────┤\n",
      "│ dish       │        9841 │                1 │\n",
      "├────────────┼─────────────┼──────────────────┤\n",
      "│ ##ones     │       21821 │                1 │\n",
      "├────────────┼─────────────┼──────────────────┤\n",
      "│ ##t        │        2102 │                1 │\n",
      "├────────────┼─────────────┼──────────────────┤\n",
      "│ fake       │        8275 │                1 │\n",
      "├────────────┼─────────────┼──────────────────┤\n",
      "│ news       │        2739 │                1 │\n",
      "├────────────┼─────────────┼──────────────────┤\n",
      "│ media      │        2865 │                1 │\n",
      "├────────────┼─────────────┼──────────────────┤\n",
      "│ former     │        2280 │                1 │\n",
      "├────────────┼─────────────┼──────────────────┤\n",
      "│ reality    │        4507 │                1 │\n",
      "├────────────┼─────────────┼──────────────────┤\n",
      "│ show       │        2265 │                1 │\n",
      "├────────────┼─────────────┼──────────────────┤\n",
      "│ star       │        2732 │                1 │\n",
      "├────────────┼─────────────┼──────────────────┤\n",
      "│ one        │        2028 │                1 │\n",
      "├────────────┼─────────────┼──────────────────┤\n",
      "│ job        │        3105 │                1 │\n",
      "├────────────┼─────────────┼──────────────────┤\n",
      "│ country    │        2406 │                1 │\n",
      "├────────────┼─────────────┼──────────────────┤\n",
      "│ rapidly    │        5901 │                1 │\n",
      "├────────────┼─────────────┼──────────────────┤\n",
      "│ grows      │        7502 │                1 │\n",
      "├────────────┼─────────────┼──────────────────┤\n",
      "│ stronger   │        6428 │                1 │\n",
      "├────────────┼─────────────┼──────────────────┤\n",
      "│ smarter    │       25670 │                1 │\n",
      "├────────────┼─────────────┼──────────────────┤\n",
      "│ want       │        2215 │                1 │\n",
      "├────────────┼─────────────┼──────────────────┤\n",
      "│ wish       │        4299 │                1 │\n",
      "├────────────┼─────────────┼──────────────────┤\n",
      "│ friends    │        2814 │                1 │\n",
      "├────────────┼─────────────┼──────────────────┤\n",
      "│ supporters │        6793 │                1 │\n",
      "├────────────┼─────────────┼──────────────────┤\n",
      "│ enemies    │        6716 │                1 │\n",
      "├────────────┼─────────────┼──────────────────┤\n",
      "│ hate       │        5223 │                1 │\n",
      "├────────────┼─────────────┼──────────────────┤\n",
      "│ ##rs       │        2869 │                1 │\n",
      "├────────────┼─────────────┼──────────────────┤\n",
      "│ even       │        2130 │                1 │\n",
      "├────────────┼─────────────┼──────────────────┤\n",
      "│ dish       │        9841 │                1 │\n",
      "├────────────┼─────────────┼──────────────────┤\n",
      "│ ##ones     │       21821 │                1 │\n",
      "├────────────┼─────────────┼──────────────────┤\n",
      "│ ##t        │        2102 │                1 │\n",
      "├────────────┼─────────────┼──────────────────┤\n",
      "│ fake       │        8275 │                1 │\n",
      "├────────────┼─────────────┼──────────────────┤\n",
      "│ news       │        2739 │                1 │\n",
      "├────────────┼─────────────┼──────────────────┤\n",
      "│ media      │        2865 │                1 │\n",
      "├────────────┼─────────────┼──────────────────┤\n",
      "│ happy      │        3407 │                1 │\n",
      "├────────────┼─────────────┼──────────────────┤\n",
      "│ healthy    │        7965 │                1 │\n",
      "├────────────┼─────────────┼──────────────────┤\n",
      "│ new        │        2047 │                1 │\n",
      "├────────────┼─────────────┼──────────────────┤\n",
      "│ year       │        2095 │                1 │\n",
      "├────────────┼─────────────┼──────────────────┤\n",
      "│ president  │        2343 │                1 │\n",
      "├────────────┼─────────────┼──────────────────┤\n",
      "│ angry      │        4854 │                1 │\n",
      "├────────────┼─────────────┼──────────────────┤\n",
      "│ pants      │        6471 │                1 │\n",
      "├────────────┼─────────────┼──────────────────┤\n",
      "│ t          │        1056 │                1 │\n",
      "├────────────┼─────────────┼──────────────────┤\n",
      "│ ##wee      │       28394 │                1 │\n",
      "├────────────┼─────────────┼──────────────────┤\n",
      "│ ##ted      │        3064 │                1 │\n",
      "├────────────┼─────────────┼──────────────────┤\n",
      "│ 2018       │        2760 │                1 │\n",
      "├────────────┼─────────────┼──────────────────┤\n",
      "│ great      │        2307 │                1 │\n",
      "├────────────┼─────────────┼──────────────────┤\n",
      "│ year       │        2095 │                1 │\n",
      "├────────────┼─────────────┼──────────────────┤\n",
      "│ america    │        2637 │                1 │\n",
      "├────────────┼─────────────┼──────────────────┤\n",
      "│ !          │         999 │                1 │\n",
      "├────────────┼─────────────┼──────────────────┤\n",
      "│ country    │        2406 │                1 │\n",
      "├────────────┼─────────────┼──────────────────┤\n",
      "│ rapidly    │        5901 │                1 │\n",
      "├────────────┼─────────────┼──────────────────┤\n",
      "│ grows      │        7502 │                1 │\n",
      "├────────────┼─────────────┼──────────────────┤\n",
      "│ stronger   │        6428 │                1 │\n",
      "├────────────┼─────────────┼──────────────────┤\n",
      "│ smarter    │       25670 │                1 │\n",
      "├────────────┼─────────────┼──────────────────┤\n",
      "│ want       │        2215 │                1 │\n",
      "├────────────┼─────────────┼──────────────────┤\n",
      "│ wish       │        4299 │                1 │\n",
      "├────────────┼─────────────┼──────────────────┤\n",
      "│ friends    │        2814 │                1 │\n",
      "├────────────┼─────────────┼──────────────────┤\n",
      "│ supporters │        6793 │                1 │\n",
      "├────────────┼─────────────┼──────────────────┤\n",
      "│ enemies    │        6716 │                1 │\n",
      "├────────────┼─────────────┼──────────────────┤\n",
      "│ hate       │        5223 │                1 │\n",
      "├────────────┼─────────────┼──────────────────┤\n",
      "│ ##rs       │        2869 │                1 │\n",
      "├────────────┼─────────────┼──────────────────┤\n",
      "│ even       │        2130 │                1 │\n",
      "├────────────┼─────────────┼──────────────────┤\n",
      "│ dish       │        9841 │                1 │\n",
      "├────────────┼─────────────┼──────────────────┤\n",
      "│ ##ones     │       21821 │                1 │\n",
      "├────────────┼─────────────┼──────────────────┤\n",
      "│ ##t        │        2102 │                1 │\n",
      "├────────────┼─────────────┼──────────────────┤\n",
      "│ fake       │        8275 │                1 │\n",
      "├────────────┼─────────────┼──────────────────┤\n",
      "│ news       │        2739 │                1 │\n",
      "├────────────┼─────────────┼──────────────────┤\n",
      "│ media      │        2865 │                1 │\n",
      "├────────────┼─────────────┼──────────────────┤\n",
      "│ happy      │        3407 │                1 │\n",
      "├────────────┼─────────────┼──────────────────┤\n",
      "│ healthy    │        7965 │                1 │\n",
      "├────────────┼─────────────┼──────────────────┤\n",
      "│ new        │        2047 │                1 │\n",
      "├────────────┼─────────────┼──────────────────┤\n",
      "│ year       │        2095 │                1 │\n",
      "├────────────┼─────────────┼──────────────────┤\n",
      "│ 2018       │        2760 │                1 │\n",
      "├────────────┼─────────────┼──────────────────┤\n",
      "│ great      │        2307 │                1 │\n",
      "├────────────┼─────────────┼──────────────────┤\n",
      "│ year       │        2095 │                1 │\n",
      "├────────────┼─────────────┼──────────────────┤\n",
      "│ america    │        2637 │                1 │\n",
      "├────────────┼─────────────┼──────────────────┤\n",
      "│ !          │         999 │                1 │\n",
      "├────────────┼─────────────┼──────────────────┤\n",
      "│ donald     │        6221 │                1 │\n",
      "├────────────┼─────────────┼──────────────────┤\n",
      "│ j          │        1046 │                1 │\n",
      "├────────────┼─────────────┼──────────────────┤\n",
      "│ trump      │        8398 │                1 │\n",
      "├────────────┼─────────────┼──────────────────┤\n",
      "│ @          │        1030 │                1 │\n",
      "├────────────┼─────────────┼──────────────────┤\n",
      "│ real       │        2613 │                1 │\n",
      "├────────────┼─────────────┼──────────────────┤\n",
      "│ ##don      │        5280 │                1 │\n",
      "├────────────┼─────────────┼──────────────────┤\n",
      "│ ##ald      │       19058 │                1 │\n",
      "├────────────┼─────────────┼──────────────────┤\n",
      "│ ##trum     │       24456 │                1 │\n",
      "├────────────┼─────────────┼──────────────────┤\n",
      "│ ##p        │        2361 │                1 │\n",
      "├────────────┼─────────────┼──────────────────┤\n",
      "│ december   │        2285 │                1 │\n",
      "├────────────┼─────────────┼──────────────────┤\n",
      "│ 31         │        2861 │                1 │\n",
      "├────────────┼─────────────┼──────────────────┤\n",
      "│ 2017       │        2418 │                1 │\n",
      "├────────────┼─────────────┼──────────────────┤\n",
      "│ ##trum     │       24456 │                1 │\n",
      "├────────────┼─────────────┼──────────────────┤\n",
      "│ ##p        │        2361 │                1 │\n",
      "├────────────┼─────────────┼──────────────────┤\n",
      "│ t          │        1056 │                1 │\n",
      "├────────────┼─────────────┼──────────────────┤\n",
      "│ ##wee      │       28394 │                1 │\n",
      "├────────────┼─────────────┼──────────────────┤\n",
      "│ ##t        │        2102 │                1 │\n",
      "├────────────┼─────────────┼──────────────────┤\n",
      "│ went       │        2253 │                1 │\n",
      "├────────────┼─────────────┼──────────────────┤\n",
      "│ well       │        2092 │                1 │\n",
      "├────────────┼─────────────┼──────────────────┤\n",
      "│ ##l        │        2140 │                1 │\n",
      "├────────────┼─────────────┼──────────────────┤\n",
      "│ expect     │        5987 │                1 │\n",
      "├────────────┼─────────────┼──────────────────┤\n",
      "│ ##w        │        2860 │                1 │\n",
      "├────────────┼─────────────┼──────────────────┤\n",
      "│ ##hat      │       12707 │                1 │\n",
      "├────────────┼─────────────┼──────────────────┤\n",
      "│ kind       │        2785 │                1 │\n",
      "├────────────┼─────────────┼──────────────────┤\n",
      "│ president  │        2343 │                1 │\n",
      "├────────────┼─────────────┼──────────────────┤\n",
      "│ sends      │       10255 │                1 │\n",
      "├────────────┼─────────────┼──────────────────┤\n",
      "│ new        │        2047 │                1 │\n",
      "├────────────┼─────────────┼──────────────────┤\n",
      "│ year       │        2095 │                1 │\n",
      "├────────────┼─────────────┼──────────────────┤\n",
      "│ greeting   │       14806 │                1 │\n",
      "├────────────┼─────────────┼──────────────────┤\n",
      "│ like       │        2066 │                1 │\n",
      "├────────────┼─────────────┼──────────────────┤\n",
      "│ des        │        4078 │                1 │\n",
      "├────────────┼─────────────┼──────────────────┤\n",
      "│ ##pic      │       24330 │                1 │\n",
      "├────────────┼─────────────┼──────────────────┤\n",
      "│ ##able     │        3085 │                1 │\n",
      "├────────────┼─────────────┼──────────────────┤\n",
      "│ petty      │       11612 │                1 │\n",
      "├────────────┼─────────────┼──────────────────┤\n",
      "│ infant     │       10527 │                1 │\n",
      "├────────────┼─────────────┼──────────────────┤\n",
      "│ ##ile      │        9463 │                1 │\n",
      "├────────────┼─────────────┼──────────────────┤\n",
      "│ gi         │       21025 │                1 │\n",
      "├────────────┼─────────────┼──────────────────┤\n",
      "│ ##bber     │       29325 │                1 │\n",
      "├────────────┼─────────────┼──────────────────┤\n",
      "│ ##ish      │        4509 │                1 │\n",
      "├────────────┼─────────────┼──────────────────┤\n",
      "│ ?          │        1029 │                1 │\n",
      "├────────────┼─────────────┼──────────────────┤\n",
      "│ trump      │        8398 │                1 │\n",
      "├────────────┼─────────────┼──────────────────┤\n",
      "│ !          │         999 │                1 │\n",
      "├────────────┼─────────────┼──────────────────┤\n",
      "│ lack       │        3768 │                1 │\n",
      "├────────────┼─────────────┼──────────────────┤\n",
      "│ dec        │       11703 │                1 │\n",
      "├────────────┼─────────────┼──────────────────┤\n",
      "│ ##ency     │       11916 │                1 │\n",
      "├────────────┼─────────────┼──────────────────┤\n",
      "│ even       │        2130 │                1 │\n",
      "├────────────┼─────────────┼──────────────────┤\n",
      "│ allow      │        3499 │                1 │\n",
      "├────────────┼─────────────┼──────────────────┤\n",
      "│ rise       │        4125 │                1 │\n",
      "├────────────┼─────────────┼──────────────────┤\n",
      "│ gut        │        9535 │                1 │\n",
      "├────────────┼─────────────┼──────────────────┤\n",
      "│ ##ter      │        3334 │                1 │\n",
      "├────────────┼─────────────┼──────────────────┤\n",
      "│ long       │        2146 │                1 │\n",
      "├────────────┼─────────────┼──────────────────┤\n",
      "│ enough     │        2438 │                1 │\n",
      "├────────────┼─────────────┼──────────────────┤\n",
      "│ wish       │        4299 │                1 │\n",
      "├────────────┼─────────────┼──────────────────┤\n",
      "│ american   │        2137 │                1 │\n",
      "├────────────┼─────────────┼──────────────────┤\n",
      "│ citizens   │        4480 │                1 │\n",
      "├────────────┼─────────────┼──────────────────┤\n",
      "│ happy      │        3407 │                1 │\n",
      "├────────────┼─────────────┼──────────────────┤\n",
      "│ new        │        2047 │                1 │\n",
      "├────────────┼─────────────┼──────────────────┤\n",
      "│ year       │        2095 │                1 │\n",
      "├────────────┼─────────────┼──────────────────┤\n",
      "│ !          │         999 │                1 │\n",
      "├────────────┼─────────────┼──────────────────┤\n",
      "│ bishop     │        3387 │                1 │\n",
      "├────────────┼─────────────┼──────────────────┤\n",
      "│ tal        │       21368 │                1 │\n",
      "├────────────┼─────────────┼──────────────────┤\n",
      "│ ##bert     │        8296 │                1 │\n",
      "├────────────┼─────────────┼──────────────────┤\n",
      "│ swan       │       10677 │                1 │\n",
      "├────────────┼─────────────┼──────────────────┤\n",
      "│ @          │        1030 │                1 │\n",
      "├────────────┼─────────────┼──────────────────┤\n",
      "│ tal        │       21368 │                1 │\n",
      "├────────────┼─────────────┼──────────────────┤\n",
      "│ ##bert     │        8296 │                1 │\n",
      "├────────────┼─────────────┼──────────────────┤\n",
      "│ ##sw       │       26760 │                1 │\n",
      "├────────────┼─────────────┼──────────────────┤\n",
      "│ ##an       │        2319 │                1 │\n",
      "├────────────┼─────────────┼──────────────────┤\n",
      "│ december   │        2285 │                1 │\n",
      "├────────────┼─────────────┼──────────────────┤\n",
      "│ 31         │        2861 │                1 │\n",
      "├────────────┼─────────────┼──────────────────┤\n",
      "│ 2017       │        2418 │                1 │\n",
      "├────────────┼─────────────┼──────────────────┤\n",
      "│ ##no       │        3630 │                1 │\n",
      "├────────────┼─────────────┼──────────────────┤\n",
      "│ one        │        2028 │                1 │\n",
      "├────────────┼─────────────┼──────────────────┤\n",
      "│ likes      │        7777 │                1 │\n",
      "├────────────┼─────────────┼──────────────────┤\n",
      "│ calvin     │       11130 │                1 │\n",
      "├────────────┼─────────────┼──────────────────┤\n",
      "│ @          │        1030 │                1 │\n",
      "├────────────┼─────────────┼──────────────────┤\n",
      "│ calvin     │       11130 │                1 │\n",
      "├────────────┼─────────────┼──────────────────┤\n",
      "│ ##sto      │       16033 │                1 │\n",
      "├────────────┼─────────────┼──────────────────┤\n",
      "│ ##well     │        4381 │                1 │\n",
      "├────────────┼─────────────┼──────────────────┤\n",
      "│ december   │        2285 │                1 │\n",
      "├────────────┼─────────────┼──────────────────┤\n",
      "│ 31         │        2861 │                1 │\n",
      "├────────────┼─────────────┼──────────────────┤\n",
      "│ 2017       │        2418 │                1 │\n",
      "├────────────┼─────────────┼──────────────────┤\n",
      "│ ##you      │       29337 │                1 │\n",
      "├────────────┼─────────────┼──────────────────┤\n",
      "│ ##r        │        2099 │                1 │\n",
      "├────────────┼─────────────┼──────────────────┤\n",
      "│ imp        │       17727 │                1 │\n",
      "├────────────┼─────────────┼──────────────────┤\n",
      "│ ##ea       │        5243 │                1 │\n",
      "├────────────┼─────────────┼──────────────────┤\n",
      "│ ##chment   │       22729 │                1 │\n",
      "├────────────┼─────────────┼──────────────────┤\n",
      "│ would      │        2052 │                1 │\n",
      "├────────────┼─────────────┼──────────────────┤\n",
      "│ make       │        2191 │                1 │\n",
      "├────────────┼─────────────┼──────────────────┤\n",
      "│ 2018       │        2760 │                1 │\n",
      "├────────────┼─────────────┼──────────────────┤\n",
      "│ great      │        2307 │                1 │\n",
      "╘════════════╧═════════════╧══════════════════╛\n"
     ]
    }
   ],
   "source": [
    "def print_shortest_sentence_encoding():\n",
    "  '''Displays tokens, token IDs and attention mask of the shortest text sample'''\n",
    "  \n",
    "  # Get the length of each sentence in the dataset\n",
    "  sentence_lengths = [len(s) for s in token_id]\n",
    "  \n",
    "  # Find the index of the shortest sentence\n",
    "  shortest_index = np.argmin(sentence_lengths)\n",
    "  \n",
    "  tokens = tokenizer.tokenize(tokenizer.decode(token_id[shortest_index]))\n",
    "  token_ids = [i.item() for i in token_id[shortest_index]]\n",
    "  attention = [i.item() for i in attention_masks[shortest_index]]\n",
    "\n",
    "  table = np.array([tokens, token_ids, attention]).T[:180]\n",
    "  print(tabulate(table, \n",
    "                 headers = ['Tokens', 'Token IDs', 'Attention Mask'],\n",
    "                 tablefmt = 'fancy_grid'))\n",
    "\n",
    "print_shortest_sentence_encoding()"
   ]
  },
  {
   "cell_type": "markdown",
   "metadata": {},
   "source": [
    "# Save to S3"
   ]
  },
  {
   "cell_type": "code",
   "execution_count": 32,
   "metadata": {},
   "outputs": [
    {
     "name": "stdout",
     "output_type": "stream",
     "text": [
      "DatasetDict({\n",
      "    train: Dataset({\n",
      "        features: ['stopwords_removed', 'label', '__index_level_0__'],\n",
      "        num_rows: 31428\n",
      "    })\n",
      "    test: Dataset({\n",
      "        features: ['stopwords_removed', 'label', '__index_level_0__'],\n",
      "        num_rows: 6735\n",
      "    })\n",
      "    hold_back: Dataset({\n",
      "        features: ['stopwords_removed', 'label', '__index_level_0__'],\n",
      "        num_rows: 6735\n",
      "    })\n",
      "})\n"
     ]
    }
   ],
   "source": [
    "import pandas as pd\n",
    "from datasets import Dataset, DatasetDict\n",
    "\n",
    "# Assuming news_df is your original DataFrame\n",
    "# Remove rows with null values in 'stopwords_removed'\n",
    "news_df = news_df.dropna(subset=['stopwords_removed'])\n",
    "\n",
    "# Convert to Hugging Face Dataset\n",
    "hf_dataset = Dataset.from_pandas(news_df[['stopwords_removed', 'label']])\n",
    "\n",
    "# Shuffle the dataset\n",
    "hf_dataset = hf_dataset.shuffle(seed=42)\n",
    "\n",
    "# Split the dataset\n",
    "train_test_split = hf_dataset.train_test_split(test_size=0.3)  # Split into 70% train, 30% test/validation\n",
    "\n",
    "# Further split the test/validation set into 50% test and 50% validation\n",
    "test_valid_split = train_test_split['test'].train_test_split(test_size=0.5)\n",
    "\n",
    "# Combine splits into a DatasetDict\n",
    "split_dataset = DatasetDict({\n",
    "    'train': train_test_split['train'],\n",
    "    'test': test_valid_split['test'],\n",
    "    'hold_back': test_valid_split['train']\n",
    "})\n",
    "\n",
    "# Verify the splits\n",
    "print(split_dataset)\n"
   ]
  },
  {
   "cell_type": "code",
   "execution_count": 33,
   "metadata": {},
   "outputs": [],
   "source": [
    "def tokenize(batch):\n",
    "    return tokenizer(batch['stopwords_removed'], \n",
    "                      padding='max_length', \n",
    "                      truncation=True) "
   ]
  },
  {
   "cell_type": "code",
   "execution_count": 34,
   "metadata": {},
   "outputs": [],
   "source": [
    "train_dataset = split_dataset['train']\n",
    "test_dataset = split_dataset['test']\n",
    "hold_back_dataset = split_dataset['hold_back']"
   ]
  },
  {
   "cell_type": "code",
   "execution_count": 35,
   "metadata": {},
   "outputs": [
    {
     "data": {
      "application/vnd.jupyter.widget-view+json": {
       "model_id": "c6bea12b77bb4bfeb6ae6cdc087d5df5",
       "version_major": 2,
       "version_minor": 0
      },
      "text/plain": [
       "Map:   0%|          | 0/31428 [00:00<?, ? examples/s]"
      ]
     },
     "metadata": {},
     "output_type": "display_data"
    },
    {
     "data": {
      "application/vnd.jupyter.widget-view+json": {
       "model_id": "094eabdef9dc4254a41b50d7c0edb3ae",
       "version_major": 2,
       "version_minor": 0
      },
      "text/plain": [
       "Map:   0%|          | 0/6735 [00:00<?, ? examples/s]"
      ]
     },
     "metadata": {},
     "output_type": "display_data"
    },
    {
     "data": {
      "application/vnd.jupyter.widget-view+json": {
       "model_id": "6c6eb570ea4c4028b181a8ebdd541985",
       "version_major": 2,
       "version_minor": 0
      },
      "text/plain": [
       "Map:   0%|          | 0/6735 [00:00<?, ? examples/s]"
      ]
     },
     "metadata": {},
     "output_type": "display_data"
    }
   ],
   "source": [
    "train_dataset = train_dataset.map(tokenize, batched=True)\n",
    "test_dataset = test_dataset.map(tokenize, batched=True)\n",
    "hold_back_dataset = hold_back_dataset.map(tokenize, batched=True)"
   ]
  },
  {
   "cell_type": "code",
   "execution_count": 36,
   "metadata": {},
   "outputs": [],
   "source": [
    "sagemaker_session = sagemaker.Session()\n",
    "bucket = sagemaker_session.default_bucket()\n",
    "prefix = 'fake-news-dataset'\n",
    "train_path = f's3://{bucket}/{prefix}/train'\n",
    "test_path = f's3://{bucket}/{prefix}/test'\n",
    "hold_back = f's3://{bucket}/{prefix}/hold_back'"
   ]
  },
  {
   "cell_type": "code",
   "execution_count": 37,
   "metadata": {},
   "outputs": [],
   "source": [
    "def save_dataset_to_s3(dataset_path, bucket, prefix):\n",
    "    s3 = boto3.client('s3')\n",
    "    for root, _, files in os.walk(dataset_path):\n",
    "        for file in files:\n",
    "            local_path = os.path.join(root, file)\n",
    "            relative_path = os.path.relpath(local_path, dataset_path)\n",
    "            s3_path = f'{prefix}/{relative_path}'\n",
    "            s3.upload_file(local_path, bucket, s3_path)"
   ]
  },
  {
   "cell_type": "code",
   "execution_count": 38,
   "metadata": {},
   "outputs": [
    {
     "data": {
      "application/vnd.jupyter.widget-view+json": {
       "model_id": "329717a7da0d4a088675fbe319ce6be8",
       "version_major": 2,
       "version_minor": 0
      },
      "text/plain": [
       "Saving the dataset (0/1 shards):   0%|          | 0/31428 [00:00<?, ? examples/s]"
      ]
     },
     "metadata": {},
     "output_type": "display_data"
    },
    {
     "data": {
      "application/vnd.jupyter.widget-view+json": {
       "model_id": "ff676da3a7284967868432e409047610",
       "version_major": 2,
       "version_minor": 0
      },
      "text/plain": [
       "Saving the dataset (0/1 shards):   0%|          | 0/6735 [00:00<?, ? examples/s]"
      ]
     },
     "metadata": {},
     "output_type": "display_data"
    },
    {
     "data": {
      "application/vnd.jupyter.widget-view+json": {
       "model_id": "8ce06646de92451c8ba6ef4d751f73d5",
       "version_major": 2,
       "version_minor": 0
      },
      "text/plain": [
       "Saving the dataset (0/1 shards):   0%|          | 0/6735 [00:00<?, ? examples/s]"
      ]
     },
     "metadata": {},
     "output_type": "display_data"
    }
   ],
   "source": [
    "\n",
    "train_dataset.save_to_disk('train_dataset')  # Save locally first\n",
    "test_dataset.save_to_disk('test_dataset')   # Save locally first\n",
    "test_dataset.save_to_disk('hold_back')   # Save locally first\n",
    "save_dataset_to_s3('train_dataset', bucket, f'{prefix}/train')  \n",
    "save_dataset_to_s3('test_dataset', bucket, f'{prefix}/test')\n",
    "save_dataset_to_s3('hold_back', bucket, f'{prefix}/hold_back')\n"
   ]
  },
  {
   "cell_type": "code",
   "execution_count": 39,
   "metadata": {},
   "outputs": [
    {
     "name": "stderr",
     "output_type": "stream",
     "text": [
      "/opt/conda/lib/python3.10/site-packages/huggingface_hub/file_download.py:1132: FutureWarning: `resume_download` is deprecated and will be removed in version 1.0.0. Downloads always resume when possible. If you want to force a new download, use `force_download=True`.\n",
      "  warnings.warn(\n"
     ]
    }
   ],
   "source": [
    "tokenizer = AutoTokenizer.from_pretrained(model_name)"
   ]
  },
  {
   "cell_type": "markdown",
   "metadata": {},
   "source": [
    "# Setup Experiment"
   ]
  },
  {
   "cell_type": "code",
   "execution_count": 40,
   "metadata": {},
   "outputs": [
    {
     "name": "stdout",
     "output_type": "stream",
     "text": [
      "SageMaker experiment name: exp-prajjwal1-bert-tiny\n",
      "SageMaker experiment run name: run-name-of-exp-prajjwal1-bert-tiny-2406222223-d2fe4\n",
      "SageMaker training job name: run-name-of-exp-prajjwal1-bert-tiny-2406222223-d2fe4\n"
     ]
    }
   ],
   "source": [
    "from datetime import datetime\n",
    "import uuid\n",
    "from sagemaker.experiments.run import Run\n",
    "time_suffix = datetime.now().strftime('%y%m%d%H%M')\n",
    "rand_id = uuid.uuid4().hex[:5] # this is the random-id assigned for each run. \n",
    "experiments_name = f\"exp-{model_name.replace('/', '-')}\"\n",
    "run_name = f\"run-name-of-{experiments_name}-{time_suffix}-{rand_id}\"\n",
    "job_name = run_name\n",
    "\n",
    "\n",
    "model_eval_s3_loc = f\"s3://{bucket}/{run_name}/modeleval\"\n",
    "model_output_s3_loc = f\"s3://{bucket}/{run_name}/modeloutput\"\n",
    "\n",
    "print(f\"SageMaker experiment name: {experiments_name}\")\n",
    "print(f\"SageMaker experiment run name: {run_name}\")\n",
    "print(f\"SageMaker training job name: {job_name}\")"
   ]
  },
  {
   "cell_type": "code",
   "execution_count": 41,
   "metadata": {},
   "outputs": [],
   "source": [
    "# Training with Hugging Face on SageMaker\n",
    "hyperparameters = {\n",
    "    'epochs': 1,\n",
    "    'train_batch_size': 64,\n",
    "    'model_id': model_name,\n",
    "}"
   ]
  },
  {
   "cell_type": "code",
   "execution_count": 42,
   "metadata": {},
   "outputs": [],
   "source": [
    "metric_definitions=[\n",
    "    {'Name': 'loss', 'Regex': \"'loss': ([0-9]+(.|e\\-)[0-9]+),?\"},\n",
    "    {'Name': 'learning_rate', 'Regex': \"'learning_rate': ([0-9]+(.|e\\-)[0-9]+),?\"},\n",
    "    {'Name': 'eval_loss', 'Regex': \"'eval_loss': ([0-9]+(.|e\\-)[0-9]+),?\"},\n",
    "    {'Name': 'eval_accuracy', 'Regex': \"'eval_accuracy': ([0-9]+(.|e\\-)[0-9]+),?\"},\n",
    "    {'Name': 'eval_f1', 'Regex': \"'eval_f1': ([0-9]+(.|e\\-)[0-9]+),?\"},\n",
    "    {'Name': 'eval_precision', 'Regex': \"'eval_precision': ([0-9]+(.|e\\-)[0-9]+),?\"},\n",
    "    {'Name': 'eval_recall', 'Regex': \"'eval_recall': ([0-9]+(.|e\\-)[0-9]+),?\"},\n",
    "    {'Name': 'eval_runtime', 'Regex': \"'eval_runtime': ([0-9]+(.|e\\-)[0-9]+),?\"},\n",
    "    {'Name': 'eval_samples_per_second', 'Regex': \"'eval_samples_per_second': ([0-9]+(.|e\\-)[0-9]+),?\"},\n",
    "    {'Name': 'epoch', 'Regex': \"'epoch': ([0-9]+(.|e\\-)[0-9]+),?\"}\n",
    "]"
   ]
  },
  {
   "cell_type": "markdown",
   "metadata": {},
   "source": [
    "# Start Training Run"
   ]
  },
  {
   "cell_type": "code",
   "execution_count": 43,
   "metadata": {},
   "outputs": [
    {
     "name": "stderr",
     "output_type": "stream",
     "text": [
      "INFO:sagemaker:Creating training-job with name: run-name-of-exp-prajjwal1-bert-tiny-240-2024-06-22-22-23-11-133\n"
     ]
    },
    {
     "name": "stdout",
     "output_type": "stream",
     "text": [
      "2024-06-22 22:23:11 Starting - Starting the training job...\n",
      "2024-06-22 22:23:26 Starting - Preparing the instances for training...\n",
      "2024-06-22 22:23:52 Downloading - Downloading input data...\n",
      "2024-06-22 22:24:27 Downloading - Downloading the training image..................\n",
      "2024-06-22 22:27:28 Training - Training image download completed. Training in progress..\u001b[34mbash: cannot set terminal process group (-1): Inappropriate ioctl for device\u001b[0m\n",
      "\u001b[34mbash: no job control in this shell\u001b[0m\n",
      "\u001b[34m2024-06-22 22:27:37,967 sagemaker-training-toolkit INFO     Imported framework sagemaker_pytorch_container.training\u001b[0m\n",
      "\u001b[34m2024-06-22 22:27:37,969 sagemaker-training-toolkit INFO     No GPUs detected (normal if no gpus installed)\u001b[0m\n",
      "\u001b[34m2024-06-22 22:27:37,971 sagemaker-training-toolkit INFO     No Neurons detected (normal if no neurons installed)\u001b[0m\n",
      "\u001b[34m2024-06-22 22:27:37,982 sagemaker_pytorch_container.training INFO     Block until all host DNS lookups succeed.\u001b[0m\n",
      "\u001b[34m2024-06-22 22:27:37,986 sagemaker_pytorch_container.training INFO     Invoking user training script.\u001b[0m\n",
      "\u001b[34m2024-06-22 22:27:39,247 sagemaker-training-toolkit INFO     No GPUs detected (normal if no gpus installed)\u001b[0m\n",
      "\u001b[34m2024-06-22 22:27:39,252 sagemaker-training-toolkit INFO     No Neurons detected (normal if no neurons installed)\u001b[0m\n",
      "\u001b[34m2024-06-22 22:27:39,271 sagemaker-training-toolkit INFO     No GPUs detected (normal if no gpus installed)\u001b[0m\n",
      "\u001b[34m2024-06-22 22:27:39,276 sagemaker-training-toolkit INFO     No Neurons detected (normal if no neurons installed)\u001b[0m\n",
      "\u001b[34m2024-06-22 22:27:39,294 sagemaker-training-toolkit INFO     No GPUs detected (normal if no gpus installed)\u001b[0m\n",
      "\u001b[34m2024-06-22 22:27:39,298 sagemaker-training-toolkit INFO     No Neurons detected (normal if no neurons installed)\u001b[0m\n",
      "\u001b[34m2024-06-22 22:27:39,314 sagemaker-training-toolkit INFO     Invoking user script\u001b[0m\n",
      "\u001b[34mTraining Env:\u001b[0m\n",
      "\u001b[34m{\n",
      "    \"additional_framework_parameters\": {},\n",
      "    \"channel_input_dirs\": {\n",
      "        \"test\": \"/opt/ml/input/data/test\",\n",
      "        \"train\": \"/opt/ml/input/data/train\"\n",
      "    },\n",
      "    \"current_host\": \"algo-1\",\n",
      "    \"current_instance_group\": \"homogeneousCluster\",\n",
      "    \"current_instance_group_hosts\": [\n",
      "        \"algo-1\"\n",
      "    ],\n",
      "    \"current_instance_type\": \"ml.m5.xlarge\",\n",
      "    \"distribution_hosts\": [],\n",
      "    \"distribution_instance_groups\": [],\n",
      "    \"framework_module\": \"sagemaker_pytorch_container.training:main\",\n",
      "    \"hosts\": [\n",
      "        \"algo-1\"\n",
      "    ],\n",
      "    \"hyperparameters\": {\n",
      "        \"epochs\": 1,\n",
      "        \"model_id\": \"prajjwal1/bert-tiny\",\n",
      "        \"train_batch_size\": 64\n",
      "    },\n",
      "    \"input_config_dir\": \"/opt/ml/input/config\",\n",
      "    \"input_data_config\": {\n",
      "        \"test\": {\n",
      "            \"TrainingInputMode\": \"File\",\n",
      "            \"S3DistributionType\": \"FullyReplicated\",\n",
      "            \"RecordWrapperType\": \"None\"\n",
      "        },\n",
      "        \"train\": {\n",
      "            \"TrainingInputMode\": \"File\",\n",
      "            \"S3DistributionType\": \"FullyReplicated\",\n",
      "            \"RecordWrapperType\": \"None\"\n",
      "        }\n",
      "    },\n",
      "    \"input_dir\": \"/opt/ml/input\",\n",
      "    \"instance_groups\": [\n",
      "        \"homogeneousCluster\"\n",
      "    ],\n",
      "    \"instance_groups_dict\": {\n",
      "        \"homogeneousCluster\": {\n",
      "            \"instance_group_name\": \"homogeneousCluster\",\n",
      "            \"instance_type\": \"ml.m5.xlarge\",\n",
      "            \"hosts\": [\n",
      "                \"algo-1\"\n",
      "            ]\n",
      "        }\n",
      "    },\n",
      "    \"is_hetero\": false,\n",
      "    \"is_master\": true,\n",
      "    \"is_modelparallel_enabled\": null,\n",
      "    \"is_smddpmprun_installed\": true,\n",
      "    \"job_name\": \"run-name-of-exp-prajjwal1-bert-tiny-240-2024-06-22-22-23-11-133\",\n",
      "    \"log_level\": 20,\n",
      "    \"master_hostname\": \"algo-1\",\n",
      "    \"model_dir\": \"/opt/ml/model\",\n",
      "    \"module_dir\": \"s3://sagemaker-us-east-1-873309100258/run-name-of-exp-prajjwal1-bert-tiny-240-2024-06-22-22-23-11-133/source/sourcedir.tar.gz\",\n",
      "    \"module_name\": \"train\",\n",
      "    \"network_interface_name\": \"eth0\",\n",
      "    \"num_cpus\": 4,\n",
      "    \"num_gpus\": 0,\n",
      "    \"num_neurons\": 0,\n",
      "    \"output_data_dir\": \"/opt/ml/output/data\",\n",
      "    \"output_dir\": \"/opt/ml/output\",\n",
      "    \"output_intermediate_dir\": \"/opt/ml/output/intermediate\",\n",
      "    \"resource_config\": {\n",
      "        \"current_host\": \"algo-1\",\n",
      "        \"current_instance_type\": \"ml.m5.xlarge\",\n",
      "        \"current_group_name\": \"homogeneousCluster\",\n",
      "        \"hosts\": [\n",
      "            \"algo-1\"\n",
      "        ],\n",
      "        \"instance_groups\": [\n",
      "            {\n",
      "                \"instance_group_name\": \"homogeneousCluster\",\n",
      "                \"instance_type\": \"ml.m5.xlarge\",\n",
      "                \"hosts\": [\n",
      "                    \"algo-1\"\n",
      "                ]\n",
      "            }\n",
      "        ],\n",
      "        \"network_interface_name\": \"eth0\"\n",
      "    },\n",
      "    \"user_entry_point\": \"train.py\"\u001b[0m\n",
      "\u001b[34m}\u001b[0m\n",
      "\u001b[34mEnvironment variables:\u001b[0m\n",
      "\u001b[34mSM_HOSTS=[\"algo-1\"]\u001b[0m\n",
      "\u001b[34mSM_NETWORK_INTERFACE_NAME=eth0\u001b[0m\n",
      "\u001b[34mSM_HPS={\"epochs\":1,\"model_id\":\"prajjwal1/bert-tiny\",\"train_batch_size\":64}\u001b[0m\n",
      "\u001b[34mSM_USER_ENTRY_POINT=train.py\u001b[0m\n",
      "\u001b[34mSM_FRAMEWORK_PARAMS={}\u001b[0m\n",
      "\u001b[34mSM_RESOURCE_CONFIG={\"current_group_name\":\"homogeneousCluster\",\"current_host\":\"algo-1\",\"current_instance_type\":\"ml.m5.xlarge\",\"hosts\":[\"algo-1\"],\"instance_groups\":[{\"hosts\":[\"algo-1\"],\"instance_group_name\":\"homogeneousCluster\",\"instance_type\":\"ml.m5.xlarge\"}],\"network_interface_name\":\"eth0\"}\u001b[0m\n",
      "\u001b[34mSM_INPUT_DATA_CONFIG={\"test\":{\"RecordWrapperType\":\"None\",\"S3DistributionType\":\"FullyReplicated\",\"TrainingInputMode\":\"File\"},\"train\":{\"RecordWrapperType\":\"None\",\"S3DistributionType\":\"FullyReplicated\",\"TrainingInputMode\":\"File\"}}\u001b[0m\n",
      "\u001b[34mSM_OUTPUT_DATA_DIR=/opt/ml/output/data\u001b[0m\n",
      "\u001b[34mSM_CHANNELS=[\"test\",\"train\"]\u001b[0m\n",
      "\u001b[34mSM_CURRENT_HOST=algo-1\u001b[0m\n",
      "\u001b[34mSM_CURRENT_INSTANCE_TYPE=ml.m5.xlarge\u001b[0m\n",
      "\u001b[34mSM_CURRENT_INSTANCE_GROUP=homogeneousCluster\u001b[0m\n",
      "\u001b[34mSM_CURRENT_INSTANCE_GROUP_HOSTS=[\"algo-1\"]\u001b[0m\n",
      "\u001b[34mSM_INSTANCE_GROUPS=[\"homogeneousCluster\"]\u001b[0m\n",
      "\u001b[34mSM_INSTANCE_GROUPS_DICT={\"homogeneousCluster\":{\"hosts\":[\"algo-1\"],\"instance_group_name\":\"homogeneousCluster\",\"instance_type\":\"ml.m5.xlarge\"}}\u001b[0m\n",
      "\u001b[34mSM_DISTRIBUTION_INSTANCE_GROUPS=[]\u001b[0m\n",
      "\u001b[34mSM_IS_HETERO=false\u001b[0m\n",
      "\u001b[34mSM_MODULE_NAME=train\u001b[0m\n",
      "\u001b[34mSM_LOG_LEVEL=20\u001b[0m\n",
      "\u001b[34mSM_FRAMEWORK_MODULE=sagemaker_pytorch_container.training:main\u001b[0m\n",
      "\u001b[34mSM_INPUT_DIR=/opt/ml/input\u001b[0m\n",
      "\u001b[34mSM_INPUT_CONFIG_DIR=/opt/ml/input/config\u001b[0m\n",
      "\u001b[34mSM_OUTPUT_DIR=/opt/ml/output\u001b[0m\n",
      "\u001b[34mSM_NUM_CPUS=4\u001b[0m\n",
      "\u001b[34mSM_NUM_GPUS=0\u001b[0m\n",
      "\u001b[34mSM_NUM_NEURONS=0\u001b[0m\n",
      "\u001b[34mSM_MODEL_DIR=/opt/ml/model\u001b[0m\n",
      "\u001b[34mSM_MODULE_DIR=s3://sagemaker-us-east-1-873309100258/run-name-of-exp-prajjwal1-bert-tiny-240-2024-06-22-22-23-11-133/source/sourcedir.tar.gz\u001b[0m\n",
      "\u001b[34mSM_TRAINING_ENV={\"additional_framework_parameters\":{},\"channel_input_dirs\":{\"test\":\"/opt/ml/input/data/test\",\"train\":\"/opt/ml/input/data/train\"},\"current_host\":\"algo-1\",\"current_instance_group\":\"homogeneousCluster\",\"current_instance_group_hosts\":[\"algo-1\"],\"current_instance_type\":\"ml.m5.xlarge\",\"distribution_hosts\":[],\"distribution_instance_groups\":[],\"framework_module\":\"sagemaker_pytorch_container.training:main\",\"hosts\":[\"algo-1\"],\"hyperparameters\":{\"epochs\":1,\"model_id\":\"prajjwal1/bert-tiny\",\"train_batch_size\":64},\"input_config_dir\":\"/opt/ml/input/config\",\"input_data_config\":{\"test\":{\"RecordWrapperType\":\"None\",\"S3DistributionType\":\"FullyReplicated\",\"TrainingInputMode\":\"File\"},\"train\":{\"RecordWrapperType\":\"None\",\"S3DistributionType\":\"FullyReplicated\",\"TrainingInputMode\":\"File\"}},\"input_dir\":\"/opt/ml/input\",\"instance_groups\":[\"homogeneousCluster\"],\"instance_groups_dict\":{\"homogeneousCluster\":{\"hosts\":[\"algo-1\"],\"instance_group_name\":\"homogeneousCluster\",\"instance_type\":\"ml.m5.xlarge\"}},\"is_hetero\":false,\"is_master\":true,\"is_modelparallel_enabled\":null,\"is_smddpmprun_installed\":true,\"job_name\":\"run-name-of-exp-prajjwal1-bert-tiny-240-2024-06-22-22-23-11-133\",\"log_level\":20,\"master_hostname\":\"algo-1\",\"model_dir\":\"/opt/ml/model\",\"module_dir\":\"s3://sagemaker-us-east-1-873309100258/run-name-of-exp-prajjwal1-bert-tiny-240-2024-06-22-22-23-11-133/source/sourcedir.tar.gz\",\"module_name\":\"train\",\"network_interface_name\":\"eth0\",\"num_cpus\":4,\"num_gpus\":0,\"num_neurons\":0,\"output_data_dir\":\"/opt/ml/output/data\",\"output_dir\":\"/opt/ml/output\",\"output_intermediate_dir\":\"/opt/ml/output/intermediate\",\"resource_config\":{\"current_group_name\":\"homogeneousCluster\",\"current_host\":\"algo-1\",\"current_instance_type\":\"ml.m5.xlarge\",\"hosts\":[\"algo-1\"],\"instance_groups\":[{\"hosts\":[\"algo-1\"],\"instance_group_name\":\"homogeneousCluster\",\"instance_type\":\"ml.m5.xlarge\"}],\"network_interface_name\":\"eth0\"},\"user_entry_point\":\"train.py\"}\u001b[0m\n",
      "\u001b[34mSM_USER_ARGS=[\"--epochs\",\"1\",\"--model_id\",\"prajjwal1/bert-tiny\",\"--train_batch_size\",\"64\"]\u001b[0m\n",
      "\u001b[34mSM_OUTPUT_INTERMEDIATE_DIR=/opt/ml/output/intermediate\u001b[0m\n",
      "\u001b[34mSM_CHANNEL_TEST=/opt/ml/input/data/test\u001b[0m\n",
      "\u001b[34mSM_CHANNEL_TRAIN=/opt/ml/input/data/train\u001b[0m\n",
      "\u001b[34mSM_HP_EPOCHS=1\u001b[0m\n",
      "\u001b[34mSM_HP_MODEL_ID=prajjwal1/bert-tiny\u001b[0m\n",
      "\u001b[34mSM_HP_TRAIN_BATCH_SIZE=64\u001b[0m\n",
      "\u001b[34mPYTHONPATH=/opt/ml/code:/opt/conda/bin:/opt/conda/lib/python39.zip:/opt/conda/lib/python3.9:/opt/conda/lib/python3.9/lib-dynload:/opt/conda/lib/python3.9/site-packages\u001b[0m\n",
      "\u001b[34mInvoking script with the following command:\u001b[0m\n",
      "\u001b[34m/opt/conda/bin/python3.9 train.py --epochs 1 --model_id prajjwal1/bert-tiny --train_batch_size 64\u001b[0m\n",
      "\u001b[34m2024-06-22 22:27:39,344 sagemaker-training-toolkit INFO     Exceptions not imported for SageMaker TF as Tensorflow is not installed.\u001b[0m\n",
      "\u001b[34mSome weights of the model checkpoint at prajjwal1/bert-tiny were not used when initializing BertForSequenceClassification: ['cls.predictions.bias', 'cls.predictions.decoder.weight', 'cls.predictions.transform.dense.bias', 'cls.predictions.transform.dense.weight', 'cls.predictions.decoder.bias', 'cls.predictions.transform.LayerNorm.bias', 'cls.seq_relationship.bias', 'cls.predictions.transform.LayerNorm.weight', 'cls.seq_relationship.weight']\u001b[0m\n",
      "\u001b[34m- This IS expected if you are initializing BertForSequenceClassification from the checkpoint of a model trained on another task or with another architecture (e.g. initializing a BertForSequenceClassification model from a BertForPreTraining model).\u001b[0m\n",
      "\u001b[34m- This IS NOT expected if you are initializing BertForSequenceClassification from the checkpoint of a model that you expect to be exactly identical (initializing a BertForSequenceClassification model from a BertForSequenceClassification model).\u001b[0m\n",
      "\u001b[34mSome weights of BertForSequenceClassification were not initialized from the model checkpoint at prajjwal1/bert-tiny and are newly initialized: ['classifier.weight', 'classifier.bias']\u001b[0m\n",
      "\u001b[34mYou should probably TRAIN this model on a down-stream task to be able to use it for predictions and inference.\u001b[0m\n",
      "\u001b[34mSome weights of the model checkpoint at prajjwal1/bert-tiny were not used when initializing BertForSequenceClassification: ['cls.predictions.bias', 'cls.predictions.decoder.weight', 'cls.predictions.transform.dense.bias', 'cls.predictions.transform.dense.weight', 'cls.predictions.decoder.bias', 'cls.predictions.transform.LayerNorm.bias', 'cls.seq_relationship.bias', 'cls.predictions.transform.LayerNorm.weight', 'cls.seq_relationship.weight']\u001b[0m\n",
      "\u001b[34m- This IS expected if you are initializing BertForSequenceClassification from the checkpoint of a model trained on another task or with another architecture (e.g. initializing a BertForSequenceClassification model from a BertForPreTraining model).\u001b[0m\n",
      "\u001b[34m- This IS NOT expected if you are initializing BertForSequenceClassification from the checkpoint of a model that you expect to be exactly identical (initializing a BertForSequenceClassification model from a BertForSequenceClassification model).\u001b[0m\n",
      "\u001b[34mSome weights of BertForSequenceClassification were not initialized from the model checkpoint at prajjwal1/bert-tiny and are newly initialized: ['classifier.weight', 'classifier.bias']\u001b[0m\n",
      "\u001b[34mYou should probably TRAIN this model on a down-stream task to be able to use it for predictions and inference.\u001b[0m\n",
      "\u001b[34mMap:   0%|          | 0/31428 [00:00<?, ? examples/s]\u001b[0m\n",
      "\u001b[34mMap:   3%|▎         | 1000/31428 [00:00<00:19, 1555.92 examples/s]\u001b[0m\n",
      "\u001b[34mMap:   6%|▋         | 2000/31428 [00:01<00:18, 1550.12 examples/s]\u001b[0m\n",
      "\u001b[34mMap:  10%|▉         | 3000/31428 [00:01<00:17, 1592.34 examples/s]\u001b[0m\n",
      "\u001b[34mMap:  13%|█▎        | 4000/31428 [00:02<00:17, 1598.01 examples/s]\u001b[0m\n",
      "\u001b[34mMap:  16%|█▌        | 5000/31428 [00:03<00:16, 1587.06 examples/s]\u001b[0m\n",
      "\u001b[34mMap:  19%|█▉        | 6000/31428 [00:03<00:15, 1598.72 examples/s]\u001b[0m\n",
      "\u001b[34mMap:  22%|██▏       | 7000/31428 [00:04<00:15, 1602.39 examples/s]\u001b[0m\n",
      "\u001b[34mMap:  25%|██▌       | 8000/31428 [00:05<00:14, 1591.95 examples/s]\u001b[0m\n",
      "\u001b[34mMap:  29%|██▊       | 9000/31428 [00:05<00:14, 1568.34 examples/s]\u001b[0m\n",
      "\u001b[34mMap:  32%|███▏      | 10000/31428 [00:06<00:14, 1513.58 examples/s]\u001b[0m\n",
      "\u001b[34mMap:  35%|███▌      | 11000/31428 [00:07<00:13, 1518.23 examples/s]\u001b[0m\n",
      "\u001b[34mMap:  38%|███▊      | 12000/31428 [00:07<00:12, 1541.88 examples/s]\u001b[0m\n",
      "\u001b[34mMap:  41%|████▏     | 13000/31428 [00:08<00:11, 1546.30 examples/s]\u001b[0m\n",
      "\u001b[34mMap:  45%|████▍     | 14000/31428 [00:08<00:11, 1574.59 examples/s]\u001b[0m\n",
      "\u001b[34mMap:  48%|████▊     | 15000/31428 [00:09<00:10, 1570.47 examples/s]\u001b[0m\n",
      "\u001b[34mMap:  51%|█████     | 16000/31428 [00:10<00:09, 1557.12 examples/s]\u001b[0m\n",
      "\u001b[34mMap:  54%|█████▍    | 17000/31428 [00:10<00:09, 1550.25 examples/s]\u001b[0m\n",
      "\u001b[34mMap:  57%|█████▋    | 18000/31428 [00:11<00:08, 1550.32 examples/s]\u001b[0m\n",
      "\u001b[34mMap:  60%|██████    | 19000/31428 [00:12<00:07, 1557.52 examples/s]\u001b[0m\n",
      "\u001b[34mMap:  64%|██████▎   | 20000/31428 [00:12<00:07, 1567.38 examples/s]\u001b[0m\n",
      "\u001b[34mMap:  67%|██████▋   | 21000/31428 [00:13<00:06, 1562.04 examples/s]\u001b[0m\n",
      "\u001b[34mMap:  70%|███████   | 22000/31428 [00:14<00:05, 1576.13 examples/s]\u001b[0m\n",
      "\u001b[34mMap:  73%|███████▎  | 23000/31428 [00:14<00:05, 1568.55 examples/s]\u001b[0m\n",
      "\u001b[34mMap:  76%|███████▋  | 24000/31428 [00:15<00:04, 1585.69 examples/s]\u001b[0m\n",
      "\u001b[34mMap:  80%|███████▉  | 25000/31428 [00:15<00:04, 1582.94 examples/s]\u001b[0m\n",
      "\u001b[34mMap:  83%|████████▎ | 26000/31428 [00:16<00:03, 1590.86 examples/s]\u001b[0m\n",
      "\u001b[34mMap:  86%|████████▌ | 27000/31428 [00:17<00:02, 1592.83 examples/s]\u001b[0m\n",
      "\u001b[34mMap:  89%|████████▉ | 28000/31428 [00:17<00:02, 1527.95 examples/s]\u001b[0m\n",
      "\u001b[34mMap:  92%|█████████▏| 29000/31428 [00:18<00:01, 1534.77 examples/s]\u001b[0m\n",
      "\u001b[34mMap:  95%|█████████▌| 30000/31428 [00:19<00:00, 1510.46 examples/s]\u001b[0m\n",
      "\u001b[34mMap:  99%|█████████▊| 31000/31428 [00:19<00:00, 1451.53 examples/s]\u001b[0m\n",
      "\u001b[34mMap: 100%|██████████| 31428/31428 [00:20<00:00, 1422.64 examples/s]\u001b[0m\n",
      "\u001b[34mMap: 100%|██████████| 31428/31428 [00:20<00:00, 1525.71 examples/s]\u001b[0m\n",
      "\u001b[34mMap:   0%|          | 0/6735 [00:00<?, ? examples/s]\u001b[0m\n",
      "\u001b[34mMap:  15%|█▍        | 1000/6735 [00:00<00:04, 1415.21 examples/s]\u001b[0m\n",
      "\u001b[34mMap:  30%|██▉       | 2000/6735 [00:01<00:03, 1482.11 examples/s]\u001b[0m\n",
      "\u001b[34mMap:  45%|████▍     | 3000/6735 [00:02<00:02, 1484.73 examples/s]\u001b[0m\n",
      "\u001b[34mMap:  59%|█████▉    | 4000/6735 [00:02<00:01, 1531.06 examples/s]\u001b[0m\n",
      "\u001b[34mMap:  74%|███████▍  | 5000/6735 [00:03<00:01, 1546.94 examples/s]\u001b[0m\n",
      "\u001b[34mMap:  89%|████████▉ | 6000/6735 [00:03<00:00, 1563.21 examples/s]\u001b[0m\n",
      "\u001b[34mMap: 100%|██████████| 6735/6735 [00:04<00:00, 1552.91 examples/s]\u001b[0m\n",
      "\u001b[34mMap: 100%|██████████| 6735/6735 [00:04<00:00, 1506.39 examples/s]\u001b[0m\n",
      "\u001b[34m2024-06-22 22:28:08,016 - __main__ - INFO -  loaded train_dataset length is: 31428\u001b[0m\n",
      "\u001b[34m2024-06-22 22:28:08,016 - __main__ - INFO -  loaded test_dataset length is: 6735\u001b[0m\n",
      "\u001b[34m/opt/ml/code/train.py:86: FutureWarning: load_metric is deprecated and will be removed in the next major version of datasets. Use 'evaluate.load' instead, from the new library 🤗 Evaluate: https://huggingface.co/docs/evaluate\n",
      "  metric = load_metric(\"accuracy\")\u001b[0m\n",
      "\u001b[34m/opt/conda/lib/python3.9/site-packages/datasets/load.py:752: FutureWarning: The repository for accuracy contains custom code which must be executed to correctly load the metric. You can inspect the repository content at https://raw.githubusercontent.com/huggingface/datasets/2.16.1/metrics/accuracy/accuracy.py\u001b[0m\n",
      "\u001b[34mYou can avoid this message in future by passing the argument `trust_remote_code=True`.\u001b[0m\n",
      "\u001b[34mPassing `trust_remote_code=True` will be mandatory to load this metric from the next major release of `datasets`.\n",
      "  warnings.warn(\u001b[0m\n",
      "\u001b[34mDownloading builder script:   0%|          | 0.00/1.65k [00:00<?, ?B/s]\u001b[0m\n",
      "\u001b[34mDownloading builder script: 4.21kB [00:00, 3.11MB/s]\u001b[0m\n",
      "\u001b[34mThe following columns in the training set don't have a corresponding argument in `BertForSequenceClassification.forward` and have been ignored: __index_level_0__, stopwords_removed. If __index_level_0__, stopwords_removed are not expected by `BertForSequenceClassification.forward`,  you can safely ignore this message.\u001b[0m\n",
      "\u001b[34mThe following columns in the training set don't have a corresponding argument in `BertForSequenceClassification.forward` and have been ignored: __index_level_0__, stopwords_removed. If __index_level_0__, stopwords_removed are not expected by `BertForSequenceClassification.forward`,  you can safely ignore this message.\u001b[0m\n",
      "\u001b[34m/opt/conda/lib/python3.9/site-packages/transformers/optimization.py:306: FutureWarning: This implementation of AdamW is deprecated and will be removed in a future version. Use the PyTorch implementation torch.optim.AdamW instead, or set `no_deprecation_warning=True` to disable this warning\n",
      "  warnings.warn(\u001b[0m\n",
      "\u001b[34m***** Running training *****\n",
      "  Num examples = 31428\n",
      "  Num Epochs = 1\u001b[0m\n",
      "\u001b[34mInstantaneous batch size per device = 64\n",
      "  Total train batch size (w. parallel, distributed & accumulation) = 64\n",
      "  Gradient Accumulation steps = 1\u001b[0m\n",
      "\u001b[34m***** Running training *****\n",
      "  Num examples = 31428\n",
      "  Num Epochs = 1\n",
      "  Instantaneous batch size per device = 64\n",
      "  Total train batch size (w. parallel, distributed & accumulation) = 64\n",
      "  Gradient Accumulation steps = 1\u001b[0m\n",
      "\u001b[34mTotal optimization steps = 492\u001b[0m\n",
      "\u001b[34mTotal optimization steps = 492\u001b[0m\n",
      "\u001b[34mNumber of trainable parameters = 4386178\u001b[0m\n",
      "\u001b[34mNumber of trainable parameters = 4386178\u001b[0m\n",
      "\u001b[34m0%|          | 0/492 [00:00<?, ?it/s]\u001b[0m\n",
      "\u001b[34m[2024-06-22 22:28:08.241 algo-1:44 INFO utils.py:28] RULE_JOB_STOP_SIGNAL_FILENAME: None\u001b[0m\n",
      "\u001b[34m[2024-06-22 22:28:08.306 algo-1:44 INFO profiler_config_parser.py:111] User has disabled profiler.\u001b[0m\n",
      "\u001b[34m[2024-06-22 22:28:08.307 algo-1:44 INFO json_config.py:92] Creating hook from json_config at /opt/ml/input/config/debughookconfig.json.\u001b[0m\n",
      "\u001b[34m[2024-06-22 22:28:08.308 algo-1:44 INFO hook.py:206] tensorboard_dir has not been set for the hook. SMDebug will not be exporting tensorboard summaries.\u001b[0m\n",
      "\u001b[34m[2024-06-22 22:28:08.308 algo-1:44 INFO hook.py:259] Saving to /opt/ml/output/tensors\u001b[0m\n",
      "\u001b[34m[2024-06-22 22:28:08.308 algo-1:44 INFO state_store.py:77] The checkpoint config file /opt/ml/input/config/checkpointconfig.json does not exist.\u001b[0m\n",
      "\u001b[34mYou're using a BertTokenizerFast tokenizer. Please note that with a fast tokenizer, using the `__call__` method is faster than using a method to encode the text followed by a call to the `pad` method to get a padded encoding.\u001b[0m\n",
      "\u001b[34mYou're using a BertTokenizerFast tokenizer. Please note that with a fast tokenizer, using the `__call__` method is faster than using a method to encode the text followed by a call to the `pad` method to get a padded encoding.\u001b[0m\n",
      "\u001b[34m0%|          | 1/492 [00:02<21:48,  2.67s/it]\u001b[0m\n",
      "\u001b[34m0%|          | 2/492 [00:04<19:57,  2.44s/it]\u001b[0m\n",
      "\u001b[34m1%|          | 3/492 [00:07<19:05,  2.34s/it]\u001b[0m\n",
      "\u001b[34m1%|          | 4/492 [00:09<18:45,  2.31s/it]\u001b[0m\n",
      "\u001b[34m1%|          | 5/492 [00:11<18:34,  2.29s/it]\u001b[0m\n",
      "\u001b[34m1%|          | 6/492 [00:13<18:22,  2.27s/it]\u001b[0m\n",
      "\u001b[34m1%|▏         | 7/492 [00:16<18:11,  2.25s/it]\u001b[0m\n",
      "\u001b[34m2%|▏         | 8/492 [00:18<18:04,  2.24s/it]\u001b[0m\n",
      "\u001b[34m2%|▏         | 9/492 [00:20<18:03,  2.24s/it]\u001b[0m\n",
      "\u001b[34m2%|▏         | 10/492 [00:22<18:03,  2.25s/it]\u001b[0m\n",
      "\u001b[34m2%|▏         | 11/492 [00:25<18:00,  2.25s/it]\u001b[0m\n",
      "\u001b[34m2%|▏         | 12/492 [00:27<18:02,  2.25s/it]\u001b[0m\n",
      "\u001b[34m3%|▎         | 13/492 [00:29<18:03,  2.26s/it]\u001b[0m\n",
      "\u001b[34m3%|▎         | 14/492 [00:31<18:06,  2.27s/it]\u001b[0m\n",
      "\u001b[34m3%|▎         | 15/492 [00:34<18:02,  2.27s/it]\u001b[0m\n",
      "\u001b[34m3%|▎         | 16/492 [00:36<17:55,  2.26s/it]\u001b[0m\n",
      "\u001b[34m3%|▎         | 17/492 [00:38<17:51,  2.26s/it]\u001b[0m\n",
      "\u001b[34m4%|▎         | 18/492 [00:40<17:47,  2.25s/it]\u001b[0m\n",
      "\u001b[34m4%|▍         | 19/492 [00:43<17:49,  2.26s/it]\u001b[0m\n",
      "\u001b[34m4%|▍         | 20/492 [00:45<17:40,  2.25s/it]\u001b[0m\n",
      "\u001b[34m4%|▍         | 21/492 [00:47<17:44,  2.26s/it]\u001b[0m\n",
      "\u001b[34m4%|▍         | 22/492 [00:49<17:37,  2.25s/it]\u001b[0m\n",
      "\u001b[34m5%|▍         | 23/492 [00:52<17:35,  2.25s/it]\u001b[0m\n",
      "\u001b[34m5%|▍         | 24/492 [00:54<18:23,  2.36s/it]\u001b[0m\n",
      "\u001b[34m5%|▌         | 25/492 [00:57<18:36,  2.39s/it]\u001b[0m\n",
      "\u001b[34m5%|▌         | 26/492 [00:59<18:12,  2.34s/it]\u001b[0m\n",
      "\u001b[34m5%|▌         | 27/492 [01:01<17:57,  2.32s/it]\u001b[0m\n",
      "\u001b[34m6%|▌         | 28/492 [01:04<17:46,  2.30s/it]\u001b[0m\n",
      "\u001b[34m6%|▌         | 29/492 [01:06<17:41,  2.29s/it]\u001b[0m\n",
      "\u001b[34m6%|▌         | 30/492 [01:08<17:34,  2.28s/it]\u001b[0m\n",
      "\u001b[34m6%|▋         | 31/492 [01:10<17:26,  2.27s/it]\u001b[0m\n",
      "\u001b[34m7%|▋         | 32/492 [01:13<17:22,  2.27s/it]\u001b[0m\n",
      "\u001b[34m7%|▋         | 33/492 [01:15<17:13,  2.25s/it]\u001b[0m\n",
      "\u001b[34m7%|▋         | 34/492 [01:17<17:12,  2.25s/it]\u001b[0m\n",
      "\u001b[34m7%|▋         | 35/492 [01:19<17:12,  2.26s/it]\u001b[0m\n",
      "\u001b[34m7%|▋         | 36/492 [01:22<17:10,  2.26s/it]\u001b[0m\n",
      "\u001b[34m8%|▊         | 37/492 [01:24<17:03,  2.25s/it]\u001b[0m\n",
      "\u001b[34m8%|▊         | 38/492 [01:26<17:00,  2.25s/it]\u001b[0m\n",
      "\u001b[34m8%|▊         | 39/492 [01:28<16:57,  2.25s/it]\u001b[0m\n",
      "\u001b[34m8%|▊         | 40/492 [01:31<17:01,  2.26s/it]\u001b[0m\n",
      "\u001b[34m8%|▊         | 41/492 [01:33<17:01,  2.27s/it]\u001b[0m\n",
      "\u001b[34m9%|▊         | 42/492 [01:35<17:00,  2.27s/it]\u001b[0m\n",
      "\u001b[34m9%|▊         | 43/492 [01:37<16:50,  2.25s/it]\u001b[0m\n",
      "\u001b[34m9%|▉         | 44/492 [01:40<16:44,  2.24s/it]\u001b[0m\n",
      "\u001b[34m9%|▉         | 45/492 [01:42<16:41,  2.24s/it]\u001b[0m\n",
      "\u001b[34m9%|▉         | 46/492 [01:44<16:41,  2.25s/it]\u001b[0m\n",
      "\u001b[34m10%|▉         | 47/492 [01:46<16:40,  2.25s/it]\u001b[0m\n",
      "\u001b[34m10%|▉         | 48/492 [01:49<16:37,  2.25s/it]\u001b[0m\n",
      "\u001b[34m10%|▉         | 49/492 [01:51<16:31,  2.24s/it]\u001b[0m\n",
      "\u001b[34m10%|█         | 50/492 [01:53<16:31,  2.24s/it]\u001b[0m\n",
      "\u001b[34m10%|█         | 51/492 [01:56<17:53,  2.43s/it]\u001b[0m\n",
      "\u001b[34m11%|█         | 52/492 [01:58<17:40,  2.41s/it]\u001b[0m\n",
      "\u001b[34m11%|█         | 53/492 [02:01<17:21,  2.37s/it]\u001b[0m\n",
      "\u001b[34m11%|█         | 54/492 [02:03<17:05,  2.34s/it]\u001b[0m\n",
      "\u001b[34m11%|█         | 55/492 [02:05<16:54,  2.32s/it]\u001b[0m\n",
      "\u001b[34m11%|█▏        | 56/492 [02:07<16:42,  2.30s/it]\u001b[0m\n",
      "\u001b[34m12%|█▏        | 57/492 [02:10<16:26,  2.27s/it]\u001b[0m\n",
      "\u001b[34m12%|█▏        | 58/492 [02:12<16:19,  2.26s/it]\u001b[0m\n",
      "\u001b[34m12%|█▏        | 59/492 [02:14<16:17,  2.26s/it]\u001b[0m\n",
      "\u001b[34m12%|█▏        | 60/492 [02:16<16:12,  2.25s/it]\u001b[0m\n",
      "\u001b[34m12%|█▏        | 61/492 [02:19<16:16,  2.27s/it]\u001b[0m\n",
      "\u001b[34m13%|█▎        | 62/492 [02:21<16:13,  2.26s/it]\u001b[0m\n",
      "\u001b[34m13%|█▎        | 63/492 [02:23<16:10,  2.26s/it]\u001b[0m\n",
      "\u001b[34m13%|█▎        | 64/492 [02:25<16:03,  2.25s/it]\u001b[0m\n",
      "\u001b[34m13%|█▎        | 65/492 [02:28<16:04,  2.26s/it]\u001b[0m\n",
      "\u001b[34m13%|█▎        | 66/492 [02:30<15:57,  2.25s/it]\u001b[0m\n",
      "\u001b[34m14%|█▎        | 67/492 [02:32<15:55,  2.25s/it]\u001b[0m\n",
      "\u001b[34m14%|█▍        | 68/492 [02:34<15:52,  2.25s/it]\u001b[0m\n",
      "\u001b[34m14%|█▍        | 69/492 [02:37<15:53,  2.25s/it]\u001b[0m\n",
      "\u001b[34m14%|█▍        | 70/492 [02:39<15:49,  2.25s/it]\u001b[0m\n",
      "\u001b[34m14%|█▍        | 71/492 [02:41<15:48,  2.25s/it]\u001b[0m\n",
      "\u001b[34m15%|█▍        | 72/492 [02:43<15:45,  2.25s/it]\u001b[0m\n",
      "\u001b[34m15%|█▍        | 73/492 [02:46<15:40,  2.24s/it]\u001b[0m\n",
      "\u001b[34m15%|█▌        | 74/492 [02:48<15:36,  2.24s/it]\u001b[0m\n",
      "\u001b[34m15%|█▌        | 75/492 [02:50<15:35,  2.24s/it]\u001b[0m\n",
      "\u001b[34m15%|█▌        | 76/492 [02:52<15:35,  2.25s/it]\u001b[0m\n",
      "\u001b[34m16%|█▌        | 77/492 [02:55<17:12,  2.49s/it]\u001b[0m\n",
      "\u001b[34m16%|█▌        | 78/492 [02:58<16:41,  2.42s/it]\u001b[0m\n",
      "\u001b[34m16%|█▌        | 79/492 [03:00<16:19,  2.37s/it]\u001b[0m\n",
      "\u001b[34m16%|█▋        | 80/492 [03:02<16:01,  2.33s/it]\u001b[0m\n",
      "\u001b[34m16%|█▋        | 81/492 [03:04<15:49,  2.31s/it]\u001b[0m\n",
      "\u001b[34m17%|█▋        | 82/492 [03:07<15:45,  2.31s/it]\u001b[0m\n",
      "\u001b[34m17%|█▋        | 83/492 [03:09<15:38,  2.30s/it]\u001b[0m\n",
      "\u001b[34m17%|█▋        | 84/492 [03:11<15:29,  2.28s/it]\u001b[0m\n",
      "\u001b[34m17%|█▋        | 85/492 [03:13<15:18,  2.26s/it]\u001b[0m\n",
      "\u001b[34m17%|█▋        | 86/492 [03:16<15:16,  2.26s/it]\u001b[0m\n",
      "\u001b[34m18%|█▊        | 87/492 [03:18<15:15,  2.26s/it]\u001b[0m\n",
      "\u001b[34m18%|█▊        | 88/492 [03:20<15:17,  2.27s/it]\u001b[0m\n",
      "\u001b[34m18%|█▊        | 89/492 [03:22<15:11,  2.26s/it]\u001b[0m\n",
      "\u001b[34m18%|█▊        | 90/492 [03:25<15:02,  2.25s/it]\u001b[0m\n",
      "\u001b[34m18%|█▊        | 91/492 [03:27<14:57,  2.24s/it]\u001b[0m\n",
      "\u001b[34m19%|█▊        | 92/492 [03:29<14:57,  2.24s/it]\u001b[0m\n",
      "\u001b[34m19%|█▉        | 93/492 [03:31<15:04,  2.27s/it]\u001b[0m\n",
      "\u001b[34m19%|█▉        | 94/492 [03:34<14:59,  2.26s/it]\u001b[0m\n",
      "\u001b[34m19%|█▉        | 95/492 [03:36<14:57,  2.26s/it]\u001b[0m\n",
      "\u001b[34m20%|█▉        | 96/492 [03:38<14:53,  2.26s/it]\u001b[0m\n",
      "\u001b[34m20%|█▉        | 97/492 [03:40<14:44,  2.24s/it]\u001b[0m\n",
      "\u001b[34m20%|█▉        | 98/492 [03:43<14:48,  2.25s/it]\u001b[0m\n",
      "\u001b[34m20%|██        | 99/492 [03:45<14:45,  2.25s/it]\u001b[0m\n",
      "\u001b[34m20%|██        | 100/492 [03:47<14:42,  2.25s/it]\u001b[0m\n",
      "\u001b[34m21%|██        | 101/492 [03:49<14:40,  2.25s/it]\u001b[0m\n",
      "\u001b[34m21%|██        | 102/492 [03:52<14:42,  2.26s/it]\u001b[0m\n",
      "\u001b[34m21%|██        | 103/492 [03:54<15:22,  2.37s/it]\u001b[0m\n",
      "\u001b[34m21%|██        | 104/492 [03:57<15:34,  2.41s/it]\u001b[0m\n",
      "\u001b[34m21%|██▏       | 105/492 [03:59<15:16,  2.37s/it]\u001b[0m\n",
      "\u001b[34m22%|██▏       | 106/492 [04:01<14:59,  2.33s/it]\u001b[0m\n",
      "\u001b[34m22%|██▏       | 107/492 [04:04<14:48,  2.31s/it]\u001b[0m\n",
      "\u001b[34m22%|██▏       | 108/492 [04:06<14:40,  2.29s/it]\u001b[0m\n",
      "\u001b[34m22%|██▏       | 109/492 [04:08<14:32,  2.28s/it]\u001b[0m\n",
      "\u001b[34m22%|██▏       | 110/492 [04:10<14:28,  2.27s/it]\u001b[0m\n",
      "\u001b[34m23%|██▎       | 111/492 [04:13<14:23,  2.27s/it]\u001b[0m\n",
      "\u001b[34m23%|██▎       | 112/492 [04:15<14:17,  2.26s/it]\u001b[0m\n",
      "\u001b[34m23%|██▎       | 113/492 [04:17<14:12,  2.25s/it]\u001b[0m\n",
      "\u001b[34m23%|██▎       | 114/492 [04:19<14:10,  2.25s/it]\u001b[0m\n",
      "\u001b[34m23%|██▎       | 115/492 [04:22<14:09,  2.25s/it]\u001b[0m\n",
      "\u001b[34m24%|██▎       | 116/492 [04:24<14:05,  2.25s/it]\u001b[0m\n",
      "\u001b[34m24%|██▍       | 117/492 [04:26<13:59,  2.24s/it]\u001b[0m\n",
      "\u001b[34m24%|██▍       | 118/492 [04:28<13:57,  2.24s/it]\u001b[0m\n",
      "\u001b[34m24%|██▍       | 119/492 [04:31<13:52,  2.23s/it]\u001b[0m\n",
      "\u001b[34m24%|██▍       | 120/492 [04:33<13:48,  2.23s/it]\u001b[0m\n",
      "\u001b[34m25%|██▍       | 121/492 [04:35<13:50,  2.24s/it]\u001b[0m\n",
      "\u001b[34m25%|██▍       | 122/492 [04:37<13:44,  2.23s/it]\u001b[0m\n",
      "\u001b[34m25%|██▌       | 123/492 [04:39<13:44,  2.24s/it]\u001b[0m\n",
      "\u001b[34m25%|██▌       | 124/492 [04:42<13:44,  2.24s/it]\u001b[0m\n",
      "\u001b[34m25%|██▌       | 125/492 [04:44<13:44,  2.25s/it]\u001b[0m\n",
      "\u001b[34m26%|██▌       | 126/492 [04:46<13:42,  2.25s/it]\u001b[0m\n",
      "\u001b[34m26%|██▌       | 127/492 [04:48<13:40,  2.25s/it]\u001b[0m\n",
      "\u001b[34m26%|██▌       | 128/492 [04:51<13:38,  2.25s/it]\u001b[0m\n",
      "\u001b[34m26%|██▌       | 129/492 [04:53<13:54,  2.30s/it]\u001b[0m\n",
      "\u001b[34m26%|██▋       | 130/492 [04:56<14:33,  2.41s/it]\u001b[0m\n",
      "\u001b[34m27%|██▋       | 131/492 [04:58<14:15,  2.37s/it]\u001b[0m\n",
      "\u001b[34m27%|██▋       | 132/492 [05:00<13:54,  2.32s/it]\u001b[0m\n",
      "\u001b[34m27%|██▋       | 133/492 [05:02<13:42,  2.29s/it]\u001b[0m\n",
      "\u001b[34m27%|██▋       | 134/492 [05:05<13:34,  2.27s/it]\u001b[0m\n",
      "\u001b[34m27%|██▋       | 135/492 [05:07<13:31,  2.27s/it]\u001b[0m\n",
      "\u001b[34m28%|██▊       | 136/492 [05:09<13:19,  2.25s/it]\u001b[0m\n",
      "\u001b[34m28%|██▊       | 137/492 [05:11<13:14,  2.24s/it]\u001b[0m\n",
      "\u001b[34m28%|██▊       | 138/492 [05:14<13:09,  2.23s/it]\u001b[0m\n",
      "\u001b[34m28%|██▊       | 139/492 [05:16<13:02,  2.22s/it]\u001b[0m\n",
      "\u001b[34m28%|██▊       | 140/492 [05:18<13:00,  2.22s/it]\u001b[0m\n",
      "\u001b[34m29%|██▊       | 141/492 [05:20<13:00,  2.22s/it]\u001b[0m\n",
      "\u001b[34m29%|██▉       | 142/492 [05:22<13:00,  2.23s/it]\u001b[0m\n",
      "\u001b[34m29%|██▉       | 143/492 [05:25<13:47,  2.37s/it]\u001b[0m\n",
      "\u001b[34m29%|██▉       | 144/492 [05:27<13:34,  2.34s/it]\u001b[0m\n",
      "\u001b[34m29%|██▉       | 145/492 [05:30<13:22,  2.31s/it]\u001b[0m\n",
      "\u001b[34m30%|██▉       | 146/492 [05:32<13:11,  2.29s/it]\u001b[0m\n",
      "\u001b[34m30%|██▉       | 147/492 [05:34<13:04,  2.27s/it]\u001b[0m\n",
      "\u001b[34m30%|███       | 148/492 [05:36<12:59,  2.27s/it]\u001b[0m\n",
      "\u001b[34m30%|███       | 149/492 [05:39<12:48,  2.24s/it]\u001b[0m\n",
      "\u001b[34m30%|███       | 150/492 [05:41<12:42,  2.23s/it]\u001b[0m\n",
      "\u001b[34m31%|███       | 151/492 [05:43<12:39,  2.23s/it]\u001b[0m\n",
      "\u001b[34m31%|███       | 152/492 [05:45<12:41,  2.24s/it]\u001b[0m\n",
      "\u001b[34m31%|███       | 153/492 [05:47<12:33,  2.22s/it]\u001b[0m\n",
      "\u001b[34m31%|███▏      | 154/492 [05:50<12:27,  2.21s/it]\u001b[0m\n",
      "\u001b[34m32%|███▏      | 155/492 [05:52<12:26,  2.22s/it]\u001b[0m\n",
      "\u001b[34m32%|███▏      | 156/492 [05:55<13:05,  2.34s/it]\u001b[0m\n",
      "\u001b[34m32%|███▏      | 157/492 [05:57<13:11,  2.36s/it]\u001b[0m\n",
      "\u001b[34m32%|███▏      | 158/492 [05:59<13:01,  2.34s/it]\u001b[0m\n",
      "\u001b[34m32%|███▏      | 159/492 [06:02<12:54,  2.33s/it]\u001b[0m\n",
      "\u001b[34m33%|███▎      | 160/492 [06:04<12:44,  2.30s/it]\u001b[0m\n",
      "\u001b[34m33%|███▎      | 161/492 [06:06<12:41,  2.30s/it]\u001b[0m\n",
      "\u001b[34m33%|███▎      | 162/492 [06:08<12:34,  2.29s/it]\u001b[0m\n",
      "\u001b[34m33%|███▎      | 163/492 [06:11<12:29,  2.28s/it]\u001b[0m\n",
      "\u001b[34m33%|███▎      | 164/492 [06:13<12:24,  2.27s/it]\u001b[0m\n",
      "\u001b[34m34%|███▎      | 165/492 [06:15<12:16,  2.25s/it]\u001b[0m\n",
      "\u001b[34m34%|███▎      | 166/492 [06:17<12:13,  2.25s/it]\u001b[0m\n",
      "\u001b[34m34%|███▍      | 167/492 [06:20<12:13,  2.26s/it]\u001b[0m\n",
      "\u001b[34m34%|███▍      | 168/492 [06:22<12:15,  2.27s/it]\u001b[0m\n",
      "\u001b[34m34%|███▍      | 169/492 [06:24<12:15,  2.28s/it]\u001b[0m\n",
      "\u001b[34m35%|███▍      | 170/492 [06:26<12:14,  2.28s/it]\u001b[0m\n",
      "\u001b[34m35%|███▍      | 171/492 [06:29<12:04,  2.26s/it]\u001b[0m\n",
      "\u001b[34m35%|███▍      | 172/492 [06:31<11:57,  2.24s/it]\u001b[0m\n",
      "\u001b[34m35%|███▌      | 173/492 [06:33<11:55,  2.24s/it]\u001b[0m\n",
      "\u001b[34m35%|███▌      | 174/492 [06:35<11:52,  2.24s/it]\u001b[0m\n",
      "\u001b[34m36%|███▌      | 175/492 [06:38<11:53,  2.25s/it]\u001b[0m\n",
      "\u001b[34m36%|███▌      | 176/492 [06:40<11:48,  2.24s/it]\u001b[0m\n",
      "\u001b[34m36%|███▌      | 177/492 [06:42<11:42,  2.23s/it]\u001b[0m\n",
      "\u001b[34m36%|███▌      | 178/492 [06:44<11:30,  2.20s/it]\u001b[0m\n",
      "\u001b[34m36%|███▋      | 179/492 [06:46<11:27,  2.20s/it]\u001b[0m\n",
      "\u001b[34m37%|███▋      | 180/492 [06:49<11:35,  2.23s/it]\u001b[0m\n",
      "\u001b[34m37%|███▋      | 181/492 [06:51<11:37,  2.24s/it]\u001b[0m\n",
      "\u001b[34m37%|███▋      | 182/492 [06:53<11:42,  2.27s/it]\u001b[0m\n",
      "\u001b[34m37%|███▋      | 183/492 [06:56<12:35,  2.45s/it]\u001b[0m\n",
      "\u001b[34m37%|███▋      | 184/492 [06:58<12:17,  2.39s/it]\u001b[0m\n",
      "\u001b[34m38%|███▊      | 185/492 [07:01<12:04,  2.36s/it]\u001b[0m\n",
      "\u001b[34m38%|███▊      | 186/492 [07:03<11:52,  2.33s/it]\u001b[0m\n",
      "\u001b[34m38%|███▊      | 187/492 [07:05<11:43,  2.31s/it]\u001b[0m\n",
      "\u001b[34m38%|███▊      | 188/492 [07:07<11:35,  2.29s/it]\u001b[0m\n",
      "\u001b[34m38%|███▊      | 189/492 [07:10<11:31,  2.28s/it]\u001b[0m\n",
      "\u001b[34m39%|███▊      | 190/492 [07:12<11:30,  2.28s/it]\u001b[0m\n",
      "\u001b[34m39%|███▉      | 191/492 [07:14<11:22,  2.27s/it]\u001b[0m\n",
      "\u001b[34m39%|███▉      | 192/492 [07:16<11:14,  2.25s/it]\u001b[0m\n",
      "\u001b[34m39%|███▉      | 193/492 [07:19<11:06,  2.23s/it]\u001b[0m\n",
      "\u001b[34m39%|███▉      | 194/492 [07:21<11:07,  2.24s/it]\u001b[0m\n",
      "\u001b[34m40%|███▉      | 195/492 [07:23<11:06,  2.24s/it]\u001b[0m\n",
      "\u001b[34m40%|███▉      | 196/492 [07:25<11:08,  2.26s/it]\u001b[0m\n",
      "\u001b[34m40%|████      | 197/492 [07:28<11:04,  2.25s/it]\u001b[0m\n",
      "\u001b[34m40%|████      | 198/492 [07:30<11:01,  2.25s/it]\u001b[0m\n",
      "\u001b[34m40%|████      | 199/492 [07:32<10:57,  2.25s/it]\u001b[0m\n",
      "\u001b[34m41%|████      | 200/492 [07:34<10:53,  2.24s/it]\u001b[0m\n",
      "\u001b[34m41%|████      | 201/492 [07:37<10:52,  2.24s/it]\u001b[0m\n",
      "\u001b[34m41%|████      | 202/492 [07:39<10:52,  2.25s/it]\u001b[0m\n",
      "\u001b[34m41%|████▏     | 203/492 [07:41<10:51,  2.25s/it]\u001b[0m\n",
      "\u001b[34m41%|████▏     | 204/492 [07:43<10:49,  2.26s/it]\u001b[0m\n",
      "\u001b[34m42%|████▏     | 205/492 [07:46<10:49,  2.26s/it]\u001b[0m\n",
      "\u001b[34m42%|████▏     | 206/492 [07:48<10:43,  2.25s/it]\u001b[0m\n",
      "\u001b[34m42%|████▏     | 207/492 [07:50<10:42,  2.25s/it]\u001b[0m\n",
      "\u001b[34m42%|████▏     | 208/492 [07:52<10:37,  2.25s/it]\u001b[0m\n",
      "\u001b[34m42%|████▏     | 209/492 [07:55<11:10,  2.37s/it]\u001b[0m\n",
      "\u001b[34m43%|████▎     | 210/492 [07:57<11:05,  2.36s/it]\u001b[0m\n",
      "\u001b[34m43%|████▎     | 211/492 [08:00<10:49,  2.31s/it]\u001b[0m\n",
      "\u001b[34m43%|████▎     | 212/492 [08:02<10:38,  2.28s/it]\u001b[0m\n",
      "\u001b[34m43%|████▎     | 213/492 [08:04<10:31,  2.26s/it]\u001b[0m\n",
      "\u001b[34m43%|████▎     | 214/492 [08:06<10:24,  2.25s/it]\u001b[0m\n",
      "\u001b[34m44%|████▎     | 215/492 [08:08<10:19,  2.24s/it]\u001b[0m\n",
      "\u001b[34m44%|████▍     | 216/492 [08:11<10:18,  2.24s/it]\u001b[0m\n",
      "\u001b[34m44%|████▍     | 217/492 [08:13<10:14,  2.23s/it]\u001b[0m\n",
      "\u001b[34m44%|████▍     | 218/492 [08:15<10:10,  2.23s/it]\u001b[0m\n",
      "\u001b[34m45%|████▍     | 219/492 [08:17<10:06,  2.22s/it]\u001b[0m\n",
      "\u001b[34m45%|████▍     | 220/492 [08:20<10:08,  2.24s/it]\u001b[0m\n",
      "\u001b[34m45%|████▍     | 221/492 [08:22<10:07,  2.24s/it]\u001b[0m\n",
      "\u001b[34m45%|████▌     | 222/492 [08:24<10:05,  2.24s/it]\u001b[0m\n",
      "\u001b[34m45%|████▌     | 223/492 [08:26<10:01,  2.24s/it]\u001b[0m\n",
      "\u001b[34m46%|████▌     | 224/492 [08:29<09:59,  2.24s/it]\u001b[0m\n",
      "\u001b[34m46%|████▌     | 225/492 [08:31<10:01,  2.25s/it]\u001b[0m\n",
      "\u001b[34m46%|████▌     | 226/492 [08:33<09:59,  2.25s/it]\u001b[0m\n",
      "\u001b[34m46%|████▌     | 227/492 [08:35<09:58,  2.26s/it]\u001b[0m\n",
      "\u001b[34m46%|████▋     | 228/492 [08:38<09:55,  2.26s/it]\u001b[0m\n",
      "\u001b[34m47%|████▋     | 229/492 [08:40<09:53,  2.26s/it]\u001b[0m\n",
      "\u001b[34m47%|████▋     | 230/492 [08:42<09:50,  2.26s/it]\u001b[0m\n",
      "\u001b[34m47%|████▋     | 231/492 [08:44<09:51,  2.26s/it]\u001b[0m\n",
      "\u001b[34m47%|████▋     | 232/492 [08:47<09:49,  2.27s/it]\u001b[0m\n",
      "\u001b[34m47%|████▋     | 233/492 [08:49<09:45,  2.26s/it]\u001b[0m\n",
      "\u001b[34m48%|████▊     | 234/492 [08:51<09:41,  2.25s/it]\u001b[0m\n",
      "\u001b[34m48%|████▊     | 235/492 [08:54<10:08,  2.37s/it]\u001b[0m\n",
      "\u001b[34m48%|████▊     | 236/492 [08:56<10:14,  2.40s/it]\u001b[0m\n",
      "\u001b[34m48%|████▊     | 237/492 [08:59<10:00,  2.36s/it]\u001b[0m\n",
      "\u001b[34m48%|████▊     | 238/492 [09:01<09:54,  2.34s/it]\u001b[0m\n",
      "\u001b[34m49%|████▊     | 239/492 [09:03<09:44,  2.31s/it]\u001b[0m\n",
      "\u001b[34m49%|████▉     | 240/492 [09:05<09:39,  2.30s/it]\u001b[0m\n",
      "\u001b[34m49%|████▉     | 241/492 [09:08<09:36,  2.30s/it]\u001b[0m\n",
      "\u001b[34m49%|████▉     | 242/492 [09:10<09:27,  2.27s/it]\u001b[0m\n",
      "\u001b[34m49%|████▉     | 243/492 [09:12<09:25,  2.27s/it]\u001b[0m\n",
      "\u001b[34m50%|████▉     | 244/492 [09:14<09:23,  2.27s/it]\u001b[0m\n",
      "\u001b[34m50%|████▉     | 245/492 [09:17<09:18,  2.26s/it]\u001b[0m\n",
      "\u001b[34m50%|█████     | 246/492 [09:19<09:16,  2.26s/it]\u001b[0m\n",
      "\u001b[34m50%|█████     | 247/492 [09:21<09:11,  2.25s/it]\u001b[0m\n",
      "\u001b[34m50%|█████     | 248/492 [09:23<09:08,  2.25s/it]\u001b[0m\n",
      "\u001b[34m51%|█████     | 249/492 [09:26<09:04,  2.24s/it]\u001b[0m\n",
      "\u001b[34m51%|█████     | 250/492 [09:28<08:59,  2.23s/it]\u001b[0m\n",
      "\u001b[34m51%|█████     | 251/492 [09:30<08:55,  2.22s/it]\u001b[0m\n",
      "\u001b[34m51%|█████     | 252/492 [09:32<08:55,  2.23s/it]\u001b[0m\n",
      "\u001b[34m51%|█████▏    | 253/492 [09:34<08:49,  2.22s/it]\u001b[0m\n",
      "\u001b[34m52%|█████▏    | 254/492 [09:37<08:50,  2.23s/it]\u001b[0m\n",
      "\u001b[34m52%|█████▏    | 255/492 [09:39<08:48,  2.23s/it]\u001b[0m\n",
      "\u001b[34m52%|█████▏    | 256/492 [09:41<08:46,  2.23s/it]\u001b[0m\n",
      "\u001b[34m52%|█████▏    | 257/492 [09:43<08:43,  2.23s/it]\u001b[0m\n",
      "\u001b[34m52%|█████▏    | 258/492 [09:46<08:42,  2.23s/it]\u001b[0m\n",
      "\u001b[34m53%|█████▎    | 259/492 [09:48<08:38,  2.22s/it]\u001b[0m\n",
      "\u001b[34m53%|█████▎    | 260/492 [09:50<08:38,  2.23s/it]\u001b[0m\n",
      "\u001b[34m53%|█████▎    | 261/492 [09:52<08:39,  2.25s/it]\u001b[0m\n",
      "\u001b[34m53%|█████▎    | 262/492 [09:55<09:14,  2.41s/it]\u001b[0m\n",
      "\u001b[34m53%|█████▎    | 263/492 [09:57<09:02,  2.37s/it]\u001b[0m\n",
      "\u001b[34m54%|█████▎    | 264/492 [10:00<08:49,  2.32s/it]\u001b[0m\n",
      "\u001b[34m54%|█████▍    | 265/492 [10:02<08:40,  2.29s/it]\u001b[0m\n",
      "\u001b[34m54%|█████▍    | 266/492 [10:04<08:32,  2.27s/it]\u001b[0m\n",
      "\u001b[34m54%|█████▍    | 267/492 [10:06<08:26,  2.25s/it]\u001b[0m\n",
      "\u001b[34m54%|█████▍    | 268/492 [10:09<08:24,  2.25s/it]\u001b[0m\n",
      "\u001b[34m55%|█████▍    | 269/492 [10:11<08:24,  2.26s/it]\u001b[0m\n",
      "\u001b[34m55%|█████▍    | 270/492 [10:13<08:20,  2.25s/it]\u001b[0m\n",
      "\u001b[34m55%|█████▌    | 271/492 [10:15<08:14,  2.24s/it]\u001b[0m\n",
      "\u001b[34m55%|█████▌    | 272/492 [10:17<08:08,  2.22s/it]\u001b[0m\n",
      "\u001b[34m55%|█████▌    | 273/492 [10:20<08:05,  2.22s/it]\u001b[0m\n",
      "\u001b[34m56%|█████▌    | 274/492 [10:22<08:04,  2.22s/it]\u001b[0m\n",
      "\u001b[34m56%|█████▌    | 275/492 [10:24<08:02,  2.22s/it]\u001b[0m\n",
      "\u001b[34m56%|█████▌    | 276/492 [10:26<08:02,  2.24s/it]\u001b[0m\n",
      "\u001b[34m56%|█████▋    | 277/492 [10:29<08:01,  2.24s/it]\u001b[0m\n",
      "\u001b[34m57%|█████▋    | 278/492 [10:31<07:58,  2.24s/it]\u001b[0m\n",
      "\u001b[34m57%|█████▋    | 279/492 [10:33<07:54,  2.23s/it]\u001b[0m\n",
      "\u001b[34m57%|█████▋    | 280/492 [10:35<07:51,  2.22s/it]\u001b[0m\n",
      "\u001b[34m57%|█████▋    | 281/492 [10:37<07:48,  2.22s/it]\u001b[0m\n",
      "\u001b[34m57%|█████▋    | 282/492 [10:40<07:47,  2.23s/it]\u001b[0m\n",
      "\u001b[34m58%|█████▊    | 283/492 [10:42<07:47,  2.24s/it]\u001b[0m\n",
      "\u001b[34m58%|█████▊    | 284/492 [10:44<07:42,  2.23s/it]\u001b[0m\n",
      "\u001b[34m58%|█████▊    | 285/492 [10:46<07:41,  2.23s/it]\u001b[0m\n",
      "\u001b[34m58%|█████▊    | 286/492 [10:49<07:38,  2.22s/it]\u001b[0m\n",
      "\u001b[34m58%|█████▊    | 287/492 [10:51<07:36,  2.23s/it]\u001b[0m\n",
      "\u001b[34m59%|█████▊    | 288/492 [10:53<07:46,  2.29s/it]\u001b[0m\n",
      "\u001b[34m59%|█████▊    | 289/492 [10:56<08:07,  2.40s/it]\u001b[0m\n",
      "\u001b[34m59%|█████▉    | 290/492 [10:58<07:58,  2.37s/it]\u001b[0m\n",
      "\u001b[34m59%|█████▉    | 291/492 [11:01<07:50,  2.34s/it]\u001b[0m\n",
      "\u001b[34m59%|█████▉    | 292/492 [11:03<07:45,  2.33s/it]\u001b[0m\n",
      "\u001b[34m60%|█████▉    | 293/492 [11:05<07:38,  2.30s/it]\u001b[0m\n",
      "\u001b[34m60%|█████▉    | 294/492 [11:07<07:33,  2.29s/it]\u001b[0m\n",
      "\u001b[34m60%|█████▉    | 295/492 [11:10<07:26,  2.26s/it]\u001b[0m\n",
      "\u001b[34m60%|██████    | 296/492 [11:12<07:19,  2.24s/it]\u001b[0m\n",
      "\u001b[34m60%|██████    | 297/492 [11:14<07:18,  2.25s/it]\u001b[0m\n",
      "\u001b[34m61%|██████    | 298/492 [11:16<07:15,  2.25s/it]\u001b[0m\n",
      "\u001b[34m61%|██████    | 299/492 [11:18<07:13,  2.25s/it]\u001b[0m\n",
      "\u001b[34m61%|██████    | 300/492 [11:21<07:12,  2.25s/it]\u001b[0m\n",
      "\u001b[34m61%|██████    | 301/492 [11:23<07:09,  2.25s/it]\u001b[0m\n",
      "\u001b[34m61%|██████▏   | 302/492 [11:25<07:05,  2.24s/it]\u001b[0m\n",
      "\u001b[34m62%|██████▏   | 303/492 [11:27<07:04,  2.25s/it]\u001b[0m\n",
      "\u001b[34m62%|██████▏   | 304/492 [11:30<07:04,  2.26s/it]\u001b[0m\n",
      "\u001b[34m62%|██████▏   | 305/492 [11:32<07:04,  2.27s/it]\u001b[0m\n",
      "\u001b[34m62%|██████▏   | 306/492 [11:34<07:01,  2.26s/it]\u001b[0m\n",
      "\u001b[34m62%|██████▏   | 307/492 [11:37<06:59,  2.27s/it]\u001b[0m\n",
      "\u001b[34m63%|██████▎   | 308/492 [11:39<06:54,  2.25s/it]\u001b[0m\n",
      "\u001b[34m63%|██████▎   | 309/492 [11:41<06:51,  2.25s/it]\u001b[0m\n",
      "\u001b[34m63%|██████▎   | 310/492 [11:43<06:46,  2.24s/it]\u001b[0m\n",
      "\u001b[34m63%|██████▎   | 311/492 [11:45<06:44,  2.24s/it]\u001b[0m\n",
      "\u001b[34m63%|██████▎   | 312/492 [11:48<06:40,  2.22s/it]\u001b[0m\n",
      "\u001b[34m64%|██████▎   | 313/492 [11:50<06:37,  2.22s/it]\u001b[0m\n",
      "\u001b[34m64%|██████▍   | 314/492 [11:52<06:36,  2.23s/it]\u001b[0m\n",
      "\u001b[34m64%|██████▍   | 315/492 [11:55<07:03,  2.39s/it]\u001b[0m\n",
      "\u001b[34m64%|██████▍   | 316/492 [11:57<06:59,  2.38s/it]\u001b[0m\n",
      "\u001b[34m64%|██████▍   | 317/492 [11:59<06:50,  2.35s/it]\u001b[0m\n",
      "\u001b[34m65%|██████▍   | 318/492 [12:02<06:41,  2.31s/it]\u001b[0m\n",
      "\u001b[34m65%|██████▍   | 319/492 [12:04<06:33,  2.28s/it]\u001b[0m\n",
      "\u001b[34m65%|██████▌   | 320/492 [12:06<06:30,  2.27s/it]\u001b[0m\n",
      "\u001b[34m65%|██████▌   | 321/492 [12:08<06:27,  2.26s/it]\u001b[0m\n",
      "\u001b[34m65%|██████▌   | 322/492 [12:11<06:25,  2.27s/it]\u001b[0m\n",
      "\u001b[34m66%|██████▌   | 323/492 [12:13<06:19,  2.25s/it]\u001b[0m\n",
      "\u001b[34m66%|██████▌   | 324/492 [12:15<06:15,  2.24s/it]\u001b[0m\n",
      "\u001b[34m66%|██████▌   | 325/492 [12:17<06:13,  2.23s/it]\u001b[0m\n",
      "\u001b[34m66%|██████▋   | 326/492 [12:20<06:10,  2.23s/it]\u001b[0m\n",
      "\u001b[34m66%|██████▋   | 327/492 [12:22<06:08,  2.23s/it]\u001b[0m\n",
      "\u001b[34m67%|██████▋   | 328/492 [12:24<06:06,  2.23s/it]\u001b[0m\n",
      "\u001b[34m67%|██████▋   | 329/492 [12:26<06:03,  2.23s/it]\u001b[0m\n",
      "\u001b[34m67%|██████▋   | 330/492 [12:28<05:58,  2.21s/it]\u001b[0m\n",
      "\u001b[34m67%|██████▋   | 331/492 [12:31<05:56,  2.22s/it]\u001b[0m\n",
      "\u001b[34m67%|██████▋   | 332/492 [12:33<05:53,  2.21s/it]\u001b[0m\n",
      "\u001b[34m68%|██████▊   | 333/492 [12:35<05:53,  2.22s/it]\u001b[0m\n",
      "\u001b[34m68%|██████▊   | 334/492 [12:37<05:51,  2.23s/it]\u001b[0m\n",
      "\u001b[34m68%|██████▊   | 335/492 [12:40<05:50,  2.23s/it]\u001b[0m\n",
      "\u001b[34m68%|██████▊   | 336/492 [12:42<05:49,  2.24s/it]\u001b[0m\n",
      "\u001b[34m68%|██████▊   | 337/492 [12:44<05:48,  2.25s/it]\u001b[0m\n",
      "\u001b[34m69%|██████▊   | 338/492 [12:46<05:44,  2.24s/it]\u001b[0m\n",
      "\u001b[34m69%|██████▉   | 339/492 [12:49<05:42,  2.24s/it]\u001b[0m\n",
      "\u001b[34m69%|██████▉   | 340/492 [12:51<05:39,  2.23s/it]\u001b[0m\n",
      "\u001b[34m69%|██████▉   | 341/492 [12:53<05:44,  2.28s/it]\u001b[0m\n",
      "\u001b[34m70%|██████▉   | 342/492 [12:56<05:55,  2.37s/it]\u001b[0m\n",
      "\u001b[34m70%|██████▉   | 343/492 [12:58<05:44,  2.32s/it]\u001b[0m\n",
      "\u001b[34m70%|██████▉   | 344/492 [13:00<05:39,  2.29s/it]\u001b[0m\n",
      "\u001b[34m70%|███████   | 345/492 [13:03<05:39,  2.31s/it]\u001b[0m\n",
      "\u001b[34m70%|███████   | 346/492 [13:05<05:34,  2.29s/it]\u001b[0m\n",
      "\u001b[34m71%|███████   | 347/492 [13:07<05:30,  2.28s/it]\u001b[0m\n",
      "\u001b[34m71%|███████   | 348/492 [13:09<05:27,  2.27s/it]\u001b[0m\n",
      "\u001b[34m71%|███████   | 349/492 [13:12<05:22,  2.26s/it]\u001b[0m\n",
      "\u001b[34m71%|███████   | 350/492 [13:14<05:17,  2.24s/it]\u001b[0m\n",
      "\u001b[34m71%|███████▏  | 351/492 [13:16<05:16,  2.24s/it]\u001b[0m\n",
      "\u001b[34m72%|███████▏  | 352/492 [13:18<05:12,  2.23s/it]\u001b[0m\n",
      "\u001b[34m72%|███████▏  | 353/492 [13:20<05:09,  2.23s/it]\u001b[0m\n",
      "\u001b[34m72%|███████▏  | 354/492 [13:23<05:08,  2.23s/it]\u001b[0m\n",
      "\u001b[34m72%|███████▏  | 355/492 [13:25<05:04,  2.23s/it]\u001b[0m\n",
      "\u001b[34m72%|███████▏  | 356/492 [13:27<05:03,  2.23s/it]\u001b[0m\n",
      "\u001b[34m73%|███████▎  | 357/492 [13:29<05:00,  2.23s/it]\u001b[0m\n",
      "\u001b[34m73%|███████▎  | 358/492 [13:32<04:59,  2.24s/it]\u001b[0m\n",
      "\u001b[34m73%|███████▎  | 359/492 [13:34<04:59,  2.25s/it]\u001b[0m\n",
      "\u001b[34m73%|███████▎  | 360/492 [13:36<04:55,  2.24s/it]\u001b[0m\n",
      "\u001b[34m73%|███████▎  | 361/492 [13:38<04:53,  2.24s/it]\u001b[0m\n",
      "\u001b[34m74%|███████▎  | 362/492 [13:41<04:50,  2.24s/it]\u001b[0m\n",
      "\u001b[34m74%|███████▍  | 363/492 [13:43<04:47,  2.23s/it]\u001b[0m\n",
      "\u001b[34m74%|███████▍  | 364/492 [13:45<04:45,  2.23s/it]\u001b[0m\n",
      "\u001b[34m74%|███████▍  | 365/492 [13:47<04:43,  2.23s/it]\u001b[0m\n",
      "\u001b[34m74%|███████▍  | 366/492 [13:49<04:39,  2.22s/it]\u001b[0m\n",
      "\u001b[34m75%|███████▍  | 367/492 [13:52<04:36,  2.21s/it]\u001b[0m\n",
      "\u001b[34m75%|███████▍  | 368/492 [13:54<04:51,  2.35s/it]\u001b[0m\n",
      "\u001b[34m75%|███████▌  | 369/492 [13:57<04:47,  2.34s/it]\u001b[0m\n",
      "\u001b[34m75%|███████▌  | 370/492 [13:59<04:42,  2.31s/it]\u001b[0m\n",
      "\u001b[34m75%|███████▌  | 371/492 [14:01<04:36,  2.29s/it]\u001b[0m\n",
      "\u001b[34m76%|███████▌  | 372/492 [14:03<04:31,  2.26s/it]\u001b[0m\n",
      "\u001b[34m76%|███████▌  | 373/492 [14:06<04:28,  2.26s/it]\u001b[0m\n",
      "\u001b[34m76%|███████▌  | 374/492 [14:08<04:25,  2.25s/it]\u001b[0m\n",
      "\u001b[34m76%|███████▌  | 375/492 [14:10<04:21,  2.23s/it]\u001b[0m\n",
      "\u001b[34m76%|███████▋  | 376/492 [14:12<04:17,  2.22s/it]\u001b[0m\n",
      "\u001b[34m77%|███████▋  | 377/492 [14:14<04:15,  2.22s/it]\u001b[0m\n",
      "\u001b[34m77%|███████▋  | 378/492 [14:17<04:12,  2.22s/it]\u001b[0m\n",
      "\u001b[34m77%|███████▋  | 379/492 [14:19<04:09,  2.21s/it]\u001b[0m\n",
      "\u001b[34m77%|███████▋  | 380/492 [14:21<04:08,  2.22s/it]\u001b[0m\n",
      "\u001b[34m77%|███████▋  | 381/492 [14:23<04:05,  2.21s/it]\u001b[0m\n",
      "\u001b[34m78%|███████▊  | 382/492 [14:25<04:04,  2.22s/it]\u001b[0m\n",
      "\u001b[34m78%|███████▊  | 383/492 [14:28<04:03,  2.23s/it]\u001b[0m\n",
      "\u001b[34m78%|███████▊  | 384/492 [14:30<04:02,  2.25s/it]\u001b[0m\n",
      "\u001b[34m78%|███████▊  | 385/492 [14:32<04:00,  2.25s/it]\u001b[0m\n",
      "\u001b[34m78%|███████▊  | 386/492 [14:34<03:56,  2.24s/it]\u001b[0m\n",
      "\u001b[34m79%|███████▊  | 387/492 [14:37<03:54,  2.24s/it]\u001b[0m\n",
      "\u001b[34m79%|███████▉  | 388/492 [14:39<03:51,  2.23s/it]\u001b[0m\n",
      "\u001b[34m79%|███████▉  | 389/492 [14:41<03:48,  2.22s/it]\u001b[0m\n",
      "\u001b[34m79%|███████▉  | 390/492 [14:43<03:46,  2.22s/it]\u001b[0m\n",
      "\u001b[34m79%|███████▉  | 391/492 [14:46<03:45,  2.23s/it]\u001b[0m\n",
      "\u001b[34m80%|███████▉  | 392/492 [14:48<03:43,  2.24s/it]\u001b[0m\n",
      "\u001b[34m80%|███████▉  | 393/492 [14:50<03:42,  2.25s/it]\u001b[0m\n",
      "\u001b[34m80%|████████  | 394/492 [14:52<03:39,  2.24s/it]\u001b[0m\n",
      "\u001b[34m80%|████████  | 395/492 [14:55<03:52,  2.40s/it]\u001b[0m\n",
      "\u001b[34m80%|████████  | 396/492 [14:57<03:48,  2.38s/it]\u001b[0m\n",
      "\u001b[34m81%|████████  | 397/492 [15:00<03:42,  2.34s/it]\u001b[0m\n",
      "\u001b[34m81%|████████  | 398/492 [15:02<03:37,  2.31s/it]\u001b[0m\n",
      "\u001b[34m81%|████████  | 399/492 [15:04<03:31,  2.28s/it]\u001b[0m\n",
      "\u001b[34m81%|████████▏ | 400/492 [15:06<03:27,  2.26s/it]\u001b[0m\n",
      "\u001b[34m82%|████████▏ | 401/492 [15:09<03:23,  2.24s/it]\u001b[0m\n",
      "\u001b[34m82%|████████▏ | 402/492 [15:11<03:20,  2.22s/it]\u001b[0m\n",
      "\u001b[34m82%|████████▏ | 403/492 [15:13<03:17,  2.22s/it]\u001b[0m\n",
      "\u001b[34m82%|████████▏ | 404/492 [15:15<03:15,  2.23s/it]\u001b[0m\n",
      "\u001b[34m82%|████████▏ | 405/492 [15:17<03:13,  2.23s/it]\u001b[0m\n",
      "\u001b[34m83%|████████▎ | 406/492 [15:20<03:12,  2.24s/it]\u001b[0m\n",
      "\u001b[34m83%|████████▎ | 407/492 [15:22<03:11,  2.25s/it]\u001b[0m\n",
      "\u001b[34m83%|████████▎ | 408/492 [15:24<03:09,  2.26s/it]\u001b[0m\n",
      "\u001b[34m83%|████████▎ | 409/492 [15:26<03:07,  2.25s/it]\u001b[0m\n",
      "\u001b[34m83%|████████▎ | 410/492 [15:29<03:03,  2.23s/it]\u001b[0m\n",
      "\u001b[34m84%|████████▎ | 411/492 [15:31<03:00,  2.23s/it]\u001b[0m\n",
      "\u001b[34m84%|████████▎ | 412/492 [15:33<02:59,  2.24s/it]\u001b[0m\n",
      "\u001b[34m84%|████████▍ | 413/492 [15:35<02:57,  2.25s/it]\u001b[0m\n",
      "\u001b[34m84%|████████▍ | 414/492 [15:38<02:55,  2.26s/it]\u001b[0m\n",
      "\u001b[34m84%|████████▍ | 415/492 [15:40<02:53,  2.25s/it]\u001b[0m\n",
      "\u001b[34m85%|████████▍ | 416/492 [15:42<02:50,  2.24s/it]\u001b[0m\n",
      "\u001b[34m85%|████████▍ | 417/492 [15:44<02:47,  2.23s/it]\u001b[0m\n",
      "\u001b[34m85%|████████▍ | 418/492 [15:47<02:44,  2.23s/it]\u001b[0m\n",
      "\u001b[34m85%|████████▌ | 419/492 [15:49<02:43,  2.24s/it]\u001b[0m\n",
      "\u001b[34m85%|████████▌ | 420/492 [15:51<02:41,  2.24s/it]\u001b[0m\n",
      "\u001b[34m86%|████████▌ | 421/492 [15:53<02:40,  2.27s/it]\u001b[0m\n",
      "\u001b[34m86%|████████▌ | 422/492 [15:56<02:49,  2.42s/it]\u001b[0m\n",
      "\u001b[34m86%|████████▌ | 423/492 [15:58<02:43,  2.38s/it]\u001b[0m\n",
      "\u001b[34m86%|████████▌ | 424/492 [16:01<02:39,  2.34s/it]\u001b[0m\n",
      "\u001b[34m86%|████████▋ | 425/492 [16:03<02:35,  2.32s/it]\u001b[0m\n",
      "\u001b[34m87%|████████▋ | 426/492 [16:05<02:31,  2.29s/it]\u001b[0m\n",
      "\u001b[34m87%|████████▋ | 427/492 [16:07<02:28,  2.29s/it]\u001b[0m\n",
      "\u001b[34m87%|████████▋ | 428/492 [16:10<02:25,  2.28s/it]\u001b[0m\n",
      "\u001b[34m87%|████████▋ | 429/492 [16:12<02:22,  2.27s/it]\u001b[0m\n",
      "\u001b[34m87%|████████▋ | 430/492 [16:14<02:20,  2.27s/it]\u001b[0m\n",
      "\u001b[34m88%|████████▊ | 431/492 [16:17<02:18,  2.27s/it]\u001b[0m\n",
      "\u001b[34m88%|████████▊ | 432/492 [16:19<02:15,  2.26s/it]\u001b[0m\n",
      "\u001b[34m88%|████████▊ | 433/492 [16:21<02:13,  2.27s/it]\u001b[0m\n",
      "\u001b[34m88%|████████▊ | 434/492 [16:23<02:10,  2.26s/it]\u001b[0m\n",
      "\u001b[34m88%|████████▊ | 435/492 [16:26<02:08,  2.25s/it]\u001b[0m\n",
      "\u001b[34m89%|████████▊ | 436/492 [16:28<02:05,  2.25s/it]\u001b[0m\n",
      "\u001b[34m89%|████████▉ | 437/492 [16:30<02:02,  2.23s/it]\u001b[0m\n",
      "\u001b[34m89%|████████▉ | 438/492 [16:32<02:00,  2.22s/it]\u001b[0m\n",
      "\u001b[34m89%|████████▉ | 439/492 [16:34<01:57,  2.22s/it]\u001b[0m\n",
      "\u001b[34m89%|████████▉ | 440/492 [16:37<01:55,  2.23s/it]\u001b[0m\n",
      "\u001b[34m90%|████████▉ | 441/492 [16:39<01:54,  2.24s/it]\u001b[0m\n",
      "\u001b[34m90%|████████▉ | 442/492 [16:41<01:51,  2.23s/it]\u001b[0m\n",
      "\u001b[34m90%|█████████ | 443/492 [16:43<01:48,  2.22s/it]\u001b[0m\n",
      "\u001b[34m90%|█████████ | 444/492 [16:46<01:47,  2.23s/it]\u001b[0m\n",
      "\u001b[34m90%|█████████ | 445/492 [16:48<01:45,  2.24s/it]\u001b[0m\n",
      "\u001b[34m91%|█████████ | 446/492 [16:50<01:43,  2.24s/it]\u001b[0m\n",
      "\u001b[34m91%|█████████ | 447/492 [16:52<01:41,  2.25s/it]\u001b[0m\n",
      "\u001b[34m91%|█████████ | 448/492 [16:55<01:47,  2.44s/it]\u001b[0m\n",
      "\u001b[34m91%|█████████▏| 449/492 [16:57<01:43,  2.40s/it]\u001b[0m\n",
      "\u001b[34m91%|█████████▏| 450/492 [17:00<01:39,  2.36s/it]\u001b[0m\n",
      "\u001b[34m92%|█████████▏| 451/492 [17:02<01:35,  2.32s/it]\u001b[0m\n",
      "\u001b[34m92%|█████████▏| 452/492 [17:04<01:31,  2.29s/it]\u001b[0m\n",
      "\u001b[34m92%|█████████▏| 453/492 [17:06<01:28,  2.26s/it]\u001b[0m\n",
      "\u001b[34m92%|█████████▏| 454/492 [17:09<01:25,  2.24s/it]\u001b[0m\n",
      "\u001b[34m92%|█████████▏| 455/492 [17:11<01:22,  2.24s/it]\u001b[0m\n",
      "\u001b[34m93%|█████████▎| 456/492 [17:13<01:20,  2.24s/it]\u001b[0m\n",
      "\u001b[34m93%|█████████▎| 457/492 [17:15<01:18,  2.24s/it]\u001b[0m\n",
      "\u001b[34m93%|█████████▎| 458/492 [17:18<01:15,  2.23s/it]\u001b[0m\n",
      "\u001b[34m93%|█████████▎| 459/492 [17:20<01:13,  2.24s/it]\u001b[0m\n",
      "\u001b[34m93%|█████████▎| 460/492 [17:22<01:11,  2.24s/it]\u001b[0m\n",
      "\u001b[34m94%|█████████▎| 461/492 [17:24<01:09,  2.23s/it]\u001b[0m\n",
      "\u001b[34m94%|█████████▍| 462/492 [17:26<01:07,  2.23s/it]\u001b[0m\n",
      "\u001b[34m94%|█████████▍| 463/492 [17:29<01:05,  2.25s/it]\u001b[0m\n",
      "\u001b[34m94%|█████████▍| 464/492 [17:31<01:03,  2.25s/it]\u001b[0m\n",
      "\u001b[34m95%|█████████▍| 465/492 [17:33<01:00,  2.25s/it]\u001b[0m\n",
      "\u001b[34m95%|█████████▍| 466/492 [17:35<00:58,  2.24s/it]\u001b[0m\n",
      "\u001b[34m95%|█████████▍| 467/492 [17:38<00:55,  2.24s/it]\u001b[0m\n",
      "\u001b[34m95%|█████████▌| 468/492 [17:40<00:53,  2.24s/it]\u001b[0m\n",
      "\u001b[34m95%|█████████▌| 469/492 [17:42<00:51,  2.24s/it]\u001b[0m\n",
      "\u001b[34m96%|█████████▌| 470/492 [17:45<00:50,  2.28s/it]\u001b[0m\n",
      "\u001b[34m96%|█████████▌| 471/492 [17:47<00:47,  2.28s/it]\u001b[0m\n",
      "\u001b[34m96%|█████████▌| 472/492 [17:49<00:45,  2.28s/it]\u001b[0m\n",
      "\u001b[34m96%|█████████▌| 473/492 [17:51<00:43,  2.28s/it]\u001b[0m\n",
      "\u001b[34m96%|█████████▋| 474/492 [17:54<00:42,  2.34s/it]\u001b[0m\n",
      "\u001b[34m97%|█████████▋| 475/492 [17:56<00:41,  2.42s/it]\u001b[0m\n",
      "\u001b[34m97%|█████████▋| 476/492 [17:59<00:37,  2.37s/it]\u001b[0m\n",
      "\u001b[34m97%|█████████▋| 477/492 [18:01<00:35,  2.35s/it]\u001b[0m\n",
      "\u001b[34m97%|█████████▋| 478/492 [18:03<00:32,  2.32s/it]\u001b[0m\n",
      "\u001b[34m97%|█████████▋| 479/492 [18:06<00:29,  2.31s/it]\u001b[0m\n",
      "\u001b[34m98%|█████████▊| 480/492 [18:08<00:27,  2.29s/it]\u001b[0m\n",
      "\u001b[34m98%|█████████▊| 481/492 [18:10<00:25,  2.28s/it]\u001b[0m\n",
      "\u001b[34m98%|█████████▊| 482/492 [18:12<00:22,  2.26s/it]\u001b[0m\n",
      "\u001b[34m98%|█████████▊| 483/492 [18:15<00:20,  2.26s/it]\u001b[0m\n",
      "\u001b[34m98%|█████████▊| 484/492 [18:17<00:18,  2.27s/it]\u001b[0m\n",
      "\u001b[34m99%|█████████▊| 485/492 [18:19<00:15,  2.27s/it]\u001b[0m\n",
      "\u001b[34m99%|█████████▉| 486/492 [18:21<00:13,  2.27s/it]\u001b[0m\n",
      "\u001b[34m99%|█████████▉| 487/492 [18:24<00:11,  2.28s/it]\u001b[0m\n",
      "\u001b[34m99%|█████████▉| 488/492 [18:26<00:09,  2.30s/it]\u001b[0m\n",
      "\u001b[34m99%|█████████▉| 489/492 [18:28<00:06,  2.29s/it]\u001b[0m\n",
      "\u001b[34m100%|█████████▉| 490/492 [18:31<00:04,  2.29s/it]\u001b[0m\n",
      "\u001b[34m100%|█████████▉| 491/492 [18:33<00:02,  2.29s/it]\u001b[0m\n",
      "\u001b[34m100%|██████████| 492/492 [18:33<00:00,  1.64s/it]\u001b[0m\n",
      "\u001b[34mThe following columns in the evaluation set don't have a corresponding argument in `BertForSequenceClassification.forward` and have been ignored: __index_level_0__, stopwords_removed. If __index_level_0__, stopwords_removed are not expected by `BertForSequenceClassification.forward`,  you can safely ignore this message.\u001b[0m\n",
      "\u001b[34mThe following columns in the evaluation set don't have a corresponding argument in `BertForSequenceClassification.forward` and have been ignored: __index_level_0__, stopwords_removed. If __index_level_0__, stopwords_removed are not expected by `BertForSequenceClassification.forward`,  you can safely ignore this message.\u001b[0m\n",
      "\u001b[34m***** Running Evaluation *****\u001b[0m\n",
      "\u001b[34m***** Running Evaluation *****\u001b[0m\n",
      "\u001b[34mNum examples = 6735\n",
      "  Batch size = 64\u001b[0m\n",
      "\u001b[34mNum examples = 6735\n",
      "  Batch size = 64\u001b[0m\n",
      "\u001b[34m0%|          | 0/106 [00:00<?, ?it/s]#033[A\u001b[0m\n",
      "\u001b[34m2%|▏         | 2/106 [00:00<00:30,  3.46it/s]#033[A\u001b[0m\n",
      "\u001b[34m3%|▎         | 3/106 [00:01<00:41,  2.46it/s]#033[A\u001b[0m\n",
      "\u001b[34m4%|▍         | 4/106 [00:01<00:47,  2.13it/s]#033[A\u001b[0m\n",
      "\u001b[34m5%|▍         | 5/106 [00:02<00:51,  1.98it/s]#033[A\u001b[0m\n",
      "\u001b[34m6%|▌         | 6/106 [00:02<00:52,  1.89it/s]#033[A\u001b[0m\n",
      "\u001b[34m7%|▋         | 7/106 [00:03<00:53,  1.85it/s]#033[A\u001b[0m\n",
      "\u001b[34m8%|▊         | 8/106 [00:04<00:54,  1.81it/s]#033[A\u001b[0m\n",
      "\u001b[34m8%|▊         | 9/106 [00:04<00:54,  1.79it/s]#033[A\u001b[0m\n",
      "\u001b[34m9%|▉         | 10/106 [00:05<00:53,  1.78it/s]#033[A\u001b[0m\n",
      "\u001b[34m10%|█         | 11/106 [00:05<00:53,  1.77it/s]#033[A\u001b[0m\n",
      "\u001b[34m11%|█▏        | 12/106 [00:06<00:53,  1.76it/s]#033[A\u001b[0m\n",
      "\u001b[34m12%|█▏        | 13/106 [00:06<00:53,  1.75it/s]#033[A\u001b[0m\n",
      "\u001b[34m13%|█▎        | 14/106 [00:07<00:52,  1.75it/s]#033[A\u001b[0m\n",
      "\u001b[34m14%|█▍        | 15/106 [00:08<00:52,  1.75it/s]#033[A\u001b[0m\n",
      "\u001b[34m15%|█▌        | 16/106 [00:08<00:51,  1.75it/s]#033[A\u001b[0m\n",
      "\u001b[34m16%|█▌        | 17/106 [00:09<00:50,  1.75it/s]#033[A\u001b[0m\n",
      "\u001b[34m17%|█▋        | 18/106 [00:09<00:50,  1.75it/s]#033[A\u001b[0m\n",
      "\u001b[34m18%|█▊        | 19/106 [00:10<00:49,  1.74it/s]#033[A\u001b[0m\n",
      "\u001b[34m19%|█▉        | 20/106 [00:10<00:49,  1.75it/s]#033[A\u001b[0m\n",
      "\u001b[34m20%|█▉        | 21/106 [00:11<00:48,  1.75it/s]#033[A\u001b[0m\n",
      "\u001b[34m21%|██        | 22/106 [00:12<00:48,  1.75it/s]#033[A\u001b[0m\n",
      "\u001b[34m22%|██▏       | 23/106 [00:12<00:47,  1.75it/s]#033[A\u001b[0m\n",
      "\u001b[34m23%|██▎       | 24/106 [00:13<00:46,  1.75it/s]#033[A\u001b[0m\n",
      "\u001b[34m24%|██▎       | 25/106 [00:13<00:46,  1.76it/s]#033[A\u001b[0m\n",
      "\u001b[34m25%|██▍       | 26/106 [00:14<00:45,  1.75it/s]#033[A\u001b[0m\n",
      "\u001b[34m25%|██▌       | 27/106 [00:14<00:45,  1.75it/s]#033[A\u001b[0m\n",
      "\u001b[34m26%|██▋       | 28/106 [00:15<00:44,  1.75it/s]#033[A\u001b[0m\n",
      "\u001b[34m27%|██▋       | 29/106 [00:16<00:44,  1.75it/s]#033[A\u001b[0m\n",
      "\u001b[34m28%|██▊       | 30/106 [00:16<00:43,  1.75it/s]#033[A\u001b[0m\n",
      "\u001b[34m29%|██▉       | 31/106 [00:17<00:43,  1.74it/s]#033[A\u001b[0m\n",
      "\u001b[34m30%|███       | 32/106 [00:17<00:42,  1.74it/s]#033[A\u001b[0m\n",
      "\u001b[34m31%|███       | 33/106 [00:18<00:41,  1.74it/s]#033[A\u001b[0m\n",
      "\u001b[34m32%|███▏      | 34/106 [00:18<00:41,  1.75it/s]#033[A\u001b[0m\n",
      "\u001b[34m33%|███▎      | 35/106 [00:19<00:40,  1.74it/s]#033[A\u001b[0m\n",
      "\u001b[34m34%|███▍      | 36/106 [00:20<00:44,  1.56it/s]#033[A\u001b[0m\n",
      "\u001b[34m35%|███▍      | 37/106 [00:21<00:48,  1.42it/s]#033[A\u001b[0m\n",
      "\u001b[34m36%|███▌      | 38/106 [00:21<00:49,  1.38it/s]#033[A\u001b[0m\n",
      "\u001b[34m37%|███▋      | 39/106 [00:22<00:45,  1.47it/s]#033[A\u001b[0m\n",
      "\u001b[34m38%|███▊      | 40/106 [00:23<00:42,  1.54it/s]#033[A\u001b[0m\n",
      "\u001b[34m39%|███▊      | 41/106 [00:23<00:40,  1.60it/s]#033[A\u001b[0m\n",
      "\u001b[34m40%|███▉      | 42/106 [00:24<00:39,  1.63it/s]#033[A\u001b[0m\n",
      "\u001b[34m41%|████      | 43/106 [00:24<00:37,  1.67it/s]#033[A\u001b[0m\n",
      "\u001b[34m42%|████▏     | 44/106 [00:25<00:36,  1.68it/s]#033[A\u001b[0m\n",
      "\u001b[34m42%|████▏     | 45/106 [00:25<00:35,  1.70it/s]#033[A\u001b[0m\n",
      "\u001b[34m43%|████▎     | 46/106 [00:26<00:36,  1.66it/s]#033[A\u001b[0m\n",
      "\u001b[34m44%|████▍     | 47/106 [00:27<00:34,  1.69it/s]#033[A\u001b[0m\n",
      "\u001b[34m45%|████▌     | 48/106 [00:27<00:33,  1.71it/s]#033[A\u001b[0m\n",
      "\u001b[34m46%|████▌     | 49/106 [00:28<00:33,  1.72it/s]#033[A\u001b[0m\n",
      "\u001b[34m47%|████▋     | 50/106 [00:28<00:32,  1.73it/s]#033[A\u001b[0m\n",
      "\u001b[34m48%|████▊     | 51/106 [00:29<00:31,  1.74it/s]#033[A\u001b[0m\n",
      "\u001b[34m49%|████▉     | 52/106 [00:29<00:30,  1.75it/s]#033[A\u001b[0m\n",
      "\u001b[34m50%|█████     | 53/106 [00:30<00:30,  1.74it/s]#033[A\u001b[0m\n",
      "\u001b[34m51%|█████     | 54/106 [00:31<00:29,  1.74it/s]#033[A\u001b[0m\n",
      "\u001b[34m52%|█████▏    | 55/106 [00:31<00:29,  1.75it/s]#033[A\u001b[0m\n",
      "\u001b[34m53%|█████▎    | 56/106 [00:32<00:28,  1.74it/s]#033[A\u001b[0m\n",
      "\u001b[34m54%|█████▍    | 57/106 [00:32<00:28,  1.75it/s]#033[A\u001b[0m\n",
      "\u001b[34m55%|█████▍    | 58/106 [00:33<00:27,  1.75it/s]#033[A\u001b[0m\n",
      "\u001b[34m56%|█████▌    | 59/106 [00:33<00:26,  1.75it/s]#033[A\u001b[0m\n",
      "\u001b[34m57%|█████▋    | 60/106 [00:34<00:26,  1.74it/s]#033[A\u001b[0m\n",
      "\u001b[34m58%|█████▊    | 61/106 [00:35<00:25,  1.75it/s]#033[A\u001b[0m\n",
      "\u001b[34m58%|█████▊    | 62/106 [00:35<00:25,  1.74it/s]#033[A\u001b[0m\n",
      "\u001b[34m59%|█████▉    | 63/106 [00:36<00:24,  1.73it/s]#033[A\u001b[0m\n",
      "\u001b[34m60%|██████    | 64/106 [00:36<00:24,  1.74it/s]#033[A\u001b[0m\n",
      "\u001b[34m61%|██████▏   | 65/106 [00:37<00:23,  1.73it/s]#033[A\u001b[0m\n",
      "\u001b[34m62%|██████▏   | 66/106 [00:38<00:23,  1.73it/s]#033[A\u001b[0m\n",
      "\u001b[34m63%|██████▎   | 67/106 [00:38<00:22,  1.73it/s]#033[A\u001b[0m\n",
      "\u001b[34m64%|██████▍   | 68/106 [00:39<00:21,  1.73it/s]#033[A\u001b[0m\n",
      "\u001b[34m65%|██████▌   | 69/106 [00:39<00:21,  1.73it/s]#033[A\u001b[0m\n",
      "\u001b[34m66%|██████▌   | 70/106 [00:40<00:20,  1.73it/s]#033[A\u001b[0m\n",
      "\u001b[34m67%|██████▋   | 71/106 [00:40<00:20,  1.73it/s]#033[A\u001b[0m\n",
      "\u001b[34m68%|██████▊   | 72/106 [00:41<00:19,  1.74it/s]#033[A\u001b[0m\n",
      "\u001b[34m69%|██████▉   | 73/106 [00:42<00:18,  1.74it/s]#033[A\u001b[0m\n",
      "\u001b[34m70%|██████▉   | 74/106 [00:42<00:18,  1.75it/s]#033[A\u001b[0m\n",
      "\u001b[34m71%|███████   | 75/106 [00:43<00:17,  1.75it/s]#033[A\u001b[0m\n",
      "\u001b[34m72%|███████▏  | 76/106 [00:43<00:17,  1.75it/s]#033[A\u001b[0m\n",
      "\u001b[34m73%|███████▎  | 77/106 [00:44<00:16,  1.75it/s]#033[A\u001b[0m\n",
      "\u001b[34m74%|███████▎  | 78/106 [00:44<00:15,  1.76it/s]#033[A\u001b[0m\n",
      "\u001b[34m75%|███████▍  | 79/106 [00:45<00:15,  1.75it/s]#033[A\u001b[0m\n",
      "\u001b[34m75%|███████▌  | 80/106 [00:46<00:14,  1.75it/s]#033[A\u001b[0m\n",
      "\u001b[34m76%|███████▋  | 81/106 [00:46<00:14,  1.75it/s]#033[A\u001b[0m\n",
      "\u001b[34m77%|███████▋  | 82/106 [00:47<00:13,  1.75it/s]#033[A\u001b[0m\n",
      "\u001b[34m78%|███████▊  | 83/106 [00:47<00:13,  1.75it/s]#033[A\u001b[0m\n",
      "\u001b[34m79%|███████▉  | 84/106 [00:48<00:12,  1.75it/s]#033[A\u001b[0m\n",
      "\u001b[34m80%|████████  | 85/106 [00:48<00:11,  1.75it/s]#033[A\u001b[0m\n",
      "\u001b[34m81%|████████  | 86/106 [00:49<00:11,  1.75it/s]#033[A\u001b[0m\n",
      "\u001b[34m82%|████████▏ | 87/106 [00:50<00:10,  1.75it/s]#033[A\u001b[0m\n",
      "\u001b[34m83%|████████▎ | 88/106 [00:50<00:10,  1.74it/s]#033[A\u001b[0m\n",
      "\u001b[34m84%|████████▍ | 89/106 [00:51<00:09,  1.75it/s]#033[A\u001b[0m\n",
      "\u001b[34m85%|████████▍ | 90/106 [00:51<00:09,  1.75it/s]#033[A\u001b[0m\n",
      "\u001b[34m86%|████████▌ | 91/106 [00:52<00:08,  1.75it/s]#033[A\u001b[0m\n",
      "\u001b[34m87%|████████▋ | 92/106 [00:52<00:08,  1.75it/s]#033[A\u001b[0m\n",
      "\u001b[34m88%|████████▊ | 93/106 [00:53<00:07,  1.75it/s]#033[A\u001b[0m\n",
      "\u001b[34m89%|████████▊ | 94/106 [00:54<00:06,  1.75it/s]#033[A\u001b[0m\n",
      "\u001b[34m90%|████████▉ | 95/106 [00:54<00:06,  1.75it/s]#033[A\u001b[0m\n",
      "\u001b[34m91%|█████████ | 96/106 [00:55<00:05,  1.75it/s]#033[A\u001b[0m\n",
      "\u001b[34m92%|█████████▏| 97/106 [00:55<00:05,  1.74it/s]#033[A\u001b[0m\n",
      "\u001b[34m92%|█████████▏| 98/106 [00:56<00:04,  1.74it/s]#033[A\u001b[0m\n",
      "\u001b[34m93%|█████████▎| 99/106 [00:56<00:04,  1.74it/s]#033[A\u001b[0m\n",
      "\u001b[34m94%|█████████▍| 100/106 [00:57<00:03,  1.74it/s]#033[A\u001b[0m\n",
      "\u001b[34m95%|█████████▌| 101/106 [00:58<00:02,  1.74it/s]#033[A\u001b[0m\n",
      "\u001b[34m96%|█████████▌| 102/106 [00:58<00:02,  1.74it/s]#033[A\u001b[0m\n",
      "\u001b[34m97%|█████████▋| 103/106 [00:59<00:01,  1.75it/s]#033[A\u001b[0m\n",
      "\u001b[34m98%|█████████▊| 104/106 [00:59<00:01,  1.74it/s]#033[A\u001b[0m\n",
      "\u001b[34m99%|█████████▉| 105/106 [01:00<00:00,  1.74it/s]#033[A\u001b[0m\n",
      "\u001b[34m100%|██████████| 106/106 [01:00<00:00,  2.31it/s]#033[A\u001b[0m\n",
      "\u001b[34m#033[A\u001b[0m\n",
      "\u001b[34m{'eval_loss': 0.040691182017326355, 'eval_accuracy': 0.9952487008166295, 'eval_runtime': 61.0735, 'eval_samples_per_second': 110.277, 'eval_steps_per_second': 1.736, 'epoch': 1.0}\u001b[0m\n",
      "\u001b[34m100%|██████████| 492/492 [19:34<00:00,  1.64s/it]\u001b[0m\n",
      "\u001b[34m#015100%|██████████| 106/106 [01:00<00:00,  2.31it/s]#033[A\u001b[0m\n",
      "\u001b[34m#015                                                 #033[A\u001b[0m\n",
      "\u001b[34mSaving model checkpoint to /opt/ml/model/checkpoint-492\u001b[0m\n",
      "\u001b[34mSaving model checkpoint to /opt/ml/model/checkpoint-492\u001b[0m\n",
      "\u001b[34mConfiguration saved in /opt/ml/model/checkpoint-492/config.json\u001b[0m\n",
      "\u001b[34mConfiguration saved in /opt/ml/model/checkpoint-492/config.json\u001b[0m\n",
      "\u001b[34mModel weights saved in /opt/ml/model/checkpoint-492/pytorch_model.bin\u001b[0m\n",
      "\u001b[34mModel weights saved in /opt/ml/model/checkpoint-492/pytorch_model.bin\u001b[0m\n",
      "\u001b[34mtokenizer config file saved in /opt/ml/model/checkpoint-492/tokenizer_config.json\u001b[0m\n",
      "\u001b[34mtokenizer config file saved in /opt/ml/model/checkpoint-492/tokenizer_config.json\u001b[0m\n",
      "\u001b[34mSpecial tokens file saved in /opt/ml/model/checkpoint-492/special_tokens_map.json\u001b[0m\n",
      "\u001b[34mSpecial tokens file saved in /opt/ml/model/checkpoint-492/special_tokens_map.json\u001b[0m\n",
      "\u001b[34mTraining completed. Do not forget to share your model on huggingface.co/models =)\u001b[0m\n",
      "\u001b[34mLoading best model from /opt/ml/model/checkpoint-492 (score: 0.9952487008166295).\u001b[0m\n",
      "\u001b[34mTraining completed. Do not forget to share your model on huggingface.co/models =)\u001b[0m\n",
      "\u001b[34mLoading best model from /opt/ml/model/checkpoint-492 (score: 0.9952487008166295).\u001b[0m\n",
      "\u001b[34m{'train_runtime': 1174.6693, 'train_samples_per_second': 26.755, 'train_steps_per_second': 0.419, 'train_loss': 0.37934103244688455, 'epoch': 1.0}\u001b[0m\n",
      "\u001b[34m100%|██████████| 492/492 [19:34<00:00,  1.64s/it]\u001b[0m\n",
      "\u001b[34m100%|██████████| 492/492 [19:34<00:00,  2.39s/it]\u001b[0m\n",
      "\u001b[34mThe following columns in the evaluation set don't have a corresponding argument in `BertForSequenceClassification.forward` and have been ignored: __index_level_0__, stopwords_removed. If __index_level_0__, stopwords_removed are not expected by `BertForSequenceClassification.forward`,  you can safely ignore this message.\u001b[0m\n",
      "\u001b[34mThe following columns in the evaluation set don't have a corresponding argument in `BertForSequenceClassification.forward` and have been ignored: __index_level_0__, stopwords_removed. If __index_level_0__, stopwords_removed are not expected by `BertForSequenceClassification.forward`,  you can safely ignore this message.\u001b[0m\n",
      "\u001b[34m***** Running Evaluation *****\u001b[0m\n",
      "\u001b[34m***** Running Evaluation *****\u001b[0m\n",
      "\u001b[34mNum examples = 6735\n",
      "  Batch size = 64\u001b[0m\n",
      "\u001b[34mNum examples = 6735\n",
      "  Batch size = 64\u001b[0m\n",
      "\u001b[34m0%|          | 0/106 [00:00<?, ?it/s]\u001b[0m\n",
      "\u001b[34m2%|▏         | 2/106 [00:00<00:29,  3.48it/s]\u001b[0m\n",
      "\u001b[34m3%|▎         | 3/106 [00:01<00:41,  2.46it/s]\u001b[0m\n",
      "\u001b[34m4%|▍         | 4/106 [00:01<00:47,  2.13it/s]\u001b[0m\n",
      "\u001b[34m5%|▍         | 5/106 [00:02<00:50,  1.98it/s]\u001b[0m\n",
      "\u001b[34m6%|▌         | 6/106 [00:02<00:52,  1.90it/s]\u001b[0m\n",
      "\u001b[34m7%|▋         | 7/106 [00:03<00:53,  1.85it/s]\u001b[0m\n",
      "\u001b[34m8%|▊         | 8/106 [00:04<00:53,  1.82it/s]\u001b[0m\n",
      "\u001b[34m8%|▊         | 9/106 [00:04<00:54,  1.79it/s]\u001b[0m\n",
      "\u001b[34m9%|▉         | 10/106 [00:05<00:53,  1.78it/s]\u001b[0m\n",
      "\u001b[34m10%|█         | 11/106 [00:05<00:53,  1.77it/s]\u001b[0m\n",
      "\u001b[34m11%|█▏        | 12/106 [00:06<00:53,  1.76it/s]\u001b[0m\n",
      "\u001b[34m12%|█▏        | 13/106 [00:06<00:52,  1.76it/s]\u001b[0m\n",
      "\u001b[34m13%|█▎        | 14/106 [00:07<00:52,  1.76it/s]\u001b[0m\n",
      "\u001b[34m14%|█▍        | 15/106 [00:08<00:51,  1.76it/s]\u001b[0m\n",
      "\u001b[34m15%|█▌        | 16/106 [00:08<00:51,  1.76it/s]\u001b[0m\n",
      "\u001b[34m16%|█▌        | 17/106 [00:09<00:50,  1.75it/s]\u001b[0m\n",
      "\u001b[34m17%|█▋        | 18/106 [00:09<00:50,  1.75it/s]\u001b[0m\n",
      "\u001b[34m18%|█▊        | 19/106 [00:10<00:49,  1.75it/s]\u001b[0m\n",
      "\u001b[34m19%|█▉        | 20/106 [00:10<00:49,  1.75it/s]\u001b[0m\n",
      "\u001b[34m20%|█▉        | 21/106 [00:11<00:48,  1.75it/s]\u001b[0m\n",
      "\u001b[34m21%|██        | 22/106 [00:12<00:47,  1.75it/s]\u001b[0m\n",
      "\u001b[34m22%|██▏       | 23/106 [00:12<00:47,  1.75it/s]\u001b[0m\n",
      "\u001b[34m23%|██▎       | 24/106 [00:13<00:46,  1.75it/s]\u001b[0m\n",
      "\u001b[34m24%|██▎       | 25/106 [00:13<00:46,  1.75it/s]\u001b[0m\n",
      "\u001b[34m25%|██▍       | 26/106 [00:14<00:46,  1.73it/s]\u001b[0m\n",
      "\u001b[34m25%|██▌       | 27/106 [00:14<00:45,  1.73it/s]\u001b[0m\n",
      "\u001b[34m26%|██▋       | 28/106 [00:15<00:44,  1.74it/s]\u001b[0m\n",
      "\u001b[34m27%|██▋       | 29/106 [00:16<00:44,  1.73it/s]\u001b[0m\n",
      "\u001b[34m28%|██▊       | 30/106 [00:16<00:43,  1.74it/s]\u001b[0m\n",
      "\u001b[34m29%|██▉       | 31/106 [00:17<00:43,  1.74it/s]\u001b[0m\n",
      "\u001b[34m30%|███       | 32/106 [00:17<00:42,  1.74it/s]\u001b[0m\n",
      "\u001b[34m31%|███       | 33/106 [00:18<00:41,  1.75it/s]\u001b[0m\n",
      "\u001b[34m32%|███▏      | 34/106 [00:19<00:47,  1.53it/s]\u001b[0m\n",
      "\u001b[34m33%|███▎      | 35/106 [00:19<00:49,  1.44it/s]\u001b[0m\n",
      "\u001b[34m34%|███▍      | 36/106 [00:20<00:48,  1.44it/s]\u001b[0m\n",
      "\u001b[34m35%|███▍      | 37/106 [00:21<00:45,  1.52it/s]\u001b[0m\n",
      "\u001b[34m36%|███▌      | 38/106 [00:21<00:43,  1.58it/s]\u001b[0m\n",
      "\u001b[34m37%|███▋      | 39/106 [00:22<00:41,  1.63it/s]\u001b[0m\n",
      "\u001b[34m38%|███▊      | 40/106 [00:22<00:39,  1.66it/s]\u001b[0m\n",
      "\u001b[34m39%|███▊      | 41/106 [00:23<00:38,  1.69it/s]\u001b[0m\n",
      "\u001b[34m40%|███▉      | 42/106 [00:24<00:37,  1.71it/s]\u001b[0m\n",
      "\u001b[34m41%|████      | 43/106 [00:24<00:36,  1.71it/s]\u001b[0m\n",
      "\u001b[34m42%|████▏     | 44/106 [00:25<00:36,  1.72it/s]\u001b[0m\n",
      "\u001b[34m42%|████▏     | 45/106 [00:25<00:35,  1.73it/s]\u001b[0m\n",
      "\u001b[34m43%|████▎     | 46/106 [00:26<00:34,  1.74it/s]\u001b[0m\n",
      "\u001b[34m44%|████▍     | 47/106 [00:26<00:33,  1.74it/s]\u001b[0m\n",
      "\u001b[34m45%|████▌     | 48/106 [00:27<00:33,  1.74it/s]\u001b[0m\n",
      "\u001b[34m46%|████▌     | 49/106 [00:28<00:32,  1.74it/s]\u001b[0m\n",
      "\u001b[34m47%|████▋     | 50/106 [00:28<00:32,  1.75it/s]\u001b[0m\n",
      "\u001b[34m48%|████▊     | 51/106 [00:29<00:31,  1.74it/s]\u001b[0m\n",
      "\u001b[34m49%|████▉     | 52/106 [00:29<00:31,  1.74it/s]\u001b[0m\n",
      "\u001b[34m50%|█████     | 53/106 [00:30<00:30,  1.75it/s]\u001b[0m\n",
      "\u001b[34m51%|█████     | 54/106 [00:30<00:29,  1.74it/s]\u001b[0m\n",
      "\u001b[34m52%|█████▏    | 55/106 [00:31<00:29,  1.75it/s]\u001b[0m\n",
      "\u001b[34m53%|█████▎    | 56/106 [00:32<00:28,  1.74it/s]\u001b[0m\n",
      "\u001b[34m54%|█████▍    | 57/106 [00:32<00:28,  1.74it/s]\u001b[0m\n",
      "\u001b[34m55%|█████▍    | 58/106 [00:33<00:27,  1.75it/s]\u001b[0m\n",
      "\u001b[34m56%|█████▌    | 59/106 [00:33<00:26,  1.75it/s]\u001b[0m\n",
      "\u001b[34m57%|█████▋    | 60/106 [00:34<00:26,  1.75it/s]\u001b[0m\n",
      "\u001b[34m58%|█████▊    | 61/106 [00:34<00:25,  1.75it/s]\u001b[0m\n",
      "\u001b[34m58%|█████▊    | 62/106 [00:35<00:25,  1.75it/s]\u001b[0m\n",
      "\u001b[34m59%|█████▉    | 63/106 [00:36<00:24,  1.75it/s]\u001b[0m\n",
      "\u001b[34m60%|██████    | 64/106 [00:36<00:23,  1.75it/s]\u001b[0m\n",
      "\u001b[34m61%|██████▏   | 65/106 [00:37<00:23,  1.74it/s]\u001b[0m\n",
      "\u001b[34m62%|██████▏   | 66/106 [00:37<00:22,  1.75it/s]\u001b[0m\n",
      "\u001b[34m63%|██████▎   | 67/106 [00:38<00:22,  1.75it/s]\u001b[0m\n",
      "\u001b[34m64%|██████▍   | 68/106 [00:38<00:21,  1.75it/s]\u001b[0m\n",
      "\u001b[34m65%|██████▌   | 69/106 [00:39<00:21,  1.74it/s]\u001b[0m\n",
      "\u001b[34m66%|██████▌   | 70/106 [00:40<00:20,  1.74it/s]\u001b[0m\n",
      "\u001b[34m67%|██████▋   | 71/106 [00:40<00:20,  1.75it/s]\u001b[0m\n",
      "\u001b[34m68%|██████▊   | 72/106 [00:41<00:19,  1.74it/s]\u001b[0m\n",
      "\u001b[34m69%|██████▉   | 73/106 [00:41<00:18,  1.75it/s]\u001b[0m\n",
      "\u001b[34m70%|██████▉   | 74/106 [00:42<00:18,  1.75it/s]\u001b[0m\n",
      "\u001b[34m71%|███████   | 75/106 [00:42<00:17,  1.75it/s]\u001b[0m\n",
      "\u001b[34m72%|███████▏  | 76/106 [00:43<00:17,  1.75it/s]\u001b[0m\n",
      "\u001b[34m73%|███████▎  | 77/106 [00:44<00:16,  1.74it/s]\u001b[0m\n",
      "\u001b[34m74%|███████▎  | 78/106 [00:44<00:16,  1.74it/s]\u001b[0m\n",
      "\u001b[34m75%|███████▍  | 79/106 [00:45<00:15,  1.75it/s]\u001b[0m\n",
      "\u001b[34m75%|███████▌  | 80/106 [00:45<00:14,  1.75it/s]\u001b[0m\n",
      "\u001b[34m76%|███████▋  | 81/106 [00:46<00:14,  1.75it/s]\u001b[0m\n",
      "\u001b[34m77%|███████▋  | 82/106 [00:46<00:13,  1.75it/s]\u001b[0m\n",
      "\u001b[34m78%|███████▊  | 83/106 [00:47<00:13,  1.75it/s]\u001b[0m\n",
      "\u001b[34m79%|███████▉  | 84/106 [00:48<00:12,  1.73it/s]\u001b[0m\n",
      "\u001b[34m80%|████████  | 85/106 [00:48<00:12,  1.74it/s]\u001b[0m\n",
      "\u001b[34m81%|████████  | 86/106 [00:49<00:11,  1.71it/s]\u001b[0m\n",
      "\u001b[34m82%|████████▏ | 87/106 [00:49<00:11,  1.72it/s]\u001b[0m\n",
      "\u001b[34m83%|████████▎ | 88/106 [00:50<00:10,  1.73it/s]\u001b[0m\n",
      "\u001b[34m84%|████████▍ | 89/106 [00:51<00:09,  1.74it/s]\u001b[0m\n",
      "\u001b[34m85%|████████▍ | 90/106 [00:51<00:09,  1.74it/s]\u001b[0m\n",
      "\u001b[34m86%|████████▌ | 91/106 [00:52<00:08,  1.74it/s]\u001b[0m\n",
      "\u001b[34m87%|████████▋ | 92/106 [00:52<00:08,  1.74it/s]\u001b[0m\n",
      "\u001b[34m88%|████████▊ | 93/106 [00:53<00:07,  1.75it/s]\u001b[0m\n",
      "\u001b[34m89%|████████▊ | 94/106 [00:53<00:06,  1.75it/s]\u001b[0m\n",
      "\u001b[34m90%|████████▉ | 95/106 [00:54<00:06,  1.74it/s]\u001b[0m\n",
      "\u001b[34m91%|█████████ | 96/106 [00:55<00:05,  1.73it/s]\u001b[0m\n",
      "\u001b[34m92%|█████████▏| 97/106 [00:55<00:05,  1.74it/s]\u001b[0m\n",
      "\u001b[34m92%|█████████▏| 98/106 [00:56<00:04,  1.74it/s]\u001b[0m\n",
      "\u001b[34m93%|█████████▎| 99/106 [00:56<00:03,  1.75it/s]\u001b[0m\n",
      "\u001b[34m94%|█████████▍| 100/106 [00:57<00:03,  1.75it/s]\u001b[0m\n",
      "\u001b[34m95%|█████████▌| 101/106 [00:57<00:02,  1.75it/s]\u001b[0m\n",
      "\u001b[34m96%|█████████▌| 102/106 [00:58<00:02,  1.76it/s]\u001b[0m\n",
      "\u001b[34m97%|█████████▋| 103/106 [00:59<00:01,  1.76it/s]\u001b[0m\n",
      "\u001b[34m98%|█████████▊| 104/106 [00:59<00:01,  1.76it/s]\u001b[0m\n",
      "\u001b[34m99%|█████████▉| 105/106 [01:00<00:00,  1.76it/s]\u001b[0m\n",
      "\u001b[34m100%|██████████| 106/106 [01:00<00:00,  1.76it/s]\u001b[0m\n",
      "\u001b[34m***** Eval results *****\u001b[0m\n",
      "\u001b[34mepoch = 1.0\u001b[0m\n",
      "\u001b[34meval_accuracy = 0.9952487008166295\u001b[0m\n",
      "\u001b[34meval_loss = 0.040691182017326355\u001b[0m\n",
      "\u001b[34meval_runtime = 60.8934\u001b[0m\n",
      "\u001b[34meval_samples_per_second = 110.603\u001b[0m\n",
      "\u001b[34meval_steps_per_second = 1.741\u001b[0m\n",
      "\u001b[34mSaving model checkpoint to /opt/ml/model\u001b[0m\n",
      "\u001b[34mSaving model checkpoint to /opt/ml/model\u001b[0m\n",
      "\u001b[34mConfiguration saved in /opt/ml/model/config.json\u001b[0m\n",
      "\u001b[34mConfiguration saved in /opt/ml/model/config.json\u001b[0m\n",
      "\u001b[34mModel weights saved in /opt/ml/model/pytorch_model.bin\u001b[0m\n",
      "\u001b[34mModel weights saved in /opt/ml/model/pytorch_model.bin\u001b[0m\n",
      "\u001b[34mtokenizer config file saved in /opt/ml/model/tokenizer_config.json\u001b[0m\n",
      "\u001b[34mtokenizer config file saved in /opt/ml/model/tokenizer_config.json\u001b[0m\n",
      "\u001b[34mSpecial tokens file saved in /opt/ml/model/special_tokens_map.json\u001b[0m\n",
      "\u001b[34mSpecial tokens file saved in /opt/ml/model/special_tokens_map.json\u001b[0m\n",
      "\u001b[34m2024-06-22 22:48:44,331 sagemaker-training-toolkit INFO     Waiting for the process to finish and give a return code.\u001b[0m\n",
      "\u001b[34m2024-06-22 22:48:44,331 sagemaker-training-toolkit INFO     Done waiting for a return code. Received 0 from exiting process.\u001b[0m\n",
      "\u001b[34m2024-06-22 22:48:44,332 sagemaker-training-toolkit INFO     Reporting training SUCCESS\u001b[0m\n",
      "\n",
      "2024-06-22 22:49:01 Uploading - Uploading generated training model\n",
      "2024-06-22 22:49:01 Completed - Training job completed\n",
      "Training seconds: 1508\n",
      "Billable seconds: 1508\n"
     ]
    }
   ],
   "source": [
    "with Run(\n",
    "    experiment_name=experiments_name,\n",
    "    run_name=run_name,\n",
    "    sagemaker_session=sagemaker_session\n",
    ") as run:\n",
    "\n",
    "    # create the Estimator\n",
    "    huggingface_estimator = HuggingFace(\n",
    "        entry_point='train.py',         # train script\n",
    "        source_dir='./scripts',         # directory which includes all the files needed for training\n",
    "        instance_type='ml.m5.xlarge', # instances type used for the training job\n",
    "        instance_count=1,               # the number of instances used for training\n",
    "        base_job_name=job_name,         # the name of the training job\n",
    "        role=sagemaker.get_execution_role(),      # Iam role used in training job to access AWS ressources, e.g. S4\n",
    "        pytorch_version='1.13',          # the pytorch_version version used in the training job\n",
    "        py_version='py39',             # the python version used in the training job\n",
    "        transformers_version='4.26',\n",
    "        hyperparameters= hyperparameters,\n",
    "        per_device_train_batch_size=32,\n",
    "        per_device_eval_batch_size=32,\n",
    "        logging_dir='./logs',\n",
    "        logging_steps=10,\n",
    "        image_uri=\"763104351884.dkr.ecr.us-east-1.amazonaws.com/huggingface-pytorch-training:1.13.1-transformers4.26.0-gpu-py39-cu117-ubuntu20.04\",\n",
    "        sagemaker_session=sagemaker_session,         # specifies a sagemaker session object\n",
    "        output_path=model_output_s3_loc, # s3 location for model artifact,\n",
    "        # metric_definitions=metric_definitions,\n",
    "    )\n",
    "    \n",
    "    # define a data input dictonary with our uploaded s3 uris\n",
    "    data = { 'train': train_path,\n",
    "             'test': test_path}\n",
    "    # starting the train job with our uploaded datasets as input\n",
    "    huggingface_estimator.fit(data, wait=True, logs= 'all')\n",
    "    run.log_parameters(data)"
   ]
  },
  {
   "cell_type": "code",
   "execution_count": 44,
   "metadata": {},
   "outputs": [],
   "source": [
    "# huggingface_estimator.fit({'train': train_path, 'test': test_path})"
   ]
  },
  {
   "cell_type": "markdown",
   "metadata": {},
   "source": [
    "# Accessing Training Metrics"
   ]
  },
  {
   "cell_type": "code",
   "execution_count": 45,
   "metadata": {},
   "outputs": [
    {
     "ename": "KeyError",
     "evalue": "'MetricDefinitions'",
     "output_type": "error",
     "traceback": [
      "\u001b[0;31m---------------------------------------------------------------------------\u001b[0m",
      "\u001b[0;31mKeyError\u001b[0m                                  Traceback (most recent call last)",
      "Cell \u001b[0;32mIn[45], line 4\u001b[0m\n\u001b[1;32m      1\u001b[0m \u001b[38;5;28;01mfrom\u001b[39;00m \u001b[38;5;21;01msagemaker\u001b[39;00m \u001b[38;5;28;01mimport\u001b[39;00m TrainingJobAnalytics\n\u001b[1;32m      3\u001b[0m \u001b[38;5;66;03m# Captured metrics can be accessed as a Pandas dataframe\u001b[39;00m\n\u001b[0;32m----> 4\u001b[0m df \u001b[38;5;241m=\u001b[39m \u001b[43mTrainingJobAnalytics\u001b[49m\u001b[43m(\u001b[49m\u001b[43mtraining_job_name\u001b[49m\u001b[38;5;241;43m=\u001b[39;49m\u001b[43mhuggingface_estimator\u001b[49m\u001b[38;5;241;43m.\u001b[39;49m\u001b[43mlatest_training_job\u001b[49m\u001b[38;5;241;43m.\u001b[39;49m\u001b[43mname\u001b[49m\u001b[43m)\u001b[49m\u001b[38;5;241m.\u001b[39mdataframe()\n\u001b[1;32m      5\u001b[0m df\u001b[38;5;241m.\u001b[39mhead(\u001b[38;5;241m10\u001b[39m)\n",
      "File \u001b[0;32m/opt/conda/lib/python3.10/site-packages/sagemaker/analytics.py:317\u001b[0m, in \u001b[0;36mTrainingJobAnalytics.__init__\u001b[0;34m(self, training_job_name, metric_names, sagemaker_session, start_time, end_time, period)\u001b[0m\n\u001b[1;32m    315\u001b[0m     \u001b[38;5;28mself\u001b[39m\u001b[38;5;241m.\u001b[39m_metric_names \u001b[38;5;241m=\u001b[39m metric_names\n\u001b[1;32m    316\u001b[0m \u001b[38;5;28;01melse\u001b[39;00m:\n\u001b[0;32m--> 317\u001b[0m     \u001b[38;5;28mself\u001b[39m\u001b[38;5;241m.\u001b[39m_metric_names \u001b[38;5;241m=\u001b[39m \u001b[38;5;28;43mself\u001b[39;49m\u001b[38;5;241;43m.\u001b[39;49m\u001b[43m_metric_names_for_training_job\u001b[49m\u001b[43m(\u001b[49m\u001b[43m)\u001b[49m\n\u001b[1;32m    319\u001b[0m \u001b[38;5;28msuper\u001b[39m(TrainingJobAnalytics, \u001b[38;5;28mself\u001b[39m)\u001b[38;5;241m.\u001b[39m\u001b[38;5;21m__init__\u001b[39m()\n\u001b[1;32m    320\u001b[0m \u001b[38;5;28mself\u001b[39m\u001b[38;5;241m.\u001b[39mclear_cache()\n",
      "File \u001b[0;32m/opt/conda/lib/python3.10/site-packages/sagemaker/analytics.py:425\u001b[0m, in \u001b[0;36mTrainingJobAnalytics._metric_names_for_training_job\u001b[0;34m(self)\u001b[0m\n\u001b[1;32m    420\u001b[0m \u001b[38;5;250m\u001b[39m\u001b[38;5;124;03m\"\"\"Helper method to discover the metrics defined for a training job.\"\"\"\u001b[39;00m\n\u001b[1;32m    421\u001b[0m training_description \u001b[38;5;241m=\u001b[39m \u001b[38;5;28mself\u001b[39m\u001b[38;5;241m.\u001b[39m_sage_client\u001b[38;5;241m.\u001b[39mdescribe_training_job(\n\u001b[1;32m    422\u001b[0m     TrainingJobName\u001b[38;5;241m=\u001b[39m\u001b[38;5;28mself\u001b[39m\u001b[38;5;241m.\u001b[39m_training_job_name\n\u001b[1;32m    423\u001b[0m )\n\u001b[0;32m--> 425\u001b[0m metric_definitions \u001b[38;5;241m=\u001b[39m \u001b[43mtraining_description\u001b[49m\u001b[43m[\u001b[49m\u001b[38;5;124;43m\"\u001b[39;49m\u001b[38;5;124;43mAlgorithmSpecification\u001b[39;49m\u001b[38;5;124;43m\"\u001b[39;49m\u001b[43m]\u001b[49m\u001b[43m[\u001b[49m\u001b[38;5;124;43m\"\u001b[39;49m\u001b[38;5;124;43mMetricDefinitions\u001b[39;49m\u001b[38;5;124;43m\"\u001b[39;49m\u001b[43m]\u001b[49m\n\u001b[1;32m    426\u001b[0m metric_names \u001b[38;5;241m=\u001b[39m [md[\u001b[38;5;124m\"\u001b[39m\u001b[38;5;124mName\u001b[39m\u001b[38;5;124m\"\u001b[39m] \u001b[38;5;28;01mfor\u001b[39;00m md \u001b[38;5;129;01min\u001b[39;00m metric_definitions]\n\u001b[1;32m    428\u001b[0m \u001b[38;5;28;01mreturn\u001b[39;00m metric_names\n",
      "\u001b[0;31mKeyError\u001b[0m: 'MetricDefinitions'"
     ]
    }
   ],
   "source": [
    "from sagemaker import TrainingJobAnalytics\n",
    "\n",
    "# Captured metrics can be accessed as a Pandas dataframe\n",
    "df = TrainingJobAnalytics(training_job_name=huggingface_estimator.latest_training_job.name).dataframe()\n",
    "df.head(10)"
   ]
  },
  {
   "cell_type": "code",
   "execution_count": null,
   "metadata": {},
   "outputs": [],
   "source": [
    "!pip install seaborn"
   ]
  },
  {
   "cell_type": "code",
   "execution_count": null,
   "metadata": {},
   "outputs": [],
   "source": [
    "from matplotlib import pyplot as plt\n",
    "import seaborn as sns\n",
    "\n",
    "plt.rcParams['figure.figsize'] = [15,5]"
   ]
  },
  {
   "cell_type": "code",
   "execution_count": null,
   "metadata": {},
   "outputs": [],
   "source": [
    "from matplotlib import pyplot as plt\n",
    "import seaborn as sns\n",
    "\n",
    "plt.rcParams['figure.figsize'] = [15,5]"
   ]
  },
  {
   "cell_type": "markdown",
   "metadata": {},
   "source": [
    "# Serving"
   ]
  },
  {
   "cell_type": "code",
   "execution_count": 46,
   "metadata": {},
   "outputs": [
    {
     "name": "stdout",
     "output_type": "stream",
     "text": [
      "Model artifact saved at: s3://sagemaker-us-east-1-873309100258/run-name-of-exp-prajjwal1-bert-tiny-2406222223-d2fe4/modeloutput/run-name-of-exp-prajjwal1-bert-tiny-240-2024-06-22-22-23-11-133/output/model.tar.gz\n"
     ]
    }
   ],
   "source": [
    "model_path = huggingface_estimator.model_data\n",
    "print(f\"Model artifact saved at: {model_path}\")"
   ]
  },
  {
   "cell_type": "code",
   "execution_count": null,
   "metadata": {},
   "outputs": [],
   "source": [
    "# from sagemaker.huggingface import HuggingFaceModel\n",
    "\n",
    "# # Define the Hugging Face model\n",
    "# huggingface_model = HuggingFaceModel(\n",
    "#     model_data=model_path,\n",
    "#     role=sagemaker.get_execution_role(),\n",
    "#     transformers_version='4.6',        # Transformers version\n",
    "#     pytorch_version='1.7',             # PyTorch version\n",
    "#     py_version='py36',                 # Python version\n",
    "#     entry_point='inference.py',         # Your inference script\n",
    "#     source_dir='./scripts',\n",
    "# )\n",
    "\n",
    "# # Deploy the model\n",
    "# predictor = huggingface_model.deploy(\n",
    "#     initial_instance_count=1,\n",
    "#     instance_type='ml.m5.xlarge'\n",
    "# )"
   ]
  },
  {
   "cell_type": "code",
   "execution_count": null,
   "metadata": {},
   "outputs": [],
   "source": [
    "# # Testing the model\n",
    "# random_sample = news_df.sample(n=1)\n",
    "# test_text = random_sample['stopwords_removed'].values[0]\n",
    "# prediction = predictor.predict({\"inputs\": test_text[:512]})\n",
    "# print(f\"Text: {test_text}\")\n",
    "# print(f\"Prediction: {prediction}\")"
   ]
  },
  {
   "cell_type": "code",
   "execution_count": null,
   "metadata": {},
   "outputs": [],
   "source": [
    "# # Delete endpoint\n",
    "# predictor.delete_model()\n",
    "# predictor.delete_endpoint()"
   ]
  },
  {
   "cell_type": "markdown",
   "metadata": {},
   "source": [
    "We create a metric_definition dictionary that contains regex-based definitions that will be used to parse the job logs and extract metric"
   ]
  },
  {
   "cell_type": "markdown",
   "metadata": {},
   "source": [
    "# Sagemaker Monitoring"
   ]
  },
  {
   "cell_type": "code",
   "execution_count": 47,
   "metadata": {},
   "outputs": [],
   "source": [
    "from sagemaker.model import Model \n",
    "from sagemaker.model_monitor import DataCaptureConfig\n",
    "from sagemaker.processing import ProcessingJob\n",
    "from sagemaker.serializers import CSVSerializer\n",
    "from threading import Thread "
   ]
  },
  {
   "cell_type": "markdown",
   "metadata": {},
   "source": [
    "# Convert hold back data to ground truth and production data"
   ]
  },
  {
   "cell_type": "code",
   "execution_count": 48,
   "metadata": {},
   "outputs": [
    {
     "name": "stdout",
     "output_type": "stream",
     "text": [
      "Ground truth saved to ./baseline/ground_truth.csv\n",
      "Production data saved to ./baseline/production_data.csv\n"
     ]
    }
   ],
   "source": [
    "baseline_prefix = \"./baseline\"\n",
    "\n",
    "# Convert to DataFrame for easier manipulation\n",
    "df_hold_back = hold_back_dataset.to_pandas()\n",
    "\n",
    "# Limit to 200 entries\n",
    "df_hold_back_limited = df_hold_back.head(250)\n",
    "\n",
    "# Create Ground_truth DataFrame (include text and label)\n",
    "ground_truth_df = df_hold_back_limited[['stopwords_removed', 'label']].copy()\n",
    "ground_truth_df.columns = ['text', 'label']\n",
    "\n",
    "# Create Production_data DataFrame (include only text)\n",
    "production_data_df = df_hold_back_limited[['stopwords_removed']].copy()\n",
    "production_data_df.columns = ['text']\n",
    "\n",
    "# Add index for traceability if necessary\n",
    "ground_truth_df.reset_index(drop=True, inplace=True)\n",
    "production_data_df.reset_index(drop=True, inplace=True)\n",
    "\n",
    "# Save both DataFrames to CSV files\n",
    "ground_truth_path = f'{baseline_prefix}/ground_truth.csv'\n",
    "production_data_path = f'{baseline_prefix}/production_data.csv'\n",
    "\n",
    "ground_truth_df.to_csv(ground_truth_path, index=False)\n",
    "production_data_df.to_csv(production_data_path, index=False)\n",
    "\n",
    "print(f\"Ground truth saved to {ground_truth_path}\")\n",
    "print(f\"Production data saved to {production_data_path}\")"
   ]
  },
  {
   "cell_type": "code",
   "execution_count": 49,
   "metadata": {},
   "outputs": [
    {
     "data": {
      "text/html": [
       "<div>\n",
       "<style scoped>\n",
       "    .dataframe tbody tr th:only-of-type {\n",
       "        vertical-align: middle;\n",
       "    }\n",
       "\n",
       "    .dataframe tbody tr th {\n",
       "        vertical-align: top;\n",
       "    }\n",
       "\n",
       "    .dataframe thead th {\n",
       "        text-align: right;\n",
       "    }\n",
       "</style>\n",
       "<table border=\"1\" class=\"dataframe\">\n",
       "  <thead>\n",
       "    <tr style=\"text-align: right;\">\n",
       "      <th></th>\n",
       "      <th>text</th>\n",
       "      <th>label</th>\n",
       "    </tr>\n",
       "  </thead>\n",
       "  <tbody>\n",
       "    <tr>\n",
       "      <th>0</th>\n",
       "      <td>first time obama left important figure behind ...</td>\n",
       "      <td>0</td>\n",
       "    </tr>\n",
       "    <tr>\n",
       "      <th>1</th>\n",
       "      <td>berlin reuters three germany main parties rais...</td>\n",
       "      <td>1</td>\n",
       "    </tr>\n",
       "    <tr>\n",
       "      <th>2</th>\n",
       "      <td>story fade quickly back page news mainstream m...</td>\n",
       "      <td>0</td>\n",
       "    </tr>\n",
       "    <tr>\n",
       "      <th>3</th>\n",
       "      <td>new delhi reuters indian police arrested chris...</td>\n",
       "      <td>1</td>\n",
       "    </tr>\n",
       "    <tr>\n",
       "      <th>4</th>\n",
       "      <td>john kerry : injured credibility conceivably i...</td>\n",
       "      <td>0</td>\n",
       "    </tr>\n",
       "  </tbody>\n",
       "</table>\n",
       "</div>"
      ],
      "text/plain": [
       "                                                text  label\n",
       "0  first time obama left important figure behind ...      0\n",
       "1  berlin reuters three germany main parties rais...      1\n",
       "2  story fade quickly back page news mainstream m...      0\n",
       "3  new delhi reuters indian police arrested chris...      1\n",
       "4  john kerry : injured credibility conceivably i...      0"
      ]
     },
     "execution_count": 49,
     "metadata": {},
     "output_type": "execute_result"
    }
   ],
   "source": [
    "ground_truth_df.head()"
   ]
  },
  {
   "cell_type": "code",
   "execution_count": 50,
   "metadata": {},
   "outputs": [
    {
     "data": {
      "text/html": [
       "<div>\n",
       "<style scoped>\n",
       "    .dataframe tbody tr th:only-of-type {\n",
       "        vertical-align: middle;\n",
       "    }\n",
       "\n",
       "    .dataframe tbody tr th {\n",
       "        vertical-align: top;\n",
       "    }\n",
       "\n",
       "    .dataframe thead th {\n",
       "        text-align: right;\n",
       "    }\n",
       "</style>\n",
       "<table border=\"1\" class=\"dataframe\">\n",
       "  <thead>\n",
       "    <tr style=\"text-align: right;\">\n",
       "      <th></th>\n",
       "      <th>text</th>\n",
       "    </tr>\n",
       "  </thead>\n",
       "  <tbody>\n",
       "    <tr>\n",
       "      <th>0</th>\n",
       "      <td>first time obama left important figure behind ...</td>\n",
       "    </tr>\n",
       "    <tr>\n",
       "      <th>1</th>\n",
       "      <td>berlin reuters three germany main parties rais...</td>\n",
       "    </tr>\n",
       "    <tr>\n",
       "      <th>2</th>\n",
       "      <td>story fade quickly back page news mainstream m...</td>\n",
       "    </tr>\n",
       "    <tr>\n",
       "      <th>3</th>\n",
       "      <td>new delhi reuters indian police arrested chris...</td>\n",
       "    </tr>\n",
       "    <tr>\n",
       "      <th>4</th>\n",
       "      <td>john kerry : injured credibility conceivably i...</td>\n",
       "    </tr>\n",
       "  </tbody>\n",
       "</table>\n",
       "</div>"
      ],
      "text/plain": [
       "                                                text\n",
       "0  first time obama left important figure behind ...\n",
       "1  berlin reuters three germany main parties rais...\n",
       "2  story fade quickly back page news mainstream m...\n",
       "3  new delhi reuters indian police arrested chris...\n",
       "4  john kerry : injured credibility conceivably i..."
      ]
     },
     "execution_count": 50,
     "metadata": {},
     "output_type": "execute_result"
    }
   ],
   "source": [
    "production_data_df.head()"
   ]
  },
  {
   "cell_type": "markdown",
   "metadata": {},
   "source": [
    "# Deploy Data Capture"
   ]
  },
  {
   "cell_type": "code",
   "execution_count": 51,
   "metadata": {},
   "outputs": [
    {
     "name": "stdout",
     "output_type": "stream",
     "text": [
      "s3://sagemaker-us-east-1-873309100258/run-name-of-exp-prajjwal1-bert-tiny-2406222223-d2fe4/capture_path\n",
      "s3://sagemaker-us-east-1-873309100258/run-name-of-exp-prajjwal1-bert-tiny-2406222223-d2fe4/ground_truth\n"
     ]
    }
   ],
   "source": [
    "# Capture Path\n",
    "capture_path = f\"s3://{bucket}/{run_name}/capture_path\"\n",
    "# Ground Truth Path \n",
    "ground_truth= f\"s3://{bucket}/{run_name}/ground_truth\"\n",
    "print(capture_path)\n",
    "print(ground_truth)"
   ]
  },
  {
   "cell_type": "code",
   "execution_count": 52,
   "metadata": {},
   "outputs": [],
   "source": [
    "data_capture_config = DataCaptureConfig(\n",
    "    enable_capture=True, sampling_percentage=100, destination_s3_uri=capture_path\n",
    ")"
   ]
  },
  {
   "cell_type": "code",
   "execution_count": 53,
   "metadata": {},
   "outputs": [
    {
     "name": "stderr",
     "output_type": "stream",
     "text": [
      "INFO:sagemaker:Repacking model artifact (s3://sagemaker-us-east-1-873309100258/run-name-of-exp-prajjwal1-bert-tiny-2406222223-d2fe4/modeloutput/run-name-of-exp-prajjwal1-bert-tiny-240-2024-06-22-22-23-11-133/output/model.tar.gz), script artifact (./scripts), and dependencies ([]) into single tar.gz file located at s3://sagemaker-us-east-1-873309100258/huggingface-pytorch-inference-2024-06-22-22-50-08-137/model.tar.gz. This may take some time depending on model size...\n",
      "INFO:sagemaker:Creating model with name: huggingface-pytorch-inference-2024-06-22-22-50-13-552\n",
      "INFO:sagemaker:Creating endpoint-config with name huggingface-pytorch-inference-2024-06-22-22-50-14-249\n",
      "INFO:sagemaker:Creating endpoint with name huggingface-pytorch-inference-2024-06-22-22-50-14-249\n"
     ]
    },
    {
     "name": "stdout",
     "output_type": "stream",
     "text": [
      "-----!"
     ]
    }
   ],
   "source": [
    "from sagemaker.huggingface import HuggingFaceModel\n",
    "\n",
    "# Define the Hugging Face model\n",
    "huggingface_model = HuggingFaceModel(\n",
    "    model_data=model_path,\n",
    "    role=sagemaker.get_execution_role(),\n",
    "    transformers_version='4.6',        # Transformers version\n",
    "    pytorch_version='1.7',             # PyTorch version\n",
    "    py_version='py36',                 # Python version\n",
    "    entry_point='inference.py',         # Your inference script\n",
    "    source_dir='./scripts',\n",
    ")\n",
    "\n",
    "# Deploy the model\n",
    "predictor = huggingface_model.deploy(\n",
    "    initial_instance_count=1,\n",
    "    instance_type='ml.m5.xlarge', \n",
    "    data_capture_config=data_capture_config,\n",
    ")"
   ]
  },
  {
   "cell_type": "code",
   "execution_count": 54,
   "metadata": {},
   "outputs": [
    {
     "name": "stdout",
     "output_type": "stream",
     "text": [
      "huggingface-pytorch-inference-2024-06-22-22-50-14-249\n"
     ]
    }
   ],
   "source": [
    "endpoint_name = predictor.endpoint_name\n",
    "print(endpoint_name)"
   ]
  },
  {
   "cell_type": "markdown",
   "metadata": {},
   "source": [
    "### Test the endpoint"
   ]
  },
  {
   "cell_type": "code",
   "execution_count": 55,
   "metadata": {},
   "outputs": [
    {
     "name": "stdout",
     "output_type": "stream",
     "text": [
      "Text: paris reuters france monday urged chadian authorities press ahead parliamentary elections securing billions dollars pledges donor countries aimed helping revive country struggling economy president idriss deby elected 2016 gaining power 1990 head armed rebellion said february lack financial resources meant chad parliamentary elections would postponed indefinitely legislative elections important moment democratic life french foreign ministry spokeswoman agnes romatet espagne told reporters daily briefing hope regard chadian authorities position announce calendar elections soon statement friday chad government said secured $ 18.5 billion pledges 2017 2021 national development program double original expectations romatet espagne said france would contribute 223 million euros $ 267.27 million former french colony one poorest nations world rocked humanitarian crises past decade including conflicts east south drought arid sahel region flooding compounded since 2012 instability borders libya nigeria central african republic forcing chad increase security budget handle thousands refugees counter growing cross border threat economy especially hit 50 percent drop price oil represent three quarters revenues however critics say much revenues goes army military spending helped chad intervene central african republic mali neighboring countries threatened boko haram far afield saudi arabia led coalition fight houthi combatants yemen international crisis group analyst richard moncrieff said note sept 8 engagement strengthened relations western powers brought substantial financial political support eu france yous particular today consider deby principal partner fight terrorism sahel deby win win : tackle domestic armed opposition pay troops gain significant leverage donors headquarters france 4,000 strong counter terrorism barkhane force chadian capital n djamena asked science po university sept 6 whether france policy west africa still based francafrique foreign minister jean yves le drian sought play perception longer talk francafrique africafrance le drian said france support corrupt leaders contrary presidents elected universal suffrage mentioned deby niger president mahamadou issoufou whose elections contested reality franceafrique describes informal web relationships paris maintained former african colonies support sometimes form military backing politicians favor french business interests\n",
      "Prediction: [{'label': 'positive', 'score': 0.9739519357681274}]\n"
     ]
    }
   ],
   "source": [
    "from sagemaker.serializers import JSONSerializer\n",
    "\n",
    "predictor.serializer = JSONSerializer()\n",
    "\n",
    "random_sample = news_df.sample(n=1)\n",
    "test_text = random_sample['stopwords_removed'].values[0]\n",
    "# Assuming the model endpoint expects a JSON formatted input with the key \"inputs\"\n",
    "prediction = predictor.predict({\"inputs\": test_text[:512]})\n",
    "print(f\"Text: {test_text}\")\n",
    "print(f\"Prediction: {prediction}\")\n"
   ]
  },
  {
   "cell_type": "markdown",
   "metadata": {},
   "source": [
    "# Create a basline: Execute predications using the validation dataset"
   ]
  },
  {
   "cell_type": "markdown",
   "metadata": {},
   "source": [
    "# Create Sagemaker Predictor Object"
   ]
  },
  {
   "cell_type": "code",
   "execution_count": 56,
   "metadata": {},
   "outputs": [],
   "source": [
    "from sagemaker.predictor import Predictor\n",
    "\n",
    "predictor = Predictor(\n",
    "    endpoint_name=endpoint_name, sagemaker_session=sagemaker_session, serializer=CSVSerializer()\n",
    ")"
   ]
  },
  {
   "cell_type": "code",
   "execution_count": 57,
   "metadata": {},
   "outputs": [
    {
     "name": "stdout",
     "output_type": "stream",
     "text": [
      "......................................................................................................................................................................................................................................................\n",
      "Done!\n"
     ]
    }
   ],
   "source": [
    "import json\n",
    "import time\n",
    "import pandas as pd\n",
    "from sagemaker.serializers import JSONSerializer\n",
    "\n",
    "\n",
    "churn_cutoff = 0.80\n",
    "base_line_data = f\"{baseline_prefix}/base_line_data.csv\"\n",
    "ground_truth_data = f\"{baseline_prefix}/ground_truth.csv\"\n",
    "\n",
    "predictor.serializer = JSONSerializer()\n",
    "\n",
    "limit = 250  # Need at least 200 samples to compute standard deviations\n",
    "i = 0\n",
    "\n",
    "# Read the ground_truth.csv file into a pandas DataFrame\n",
    "df = pd.read_csv(ground_truth_data)\n",
    "\n",
    "try:\n",
    "    with open(base_line_data, \"w\") as baseline_file:\n",
    "        baseline_file.write(\"confidence_score,predicted_label,ground_truth_label,confidence_cutoff\\n\")  # our header\n",
    "        \n",
    "        for index, row in df.iterrows():\n",
    "            text = row['text']\n",
    "            label = row['label']   \n",
    "            \n",
    "            # Ensure text is a string and not empty\n",
    "            if not isinstance(text, str) or text.strip() == \"\":\n",
    "                continue  # Skip rows where text is not a string or is empty\n",
    "                \n",
    "            prediction_result = predictor.predict({\"inputs\": text[:512]})\n",
    "            \n",
    "            # Parse the JSON prediction result\n",
    "            prediction_json = json.loads(prediction_result.decode('utf-8'))[0]\n",
    "            confidence_score = prediction_json['score']\n",
    "            prediction = \"1\" if prediction_json['label'] == \"positive\" else \"0\"\n",
    "            confidence_cutoff = \"1\" if confidence_score > churn_cutoff else \"0\"\n",
    "            \n",
    "            baseline_file.write(f\"{confidence_score},{prediction},{label},{confidence_cutoff}\\n\")\n",
    "            i += 1\n",
    "            if i >= limit:\n",
    "                break\n",
    "            print(\".\", end=\"\", flush=True)\n",
    "            time.sleep(0.5)\n",
    "    print()\n",
    "    print(\"Done!\")\n",
    "except Exception as e:\n",
    "    print(f\"An error occurred: {e}\")\n"
   ]
  },
  {
   "cell_type": "code",
   "execution_count": 58,
   "metadata": {
    "scrolled": true
   },
   "outputs": [
    {
     "name": "stdout",
     "output_type": "stream",
     "text": [
      "huggingface/tokenizers: The current process just got forked, after parallelism has already been used. Disabling parallelism to avoid deadlocks...\n",
      "To disable this warning, you can either:\n",
      "\t- Avoid using `tokenizers` before the fork if possible\n",
      "\t- Explicitly set the environment variable TOKENIZERS_PARALLELISM=(true | false)\n",
      "head: cannot open 'base_line_data' for reading: No such file or directory\n"
     ]
    }
   ],
   "source": [
    "!head base_line_data"
   ]
  },
  {
   "cell_type": "markdown",
   "metadata": {},
   "source": [
    "### update the baseline data to s3"
   ]
  },
  {
   "cell_type": "code",
   "execution_count": 59,
   "metadata": {},
   "outputs": [
    {
     "name": "stdout",
     "output_type": "stream",
     "text": [
      "Baseline data uri: s3://sagemaker-us-east-1-873309100258/baseline/data\n",
      "Baseline results uri: s3://sagemaker-us-east-1-873309100258/baseline/results\n"
     ]
    }
   ],
   "source": [
    "baseline_data_prefix = (baseline_prefix + \"/data\").strip(\"./\")\n",
    "baseline_results_prefix = (baseline_prefix + \"/results\").strip(\"./\")\n",
    "\n",
    "baseline_data_uri = f\"s3://{bucket}/{baseline_data_prefix}\"\n",
    "baseline_results_uri = f\"s3://{bucket}/{baseline_results_prefix}\"\n",
    "print(f\"Baseline data uri: {baseline_data_uri}\")\n",
    "print(f\"Baseline results uri: {baseline_results_uri}\")"
   ]
  },
  {
   "cell_type": "code",
   "execution_count": 60,
   "metadata": {},
   "outputs": [
    {
     "name": "stdout",
     "output_type": "stream",
     "text": [
      "Baseline data uploaded to s3://sagemaker-us-east-1-873309100258/baseline/data/\n"
     ]
    }
   ],
   "source": [
    "prefix = 'baseline'\n",
    "\n",
    "# Use the function to upload the baseline data\n",
    "save_dataset_to_s3(baseline_prefix, bucket, baseline_data_prefix)\n",
    "\n",
    "print(f\"Baseline data uploaded to s3://{bucket}/{baseline_data_prefix}/\")"
   ]
  },
  {
   "cell_type": "markdown",
   "metadata": {},
   "source": [
    "#### 3.4 Create a baselining job with validation dataset predictions\n",
    "Define the model quality monitoring object and execute the model quality monitoring baseline job. Model monitor will automatically generate baseline statistics and constraints based on the validation dataset provided."
   ]
  },
  {
   "cell_type": "code",
   "execution_count": 61,
   "metadata": {},
   "outputs": [],
   "source": [
    "from sagemaker.model_monitor import ModelQualityMonitor\n",
    "from sagemaker.model_monitor import EndpointInput\n",
    "from sagemaker.model_monitor.dataset_format import DatasetFormat"
   ]
  },
  {
   "cell_type": "code",
   "execution_count": 62,
   "metadata": {},
   "outputs": [],
   "source": [
    "# Name of the model quality baseline job\n",
    "time_suffix = datetime.now().strftime('%y%m%d%H%M')\n",
    "baseline_job_name = f\"bert-fake-news-prediction-baseline-job-{time_suffix}\""
   ]
  },
  {
   "cell_type": "code",
   "execution_count": 63,
   "metadata": {},
   "outputs": [
    {
     "name": "stderr",
     "output_type": "stream",
     "text": [
      "INFO:sagemaker.image_uris:Defaulting to the only supported framework/algorithm version: .\n",
      "INFO:sagemaker.image_uris:Ignoring unnecessary instance type: None.\n"
     ]
    }
   ],
   "source": [
    "# Create the model quality monitoring object\n",
    "fake_news_labeler_quality_monitor = ModelQualityMonitor(\n",
    "    role=sagemaker.get_execution_role(),\n",
    "    instance_count=1,\n",
    "    instance_type=\"ml.m5.large\",\n",
    "    volume_size_in_gb=20,\n",
    "    max_runtime_in_seconds=1800,\n",
    "    sagemaker_session=sagemaker_session,\n",
    ")"
   ]
  },
  {
   "cell_type": "code",
   "execution_count": 64,
   "metadata": {},
   "outputs": [
    {
     "name": "stderr",
     "output_type": "stream",
     "text": [
      "INFO:sagemaker:Creating processing-job with name bert-fake-news-prediction-baseline-job-2406222256\n"
     ]
    },
    {
     "name": "stdout",
     "output_type": "stream",
     "text": [
      "...........................................................!"
     ]
    }
   ],
   "source": [
    "# Execute the baseline suggestion job.\n",
    "job = fake_news_labeler_quality_monitor.suggest_baseline(\n",
    "    job_name=baseline_job_name,\n",
    "    baseline_dataset=f'{baseline_data_uri}/base_line_data.csv',\n",
    "    dataset_format=DatasetFormat.csv(header=True),\n",
    "    output_s3_uri=baseline_results_uri,\n",
    "    problem_type=\"BinaryClassification\",\n",
    "    inference_attribute=\"predicted_label\",\n",
    "    # probability_attribute=\"confidence_score\",\n",
    "    ground_truth_attribute=\"ground_truth_label\",\n",
    ")\n",
    "\n",
    "# Wait for the job to complete and display logs\n",
    "job.wait(logs=False)"
   ]
  },
  {
   "cell_type": "markdown",
   "metadata": {},
   "source": [
    "#### 3.5 Explore the results of the baselining job\n",
    "You could see the baseline constraints and statistics files are uploaded to the S3 location"
   ]
  },
  {
   "cell_type": "code",
   "execution_count": 65,
   "metadata": {},
   "outputs": [],
   "source": [
    "baseline_job = fake_news_labeler_quality_monitor.latest_baselining_job"
   ]
  },
  {
   "cell_type": "code",
   "execution_count": 66,
   "metadata": {},
   "outputs": [
    {
     "data": {
      "text/html": [
       "<div>\n",
       "<style scoped>\n",
       "    .dataframe tbody tr th:only-of-type {\n",
       "        vertical-align: middle;\n",
       "    }\n",
       "\n",
       "    .dataframe tbody tr th {\n",
       "        vertical-align: top;\n",
       "    }\n",
       "\n",
       "    .dataframe thead th {\n",
       "        text-align: right;\n",
       "    }\n",
       "</style>\n",
       "<table border=\"1\" class=\"dataframe\">\n",
       "  <thead>\n",
       "    <tr style=\"text-align: right;\">\n",
       "      <th></th>\n",
       "      <th>0</th>\n",
       "    </tr>\n",
       "  </thead>\n",
       "  <tbody>\n",
       "    <tr>\n",
       "      <th>confusion_matrix.0.0</th>\n",
       "      <td>138.000000</td>\n",
       "    </tr>\n",
       "    <tr>\n",
       "      <th>confusion_matrix.0.1</th>\n",
       "      <td>3.000000</td>\n",
       "    </tr>\n",
       "    <tr>\n",
       "      <th>confusion_matrix.1.0</th>\n",
       "      <td>0.000000</td>\n",
       "    </tr>\n",
       "    <tr>\n",
       "      <th>confusion_matrix.1.1</th>\n",
       "      <td>105.000000</td>\n",
       "    </tr>\n",
       "    <tr>\n",
       "      <th>recall.value</th>\n",
       "      <td>1.000000</td>\n",
       "    </tr>\n",
       "    <tr>\n",
       "      <th>recall.standard_deviation</th>\n",
       "      <td>0.000000</td>\n",
       "    </tr>\n",
       "    <tr>\n",
       "      <th>precision.value</th>\n",
       "      <td>0.972222</td>\n",
       "    </tr>\n",
       "    <tr>\n",
       "      <th>precision.standard_deviation</th>\n",
       "      <td>0.009016</td>\n",
       "    </tr>\n",
       "    <tr>\n",
       "      <th>accuracy.value</th>\n",
       "      <td>0.987805</td>\n",
       "    </tr>\n",
       "    <tr>\n",
       "      <th>accuracy.standard_deviation</th>\n",
       "      <td>0.003827</td>\n",
       "    </tr>\n",
       "    <tr>\n",
       "      <th>recall_best_constant_classifier.value</th>\n",
       "      <td>0.000000</td>\n",
       "    </tr>\n",
       "    <tr>\n",
       "      <th>recall_best_constant_classifier.standard_deviation</th>\n",
       "      <td>0.000000</td>\n",
       "    </tr>\n",
       "    <tr>\n",
       "      <th>precision_best_constant_classifier.value</th>\n",
       "      <td>0.000000</td>\n",
       "    </tr>\n",
       "    <tr>\n",
       "      <th>precision_best_constant_classifier.standard_deviation</th>\n",
       "      <td>0.000000</td>\n",
       "    </tr>\n",
       "    <tr>\n",
       "      <th>accuracy_best_constant_classifier.value</th>\n",
       "      <td>0.573171</td>\n",
       "    </tr>\n",
       "    <tr>\n",
       "      <th>accuracy_best_constant_classifier.standard_deviation</th>\n",
       "      <td>0.009419</td>\n",
       "    </tr>\n",
       "    <tr>\n",
       "      <th>true_positive_rate.value</th>\n",
       "      <td>1.000000</td>\n",
       "    </tr>\n",
       "    <tr>\n",
       "      <th>true_positive_rate.standard_deviation</th>\n",
       "      <td>0.000000</td>\n",
       "    </tr>\n",
       "    <tr>\n",
       "      <th>true_negative_rate.value</th>\n",
       "      <td>0.978723</td>\n",
       "    </tr>\n",
       "    <tr>\n",
       "      <th>true_negative_rate.standard_deviation</th>\n",
       "      <td>0.006418</td>\n",
       "    </tr>\n",
       "    <tr>\n",
       "      <th>false_positive_rate.value</th>\n",
       "      <td>0.021277</td>\n",
       "    </tr>\n",
       "    <tr>\n",
       "      <th>false_positive_rate.standard_deviation</th>\n",
       "      <td>0.006418</td>\n",
       "    </tr>\n",
       "    <tr>\n",
       "      <th>false_negative_rate.value</th>\n",
       "      <td>0.000000</td>\n",
       "    </tr>\n",
       "    <tr>\n",
       "      <th>false_negative_rate.standard_deviation</th>\n",
       "      <td>0.000000</td>\n",
       "    </tr>\n",
       "    <tr>\n",
       "      <th>f0_5.value</th>\n",
       "      <td>0.977654</td>\n",
       "    </tr>\n",
       "    <tr>\n",
       "      <th>f0_5.standard_deviation</th>\n",
       "      <td>0.007281</td>\n",
       "    </tr>\n",
       "    <tr>\n",
       "      <th>f1.value</th>\n",
       "      <td>0.985915</td>\n",
       "    </tr>\n",
       "    <tr>\n",
       "      <th>f1.standard_deviation</th>\n",
       "      <td>0.004615</td>\n",
       "    </tr>\n",
       "    <tr>\n",
       "      <th>f2.value</th>\n",
       "      <td>0.994318</td>\n",
       "    </tr>\n",
       "    <tr>\n",
       "      <th>f2.standard_deviation</th>\n",
       "      <td>0.001873</td>\n",
       "    </tr>\n",
       "    <tr>\n",
       "      <th>f0_5_best_constant_classifier.value</th>\n",
       "      <td>0.000000</td>\n",
       "    </tr>\n",
       "    <tr>\n",
       "      <th>f0_5_best_constant_classifier.standard_deviation</th>\n",
       "      <td>0.000000</td>\n",
       "    </tr>\n",
       "    <tr>\n",
       "      <th>f1_best_constant_classifier.value</th>\n",
       "      <td>0.000000</td>\n",
       "    </tr>\n",
       "    <tr>\n",
       "      <th>f1_best_constant_classifier.standard_deviation</th>\n",
       "      <td>0.000000</td>\n",
       "    </tr>\n",
       "    <tr>\n",
       "      <th>f2_best_constant_classifier.value</th>\n",
       "      <td>0.000000</td>\n",
       "    </tr>\n",
       "    <tr>\n",
       "      <th>f2_best_constant_classifier.standard_deviation</th>\n",
       "      <td>0.000000</td>\n",
       "    </tr>\n",
       "  </tbody>\n",
       "</table>\n",
       "</div>"
      ],
      "text/plain": [
       "                                                             0\n",
       "confusion_matrix.0.0                                138.000000\n",
       "confusion_matrix.0.1                                  3.000000\n",
       "confusion_matrix.1.0                                  0.000000\n",
       "confusion_matrix.1.1                                105.000000\n",
       "recall.value                                          1.000000\n",
       "recall.standard_deviation                             0.000000\n",
       "precision.value                                       0.972222\n",
       "precision.standard_deviation                          0.009016\n",
       "accuracy.value                                        0.987805\n",
       "accuracy.standard_deviation                           0.003827\n",
       "recall_best_constant_classifier.value                 0.000000\n",
       "recall_best_constant_classifier.standard_deviation    0.000000\n",
       "precision_best_constant_classifier.value              0.000000\n",
       "precision_best_constant_classifier.standard_dev...    0.000000\n",
       "accuracy_best_constant_classifier.value               0.573171\n",
       "accuracy_best_constant_classifier.standard_devi...    0.009419\n",
       "true_positive_rate.value                              1.000000\n",
       "true_positive_rate.standard_deviation                 0.000000\n",
       "true_negative_rate.value                              0.978723\n",
       "true_negative_rate.standard_deviation                 0.006418\n",
       "false_positive_rate.value                             0.021277\n",
       "false_positive_rate.standard_deviation                0.006418\n",
       "false_negative_rate.value                             0.000000\n",
       "false_negative_rate.standard_deviation                0.000000\n",
       "f0_5.value                                            0.977654\n",
       "f0_5.standard_deviation                               0.007281\n",
       "f1.value                                              0.985915\n",
       "f1.standard_deviation                                 0.004615\n",
       "f2.value                                              0.994318\n",
       "f2.standard_deviation                                 0.001873\n",
       "f0_5_best_constant_classifier.value                   0.000000\n",
       "f0_5_best_constant_classifier.standard_deviation      0.000000\n",
       "f1_best_constant_classifier.value                     0.000000\n",
       "f1_best_constant_classifier.standard_deviation        0.000000\n",
       "f2_best_constant_classifier.value                     0.000000\n",
       "f2_best_constant_classifier.standard_deviation        0.000000"
      ]
     },
     "execution_count": 66,
     "metadata": {},
     "output_type": "execute_result"
    }
   ],
   "source": [
    "binary_metrics = baseline_job.baseline_statistics().body_dict[\"binary_classification_metrics\"]\n",
    "pd.json_normalize(binary_metrics).T"
   ]
  },
  {
   "cell_type": "markdown",
   "metadata": {},
   "source": [
    "##### 3.5.2 View the constraints generated"
   ]
  },
  {
   "cell_type": "code",
   "execution_count": 67,
   "metadata": {},
   "outputs": [
    {
     "data": {
      "text/html": [
       "<div>\n",
       "<style scoped>\n",
       "    .dataframe tbody tr th:only-of-type {\n",
       "        vertical-align: middle;\n",
       "    }\n",
       "\n",
       "    .dataframe tbody tr th {\n",
       "        vertical-align: top;\n",
       "    }\n",
       "\n",
       "    .dataframe thead th {\n",
       "        text-align: right;\n",
       "    }\n",
       "</style>\n",
       "<table border=\"1\" class=\"dataframe\">\n",
       "  <thead>\n",
       "    <tr style=\"text-align: right;\">\n",
       "      <th></th>\n",
       "      <th>threshold</th>\n",
       "      <th>comparison_operator</th>\n",
       "    </tr>\n",
       "  </thead>\n",
       "  <tbody>\n",
       "    <tr>\n",
       "      <th>recall</th>\n",
       "      <td>1.0</td>\n",
       "      <td>LessThanThreshold</td>\n",
       "    </tr>\n",
       "    <tr>\n",
       "      <th>precision</th>\n",
       "      <td>0.972222</td>\n",
       "      <td>LessThanThreshold</td>\n",
       "    </tr>\n",
       "    <tr>\n",
       "      <th>accuracy</th>\n",
       "      <td>0.987805</td>\n",
       "      <td>LessThanThreshold</td>\n",
       "    </tr>\n",
       "    <tr>\n",
       "      <th>true_positive_rate</th>\n",
       "      <td>1.0</td>\n",
       "      <td>LessThanThreshold</td>\n",
       "    </tr>\n",
       "    <tr>\n",
       "      <th>true_negative_rate</th>\n",
       "      <td>0.978723</td>\n",
       "      <td>LessThanThreshold</td>\n",
       "    </tr>\n",
       "    <tr>\n",
       "      <th>false_positive_rate</th>\n",
       "      <td>0.021277</td>\n",
       "      <td>GreaterThanThreshold</td>\n",
       "    </tr>\n",
       "    <tr>\n",
       "      <th>false_negative_rate</th>\n",
       "      <td>0.0</td>\n",
       "      <td>GreaterThanThreshold</td>\n",
       "    </tr>\n",
       "    <tr>\n",
       "      <th>f0_5</th>\n",
       "      <td>0.977654</td>\n",
       "      <td>LessThanThreshold</td>\n",
       "    </tr>\n",
       "    <tr>\n",
       "      <th>f1</th>\n",
       "      <td>0.985915</td>\n",
       "      <td>LessThanThreshold</td>\n",
       "    </tr>\n",
       "    <tr>\n",
       "      <th>f2</th>\n",
       "      <td>0.994318</td>\n",
       "      <td>LessThanThreshold</td>\n",
       "    </tr>\n",
       "  </tbody>\n",
       "</table>\n",
       "</div>"
      ],
      "text/plain": [
       "                    threshold   comparison_operator\n",
       "recall                    1.0     LessThanThreshold\n",
       "precision            0.972222     LessThanThreshold\n",
       "accuracy             0.987805     LessThanThreshold\n",
       "true_positive_rate        1.0     LessThanThreshold\n",
       "true_negative_rate   0.978723     LessThanThreshold\n",
       "false_positive_rate  0.021277  GreaterThanThreshold\n",
       "false_negative_rate       0.0  GreaterThanThreshold\n",
       "f0_5                 0.977654     LessThanThreshold\n",
       "f1                   0.985915     LessThanThreshold\n",
       "f2                   0.994318     LessThanThreshold"
      ]
     },
     "execution_count": 67,
     "metadata": {},
     "output_type": "execute_result"
    }
   ],
   "source": [
    "pd.DataFrame(baseline_job.suggested_constraints().body_dict[\"binary_classification_constraints\"]).T"
   ]
  },
  {
   "cell_type": "markdown",
   "metadata": {},
   "source": [
    "# 4. Setup continous Monitoring"
   ]
  },
  {
   "cell_type": "markdown",
   "metadata": {},
   "source": [
    "#### 4.1 Generate prediction data for Model Quality  Monitoring\n",
    "\n",
    "Start generating some artificial traffic."
   ]
  },
  {
   "cell_type": "markdown",
   "metadata": {},
   "source": [
    "Start generating some artificial traffic, start from row 300 - 400"
   ]
  },
  {
   "cell_type": "code",
   "execution_count": 69,
   "metadata": {},
   "outputs": [
    {
     "name": "stdout",
     "output_type": "stream",
     "text": [
      "Endpoint invocation started. It will continue running until you manually stop it.\n"
     ]
    }
   ],
   "source": [
    "# Starting from row 300\n",
    "df_subset = production_data_df.iloc[300:400]\n",
    "\n",
    "# Save this subset to a temporary CSV file\n",
    "temp_production_data = f\"{baseline_prefix}/temp_production_data.csv\"\n",
    "df_subset.to_csv(temp_production_data, index=False, header=False)\n",
    "\n",
    "def invoke_endpoint(ep_name, file_name):\n",
    "    with open(file_name, \"r\") as f:\n",
    "        i = 0\n",
    "        for row in f:\n",
    "            payload = row.rstrip(\"\\n\")\n",
    "            response = sagemaker_session.sagemaker_runtime_client.invoke_endpoint(\n",
    "                EndpointName=endpoint_name,\n",
    "                ContentType=\"text/csv\",\n",
    "                Body=payload,\n",
    "                InferenceId=str(i),  # unique ID per row\n",
    "            )[\"Body\"].read()\n",
    "            i += 1\n",
    "            sleep(1)\n",
    "\n",
    "def invoke_endpoint_forever():\n",
    "    while True:\n",
    "        try:\n",
    "            invoke_endpoint(endpoint_name, temp_production_data)\n",
    "        except sagemaker_session.sagemaker_runtime_client.exceptions.ValidationError:\n",
    "            pass\n",
    "\n",
    "# Start the invocation in a separate thread\n",
    "thread = Thread(target=invoke_endpoint_forever)\n",
    "thread.start()\n",
    "\n",
    "# Let it run for a certain amount of time (e.g., 5 minutes)\n",
    "import time\n",
    "time.sleep(300)\n",
    "\n",
    "# Stop the thread (you might need to implement a way to stop the thread safely)\n",
    "# For now, we'll just let it run and you can manually interrupt it\n",
    "\n",
    "print(\"Endpoint invocation started. It will continue running until you manually stop it.\")"
   ]
  },
  {
   "cell_type": "markdown",
   "metadata": {},
   "source": [
    "#### 4.2 View captured data\n",
    "\n",
    "Now list the data capture files stored in Amazon S3."
   ]
  },
  {
   "cell_type": "code",
   "execution_count": 70,
   "metadata": {},
   "outputs": [
    {
     "name": "stdout",
     "output_type": "stream",
     "text": [
      "s3://sagemaker-us-east-1-873309100258/run-name-of-exp-prajjwal1-bert-tiny-2406222223-d2fe4/capture_path\n"
     ]
    }
   ],
   "source": [
    "print(capture_path)"
   ]
  },
  {
   "cell_type": "code",
   "execution_count": 71,
   "metadata": {},
   "outputs": [
    {
     "name": "stdout",
     "output_type": "stream",
     "text": [
      "Waiting for captures to show up\n",
      " Found Capture Files: ['s3://sagemaker-us-east-1-873309100258/run-name-of-exp-prajjwal1-bert-tiny-2406222223-d2fe4/capture_path/huggingface-pytorch-inference-2024-06-22-22-50-14-249/AllTraffic/2024/06/22/22/53-43-482-0186b8a1-01ad-40f3-8acc-6fa226c585e5.jsonl', 's3://sagemaker-us-east-1-873309100258/run-name-of-exp-prajjwal1-bert-tiny-2406222223-d2fe4/capture_path/huggingface-pytorch-inference-2024-06-22-22-50-14-249/AllTraffic/2024/06/22/22/54-43-642-4976ec4c-967a-4753-947d-1a157f674c0e.jsonl', 's3://sagemaker-us-east-1-873309100258/run-name-of-exp-prajjwal1-bert-tiny-2406222223-d2fe4/capture_path/huggingface-pytorch-inference-2024-06-22-22-50-14-249/AllTraffic/2024/06/22/22/55-44-048-3e9fd097-7e5f-4212-90ba-df753c6709d3.jsonl']\n",
      ".\n",
      " Found Capture Files: ['s3://sagemaker-us-east-1-873309100258/run-name-of-exp-prajjwal1-bert-tiny-2406222223-d2fe4/capture_path/huggingface-pytorch-inference-2024-06-22-22-50-14-249/AllTraffic/2024/06/22/22/53-43-482-0186b8a1-01ad-40f3-8acc-6fa226c585e5.jsonl', 's3://sagemaker-us-east-1-873309100258/run-name-of-exp-prajjwal1-bert-tiny-2406222223-d2fe4/capture_path/huggingface-pytorch-inference-2024-06-22-22-50-14-249/AllTraffic/2024/06/22/22/54-43-642-4976ec4c-967a-4753-947d-1a157f674c0e.jsonl', 's3://sagemaker-us-east-1-873309100258/run-name-of-exp-prajjwal1-bert-tiny-2406222223-d2fe4/capture_path/huggingface-pytorch-inference-2024-06-22-22-50-14-249/AllTraffic/2024/06/22/22/55-44-048-3e9fd097-7e5f-4212-90ba-df753c6709d3.jsonl']\n",
      ".\n"
     ]
    }
   ],
   "source": [
    "from sagemaker.s3 import S3Downloader\n",
    "from time import sleep\n",
    "\n",
    "capture_file = []\n",
    "\n",
    "capture_uri = capture_path\n",
    "print(\"Waiting for captures to show up\", end=\"\")\n",
    "for _ in range(2):  # Wait for 10 minutes\n",
    "    # Construct the complete capture path with timestamp\n",
    "    capture_files = sorted(S3Downloader.list(capture_uri))\n",
    "    if capture_files:\n",
    "        print(f\"\\n Found Capture Files: {capture_files}\")\n",
    "        capture_file = S3Downloader.read_file(capture_files[-1]).split(\"\\n\")\n",
    "        for line in capture_file:\n",
    "            if line:  # Skip empty lines\n",
    "                capture_record = json.loads(line)\n",
    "                if \"inferenceId\" in capture_record[\"eventMetadata\"]:\n",
    "                    print(\"\\nFound inferenceId in captured data.\")\n",
    "                    break  # Exit the loop if inferenceId is found\n",
    "    print(\".\", end=\"\", flush=True)\n",
    "    sleep(1)\n",
    "print()"
   ]
  },
  {
   "cell_type": "code",
   "execution_count": 73,
   "metadata": {},
   "outputs": [
    {
     "name": "stdout",
     "output_type": "stream",
     "text": [
      "Found Capture Files:\n",
      "s3://sagemaker-us-east-1-873309100258/run-name-of-exp-prajjwal1-bert-tiny-2406222223-d2fe4/capture_path/huggingface-pytorch-inference-2024-06-22-22-50-14-249/AllTraffic/2024/06/22/22/53-43-482-0186b8a1-01ad-40f3-8acc-6fa226c585e5.jsonl\n",
      " s3://sagemaker-us-east-1-873309100258/run-name-of-exp-prajjwal1-bert-tiny-2406222223-d2fe4/capture_path/huggingface-pytorch-inference-2024-06-22-22-50-14-249/AllTraffic/2024/06/22/22/54-43-642-4976ec4c-967a-4753-947d-1a157f674c0e.jsonl\n",
      " s3://sagemaker-us-east-1-873309100258/run-name-of-exp-prajjwal1-bert-tiny-2406222223-d2fe4/capture_path/huggingface-pytorch-inference-2024-06-22-22-50-14-249/AllTraffic/2024/06/22/22/55-44-048-3e9fd097-7e5f-4212-90ba-df753c6709d3.jsonl\n",
      "{\n",
      "  \"captureData\": {\n",
      "    \"endpointInput\": {\n",
      "      \"observedContentType\": \"application/json\",\n",
      "      \"mode\": \"INPUT\",\n",
      "      \"data\": \"{\\\"inputs\\\": \\\"washington reuters bernie sanders high flying democratic presidential campaign fell back earth saturday nevada vermont senator quickly find way broaden appeal minorities union members last weeks 22 point rout clinton new hampshire could prove campaign highlight race moves next week south carolina blacks make half democratic electorate march 1 string southern states big blocs african americans strongly support clinton slow warm sanders rush march contests big diverse states democrats nearly two dozen states \\\"}\",\n",
      "      \"encoding\": \"JSON\"\n",
      "    },\n",
      "    \"endpointOutput\": {\n",
      "      \"observedContentType\": \"application/json\",\n",
      "      \"mode\": \"OUTPUT\",\n",
      "      \"data\": \"[{\\\"label\\\":\\\"positive\\\",\\\"score\\\":0.9697647094726562}]\",\n",
      "      \"encoding\": \"JSON\"\n",
      "    }\n",
      "  },\n",
      "  \"eventMetadata\": {\n",
      "    \"eventId\": \"fbaac0f0-98d3-458d-a881-c8f0b50c7d30\",\n",
      "    \"inferenceTime\": \"2024-06-22T22:55:57Z\"\n",
      "  },\n",
      "  \"eventVersion\": \"0\"\n",
      "}\n"
     ]
    }
   ],
   "source": [
    "if capture_file:\n",
    "    print(\"Found Capture Files:\")\n",
    "    print(\"\\n \".join(capture_files[-3:]))\n",
    "\n",
    "    # # View contents of a capture file\n",
    "    # print(\"\\n\".join(capture_file[-3:-1]))\n",
    "\n",
    "    # View a single line in a capture file\n",
    "    print(json.dumps(capture_record, indent=2))\n",
    "else:\n",
    "    print(\"No Capture Files found within the time limit\")"
   ]
  },
  {
   "cell_type": "markdown",
   "metadata": {},
   "source": [
    "#### 4.3 Generate synthetic ground truth\n",
    "\n",
    "Next, start generating ground truth data. The model quality job will fail if there's no ground truth data to merge."
   ]
  },
  {
   "cell_type": "code",
   "execution_count": 74,
   "metadata": {},
   "outputs": [
    {
     "name": "stdout",
     "output_type": "stream",
     "text": [
      "Uploading 250 records to s3://sagemaker-us-east-1-873309100258/run-name-of-exp-prajjwal1-bert-tiny-2406222223-d2fe4/ground_truth/2024/06/22/23/2103.jsonl\n",
      "Uploading 250 records to s3://sagemaker-us-east-1-873309100258/run-name-of-exp-prajjwal1-bert-tiny-2406222223-d2fe4/ground_truth/2024/06/23/00/2103.jsonl\n"
     ]
    }
   ],
   "source": [
    "import random\n",
    "from sagemaker.s3 import S3Uploader\n",
    "import pandas as pd\n",
    "\n",
    "# Load the ground truth data\n",
    "ground_truth_data = pd.read_csv(f\"{baseline_prefix}/ground_truth.csv\")\n",
    "\n",
    "def ground_truth_with_id(row):\n",
    "    return {\n",
    "        \"groundTruthData\": {\n",
    "            \"data\": str(row['label']),  # Use the 'label' column from the DataFrame\n",
    "            \"encoding\": \"CSV\",\n",
    "        },\n",
    "        \"eventMetadata\": {\n",
    "            \"eventId\": str(row.name),  # Use row index as eventId\n",
    "        },\n",
    "        \"eventVersion\": \"0\",\n",
    "    }\n",
    "\n",
    "\n",
    "def upload_ground_truth(records, upload_time):\n",
    "    fake_records = [json.dumps(r) for r in records]\n",
    "    data_to_upload = \"\\n\".join(fake_records)\n",
    "    target_s3_uri = f\"{ground_truth}/{upload_time:%Y/%m/%d/%H/%M%S}.jsonl\"\n",
    "    print(f\"Uploading {len(fake_records)} records to\", target_s3_uri)\n",
    "    S3Uploader.upload_string_as_file_body(data_to_upload, target_s3_uri)\n",
    "\n",
    "\n",
    "\n",
    "NUM_GROUND_TRUTH_RECORDS = len(ground_truth_data)\n",
    "\n",
    "\n",
    "def generate_fake_ground_truth_forever():\n",
    "    j = 0\n",
    "    while True:\n",
    "        # Create ground truth data from the DataFrame\n",
    "        fake_records = [ground_truth_with_id(row) for _, row in ground_truth_data.iterrows()]\n",
    "        upload_ground_truth(fake_records, datetime.utcnow())\n",
    "        j = (j + 1) % 5\n",
    "        sleep(60 * 60)  # do this once an hour\n",
    "\n",
    "\n",
    "gt_thread = Thread(target=generate_fake_ground_truth_forever)\n",
    "gt_thread.start()"
   ]
  },
  {
   "cell_type": "markdown",
   "metadata": {},
   "source": [
    "#### 4.4 Create a monitoring schedule\n",
    "\n",
    "Now that you have the baseline information and ground truth labels, create a monitoring schedule to run model quality monitoring job."
   ]
  },
  {
   "cell_type": "code",
   "execution_count": 75,
   "metadata": {},
   "outputs": [],
   "source": [
    "##Monitoring schedule name\n",
    "fake_news_monitor_schedule_name = (\n",
    "    f\"fake-news-monitoring-schedule-{datetime.utcnow():%Y-%m-%d-%H%M}\"\n",
    ")"
   ]
  },
  {
   "cell_type": "code",
   "execution_count": 80,
   "metadata": {},
   "outputs": [],
   "source": [
    "# Create an enpointInput\n",
    "endpointInput = EndpointInput(\n",
    "    endpoint_name=predictor.endpoint_name,\n",
    "    inference_attribute=\"label\", \n",
    "    destination=\"/opt/ml/processing/input_data\",\n",
    ")"
   ]
  },
  {
   "cell_type": "code",
   "execution_count": 105,
   "metadata": {},
   "outputs": [
    {
     "name": "stderr",
     "output_type": "stream",
     "text": [
      "INFO:sagemaker.model_monitor.model_monitoring:Creating Monitoring Schedule with name: fake-news-monitoring-schedule-2024-06-22-2322\n"
     ]
    },
    {
     "data": {
      "text/plain": [
       "{'MonitoringScheduleArn': 'arn:aws:sagemaker:us-east-1:873309100258:monitoring-schedule/fake-news-monitoring-schedule-2024-06-22-2322',\n",
       " 'MonitoringScheduleName': 'fake-news-monitoring-schedule-2024-06-22-2322',\n",
       " 'MonitoringScheduleStatus': 'Pending',\n",
       " 'MonitoringType': 'ModelQuality',\n",
       " 'CreationTime': datetime.datetime(2024, 6, 23, 0, 20, 16, 594000, tzinfo=tzlocal()),\n",
       " 'LastModifiedTime': datetime.datetime(2024, 6, 23, 0, 20, 16, 659000, tzinfo=tzlocal()),\n",
       " 'MonitoringScheduleConfig': {'ScheduleConfig': {'ScheduleExpression': 'NOW',\n",
       "   'DataAnalysisStartTime': '-PT1H',\n",
       "   'DataAnalysisEndTime': '-PT0H'},\n",
       "  'MonitoringJobDefinitionName': 'model-quality-job-definition-2024-06-23-00-20-15-955',\n",
       "  'MonitoringType': 'ModelQuality'},\n",
       " 'EndpointName': 'huggingface-pytorch-inference-2024-06-22-22-50-14-249',\n",
       " 'ResponseMetadata': {'RequestId': '6ea12cb2-5adb-441a-9d1a-47c10e8d33d3',\n",
       "  'HTTPStatusCode': 200,\n",
       "  'HTTPHeaders': {'x-amzn-requestid': '6ea12cb2-5adb-441a-9d1a-47c10e8d33d3',\n",
       "   'content-type': 'application/x-amz-json-1.1',\n",
       "   'content-length': '669',\n",
       "   'date': 'Sun, 23 Jun 2024 00:20:16 GMT'},\n",
       "  'RetryAttempts': 0}}"
      ]
     },
     "execution_count": 105,
     "metadata": {},
     "output_type": "execute_result"
    }
   ],
   "source": [
    "from sagemaker.model_monitor import CronExpressionGenerator\n",
    "\n",
    "response = fake_news_labeler_quality_monitor.create_monitoring_schedule(\n",
    "    monitor_schedule_name=fake_news_monitor_schedule_name,\n",
    "    endpoint_input=endpointInput,\n",
    "    output_s3_uri=baseline_results_uri,\n",
    "    problem_type=\"BinaryClassification\",\n",
    "    ground_truth_input=ground_truth,\n",
    "    constraints=baseline_job.suggested_constraints(),\n",
    "    schedule_cron_expression=CronExpressionGenerator.now(),\n",
    "    enable_cloudwatch_metrics=True,\n",
    "    data_analysis_start_time=\"-PT1H\",\n",
    "    data_analysis_end_time=\"-PT0H\"\n",
    ")\n",
    "\n",
    "# Create the monitoring schedule\n",
    "# You will see the monitoring schedule in the 'Scheduled' status\n",
    "fake_news_labeler_quality_monitor.describe_schedule()"
   ]
  },
  {
   "cell_type": "code",
   "execution_count": 100,
   "metadata": {},
   "outputs": [
    {
     "name": "stderr",
     "output_type": "stream",
     "text": [
      "INFO:sagemaker:Deleting Monitoring Schedule with name: fake-news-monitoring-schedule-2024-06-22-2322\n",
      "INFO:sagemaker.model_monitor.model_monitoring:Deleting Model Quality Job Definition with name: model-quality-job-definition-2024-06-23-00-03-19-682\n"
     ]
    }
   ],
   "source": [
    "# fake_news_labeler_quality_monitor.delete_monitoring_schedule()"
   ]
  },
  {
   "cell_type": "markdown",
   "metadata": {},
   "source": [
    "#### 4.5 View violations generated by monitoring schedule\n",
    "If there are any violations compared to the baseline, they will be listed in the reports uploaded to S3."
   ]
  },
  {
   "cell_type": "code",
   "execution_count": null,
   "metadata": {},
   "outputs": [
    {
     "name": "stderr",
     "output_type": "stream",
     "text": [
      "WARNING:sagemaker.model_monitor.model_monitoring:No executions found for schedule. monitoring_schedule_name: fake-news-monitoring-schedule-2024-06-22-2322\n"
     ]
    },
    {
     "name": "stdout",
     "output_type": "stream",
     "text": [
      "Waiting for first execution................................."
     ]
    }
   ],
   "source": [
    "# Initially there will be no executions since the first execution happens at the top of the hour\n",
    "# Note that it is common for the execution to luanch upto 20 min after the hour.\n",
    "executions = fake_news_labeler_quality_monitor.list_executions()\n",
    "executions\n",
    "\n",
    "# Wait for the first execution of the monitoring_schedule\n",
    "print(\"Waiting for first execution\", end=\"\")\n",
    "while True:\n",
    "    execution = fake_news_labeler_quality_monitor.describe_schedule().get(\n",
    "        \"LastMonitoringExecutionSummary\"\n",
    "    )\n",
    "    if execution:\n",
    "        break\n",
    "    print(\".\", end=\"\", flush=True)\n",
    "    sleep(10)\n",
    "print()\n",
    "print(\"Execution found!\")\n",
    "\n",
    "while not executions:\n",
    "    executions = fake_news_labeler_quality_monitor.list_executions()\n",
    "    print(\".\", end=\"\", flush=True)\n",
    "    sleep(10)\n",
    "latest_execution = executions[-1]\n",
    "latest_execution.describe()\n",
    "\n",
    "#Inspect a specific execution (latest execution)\n",
    "status = latest_execution.describe()[\"MonitoringExecutionStatus\"]\n",
    "\n",
    "while status in [\"Pending\", \"InProgress\"]:\n",
    "    print(\"Waiting for execution to finish\", end=\"\")\n",
    "    latest_execution.wait(logs=False)\n",
    "    latest_job = latest_execution.describe()\n",
    "    print()\n",
    "    print(f\"{latest_job['ProcessingJobName']} job status:\", latest_job[\"ProcessingJobStatus\"])\n",
    "    print(\n",
    "        f\"{latest_job['ProcessingJobName']} job exit message, if any:\",\n",
    "        latest_job.get(\"ExitMessage\"),\n",
    "    )\n",
    "    print(\n",
    "        f\"{latest_job['ProcessingJobName']} job failure reason, if any:\",\n",
    "        latest_job.get(\"FailureReason\"),\n",
    "    )\n",
    "    sleep(\n",
    "        30\n",
    "    )  # model quality executions consist of two Processing jobs, wait for second job to start\n",
    "    latest_execution = fake_news_labeler_quality_monitor.list_executions()[-1]\n",
    "    execution = fake_news_labeler_quality_monitor.describe_schedule()[\"LastMonitoringExecutionSummary\"]\n",
    "    status = execution[\"MonitoringExecutionStatus\"]\n",
    "\n",
    "print(\"Execution status is:\", status)\n",
    "\n",
    "if status != \"Completed\":\n",
    "    print(execution)\n",
    "    print(\n",
    "        \"====STOP==== \\n No completed executions to inspect further. Please wait till an execution completes or investigate previously reported failures.\"\n",
    "    )\n",
    "\n",
    "latest_execution = fake_news_labeler_quality_monitor.list_executions()[-1]\n",
    "report_uri = latest_execution.describe()[\"ProcessingOutputConfig\"][\"Outputs\"][0][\"S3Output\"][\n",
    "    \"S3Uri\"\n",
    "]\n",
    "print(\"Report Uri:\", report_uri)"
   ]
  },
  {
   "cell_type": "markdown",
   "metadata": {},
   "source": [
    "#### 4.5 View violations generated by monitoring schedule"
   ]
  },
  {
   "cell_type": "code",
   "execution_count": null,
   "metadata": {},
   "outputs": [],
   "source": [
    "# If there are any violations compared to the baseline, they will be listed in the reports uploaded to S3.\n",
    "\n",
    "pd.options.display.max_colwidth = None\n",
    "violations = latest_execution.constraint_violations().body_dict[\"violations\"]\n",
    "violations_df = pd.json_normalize(violations)\n",
    "violations_df.head(10)"
   ]
  },
  {
   "cell_type": "markdown",
   "metadata": {},
   "source": [
    "# Section 5 - Analyze model quality CloudWatch metrics\n",
    "#### 5.1 List the CW metrics generated."
   ]
  },
  {
   "cell_type": "code",
   "execution_count": null,
   "metadata": {},
   "outputs": [],
   "source": [
    "#### 5.1 List the CW metrics generated.\n",
    "\n",
    "# Create CloudWatch client\n",
    "cw_client = boto3.Session().client(\"cloudwatch\")\n",
    "\n",
    "namespace = \"aws/sagemaker/Endpoints/model-metrics\"\n",
    "\n",
    "cw_dimensions = [\n",
    "    {\"Name\": \"Endpoint\", \"Value\": endpoint_name},\n",
    "    {\"Name\": \"MonitoringSchedule\", \"Value\": fake_news_monitor_schedule_name},\n",
    "]\n",
    "\n",
    "# List metrics through the pagination interface\n",
    "paginator = cw_client.get_paginator(\"list_metrics\")\n",
    "\n",
    "for response in paginator.paginate(Dimensions=cw_dimensions, Namespace=namespace):\n",
    "    model_quality_metrics = response[\"Metrics\"]\n",
    "    for metric in model_quality_metrics:\n",
    "        print(metric[\"MetricName\"])"
   ]
  },
  {
   "cell_type": "markdown",
   "metadata": {},
   "source": [
    "#### 5.2 Create a CloudWatch Alarm"
   ]
  },
  {
   "cell_type": "code",
   "execution_count": null,
   "metadata": {},
   "outputs": [],
   "source": [
    "alarm_name = \"MODEL_QUALITY_F2_SCORE\"\n",
    "alarm_desc = (\n",
    "    \"Trigger an CloudWatch alarm when the f2 score drifts away from the baseline constraints\"\n",
    ")\n",
    "mdoel_quality_f2_drift_threshold = (\n",
    "    0.625  ##Setting this threshold purposefully low to see the alarm quickly.\n",
    ")\n",
    "metric_name = \"f2\"\n",
    "namespace = \"aws/sagemaker/Endpoints/model-metrics\"\n",
    "\n",
    "cw_client.put_metric_alarm(\n",
    "    AlarmName=alarm_name,\n",
    "    AlarmDescription=alarm_desc,\n",
    "    ActionsEnabled=True,\n",
    "    MetricName=metric_name,\n",
    "    Namespace=namespace,\n",
    "    Statistic=\"Average\",\n",
    "    Dimensions=[\n",
    "        {\"Name\": \"Endpoint\", \"Value\": endpoint_name},\n",
    "        {\"Name\": \"MonitoringSchedule\", \"Value\": fake_news_monitor_schedule_name},\n",
    "    ],\n",
    "    Period=600,\n",
    "    EvaluationPeriods=1,\n",
    "    DatapointsToAlarm=1,\n",
    "    Threshold=mdoel_quality_f2_drift_threshold,\n",
    "    ComparisonOperator=\"LessThanOrEqualToThreshold\",\n",
    "    TreatMissingData=\"breaching\",\n",
    ")"
   ]
  },
  {
   "cell_type": "code",
   "execution_count": null,
   "metadata": {
    "tags": []
   },
   "outputs": [],
   "source": [
    "# %%html\n",
    "\n",
    "# <p><b>Shutting down your kernel for this notebook to release resources.</b></p>\n",
    "# <button class=\"sm-command-button\" data-commandlinker-command=\"kernelmenu:shutdown\" style=\"display:none;\">Shutdown Kernel</button>\n",
    "        \n",
    "# <script>\n",
    "# try {\n",
    "#     els = document.getElementsByClassName(\"sm-command-button\");\n",
    "#     els[0].click();\n",
    "# }\n",
    "# catch(err) {\n",
    "#     // NoOp\n",
    "# }    \n",
    "# </script>"
   ]
  },
  {
   "cell_type": "code",
   "execution_count": null,
   "metadata": {
    "tags": []
   },
   "outputs": [],
   "source": [
    "# %%javascript\n",
    "\n",
    "# try {\n",
    "#     Jupyter.notebook.save_checkpoint();\n",
    "#     Jupyter.notebook.session.delete();\n",
    "# }\n",
    "# catch(err) {\n",
    "#     // NoOp\n",
    "# }"
   ]
  },
  {
   "cell_type": "code",
   "execution_count": null,
   "metadata": {},
   "outputs": [],
   "source": [
    "# Deploy to custom endpoint using Hugginface [Source](https://github.com/huggingface/notebooks/blob/main/sagemaker/10_deploy_model_from_s3/deploy_transformer_model_from_s3.ipynb)"
   ]
  }
 ],
 "metadata": {
  "availableInstances": [
   {
    "_defaultOrder": 0,
    "_isFastLaunch": true,
    "category": "General purpose",
    "gpuNum": 0,
    "hideHardwareSpecs": false,
    "memoryGiB": 4,
    "name": "ml.t3.medium",
    "vcpuNum": 2
   },
   {
    "_defaultOrder": 1,
    "_isFastLaunch": false,
    "category": "General purpose",
    "gpuNum": 0,
    "hideHardwareSpecs": false,
    "memoryGiB": 8,
    "name": "ml.t3.large",
    "vcpuNum": 2
   },
   {
    "_defaultOrder": 2,
    "_isFastLaunch": false,
    "category": "General purpose",
    "gpuNum": 0,
    "hideHardwareSpecs": false,
    "memoryGiB": 16,
    "name": "ml.t3.xlarge",
    "vcpuNum": 4
   },
   {
    "_defaultOrder": 3,
    "_isFastLaunch": false,
    "category": "General purpose",
    "gpuNum": 0,
    "hideHardwareSpecs": false,
    "memoryGiB": 32,
    "name": "ml.t3.2xlarge",
    "vcpuNum": 8
   },
   {
    "_defaultOrder": 4,
    "_isFastLaunch": true,
    "category": "General purpose",
    "gpuNum": 0,
    "hideHardwareSpecs": false,
    "memoryGiB": 8,
    "name": "ml.m5.large",
    "vcpuNum": 2
   },
   {
    "_defaultOrder": 5,
    "_isFastLaunch": false,
    "category": "General purpose",
    "gpuNum": 0,
    "hideHardwareSpecs": false,
    "memoryGiB": 16,
    "name": "ml.m5.xlarge",
    "vcpuNum": 4
   },
   {
    "_defaultOrder": 6,
    "_isFastLaunch": false,
    "category": "General purpose",
    "gpuNum": 0,
    "hideHardwareSpecs": false,
    "memoryGiB": 32,
    "name": "ml.m5.2xlarge",
    "vcpuNum": 8
   },
   {
    "_defaultOrder": 7,
    "_isFastLaunch": false,
    "category": "General purpose",
    "gpuNum": 0,
    "hideHardwareSpecs": false,
    "memoryGiB": 64,
    "name": "ml.m5.4xlarge",
    "vcpuNum": 16
   },
   {
    "_defaultOrder": 8,
    "_isFastLaunch": false,
    "category": "General purpose",
    "gpuNum": 0,
    "hideHardwareSpecs": false,
    "memoryGiB": 128,
    "name": "ml.m5.8xlarge",
    "vcpuNum": 32
   },
   {
    "_defaultOrder": 9,
    "_isFastLaunch": false,
    "category": "General purpose",
    "gpuNum": 0,
    "hideHardwareSpecs": false,
    "memoryGiB": 192,
    "name": "ml.m5.12xlarge",
    "vcpuNum": 48
   },
   {
    "_defaultOrder": 10,
    "_isFastLaunch": false,
    "category": "General purpose",
    "gpuNum": 0,
    "hideHardwareSpecs": false,
    "memoryGiB": 256,
    "name": "ml.m5.16xlarge",
    "vcpuNum": 64
   },
   {
    "_defaultOrder": 11,
    "_isFastLaunch": false,
    "category": "General purpose",
    "gpuNum": 0,
    "hideHardwareSpecs": false,
    "memoryGiB": 384,
    "name": "ml.m5.24xlarge",
    "vcpuNum": 96
   },
   {
    "_defaultOrder": 12,
    "_isFastLaunch": false,
    "category": "General purpose",
    "gpuNum": 0,
    "hideHardwareSpecs": false,
    "memoryGiB": 8,
    "name": "ml.m5d.large",
    "vcpuNum": 2
   },
   {
    "_defaultOrder": 13,
    "_isFastLaunch": false,
    "category": "General purpose",
    "gpuNum": 0,
    "hideHardwareSpecs": false,
    "memoryGiB": 16,
    "name": "ml.m5d.xlarge",
    "vcpuNum": 4
   },
   {
    "_defaultOrder": 14,
    "_isFastLaunch": false,
    "category": "General purpose",
    "gpuNum": 0,
    "hideHardwareSpecs": false,
    "memoryGiB": 32,
    "name": "ml.m5d.2xlarge",
    "vcpuNum": 8
   },
   {
    "_defaultOrder": 15,
    "_isFastLaunch": false,
    "category": "General purpose",
    "gpuNum": 0,
    "hideHardwareSpecs": false,
    "memoryGiB": 64,
    "name": "ml.m5d.4xlarge",
    "vcpuNum": 16
   },
   {
    "_defaultOrder": 16,
    "_isFastLaunch": false,
    "category": "General purpose",
    "gpuNum": 0,
    "hideHardwareSpecs": false,
    "memoryGiB": 128,
    "name": "ml.m5d.8xlarge",
    "vcpuNum": 32
   },
   {
    "_defaultOrder": 17,
    "_isFastLaunch": false,
    "category": "General purpose",
    "gpuNum": 0,
    "hideHardwareSpecs": false,
    "memoryGiB": 192,
    "name": "ml.m5d.12xlarge",
    "vcpuNum": 48
   },
   {
    "_defaultOrder": 18,
    "_isFastLaunch": false,
    "category": "General purpose",
    "gpuNum": 0,
    "hideHardwareSpecs": false,
    "memoryGiB": 256,
    "name": "ml.m5d.16xlarge",
    "vcpuNum": 64
   },
   {
    "_defaultOrder": 19,
    "_isFastLaunch": false,
    "category": "General purpose",
    "gpuNum": 0,
    "hideHardwareSpecs": false,
    "memoryGiB": 384,
    "name": "ml.m5d.24xlarge",
    "vcpuNum": 96
   },
   {
    "_defaultOrder": 20,
    "_isFastLaunch": false,
    "category": "General purpose",
    "gpuNum": 0,
    "hideHardwareSpecs": true,
    "memoryGiB": 0,
    "name": "ml.geospatial.interactive",
    "supportedImageNames": [
     "sagemaker-geospatial-v1-0"
    ],
    "vcpuNum": 0
   },
   {
    "_defaultOrder": 21,
    "_isFastLaunch": true,
    "category": "Compute optimized",
    "gpuNum": 0,
    "hideHardwareSpecs": false,
    "memoryGiB": 4,
    "name": "ml.c5.large",
    "vcpuNum": 2
   },
   {
    "_defaultOrder": 22,
    "_isFastLaunch": false,
    "category": "Compute optimized",
    "gpuNum": 0,
    "hideHardwareSpecs": false,
    "memoryGiB": 8,
    "name": "ml.c5.xlarge",
    "vcpuNum": 4
   },
   {
    "_defaultOrder": 23,
    "_isFastLaunch": false,
    "category": "Compute optimized",
    "gpuNum": 0,
    "hideHardwareSpecs": false,
    "memoryGiB": 16,
    "name": "ml.c5.2xlarge",
    "vcpuNum": 8
   },
   {
    "_defaultOrder": 24,
    "_isFastLaunch": false,
    "category": "Compute optimized",
    "gpuNum": 0,
    "hideHardwareSpecs": false,
    "memoryGiB": 32,
    "name": "ml.c5.4xlarge",
    "vcpuNum": 16
   },
   {
    "_defaultOrder": 25,
    "_isFastLaunch": false,
    "category": "Compute optimized",
    "gpuNum": 0,
    "hideHardwareSpecs": false,
    "memoryGiB": 72,
    "name": "ml.c5.9xlarge",
    "vcpuNum": 36
   },
   {
    "_defaultOrder": 26,
    "_isFastLaunch": false,
    "category": "Compute optimized",
    "gpuNum": 0,
    "hideHardwareSpecs": false,
    "memoryGiB": 96,
    "name": "ml.c5.12xlarge",
    "vcpuNum": 48
   },
   {
    "_defaultOrder": 27,
    "_isFastLaunch": false,
    "category": "Compute optimized",
    "gpuNum": 0,
    "hideHardwareSpecs": false,
    "memoryGiB": 144,
    "name": "ml.c5.18xlarge",
    "vcpuNum": 72
   },
   {
    "_defaultOrder": 28,
    "_isFastLaunch": false,
    "category": "Compute optimized",
    "gpuNum": 0,
    "hideHardwareSpecs": false,
    "memoryGiB": 192,
    "name": "ml.c5.24xlarge",
    "vcpuNum": 96
   },
   {
    "_defaultOrder": 29,
    "_isFastLaunch": true,
    "category": "Accelerated computing",
    "gpuNum": 1,
    "hideHardwareSpecs": false,
    "memoryGiB": 16,
    "name": "ml.g4dn.xlarge",
    "vcpuNum": 4
   },
   {
    "_defaultOrder": 30,
    "_isFastLaunch": false,
    "category": "Accelerated computing",
    "gpuNum": 1,
    "hideHardwareSpecs": false,
    "memoryGiB": 32,
    "name": "ml.g4dn.2xlarge",
    "vcpuNum": 8
   },
   {
    "_defaultOrder": 31,
    "_isFastLaunch": false,
    "category": "Accelerated computing",
    "gpuNum": 1,
    "hideHardwareSpecs": false,
    "memoryGiB": 64,
    "name": "ml.g4dn.4xlarge",
    "vcpuNum": 16
   },
   {
    "_defaultOrder": 32,
    "_isFastLaunch": false,
    "category": "Accelerated computing",
    "gpuNum": 1,
    "hideHardwareSpecs": false,
    "memoryGiB": 128,
    "name": "ml.g4dn.8xlarge",
    "vcpuNum": 32
   },
   {
    "_defaultOrder": 33,
    "_isFastLaunch": false,
    "category": "Accelerated computing",
    "gpuNum": 4,
    "hideHardwareSpecs": false,
    "memoryGiB": 192,
    "name": "ml.g4dn.12xlarge",
    "vcpuNum": 48
   },
   {
    "_defaultOrder": 34,
    "_isFastLaunch": false,
    "category": "Accelerated computing",
    "gpuNum": 1,
    "hideHardwareSpecs": false,
    "memoryGiB": 256,
    "name": "ml.g4dn.16xlarge",
    "vcpuNum": 64
   },
   {
    "_defaultOrder": 35,
    "_isFastLaunch": false,
    "category": "Accelerated computing",
    "gpuNum": 1,
    "hideHardwareSpecs": false,
    "memoryGiB": 61,
    "name": "ml.p3.2xlarge",
    "vcpuNum": 8
   },
   {
    "_defaultOrder": 36,
    "_isFastLaunch": false,
    "category": "Accelerated computing",
    "gpuNum": 4,
    "hideHardwareSpecs": false,
    "memoryGiB": 244,
    "name": "ml.p3.8xlarge",
    "vcpuNum": 32
   },
   {
    "_defaultOrder": 37,
    "_isFastLaunch": false,
    "category": "Accelerated computing",
    "gpuNum": 8,
    "hideHardwareSpecs": false,
    "memoryGiB": 488,
    "name": "ml.p3.16xlarge",
    "vcpuNum": 64
   },
   {
    "_defaultOrder": 38,
    "_isFastLaunch": false,
    "category": "Accelerated computing",
    "gpuNum": 8,
    "hideHardwareSpecs": false,
    "memoryGiB": 768,
    "name": "ml.p3dn.24xlarge",
    "vcpuNum": 96
   },
   {
    "_defaultOrder": 39,
    "_isFastLaunch": false,
    "category": "Memory Optimized",
    "gpuNum": 0,
    "hideHardwareSpecs": false,
    "memoryGiB": 16,
    "name": "ml.r5.large",
    "vcpuNum": 2
   },
   {
    "_defaultOrder": 40,
    "_isFastLaunch": false,
    "category": "Memory Optimized",
    "gpuNum": 0,
    "hideHardwareSpecs": false,
    "memoryGiB": 32,
    "name": "ml.r5.xlarge",
    "vcpuNum": 4
   },
   {
    "_defaultOrder": 41,
    "_isFastLaunch": false,
    "category": "Memory Optimized",
    "gpuNum": 0,
    "hideHardwareSpecs": false,
    "memoryGiB": 64,
    "name": "ml.r5.2xlarge",
    "vcpuNum": 8
   },
   {
    "_defaultOrder": 42,
    "_isFastLaunch": false,
    "category": "Memory Optimized",
    "gpuNum": 0,
    "hideHardwareSpecs": false,
    "memoryGiB": 128,
    "name": "ml.r5.4xlarge",
    "vcpuNum": 16
   },
   {
    "_defaultOrder": 43,
    "_isFastLaunch": false,
    "category": "Memory Optimized",
    "gpuNum": 0,
    "hideHardwareSpecs": false,
    "memoryGiB": 256,
    "name": "ml.r5.8xlarge",
    "vcpuNum": 32
   },
   {
    "_defaultOrder": 44,
    "_isFastLaunch": false,
    "category": "Memory Optimized",
    "gpuNum": 0,
    "hideHardwareSpecs": false,
    "memoryGiB": 384,
    "name": "ml.r5.12xlarge",
    "vcpuNum": 48
   },
   {
    "_defaultOrder": 45,
    "_isFastLaunch": false,
    "category": "Memory Optimized",
    "gpuNum": 0,
    "hideHardwareSpecs": false,
    "memoryGiB": 512,
    "name": "ml.r5.16xlarge",
    "vcpuNum": 64
   },
   {
    "_defaultOrder": 46,
    "_isFastLaunch": false,
    "category": "Memory Optimized",
    "gpuNum": 0,
    "hideHardwareSpecs": false,
    "memoryGiB": 768,
    "name": "ml.r5.24xlarge",
    "vcpuNum": 96
   },
   {
    "_defaultOrder": 47,
    "_isFastLaunch": false,
    "category": "Accelerated computing",
    "gpuNum": 1,
    "hideHardwareSpecs": false,
    "memoryGiB": 16,
    "name": "ml.g5.xlarge",
    "vcpuNum": 4
   },
   {
    "_defaultOrder": 48,
    "_isFastLaunch": false,
    "category": "Accelerated computing",
    "gpuNum": 1,
    "hideHardwareSpecs": false,
    "memoryGiB": 32,
    "name": "ml.g5.2xlarge",
    "vcpuNum": 8
   },
   {
    "_defaultOrder": 49,
    "_isFastLaunch": false,
    "category": "Accelerated computing",
    "gpuNum": 1,
    "hideHardwareSpecs": false,
    "memoryGiB": 64,
    "name": "ml.g5.4xlarge",
    "vcpuNum": 16
   },
   {
    "_defaultOrder": 50,
    "_isFastLaunch": false,
    "category": "Accelerated computing",
    "gpuNum": 1,
    "hideHardwareSpecs": false,
    "memoryGiB": 128,
    "name": "ml.g5.8xlarge",
    "vcpuNum": 32
   },
   {
    "_defaultOrder": 51,
    "_isFastLaunch": false,
    "category": "Accelerated computing",
    "gpuNum": 1,
    "hideHardwareSpecs": false,
    "memoryGiB": 256,
    "name": "ml.g5.16xlarge",
    "vcpuNum": 64
   },
   {
    "_defaultOrder": 52,
    "_isFastLaunch": false,
    "category": "Accelerated computing",
    "gpuNum": 4,
    "hideHardwareSpecs": false,
    "memoryGiB": 192,
    "name": "ml.g5.12xlarge",
    "vcpuNum": 48
   },
   {
    "_defaultOrder": 53,
    "_isFastLaunch": false,
    "category": "Accelerated computing",
    "gpuNum": 4,
    "hideHardwareSpecs": false,
    "memoryGiB": 384,
    "name": "ml.g5.24xlarge",
    "vcpuNum": 96
   },
   {
    "_defaultOrder": 54,
    "_isFastLaunch": false,
    "category": "Accelerated computing",
    "gpuNum": 8,
    "hideHardwareSpecs": false,
    "memoryGiB": 768,
    "name": "ml.g5.48xlarge",
    "vcpuNum": 192
   },
   {
    "_defaultOrder": 55,
    "_isFastLaunch": false,
    "category": "Accelerated computing",
    "gpuNum": 8,
    "hideHardwareSpecs": false,
    "memoryGiB": 1152,
    "name": "ml.p4d.24xlarge",
    "vcpuNum": 96
   },
   {
    "_defaultOrder": 56,
    "_isFastLaunch": false,
    "category": "Accelerated computing",
    "gpuNum": 8,
    "hideHardwareSpecs": false,
    "memoryGiB": 1152,
    "name": "ml.p4de.24xlarge",
    "vcpuNum": 96
   },
   {
    "_defaultOrder": 57,
    "_isFastLaunch": false,
    "category": "Accelerated computing",
    "gpuNum": 0,
    "hideHardwareSpecs": false,
    "memoryGiB": 32,
    "name": "ml.trn1.2xlarge",
    "vcpuNum": 8
   },
   {
    "_defaultOrder": 58,
    "_isFastLaunch": false,
    "category": "Accelerated computing",
    "gpuNum": 0,
    "hideHardwareSpecs": false,
    "memoryGiB": 512,
    "name": "ml.trn1.32xlarge",
    "vcpuNum": 128
   },
   {
    "_defaultOrder": 59,
    "_isFastLaunch": false,
    "category": "Accelerated computing",
    "gpuNum": 0,
    "hideHardwareSpecs": false,
    "memoryGiB": 512,
    "name": "ml.trn1n.32xlarge",
    "vcpuNum": 128
   }
  ],
  "environment": {
   "kernel": "conda-root-py",
   "name": "workbench-notebooks.m111",
   "type": "gcloud",
   "uri": "gcr.io/deeplearning-platform-release/workbench-notebooks:m111"
  },
  "instance_type": "ml.m5.large",
  "kernelspec": {
   "display_name": "Python 3 (ipykernel)",
   "language": "python",
   "name": "python3"
  },
  "language_info": {
   "codemirror_mode": {
    "name": "ipython",
    "version": 3
   },
   "file_extension": ".py",
   "mimetype": "text/x-python",
   "name": "python",
   "nbconvert_exporter": "python",
   "pygments_lexer": "ipython3",
   "version": "3.10.14"
  }
 },
 "nbformat": 4,
 "nbformat_minor": 4
}
